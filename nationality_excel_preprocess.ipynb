{
 "cells": [
  {
   "cell_type": "code",
   "execution_count": 1,
   "id": "af07e37a-cd60-483e-9e2f-4583ebb60c1d",
   "metadata": {},
   "outputs": [],
   "source": [
    "import pandas as pd"
   ]
  },
  {
   "cell_type": "code",
   "execution_count": 2,
   "id": "bfe3f3b7-497a-47d1-bd05-1b046b96c3e4",
   "metadata": {},
   "outputs": [],
   "source": [
    "nationalityTrends2010=pd.read_excel(io='real_data/2010 ARR PRES GG gem naz cat.xlsx', \n",
    "                          sheet_name='Nationality')"
   ]
  },
  {
   "cell_type": "code",
   "execution_count": 3,
   "id": "44ec0497-56ff-45c0-983a-cac3927c3999",
   "metadata": {},
   "outputs": [],
   "source": [
    "\n",
    "nationalityTrends2011=pd.read_excel(io='real_data/2011 ARR PRES GG gem naz cat.xlsx', \n",
    "                          sheet_name='Nationality')"
   ]
  },
  {
   "cell_type": "code",
   "execution_count": 4,
   "id": "85a28892-a7fc-4a55-88a6-5f842d456ae2",
   "metadata": {},
   "outputs": [],
   "source": [
    "\n",
    "nationalityTrends2012=pd.read_excel(io='real_data/2012 ARR PRES GG gem naz cat.xlsx', \n",
    "                          sheet_name='Nationality')"
   ]
  },
  {
   "cell_type": "code",
   "execution_count": 5,
   "id": "6f1a3c01-fdb4-4e91-8f8b-0a38f661096b",
   "metadata": {},
   "outputs": [],
   "source": [
    "nationalityTrends2013=pd.read_excel(io='real_data/2013 ARR PRE GG gem naz cat.xlsx', \n",
    "                          sheet_name='Nationality')"
   ]
  },
  {
   "cell_type": "code",
   "execution_count": 6,
   "id": "1134803c-17bf-41ca-9633-1a446fb6948d",
   "metadata": {},
   "outputs": [],
   "source": [
    "nationalityTrends2014=pd.read_excel(io='real_data/2014 ARR PRE GG gem naz cat.xlsx', \n",
    "                          sheet_name='Nationality')"
   ]
  },
  {
   "cell_type": "code",
   "execution_count": 7,
   "id": "5630614a-379c-4bb9-9207-c5ad2bbdceec",
   "metadata": {},
   "outputs": [],
   "source": [
    "nationalityTrends2015=pd.read_excel(io='real_data/2015 ARR PRE GG gem naz cat.xlsx', \n",
    "                          sheet_name='Nationality')"
   ]
  },
  {
   "cell_type": "code",
   "execution_count": 8,
   "id": "faef4326-7dfc-4e3c-9156-a5da9aee7a33",
   "metadata": {},
   "outputs": [],
   "source": [
    "nationalityTrends2016=pd.read_excel(io='real_data/2016 ARR PRE GG gem naz cat.xlsx', \n",
    "                          sheet_name='Nationality')"
   ]
  },
  {
   "cell_type": "code",
   "execution_count": 9,
   "id": "6922d887-a66e-49fa-8657-9a78172e8d4d",
   "metadata": {},
   "outputs": [],
   "source": [
    "nationalityTrends2017=pd.read_excel(io='real_data/2017 ARR PRE GG gem naz cat.xlsx', \n",
    "                          sheet_name='Nationality')"
   ]
  },
  {
   "cell_type": "code",
   "execution_count": 10,
   "id": "58fc0109-a018-4673-93bb-da122759cb29",
   "metadata": {},
   "outputs": [],
   "source": [
    "nationalityTrends2018=pd.read_excel(io='real_data/2018 ARR PRE GG gem naz cat.xlsx', \n",
    "                          sheet_name='Nationality')"
   ]
  },
  {
   "cell_type": "code",
   "execution_count": 11,
   "id": "8dc13858-08e9-45c2-97c3-dda4bf0cc22c",
   "metadata": {},
   "outputs": [],
   "source": [
    "nationalityTrends2019=pd.read_excel(io='real_data/2019 ARR PRE GG gem naz cat.xlsx', \n",
    "                          sheet_name='Nationality')"
   ]
  },
  {
   "cell_type": "code",
   "execution_count": 12,
   "id": "97828906-87ef-44b2-8318-14962b6787a4",
   "metadata": {},
   "outputs": [],
   "source": [
    "\n",
    "nationalityTrends2020=pd.read_excel(io='real_data/2020 ARR PRE GG gem naz cat.xlsx', \n",
    "                          sheet_name='Nationality')"
   ]
  },
  {
   "cell_type": "code",
   "execution_count": 13,
   "id": "177904c4-1f63-4704-8101-c053377b73d1",
   "metadata": {},
   "outputs": [],
   "source": [
    "nationalityTrends2010[\"Year\"] = 2010\n",
    "nationalityTrends2011[\"Year\"] = 2011\n",
    "nationalityTrends2012[\"Year\"] = 2012\n",
    "nationalityTrends2013[\"Year\"] = 2013\n",
    "nationalityTrends2014[\"Year\"] = 2014\n",
    "nationalityTrends2015[\"Year\"] = 2015\n",
    "nationalityTrends2016[\"Year\"] = 2016\n",
    "nationalityTrends2017[\"Year\"] = 2017\n",
    "nationalityTrends2018[\"Year\"] = 2018\n",
    "nationalityTrends2019[\"Year\"] = 2019\n",
    "nationalityTrends2020[\"Year\"] = 2020"
   ]
  },
  {
   "cell_type": "code",
   "execution_count": 14,
   "id": "d7baf7f3-005a-411e-8893-88550139f782",
   "metadata": {},
   "outputs": [],
   "source": [
    "nationalityTrends = pd.concat([nationalityTrends2010, nationalityTrends2011, nationalityTrends2012, nationalityTrends2013, nationalityTrends2014, nationalityTrends2015, nationalityTrends2016, nationalityTrends2017, nationalityTrends2018, nationalityTrends2019, nationalityTrends2020], ignore_index=True)"
   ]
  },
  {
   "cell_type": "code",
   "execution_count": 15,
   "id": "1745844c-2241-43af-905d-f1f33575efa1",
   "metadata": {},
   "outputs": [],
   "source": [
    "nationalityTrends = nationalityTrends.rename(columns={\"Mese di riferimento\": \"Month\", \"Giorno di riferimento\": \"Day\", \"Beschreibung Gemeinde\": \"District\", \"nationaggr3_desc\": \"Nationality\", \"Arrivi del giorno\": \"Arrivals\", \"Presenti del giorno\": \"Present\"})"
   ]
  },
  {
   "cell_type": "code",
   "execution_count": 16,
   "id": "59c4d182-d8cb-4249-8ad7-1d74c333d8c2",
   "metadata": {},
   "outputs": [],
   "source": [
    "nationalityTrends = nationalityTrends.fillna(method='ffill', axis=0)"
   ]
  },
  {
   "cell_type": "code",
   "execution_count": 17,
   "id": "18aef9a5-da69-421e-9811-178c7242ecea",
   "metadata": {},
   "outputs": [
    {
     "data": {
      "text/html": [
       "<div>\n",
       "<style scoped>\n",
       "    .dataframe tbody tr th:only-of-type {\n",
       "        vertical-align: middle;\n",
       "    }\n",
       "\n",
       "    .dataframe tbody tr th {\n",
       "        vertical-align: top;\n",
       "    }\n",
       "\n",
       "    .dataframe thead th {\n",
       "        text-align: right;\n",
       "    }\n",
       "</style>\n",
       "<table border=\"1\" class=\"dataframe\">\n",
       "  <thead>\n",
       "    <tr style=\"text-align: right;\">\n",
       "      <th></th>\n",
       "      <th>Month</th>\n",
       "      <th>Day</th>\n",
       "      <th>District</th>\n",
       "      <th>Nationality</th>\n",
       "      <th>Arrivals</th>\n",
       "      <th>Present</th>\n",
       "      <th>Year</th>\n",
       "    </tr>\n",
       "  </thead>\n",
       "  <tbody>\n",
       "    <tr>\n",
       "      <th>0</th>\n",
       "      <td>1.0</td>\n",
       "      <td>1.0</td>\n",
       "      <td>Abtei</td>\n",
       "      <td>Andere Länder</td>\n",
       "      <td>33</td>\n",
       "      <td>365</td>\n",
       "      <td>2010</td>\n",
       "    </tr>\n",
       "    <tr>\n",
       "      <th>1</th>\n",
       "      <td>1.0</td>\n",
       "      <td>1.0</td>\n",
       "      <td>Abtei</td>\n",
       "      <td>Beneluxstaaten</td>\n",
       "      <td>8</td>\n",
       "      <td>74</td>\n",
       "      <td>2010</td>\n",
       "    </tr>\n",
       "    <tr>\n",
       "      <th>2</th>\n",
       "      <td>1.0</td>\n",
       "      <td>1.0</td>\n",
       "      <td>Abtei</td>\n",
       "      <td>Deutschland</td>\n",
       "      <td>27</td>\n",
       "      <td>1198</td>\n",
       "      <td>2010</td>\n",
       "    </tr>\n",
       "    <tr>\n",
       "      <th>3</th>\n",
       "      <td>1.0</td>\n",
       "      <td>1.0</td>\n",
       "      <td>Abtei</td>\n",
       "      <td>Italien</td>\n",
       "      <td>457</td>\n",
       "      <td>7054</td>\n",
       "      <td>2010</td>\n",
       "    </tr>\n",
       "    <tr>\n",
       "      <th>4</th>\n",
       "      <td>1.0</td>\n",
       "      <td>1.0</td>\n",
       "      <td>Abtei</td>\n",
       "      <td>Schweiz und Liechtenstein</td>\n",
       "      <td>0</td>\n",
       "      <td>22</td>\n",
       "      <td>2010</td>\n",
       "    </tr>\n",
       "    <tr>\n",
       "      <th>...</th>\n",
       "      <td>...</td>\n",
       "      <td>...</td>\n",
       "      <td>...</td>\n",
       "      <td>...</td>\n",
       "      <td>...</td>\n",
       "      <td>...</td>\n",
       "      <td>...</td>\n",
       "    </tr>\n",
       "    <tr>\n",
       "      <th>2220450</th>\n",
       "      <td>12.0</td>\n",
       "      <td>31.0</td>\n",
       "      <td>Welschnofen</td>\n",
       "      <td>Italien</td>\n",
       "      <td>0</td>\n",
       "      <td>13</td>\n",
       "      <td>2020</td>\n",
       "    </tr>\n",
       "    <tr>\n",
       "      <th>2220451</th>\n",
       "      <td>12.0</td>\n",
       "      <td>31.0</td>\n",
       "      <td>Wengen</td>\n",
       "      <td>Italien</td>\n",
       "      <td>0</td>\n",
       "      <td>12</td>\n",
       "      <td>2020</td>\n",
       "    </tr>\n",
       "    <tr>\n",
       "      <th>2220452</th>\n",
       "      <td>12.0</td>\n",
       "      <td>31.0</td>\n",
       "      <td>Wolkenstein in Gröden</td>\n",
       "      <td>Andere Länder</td>\n",
       "      <td>0</td>\n",
       "      <td>6</td>\n",
       "      <td>2020</td>\n",
       "    </tr>\n",
       "    <tr>\n",
       "      <th>2220453</th>\n",
       "      <td>12.0</td>\n",
       "      <td>31.0</td>\n",
       "      <td>Wolkenstein in Gröden</td>\n",
       "      <td>Beneluxstaaten</td>\n",
       "      <td>0</td>\n",
       "      <td>2</td>\n",
       "      <td>2020</td>\n",
       "    </tr>\n",
       "    <tr>\n",
       "      <th>2220454</th>\n",
       "      <td>12.0</td>\n",
       "      <td>31.0</td>\n",
       "      <td>Wolkenstein in Gröden</td>\n",
       "      <td>Italien</td>\n",
       "      <td>0</td>\n",
       "      <td>19</td>\n",
       "      <td>2020</td>\n",
       "    </tr>\n",
       "  </tbody>\n",
       "</table>\n",
       "<p>2220455 rows × 7 columns</p>\n",
       "</div>"
      ],
      "text/plain": [
       "         Month   Day               District                Nationality  \\\n",
       "0          1.0   1.0                  Abtei              Andere Länder   \n",
       "1          1.0   1.0                  Abtei             Beneluxstaaten   \n",
       "2          1.0   1.0                  Abtei                Deutschland   \n",
       "3          1.0   1.0                  Abtei                    Italien   \n",
       "4          1.0   1.0                  Abtei  Schweiz und Liechtenstein   \n",
       "...        ...   ...                    ...                        ...   \n",
       "2220450   12.0  31.0            Welschnofen                    Italien   \n",
       "2220451   12.0  31.0                 Wengen                    Italien   \n",
       "2220452   12.0  31.0  Wolkenstein in Gröden              Andere Länder   \n",
       "2220453   12.0  31.0  Wolkenstein in Gröden             Beneluxstaaten   \n",
       "2220454   12.0  31.0  Wolkenstein in Gröden                    Italien   \n",
       "\n",
       "         Arrivals  Present  Year  \n",
       "0              33      365  2010  \n",
       "1               8       74  2010  \n",
       "2              27     1198  2010  \n",
       "3             457     7054  2010  \n",
       "4               0       22  2010  \n",
       "...           ...      ...   ...  \n",
       "2220450         0       13  2020  \n",
       "2220451         0       12  2020  \n",
       "2220452         0        6  2020  \n",
       "2220453         0        2  2020  \n",
       "2220454         0       19  2020  \n",
       "\n",
       "[2220455 rows x 7 columns]"
      ]
     },
     "execution_count": 17,
     "metadata": {},
     "output_type": "execute_result"
    }
   ],
   "source": [
    "nationalityTrends"
   ]
  },
  {
   "cell_type": "code",
   "execution_count": 18,
   "id": "b72bfef1-92b3-480b-b388-6f7bd0eeadfc",
   "metadata": {},
   "outputs": [
    {
     "data": {
      "text/html": [
       "<div>\n",
       "<style scoped>\n",
       "    .dataframe tbody tr th:only-of-type {\n",
       "        vertical-align: middle;\n",
       "    }\n",
       "\n",
       "    .dataframe tbody tr th {\n",
       "        vertical-align: top;\n",
       "    }\n",
       "\n",
       "    .dataframe thead th {\n",
       "        text-align: right;\n",
       "    }\n",
       "</style>\n",
       "<table border=\"1\" class=\"dataframe\">\n",
       "  <thead>\n",
       "    <tr style=\"text-align: right;\">\n",
       "      <th></th>\n",
       "      <th></th>\n",
       "      <th></th>\n",
       "      <th></th>\n",
       "      <th>Arrivals</th>\n",
       "      <th>Present</th>\n",
       "    </tr>\n",
       "    <tr>\n",
       "      <th>Year</th>\n",
       "      <th>Month</th>\n",
       "      <th>District</th>\n",
       "      <th>Nationality</th>\n",
       "      <th></th>\n",
       "      <th></th>\n",
       "    </tr>\n",
       "  </thead>\n",
       "  <tbody>\n",
       "    <tr>\n",
       "      <th rowspan=\"5\" valign=\"top\">2010</th>\n",
       "      <th rowspan=\"5\" valign=\"top\">1.0</th>\n",
       "      <th rowspan=\"5\" valign=\"top\">Abtei</th>\n",
       "      <th>Andere Länder</th>\n",
       "      <td>4509</td>\n",
       "      <td>25650</td>\n",
       "    </tr>\n",
       "    <tr>\n",
       "      <th>Beneluxstaaten</th>\n",
       "      <td>464</td>\n",
       "      <td>3056</td>\n",
       "    </tr>\n",
       "    <tr>\n",
       "      <th>Deutschland</th>\n",
       "      <td>6603</td>\n",
       "      <td>41213</td>\n",
       "    </tr>\n",
       "    <tr>\n",
       "      <th>Italien</th>\n",
       "      <td>19425</td>\n",
       "      <td>105835</td>\n",
       "    </tr>\n",
       "    <tr>\n",
       "      <th>Schweiz und Liechtenstein</th>\n",
       "      <td>161</td>\n",
       "      <td>855</td>\n",
       "    </tr>\n",
       "    <tr>\n",
       "      <th>...</th>\n",
       "      <th>...</th>\n",
       "      <th>...</th>\n",
       "      <th>...</th>\n",
       "      <td>...</td>\n",
       "      <td>...</td>\n",
       "    </tr>\n",
       "    <tr>\n",
       "      <th rowspan=\"5\" valign=\"top\">2020</th>\n",
       "      <th rowspan=\"5\" valign=\"top\">12.0</th>\n",
       "      <th rowspan=\"5\" valign=\"top\">Wolkenstein in Gröden</th>\n",
       "      <th>Beneluxstaaten</th>\n",
       "      <td>4</td>\n",
       "      <td>40</td>\n",
       "    </tr>\n",
       "    <tr>\n",
       "      <th>Deutschland</th>\n",
       "      <td>30</td>\n",
       "      <td>133</td>\n",
       "    </tr>\n",
       "    <tr>\n",
       "      <th>Italien</th>\n",
       "      <td>218</td>\n",
       "      <td>1010</td>\n",
       "    </tr>\n",
       "    <tr>\n",
       "      <th>Schweiz und Liechtenstein</th>\n",
       "      <td>37</td>\n",
       "      <td>134</td>\n",
       "    </tr>\n",
       "    <tr>\n",
       "      <th>Österreich</th>\n",
       "      <td>72</td>\n",
       "      <td>291</td>\n",
       "    </tr>\n",
       "  </tbody>\n",
       "</table>\n",
       "<p>85754 rows × 2 columns</p>\n",
       "</div>"
      ],
      "text/plain": [
       "                                                            Arrivals  Present\n",
       "Year Month District              Nationality                                 \n",
       "2010 1.0   Abtei                 Andere Länder                  4509    25650\n",
       "                                 Beneluxstaaten                  464     3056\n",
       "                                 Deutschland                    6603    41213\n",
       "                                 Italien                       19425   105835\n",
       "                                 Schweiz und Liechtenstein       161      855\n",
       "...                                                              ...      ...\n",
       "2020 12.0  Wolkenstein in Gröden Beneluxstaaten                    4       40\n",
       "                                 Deutschland                      30      133\n",
       "                                 Italien                         218     1010\n",
       "                                 Schweiz und Liechtenstein        37      134\n",
       "                                 Österreich                       72      291\n",
       "\n",
       "[85754 rows x 2 columns]"
      ]
     },
     "execution_count": 18,
     "metadata": {},
     "output_type": "execute_result"
    }
   ],
   "source": [
    "nationalityTrendsGrouped = nationalityTrends.groupby(['Year','Month', 'District', 'Nationality']).sum()\n",
    "del nationalityTrendsGrouped[\"Day\"]\n",
    "nationalityTrendsGrouped                             "
   ]
  },
  {
   "cell_type": "code",
   "execution_count": 19,
   "id": "b55ac4e0-0a6d-4364-973a-4a697ca0f932",
   "metadata": {},
   "outputs": [],
   "source": [
    "nationalityTrendsGrouped.to_csv('nationality_trends.csv')"
   ]
  },
  {
   "cell_type": "code",
   "execution_count": 20,
   "id": "8d5f5af7-2d3c-4c8f-8303-eb9b6da58bd9",
   "metadata": {},
   "outputs": [],
   "source": [
    "nationalityTrendsGrouped = pd.read_csv('nationality_trends.csv')"
   ]
  },
  {
   "cell_type": "code",
   "execution_count": 22,
   "id": "f84d5546-8a24-44c3-9990-36ab71893fbe",
   "metadata": {},
   "outputs": [
    {
     "data": {
      "text/plain": [
       "array(['Andere Länder', 'Beneluxstaaten', 'Deutschland', 'Italien',\n",
       "       'Schweiz und Liechtenstein', 'Österreich'], dtype=object)"
      ]
     },
     "execution_count": 22,
     "metadata": {},
     "output_type": "execute_result"
    }
   ],
   "source": [
    "nationalityTrendsGrouped['Nationality'].unique()"
   ]
  },
  {
   "cell_type": "code",
   "execution_count": 23,
   "id": "e9607414-ae53-40eb-a758-6cc0ec07bbf0",
   "metadata": {},
   "outputs": [],
   "source": [
    "nationalityTrendsGrouped['Nationality'] = nationalityTrendsGrouped['Nationality'].replace({'Andere Länder': 'Other countries', 'Beneluxstaaten': 'Benelux countries', 'Deutschland': 'Germany', 'Italien': 'Italy', 'Schweiz und Liechtenstein': 'Switzerland and Liechtenstein', 'Österreich': 'Austria'})"
   ]
  },
  {
   "cell_type": "code",
   "execution_count": 24,
   "id": "79eb48c7-f9c1-4cb5-92cf-9643e8487c26",
   "metadata": {},
   "outputs": [
    {
     "data": {
      "text/plain": [
       "array(['Other countries', 'Benelux countries', 'Germany', 'Italy',\n",
       "       'Switzerland and Liechtenstein', 'Austria'], dtype=object)"
      ]
     },
     "execution_count": 24,
     "metadata": {},
     "output_type": "execute_result"
    }
   ],
   "source": [
    "nationalityTrendsGrouped['Nationality'].unique()"
   ]
  },
  {
   "cell_type": "code",
   "execution_count": 29,
   "id": "a59f7a3c-8a5f-4144-813e-e94f2f84da5e",
   "metadata": {},
   "outputs": [],
   "source": [
    "temp  = nationalityTrendsGrouped"
   ]
  },
  {
   "cell_type": "code",
   "execution_count": 32,
   "id": "fe3fc8a7-b738-4c35-aa86-c9e0fa6a3412",
   "metadata": {},
   "outputs": [],
   "source": [
    "# Wipptal - Alta Valle Isarco\n",
    "temp['District'] = temp['District'].replace({'Brenner': 'Alta Valle Isarco', 'Franzensfeste': 'Alta Valle Isarco', 'Freienfeld': 'Alta Valle Isarco', 'Pfitsch': 'Alta Valle Isarco', 'Ratschings': 'Alta Valle Isarco', 'Sterzing': 'Alta Valle Isarco'})"
   ]
  },
  {
   "cell_type": "code",
   "execution_count": 56,
   "id": "f778057d-fccb-4a74-975b-89b7f777dca5",
   "metadata": {},
   "outputs": [],
   "source": [
    "# Pustertal - Val Pusteria\n",
    "temp['District'] = temp['District'].replace({'Abtei': 'Val Pusteria', 'Ahrntal': 'Val Pusteria', 'Bruneck': 'Val Pusteria', 'Corvara': 'Val Pusteria', 'Enneberg': 'Val Pusteria', 'Gais': 'Val Pusteria', 'Gsies': 'Val Pusteria', 'Innichen': 'Val Pusteria', 'Kiens': 'Val Pusteria', 'Mühlwald': 'Val Pusteria', 'Niederdorf': 'Val Pusteria', 'Olang': 'Val Pusteria', 'Percha': 'Val Pusteria', 'Pfalzen': 'Val Pusteria', 'Prags': 'Val Pusteria', 'Prettau': 'Val Pusteria', 'Rasen-Antholz': 'Val Pusteria', 'Sand in Taufers': 'Val Pusteria', 'St.Lorenzen': 'Val Pusteria', 'St.Martin in Thurn': 'Val Pusteria', 'Sexten': 'Val Pusteria', 'Terenten': 'Val Pusteria', 'Toblach': 'Val Pusteria', 'Vintl': 'Val Pusteria', 'Welsberg-Taisten': 'Val Pusteria', 'Wengen': 'Val Pusteria'})"
   ]
  },
  {
   "cell_type": "code",
   "execution_count": 36,
   "id": "06364749-284e-42a0-96fa-200377f3c27c",
   "metadata": {},
   "outputs": [],
   "source": [
    "# Eisacktal - Valle Isarco\n",
    "temp['District'] = temp['District'].replace({'Brixen': 'Valle Isarco', 'Barbian': 'Valle Isarco', 'Feldthurns': 'Valle Isarco', 'Klausen': 'Valle Isarco', 'Lajen': 'Valle Isarco', 'Lüsen': 'Valle Isarco', 'Mühlbach': 'Valle Isarco', 'Natz-Schabs': 'Valle Isarco', 'Rodeneck': 'Valle Isarco', 'Vahrn': 'Valle Isarco', 'Villanders': 'Valle Isarco', 'Villnöss': 'Valle Isarco', 'Waidbruck': 'Valle Isarco'})"
   ]
  },
  {
   "cell_type": "code",
   "execution_count": 77,
   "id": "f70965a0-9c04-4133-991b-7b88ac371e7f",
   "metadata": {},
   "outputs": [],
   "source": [
    "# Salten-Schlern - Salto-Schiliar\n",
    "temp['District'] = temp['District'].replace({ 'Wolkenstein in Gröden': 'Salto-Schiliar', 'Deutschnofen': 'Salto-Schiliar', 'Jenesien': 'Salto-Schiliar', 'Karneid': 'Salto-Schiliar', 'Kastelruth': 'Salto-Schiliar', 'Mölten': 'Salto-Schiliar', 'Ritten': 'Salto-Schiliar', 'St.Christina in Gröden': 'Salto-Schiliar', 'St.Ulrich': 'Salto-Schiliar', 'Sarntal': 'Salto-Schiliar', 'Tiers': 'Salto-Schiliar', 'Völs am Schlern': 'Salto-Schiliar', 'Welschnofen': 'Salto-Schiliar'})"
   ]
  },
  {
   "cell_type": "code",
   "execution_count": 75,
   "id": "649d35c4-ea06-4b7f-9071-0d4d71f2d024",
   "metadata": {},
   "outputs": [],
   "source": [
    "# Uberetsch-Unterland - Oltradige-Bassa Ates.\n",
    "temp['District'] = temp['District'].replace({'Eppan a.d. Weinstr.': 'Oltradige-Bassa Ates.', \n",
    "                                             'Kaltern a.d. Weinstr.': 'Oltradige-Bassa Ates.', \n",
    "                                             'Aldein': 'Oltradige-Bassa Ates.', \n",
    "                                             'Altrei': 'Oltradige-Bassa Ates.', \n",
    "                                             'Auer': 'Oltradige-Bassa Ates.', \n",
    "                                             'Branzoll': 'Oltradige-Bassa Ates.', \n",
    "                                             'Kurtatsch a.d. Weinstr.': 'Oltradige-Bassa Ates.', \n",
    "                                             'Kurtinig a.d. Weinstr.': 'Oltradige-Bassa Ates.', \n",
    "                                             'Leifers': 'Oltradige-Bassa Ates.', \n",
    "                                             'Margreid a.d. Weinstr.': 'Oltradige-Bassa Ates.', \n",
    "                                             'Montan': 'Oltradige-Bassa Ates.', \n",
    "                                             'Neumarkt': 'Oltradige-Bassa Ates.', \n",
    "                                             'Pfatten': 'Oltradige-Bassa Ates.', \n",
    "                                             'Salurn': 'Oltradige-Bassa Ates.', \n",
    "                                             'Tramin a.d. Weinstr.': 'Oltradige-Bassa Ates.', \n",
    "                                             'Truden im Naturpark': 'Oltradige-Bassa Ates.', \n",
    "                                             'Andrian': 'Oltradige-Bassa Ates.', \n",
    "                                             'Terlan': 'Oltradige-Bassa Ates.'})"
   ]
  },
  {
   "cell_type": "code",
   "execution_count": 69,
   "id": "f8374c3e-1ebb-44dd-b0e6-8e6acb8a8554",
   "metadata": {},
   "outputs": [],
   "source": [
    "# Burggrafenamt - Burgraviato\n",
    "temp['District'] = temp['District'].replace({'Algund': 'Burggrafenamt',\n",
    "'Burgstall': 'Burggrafenamt',\n",
    "'Gargazon': 'Burggrafenamt',\n",
    "'Hafling': 'Burggrafenamt',\n",
    "'Kuens': 'Burggrafenamt',\n",
    "'Lana': 'Burggrafenamt',\n",
    "'Laurein': 'Burggrafenamt',\n",
    "'Marling': 'Burggrafenamt',\n",
    "'Meran': 'Burggrafenamt',\n",
    "'Moos in Passeier': 'Burggrafenamt',\n",
    "'Nals': 'Burggrafenamt',\n",
    "'Naturns': 'Burggrafenamt',\n",
    "'Partschins': 'Burggrafenamt',\n",
    "'Plaus': 'Burggrafenamt',\n",
    "'Proveis': 'Burggrafenamt',\n",
    "'Riffian': 'Burggrafenamt',\n",
    "'St.Leonhard in Passeier': 'Burggrafenamt',\n",
    "'St.Martin in Passeier': 'Burggrafenamt',\n",
    "'St.Pankraz': 'Burggrafenamt',\n",
    "'Schenna': 'Burggrafenamt',\n",
    "'Tirol': 'Burggrafenamt',\n",
    "'Tisens': 'Burggrafenamt',\n",
    "'Tscherms': 'Burggrafenamt',\n",
    "'Ulten': 'Burggrafenamt',\n",
    "'U.L.Frau i.W.-St.Felix': 'Burggrafenamt',\n",
    "'Vöran': 'Burggrafenamt'})"
   ]
  },
  {
   "cell_type": "code",
   "execution_count": 71,
   "id": "0799fda6-93f5-457f-8682-7d0feb5ea00e",
   "metadata": {},
   "outputs": [],
   "source": [
    "# Vinschgau - Val Venosta\n",
    "temp['District'] = temp['District'].replace({ 'Glurns': 'Val Venosta', \n",
    "                                             'Graun im Vinschgau': 'Val Venosta', \n",
    "                                             'Kastelbell-Tschars': 'Val Venosta', \n",
    "                                             'Laas': 'Val Venosta', \n",
    "                                             'Latsch': 'Val Venosta', \n",
    "                                             'Mals': 'Val Venosta', \n",
    "                                             'Martell': 'Val Venosta', \n",
    "                                             'Prad am Stilfser Joch': 'Val Venosta',  \n",
    "                                             'Schluderns': 'Val Venosta', \n",
    "                                             'Schnals': 'Val Venosta', \n",
    "                                             'Stilfs': 'Val Venosta', \n",
    "                                             'Taufers im Münstertal': 'Val Venosta'})"
   ]
  },
  {
   "cell_type": "code",
   "execution_count": 48,
   "id": "eb15d98c-bf9f-41a4-9c6a-69ccf43e4a88",
   "metadata": {},
   "outputs": [],
   "source": [
    "# Bozen - Bolzano\n",
    "temp['District'] = temp['District'].replace({'Bozen': 'Bolzano'})"
   ]
  },
  {
   "cell_type": "code",
   "execution_count": 78,
   "id": "44390653-7fa2-4a24-b7a6-c171cd7b5c89",
   "metadata": {},
   "outputs": [
    {
     "data": {
      "text/plain": [
       "array(['Val Pusteria', 'Oltradige-Bassa Ates.', 'Burggrafenamt',\n",
       "       'Valle Isarco', 'Bolzano', 'Alta Valle Isarco', 'Salto-Schiliar',\n",
       "       'Val Venosta'], dtype=object)"
      ]
     },
     "execution_count": 78,
     "metadata": {},
     "output_type": "execute_result"
    }
   ],
   "source": [
    "temp['District'].unique()"
   ]
  },
  {
   "cell_type": "code",
   "execution_count": 79,
   "id": "697f886f-92be-416e-a20c-37bc4db61ac2",
   "metadata": {},
   "outputs": [],
   "source": [
    "nationalityTrendsDistrict = temp.groupby(['Year','Month', 'District', 'Nationality']).sum()"
   ]
  },
  {
   "cell_type": "code",
   "execution_count": 80,
   "id": "0a35f03b-62af-4599-9112-f2875ab0b6c6",
   "metadata": {},
   "outputs": [
    {
     "data": {
      "text/html": [
       "<div>\n",
       "<style scoped>\n",
       "    .dataframe tbody tr th:only-of-type {\n",
       "        vertical-align: middle;\n",
       "    }\n",
       "\n",
       "    .dataframe tbody tr th {\n",
       "        vertical-align: top;\n",
       "    }\n",
       "\n",
       "    .dataframe thead th {\n",
       "        text-align: right;\n",
       "    }\n",
       "</style>\n",
       "<table border=\"1\" class=\"dataframe\">\n",
       "  <thead>\n",
       "    <tr style=\"text-align: right;\">\n",
       "      <th></th>\n",
       "      <th></th>\n",
       "      <th></th>\n",
       "      <th></th>\n",
       "      <th>Arrivals</th>\n",
       "      <th>Present</th>\n",
       "    </tr>\n",
       "    <tr>\n",
       "      <th>Year</th>\n",
       "      <th>Month</th>\n",
       "      <th>District</th>\n",
       "      <th>Nationality</th>\n",
       "      <th></th>\n",
       "      <th></th>\n",
       "    </tr>\n",
       "  </thead>\n",
       "  <tbody>\n",
       "    <tr>\n",
       "      <th rowspan=\"5\" valign=\"top\">2010</th>\n",
       "      <th rowspan=\"5\" valign=\"top\">1.0</th>\n",
       "      <th rowspan=\"5\" valign=\"top\">Alta Valle Isarco</th>\n",
       "      <th>Austria</th>\n",
       "      <td>633</td>\n",
       "      <td>1557</td>\n",
       "    </tr>\n",
       "    <tr>\n",
       "      <th>Benelux countries</th>\n",
       "      <td>414</td>\n",
       "      <td>2235</td>\n",
       "    </tr>\n",
       "    <tr>\n",
       "      <th>Germany</th>\n",
       "      <td>17896</td>\n",
       "      <td>74106</td>\n",
       "    </tr>\n",
       "    <tr>\n",
       "      <th>Italy</th>\n",
       "      <td>10674</td>\n",
       "      <td>45831</td>\n",
       "    </tr>\n",
       "    <tr>\n",
       "      <th>Other countries</th>\n",
       "      <td>840</td>\n",
       "      <td>3928</td>\n",
       "    </tr>\n",
       "    <tr>\n",
       "      <th>...</th>\n",
       "      <th>...</th>\n",
       "      <th>...</th>\n",
       "      <th>...</th>\n",
       "      <td>...</td>\n",
       "      <td>...</td>\n",
       "    </tr>\n",
       "    <tr>\n",
       "      <th rowspan=\"5\" valign=\"top\">2020</th>\n",
       "      <th rowspan=\"5\" valign=\"top\">12.0</th>\n",
       "      <th rowspan=\"5\" valign=\"top\">Valle Isarco</th>\n",
       "      <th>Benelux countries</th>\n",
       "      <td>16</td>\n",
       "      <td>77</td>\n",
       "    </tr>\n",
       "    <tr>\n",
       "      <th>Germany</th>\n",
       "      <td>197</td>\n",
       "      <td>830</td>\n",
       "    </tr>\n",
       "    <tr>\n",
       "      <th>Italy</th>\n",
       "      <td>3055</td>\n",
       "      <td>7611</td>\n",
       "    </tr>\n",
       "    <tr>\n",
       "      <th>Other countries</th>\n",
       "      <td>108</td>\n",
       "      <td>537</td>\n",
       "    </tr>\n",
       "    <tr>\n",
       "      <th>Switzerland and Liechtenstein</th>\n",
       "      <td>30</td>\n",
       "      <td>107</td>\n",
       "    </tr>\n",
       "  </tbody>\n",
       "</table>\n",
       "<p>6321 rows × 2 columns</p>\n",
       "</div>"
      ],
      "text/plain": [
       "                                                            Arrivals  Present\n",
       "Year Month District          Nationality                                     \n",
       "2010 1.0   Alta Valle Isarco Austria                             633     1557\n",
       "                             Benelux countries                   414     2235\n",
       "                             Germany                           17896    74106\n",
       "                             Italy                             10674    45831\n",
       "                             Other countries                     840     3928\n",
       "...                                                              ...      ...\n",
       "2020 12.0  Valle Isarco      Benelux countries                    16       77\n",
       "                             Germany                             197      830\n",
       "                             Italy                              3055     7611\n",
       "                             Other countries                     108      537\n",
       "                             Switzerland and Liechtenstein        30      107\n",
       "\n",
       "[6321 rows x 2 columns]"
      ]
     },
     "execution_count": 80,
     "metadata": {},
     "output_type": "execute_result"
    }
   ],
   "source": [
    "nationalityTrendsDistrict"
   ]
  },
  {
   "cell_type": "code",
   "execution_count": 90,
   "id": "83ead5b1-b8cd-4d88-9456-0a8d4103a840",
   "metadata": {},
   "outputs": [],
   "source": [
    "nationalityTrendsDistrict.to_csv('nationality_trends_dictionary.csv')"
   ]
  },
  {
   "cell_type": "code",
   "execution_count": 95,
   "id": "2e42bf9b-fd30-4ada-8346-98c9114ef368",
   "metadata": {},
   "outputs": [],
   "source": [
    "districtTrends = pd.read_csv('nationality_trends_dictionary.csv')"
   ]
  },
  {
   "cell_type": "code",
   "execution_count": 96,
   "id": "c2d5b105-a64b-4781-a933-eee43b566e7d",
   "metadata": {},
   "outputs": [],
   "source": [
    "districtTrends = districtTrends.groupby(['Year','Month', 'District']).sum()"
   ]
  },
  {
   "cell_type": "code",
   "execution_count": 97,
   "id": "231efc33-b98d-437c-9116-ea6c891b0ab2",
   "metadata": {},
   "outputs": [
    {
     "data": {
      "text/html": [
       "<div>\n",
       "<style scoped>\n",
       "    .dataframe tbody tr th:only-of-type {\n",
       "        vertical-align: middle;\n",
       "    }\n",
       "\n",
       "    .dataframe tbody tr th {\n",
       "        vertical-align: top;\n",
       "    }\n",
       "\n",
       "    .dataframe thead th {\n",
       "        text-align: right;\n",
       "    }\n",
       "</style>\n",
       "<table border=\"1\" class=\"dataframe\">\n",
       "  <thead>\n",
       "    <tr style=\"text-align: right;\">\n",
       "      <th></th>\n",
       "      <th></th>\n",
       "      <th></th>\n",
       "      <th>Arrivals</th>\n",
       "      <th>Present</th>\n",
       "    </tr>\n",
       "    <tr>\n",
       "      <th>Year</th>\n",
       "      <th>Month</th>\n",
       "      <th>District</th>\n",
       "      <th></th>\n",
       "      <th></th>\n",
       "    </tr>\n",
       "  </thead>\n",
       "  <tbody>\n",
       "    <tr>\n",
       "      <th rowspan=\"5\" valign=\"top\">2010</th>\n",
       "      <th rowspan=\"5\" valign=\"top\">1.0</th>\n",
       "      <th>Alta Valle Isarco</th>\n",
       "      <td>30737</td>\n",
       "      <td>128567</td>\n",
       "    </tr>\n",
       "    <tr>\n",
       "      <th>Bolzano</th>\n",
       "      <td>14573</td>\n",
       "      <td>33404</td>\n",
       "    </tr>\n",
       "    <tr>\n",
       "      <th>Burggrafenamt</th>\n",
       "      <td>26365</td>\n",
       "      <td>137782</td>\n",
       "    </tr>\n",
       "    <tr>\n",
       "      <th>Oltradige-Bassa Ates.</th>\n",
       "      <td>9238</td>\n",
       "      <td>47312</td>\n",
       "    </tr>\n",
       "    <tr>\n",
       "      <th>Salto-Schiliar</th>\n",
       "      <td>116799</td>\n",
       "      <td>647742</td>\n",
       "    </tr>\n",
       "    <tr>\n",
       "      <th>...</th>\n",
       "      <th>...</th>\n",
       "      <th>...</th>\n",
       "      <td>...</td>\n",
       "      <td>...</td>\n",
       "    </tr>\n",
       "    <tr>\n",
       "      <th rowspan=\"5\" valign=\"top\">2020</th>\n",
       "      <th rowspan=\"5\" valign=\"top\">12.0</th>\n",
       "      <th>Oltradige-Bassa Ates.</th>\n",
       "      <td>2240</td>\n",
       "      <td>13210</td>\n",
       "    </tr>\n",
       "    <tr>\n",
       "      <th>Salto-Schiliar</th>\n",
       "      <td>4002</td>\n",
       "      <td>12918</td>\n",
       "    </tr>\n",
       "    <tr>\n",
       "      <th>Val Pusteria</th>\n",
       "      <td>10826</td>\n",
       "      <td>32659</td>\n",
       "    </tr>\n",
       "    <tr>\n",
       "      <th>Val Venosta</th>\n",
       "      <td>1525</td>\n",
       "      <td>7080</td>\n",
       "    </tr>\n",
       "    <tr>\n",
       "      <th>Valle Isarco</th>\n",
       "      <td>3515</td>\n",
       "      <td>9442</td>\n",
       "    </tr>\n",
       "  </tbody>\n",
       "</table>\n",
       "<p>1056 rows × 2 columns</p>\n",
       "</div>"
      ],
      "text/plain": [
       "                                  Arrivals  Present\n",
       "Year Month District                                \n",
       "2010 1.0   Alta Valle Isarco         30737   128567\n",
       "           Bolzano                   14573    33404\n",
       "           Burggrafenamt             26365   137782\n",
       "           Oltradige-Bassa Ates.      9238    47312\n",
       "           Salto-Schiliar           116799   647742\n",
       "...                                    ...      ...\n",
       "2020 12.0  Oltradige-Bassa Ates.      2240    13210\n",
       "           Salto-Schiliar             4002    12918\n",
       "           Val Pusteria              10826    32659\n",
       "           Val Venosta                1525     7080\n",
       "           Valle Isarco               3515     9442\n",
       "\n",
       "[1056 rows x 2 columns]"
      ]
     },
     "execution_count": 97,
     "metadata": {},
     "output_type": "execute_result"
    }
   ],
   "source": [
    "districtTrends"
   ]
  },
  {
   "cell_type": "code",
   "execution_count": null,
   "id": "b82843c0-f47a-4600-95ef-2b7f0544599b",
   "metadata": {},
   "outputs": [],
   "source": []
  }
 ],
 "metadata": {
  "kernelspec": {
   "display_name": "Python 3 (ipykernel)",
   "language": "python",
   "name": "python3"
  },
  "language_info": {
   "codemirror_mode": {
    "name": "ipython",
    "version": 3
   },
   "file_extension": ".py",
   "mimetype": "text/x-python",
   "name": "python",
   "nbconvert_exporter": "python",
   "pygments_lexer": "ipython3",
   "version": "3.9.7"
  }
 },
 "nbformat": 4,
 "nbformat_minor": 5
}
