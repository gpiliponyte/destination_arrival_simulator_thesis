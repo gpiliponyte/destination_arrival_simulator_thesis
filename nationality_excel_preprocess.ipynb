{
 "cells": [
  {
   "cell_type": "code",
   "execution_count": 1,
   "id": "af07e37a-cd60-483e-9e2f-4583ebb60c1d",
   "metadata": {},
   "outputs": [],
   "source": [
    "import pandas as pd"
   ]
  },
  {
   "cell_type": "code",
   "execution_count": 2,
   "id": "bfe3f3b7-497a-47d1-bd05-1b046b96c3e4",
   "metadata": {},
   "outputs": [],
   "source": [
    "nationalityTrends2010=pd.read_excel(io='real_data/2010 ARR PRES GG gem naz cat.xlsx', \n",
    "                          sheet_name='Nationality')"
   ]
  },
  {
   "cell_type": "code",
   "execution_count": 3,
   "id": "44ec0497-56ff-45c0-983a-cac3927c3999",
   "metadata": {},
   "outputs": [],
   "source": [
    "\n",
    "nationalityTrends2011=pd.read_excel(io='real_data/2011 ARR PRES GG gem naz cat.xlsx', \n",
    "                          sheet_name='Nationality')"
   ]
  },
  {
   "cell_type": "code",
   "execution_count": 4,
   "id": "85a28892-a7fc-4a55-88a6-5f842d456ae2",
   "metadata": {},
   "outputs": [],
   "source": [
    "\n",
    "nationalityTrends2012=pd.read_excel(io='real_data/2012 ARR PRES GG gem naz cat.xlsx', \n",
    "                          sheet_name='Nationality')"
   ]
  },
  {
   "cell_type": "code",
   "execution_count": 5,
   "id": "6f1a3c01-fdb4-4e91-8f8b-0a38f661096b",
   "metadata": {},
   "outputs": [],
   "source": [
    "nationalityTrends2013=pd.read_excel(io='real_data/2013 ARR PRE GG gem naz cat.xlsx', \n",
    "                          sheet_name='Nationality')"
   ]
  },
  {
   "cell_type": "code",
   "execution_count": 6,
   "id": "1134803c-17bf-41ca-9633-1a446fb6948d",
   "metadata": {},
   "outputs": [],
   "source": [
    "nationalityTrends2014=pd.read_excel(io='real_data/2014 ARR PRE GG gem naz cat.xlsx', \n",
    "                          sheet_name='Nationality')"
   ]
  },
  {
   "cell_type": "code",
   "execution_count": 7,
   "id": "5630614a-379c-4bb9-9207-c5ad2bbdceec",
   "metadata": {},
   "outputs": [],
   "source": [
    "nationalityTrends2015=pd.read_excel(io='real_data/2015 ARR PRE GG gem naz cat.xlsx', \n",
    "                          sheet_name='Nationality')"
   ]
  },
  {
   "cell_type": "code",
   "execution_count": 8,
   "id": "faef4326-7dfc-4e3c-9156-a5da9aee7a33",
   "metadata": {},
   "outputs": [],
   "source": [
    "nationalityTrends2016=pd.read_excel(io='real_data/2016 ARR PRE GG gem naz cat.xlsx', \n",
    "                          sheet_name='Nationality')"
   ]
  },
  {
   "cell_type": "code",
   "execution_count": 9,
   "id": "6922d887-a66e-49fa-8657-9a78172e8d4d",
   "metadata": {},
   "outputs": [],
   "source": [
    "nationalityTrends2017=pd.read_excel(io='real_data/2017 ARR PRE GG gem naz cat.xlsx', \n",
    "                          sheet_name='Nationality')"
   ]
  },
  {
   "cell_type": "code",
   "execution_count": 10,
   "id": "58fc0109-a018-4673-93bb-da122759cb29",
   "metadata": {},
   "outputs": [],
   "source": [
    "nationalityTrends2018=pd.read_excel(io='real_data/2018 ARR PRE GG gem naz cat.xlsx', \n",
    "                          sheet_name='Nationality')"
   ]
  },
  {
   "cell_type": "code",
   "execution_count": 11,
   "id": "8dc13858-08e9-45c2-97c3-dda4bf0cc22c",
   "metadata": {},
   "outputs": [],
   "source": [
    "nationalityTrends2019=pd.read_excel(io='real_data/2019 ARR PRE GG gem naz cat.xlsx', \n",
    "                          sheet_name='Nationality')"
   ]
  },
  {
   "cell_type": "code",
   "execution_count": 12,
   "id": "97828906-87ef-44b2-8318-14962b6787a4",
   "metadata": {},
   "outputs": [],
   "source": [
    "\n",
    "nationalityTrends2020=pd.read_excel(io='real_data/2020 ARR PRE GG gem naz cat.xlsx', \n",
    "                          sheet_name='Nationality')"
   ]
  },
  {
   "cell_type": "code",
   "execution_count": 13,
   "id": "177904c4-1f63-4704-8101-c053377b73d1",
   "metadata": {},
   "outputs": [],
   "source": [
    "nationalityTrends2010[\"Year\"] = 2010\n",
    "nationalityTrends2011[\"Year\"] = 2011\n",
    "nationalityTrends2012[\"Year\"] = 2012\n",
    "nationalityTrends2013[\"Year\"] = 2013\n",
    "nationalityTrends2014[\"Year\"] = 2014\n",
    "nationalityTrends2015[\"Year\"] = 2015\n",
    "nationalityTrends2016[\"Year\"] = 2016\n",
    "nationalityTrends2017[\"Year\"] = 2017\n",
    "nationalityTrends2018[\"Year\"] = 2018\n",
    "nationalityTrends2019[\"Year\"] = 2019\n",
    "nationalityTrends2020[\"Year\"] = 2020"
   ]
  },
  {
   "cell_type": "code",
   "execution_count": 14,
   "id": "d7baf7f3-005a-411e-8893-88550139f782",
   "metadata": {},
   "outputs": [],
   "source": [
    "nationalityTrends = pd.concat([nationalityTrends2010, nationalityTrends2011, nationalityTrends2012, nationalityTrends2013, nationalityTrends2014, nationalityTrends2015, nationalityTrends2016, nationalityTrends2017, nationalityTrends2018, nationalityTrends2019, nationalityTrends2020], ignore_index=True)"
   ]
  },
  {
   "cell_type": "code",
   "execution_count": 15,
   "id": "1745844c-2241-43af-905d-f1f33575efa1",
   "metadata": {},
   "outputs": [],
   "source": [
    "nationalityTrends = nationalityTrends.rename(columns={\"Mese di riferimento\": \"Month\", \"Giorno di riferimento\": \"Day\", \"Beschreibung Gemeinde\": \"District\", \"nationaggr3_desc\": \"Nationality\", \"Arrivi del giorno\": \"Arrivals\", \"Presenti del giorno\": \"Present\"})"
   ]
  },
  {
   "cell_type": "code",
   "execution_count": 16,
   "id": "59c4d182-d8cb-4249-8ad7-1d74c333d8c2",
   "metadata": {},
   "outputs": [],
   "source": [
    "nationalityTrends = nationalityTrends.fillna(method='ffill', axis=0)"
   ]
  },
  {
   "cell_type": "code",
   "execution_count": 17,
   "id": "18aef9a5-da69-421e-9811-178c7242ecea",
   "metadata": {},
   "outputs": [
    {
     "data": {
      "text/html": [
       "<div>\n",
       "<style scoped>\n",
       "    .dataframe tbody tr th:only-of-type {\n",
       "        vertical-align: middle;\n",
       "    }\n",
       "\n",
       "    .dataframe tbody tr th {\n",
       "        vertical-align: top;\n",
       "    }\n",
       "\n",
       "    .dataframe thead th {\n",
       "        text-align: right;\n",
       "    }\n",
       "</style>\n",
       "<table border=\"1\" class=\"dataframe\">\n",
       "  <thead>\n",
       "    <tr style=\"text-align: right;\">\n",
       "      <th></th>\n",
       "      <th>Month</th>\n",
       "      <th>Day</th>\n",
       "      <th>District</th>\n",
       "      <th>Nationality</th>\n",
       "      <th>Arrivals</th>\n",
       "      <th>Present</th>\n",
       "      <th>Year</th>\n",
       "    </tr>\n",
       "  </thead>\n",
       "  <tbody>\n",
       "    <tr>\n",
       "      <th>0</th>\n",
       "      <td>1.0</td>\n",
       "      <td>1.0</td>\n",
       "      <td>Abtei</td>\n",
       "      <td>Andere Länder</td>\n",
       "      <td>33</td>\n",
       "      <td>365</td>\n",
       "      <td>2010</td>\n",
       "    </tr>\n",
       "    <tr>\n",
       "      <th>1</th>\n",
       "      <td>1.0</td>\n",
       "      <td>1.0</td>\n",
       "      <td>Abtei</td>\n",
       "      <td>Beneluxstaaten</td>\n",
       "      <td>8</td>\n",
       "      <td>74</td>\n",
       "      <td>2010</td>\n",
       "    </tr>\n",
       "    <tr>\n",
       "      <th>2</th>\n",
       "      <td>1.0</td>\n",
       "      <td>1.0</td>\n",
       "      <td>Abtei</td>\n",
       "      <td>Deutschland</td>\n",
       "      <td>27</td>\n",
       "      <td>1198</td>\n",
       "      <td>2010</td>\n",
       "    </tr>\n",
       "    <tr>\n",
       "      <th>3</th>\n",
       "      <td>1.0</td>\n",
       "      <td>1.0</td>\n",
       "      <td>Abtei</td>\n",
       "      <td>Italien</td>\n",
       "      <td>457</td>\n",
       "      <td>7054</td>\n",
       "      <td>2010</td>\n",
       "    </tr>\n",
       "    <tr>\n",
       "      <th>4</th>\n",
       "      <td>1.0</td>\n",
       "      <td>1.0</td>\n",
       "      <td>Abtei</td>\n",
       "      <td>Schweiz und Liechtenstein</td>\n",
       "      <td>0</td>\n",
       "      <td>22</td>\n",
       "      <td>2010</td>\n",
       "    </tr>\n",
       "    <tr>\n",
       "      <th>...</th>\n",
       "      <td>...</td>\n",
       "      <td>...</td>\n",
       "      <td>...</td>\n",
       "      <td>...</td>\n",
       "      <td>...</td>\n",
       "      <td>...</td>\n",
       "      <td>...</td>\n",
       "    </tr>\n",
       "    <tr>\n",
       "      <th>2220450</th>\n",
       "      <td>12.0</td>\n",
       "      <td>31.0</td>\n",
       "      <td>Welschnofen</td>\n",
       "      <td>Italien</td>\n",
       "      <td>0</td>\n",
       "      <td>13</td>\n",
       "      <td>2020</td>\n",
       "    </tr>\n",
       "    <tr>\n",
       "      <th>2220451</th>\n",
       "      <td>12.0</td>\n",
       "      <td>31.0</td>\n",
       "      <td>Wengen</td>\n",
       "      <td>Italien</td>\n",
       "      <td>0</td>\n",
       "      <td>12</td>\n",
       "      <td>2020</td>\n",
       "    </tr>\n",
       "    <tr>\n",
       "      <th>2220452</th>\n",
       "      <td>12.0</td>\n",
       "      <td>31.0</td>\n",
       "      <td>Wolkenstein in Gröden</td>\n",
       "      <td>Andere Länder</td>\n",
       "      <td>0</td>\n",
       "      <td>6</td>\n",
       "      <td>2020</td>\n",
       "    </tr>\n",
       "    <tr>\n",
       "      <th>2220453</th>\n",
       "      <td>12.0</td>\n",
       "      <td>31.0</td>\n",
       "      <td>Wolkenstein in Gröden</td>\n",
       "      <td>Beneluxstaaten</td>\n",
       "      <td>0</td>\n",
       "      <td>2</td>\n",
       "      <td>2020</td>\n",
       "    </tr>\n",
       "    <tr>\n",
       "      <th>2220454</th>\n",
       "      <td>12.0</td>\n",
       "      <td>31.0</td>\n",
       "      <td>Wolkenstein in Gröden</td>\n",
       "      <td>Italien</td>\n",
       "      <td>0</td>\n",
       "      <td>19</td>\n",
       "      <td>2020</td>\n",
       "    </tr>\n",
       "  </tbody>\n",
       "</table>\n",
       "<p>2220455 rows × 7 columns</p>\n",
       "</div>"
      ],
      "text/plain": [
       "         Month   Day               District                Nationality  \\\n",
       "0          1.0   1.0                  Abtei              Andere Länder   \n",
       "1          1.0   1.0                  Abtei             Beneluxstaaten   \n",
       "2          1.0   1.0                  Abtei                Deutschland   \n",
       "3          1.0   1.0                  Abtei                    Italien   \n",
       "4          1.0   1.0                  Abtei  Schweiz und Liechtenstein   \n",
       "...        ...   ...                    ...                        ...   \n",
       "2220450   12.0  31.0            Welschnofen                    Italien   \n",
       "2220451   12.0  31.0                 Wengen                    Italien   \n",
       "2220452   12.0  31.0  Wolkenstein in Gröden              Andere Länder   \n",
       "2220453   12.0  31.0  Wolkenstein in Gröden             Beneluxstaaten   \n",
       "2220454   12.0  31.0  Wolkenstein in Gröden                    Italien   \n",
       "\n",
       "         Arrivals  Present  Year  \n",
       "0              33      365  2010  \n",
       "1               8       74  2010  \n",
       "2              27     1198  2010  \n",
       "3             457     7054  2010  \n",
       "4               0       22  2010  \n",
       "...           ...      ...   ...  \n",
       "2220450         0       13  2020  \n",
       "2220451         0       12  2020  \n",
       "2220452         0        6  2020  \n",
       "2220453         0        2  2020  \n",
       "2220454         0       19  2020  \n",
       "\n",
       "[2220455 rows x 7 columns]"
      ]
     },
     "execution_count": 17,
     "metadata": {},
     "output_type": "execute_result"
    }
   ],
   "source": [
    "nationalityTrends"
   ]
  },
  {
   "cell_type": "code",
   "execution_count": 19,
   "id": "b72bfef1-92b3-480b-b388-6f7bd0eeadfc",
   "metadata": {},
   "outputs": [
    {
     "data": {
      "text/html": [
       "<div>\n",
       "<style scoped>\n",
       "    .dataframe tbody tr th:only-of-type {\n",
       "        vertical-align: middle;\n",
       "    }\n",
       "\n",
       "    .dataframe tbody tr th {\n",
       "        vertical-align: top;\n",
       "    }\n",
       "\n",
       "    .dataframe thead th {\n",
       "        text-align: right;\n",
       "    }\n",
       "</style>\n",
       "<table border=\"1\" class=\"dataframe\">\n",
       "  <thead>\n",
       "    <tr style=\"text-align: right;\">\n",
       "      <th></th>\n",
       "      <th></th>\n",
       "      <th></th>\n",
       "      <th>Arrivals</th>\n",
       "      <th>Present</th>\n",
       "    </tr>\n",
       "    <tr>\n",
       "      <th>Year</th>\n",
       "      <th>Month</th>\n",
       "      <th>Nationality</th>\n",
       "      <th></th>\n",
       "      <th></th>\n",
       "    </tr>\n",
       "  </thead>\n",
       "  <tbody>\n",
       "    <tr>\n",
       "      <th rowspan=\"5\" valign=\"top\">2010</th>\n",
       "      <th rowspan=\"5\" valign=\"top\">1.0</th>\n",
       "      <th>Andere Länder</th>\n",
       "      <td>64943</td>\n",
       "      <td>371009</td>\n",
       "    </tr>\n",
       "    <tr>\n",
       "      <th>Beneluxstaaten</th>\n",
       "      <td>13436</td>\n",
       "      <td>74135</td>\n",
       "    </tr>\n",
       "    <tr>\n",
       "      <th>Deutschland</th>\n",
       "      <td>173036</td>\n",
       "      <td>922869</td>\n",
       "    </tr>\n",
       "    <tr>\n",
       "      <th>Italien</th>\n",
       "      <td>242283</td>\n",
       "      <td>1163671</td>\n",
       "    </tr>\n",
       "    <tr>\n",
       "      <th>Schweiz und Liechtenstein</th>\n",
       "      <td>6394</td>\n",
       "      <td>27680</td>\n",
       "    </tr>\n",
       "    <tr>\n",
       "      <th>...</th>\n",
       "      <th>...</th>\n",
       "      <th>...</th>\n",
       "      <td>...</td>\n",
       "      <td>...</td>\n",
       "    </tr>\n",
       "    <tr>\n",
       "      <th rowspan=\"5\" valign=\"top\">2020</th>\n",
       "      <th rowspan=\"5\" valign=\"top\">12.0</th>\n",
       "      <th>Beneluxstaaten</th>\n",
       "      <td>193</td>\n",
       "      <td>691</td>\n",
       "    </tr>\n",
       "    <tr>\n",
       "      <th>Deutschland</th>\n",
       "      <td>1644</td>\n",
       "      <td>8074</td>\n",
       "    </tr>\n",
       "    <tr>\n",
       "      <th>Italien</th>\n",
       "      <td>26243</td>\n",
       "      <td>79622</td>\n",
       "    </tr>\n",
       "    <tr>\n",
       "      <th>Schweiz und Liechtenstein</th>\n",
       "      <td>456</td>\n",
       "      <td>1720</td>\n",
       "    </tr>\n",
       "    <tr>\n",
       "      <th>Österreich</th>\n",
       "      <td>1078</td>\n",
       "      <td>3104</td>\n",
       "    </tr>\n",
       "  </tbody>\n",
       "</table>\n",
       "<p>792 rows × 2 columns</p>\n",
       "</div>"
      ],
      "text/plain": [
       "                                      Arrivals  Present\n",
       "Year Month Nationality                                 \n",
       "2010 1.0   Andere Länder                 64943   371009\n",
       "           Beneluxstaaten                13436    74135\n",
       "           Deutschland                  173036   922869\n",
       "           Italien                      242283  1163671\n",
       "           Schweiz und Liechtenstein      6394    27680\n",
       "...                                        ...      ...\n",
       "2020 12.0  Beneluxstaaten                  193      691\n",
       "           Deutschland                    1644     8074\n",
       "           Italien                       26243    79622\n",
       "           Schweiz und Liechtenstein       456     1720\n",
       "           Österreich                     1078     3104\n",
       "\n",
       "[792 rows x 2 columns]"
      ]
     },
     "execution_count": 19,
     "metadata": {},
     "output_type": "execute_result"
    }
   ],
   "source": [
    "nationalityTrendsGrouped = nationalityTrends.groupby(['Year','Month', 'Nationality']).sum()\n",
    "del nationalityTrendsGrouped[\"Day\"]\n",
    "nationalityTrendsGrouped                             "
   ]
  },
  {
   "cell_type": "code",
   "execution_count": 20,
   "id": "b55ac4e0-0a6d-4364-973a-4a697ca0f932",
   "metadata": {},
   "outputs": [],
   "source": [
    "nationalityTrendsGrouped.to_csv('nationality_trends.csv')"
   ]
  }
 ],
 "metadata": {
  "kernelspec": {
   "display_name": "Python 3 (ipykernel)",
   "language": "python",
   "name": "python3"
  },
  "language_info": {
   "codemirror_mode": {
    "name": "ipython",
    "version": 3
   },
   "file_extension": ".py",
   "mimetype": "text/x-python",
   "name": "python",
   "nbconvert_exporter": "python",
   "pygments_lexer": "ipython3",
   "version": "3.9.7"
  }
 },
 "nbformat": 4,
 "nbformat_minor": 5
}
