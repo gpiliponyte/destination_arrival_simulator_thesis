{
 "cells": [
  {
   "cell_type": "code",
   "execution_count": 1,
   "id": "bd09dcd8-a957-4fd4-8fca-8dbf8d1048bb",
   "metadata": {},
   "outputs": [],
   "source": [
    "import pandas as pd\n",
    "import numpy as np"
   ]
  },
  {
   "cell_type": "code",
   "execution_count": 2,
   "id": "175d5301-57ed-4def-b682-feca954fe4e4",
   "metadata": {},
   "outputs": [],
   "source": [
    "nationalityTrends2010=pd.read_excel(io='../real_data/2010 ARR PRES GG gem naz cat.xlsx', \n",
    "                          sheet_name='Nationality')"
   ]
  },
  {
   "cell_type": "code",
   "execution_count": 3,
   "id": "dbb8b7fd-5511-4d09-b1cf-29d9773d0b7a",
   "metadata": {},
   "outputs": [],
   "source": [
    "\n",
    "nationalityTrends2011=pd.read_excel(io='../real_data/2011 ARR PRES GG gem naz cat.xlsx', \n",
    "                          sheet_name='Nationality')"
   ]
  },
  {
   "cell_type": "code",
   "execution_count": 4,
   "id": "6ce4089e-7560-42c7-b287-1f2fe02540ea",
   "metadata": {},
   "outputs": [],
   "source": [
    "\n",
    "nationalityTrends2012=pd.read_excel(io='../real_data/2012 ARR PRES GG gem naz cat.xlsx', \n",
    "                          sheet_name='Nationality')"
   ]
  },
  {
   "cell_type": "code",
   "execution_count": 5,
   "id": "2dfaea13-0ca1-4c8c-9421-3bef9bd03064",
   "metadata": {},
   "outputs": [],
   "source": [
    "nationalityTrends2013=pd.read_excel(io='../real_data/2013 ARR PRE GG gem naz cat.xlsx', \n",
    "                          sheet_name='Nationality')"
   ]
  },
  {
   "cell_type": "code",
   "execution_count": 6,
   "id": "7b6af9c9-a2d2-4393-916f-a6a46d50df74",
   "metadata": {},
   "outputs": [],
   "source": [
    "nationalityTrends2014=pd.read_excel(io='../real_data/2014 ARR PRE GG gem naz cat.xlsx', \n",
    "                          sheet_name='Nationality')"
   ]
  },
  {
   "cell_type": "code",
   "execution_count": 7,
   "id": "055a1bc7-f235-49e1-a5b6-fcb7cf54852b",
   "metadata": {},
   "outputs": [],
   "source": [
    "nationalityTrends2015=pd.read_excel(io='../real_data/2015 ARR PRE GG gem naz cat.xlsx', \n",
    "                          sheet_name='Nationality')"
   ]
  },
  {
   "cell_type": "code",
   "execution_count": 8,
   "id": "0ea32ab8-f4ae-4c06-92f0-605b8da11ba9",
   "metadata": {},
   "outputs": [],
   "source": [
    "nationalityTrends2016=pd.read_excel(io='../real_data/2016 ARR PRE GG gem naz cat.xlsx', \n",
    "                          sheet_name='Nationality')"
   ]
  },
  {
   "cell_type": "code",
   "execution_count": 9,
   "id": "fcccf035-0d52-4ab2-bcd4-a01df42d7ab2",
   "metadata": {},
   "outputs": [],
   "source": [
    "nationalityTrends2017=pd.read_excel(io='../real_data/2017 ARR PRE GG gem naz cat.xlsx', \n",
    "                          sheet_name='Nationality')"
   ]
  },
  {
   "cell_type": "code",
   "execution_count": 10,
   "id": "1b327b56-dc08-4eb2-89e1-0762742d8683",
   "metadata": {},
   "outputs": [],
   "source": [
    "nationalityTrends2018=pd.read_excel(io='../real_data/2018 ARR PRE GG gem naz cat.xlsx', \n",
    "                          sheet_name='Nationality')"
   ]
  },
  {
   "cell_type": "code",
   "execution_count": 11,
   "id": "62372169-3a6e-45e6-a252-793f1baff08b",
   "metadata": {},
   "outputs": [],
   "source": [
    "nationalityTrends2019=pd.read_excel(io='../real_data/2019 ARR PRE GG gem naz cat.xlsx', \n",
    "                          sheet_name='Nationality')"
   ]
  },
  {
   "cell_type": "code",
   "execution_count": 12,
   "id": "86c0dfcf-17ac-4819-8516-53caaefd2a73",
   "metadata": {},
   "outputs": [],
   "source": [
    "nationalityTrends2020=pd.read_excel(io='../real_data/2020 ARR PRE GG gem naz cat.xlsx', \n",
    "                          sheet_name='Nationality')"
   ]
  },
  {
   "cell_type": "code",
   "execution_count": 13,
   "id": "8e3f27ca-df85-491e-a9dd-451ebf5e8076",
   "metadata": {},
   "outputs": [],
   "source": [
    "nationalityTrends2010[\"Year\"] = 2010\n",
    "nationalityTrends2011[\"Year\"] = 2011\n",
    "nationalityTrends2012[\"Year\"] = 2012\n",
    "nationalityTrends2013[\"Year\"] = 2013\n",
    "nationalityTrends2014[\"Year\"] = 2014\n",
    "nationalityTrends2015[\"Year\"] = 2015\n",
    "nationalityTrends2016[\"Year\"] = 2016\n",
    "nationalityTrends2017[\"Year\"] = 2017\n",
    "nationalityTrends2018[\"Year\"] = 2018\n",
    "nationalityTrends2019[\"Year\"] = 2019\n",
    "nationalityTrends2020[\"Year\"] = 2020"
   ]
  },
  {
   "cell_type": "code",
   "execution_count": 14,
   "id": "2f2dcf45-65d8-4b23-837f-dbfece1fb9cc",
   "metadata": {},
   "outputs": [],
   "source": [
    "nationalityTrends = pd.concat([nationalityTrends2010, nationalityTrends2011, nationalityTrends2012, nationalityTrends2013, nationalityTrends2014, nationalityTrends2015, nationalityTrends2016, nationalityTrends2017, nationalityTrends2018, nationalityTrends2019, nationalityTrends2020], ignore_index=True)"
   ]
  },
  {
   "cell_type": "code",
   "execution_count": 15,
   "id": "5c2d7fbd-b08a-4536-a887-3238616cf8c6",
   "metadata": {},
   "outputs": [],
   "source": [
    "nationalityTrends = nationalityTrends.rename(columns={\"Mese di riferimento\": \"Month\", \"Giorno di riferimento\": \"Day\", \"Beschreibung Gemeinde\": \"District\", \"nationaggr3_desc\": \"Nationality\", \"Arrivi del giorno\": \"Arrivals\", \"Presenti del giorno\": \"Present\"})"
   ]
  },
  {
   "cell_type": "code",
   "execution_count": 16,
   "id": "32509538-d085-41d1-8cb6-eacd7a83d80d",
   "metadata": {},
   "outputs": [],
   "source": [
    "nationalityTrends = nationalityTrends.fillna(method='ffill', axis=0)"
   ]
  },
  {
   "cell_type": "code",
   "execution_count": 17,
   "id": "f1bb4192-f91a-4bd5-b269-1c3c9b5ef58b",
   "metadata": {},
   "outputs": [],
   "source": [
    "nationalityTrends['Nationality'] = nationalityTrends['Nationality'].replace({'Andere Länder': 'Other countries', 'Beneluxstaaten': 'Benelux countries', 'Deutschland': 'Germany', 'Italien': 'Italy', 'Schweiz und Liechtenstein': 'Switzerland and Liechtenstein', 'Österreich': 'Austria'})"
   ]
  },
  {
   "cell_type": "code",
   "execution_count": 18,
   "id": "7ee1272d-d2e7-4192-8e3c-7f2cf51d427d",
   "metadata": {},
   "outputs": [],
   "source": [
    "# Wipptal - Alta Valle Isarco\n",
    "nationalityTrends['District'] = nationalityTrends['District'].replace({'Brenner': 'Alta Valle Isarco', 'Franzensfeste': 'Alta Valle Isarco', 'Freienfeld': 'Alta Valle Isarco', 'Pfitsch': 'Alta Valle Isarco', 'Ratschings': 'Alta Valle Isarco', 'Sterzing': 'Alta Valle Isarco'})"
   ]
  },
  {
   "cell_type": "code",
   "execution_count": 19,
   "id": "e37f6e0e-ff1f-4fe7-80b4-d9ab215fc8cd",
   "metadata": {},
   "outputs": [],
   "source": [
    "# Pustertal - Val Pusteria\n",
    "nationalityTrends['District'] = nationalityTrends['District'].replace({'Abtei': 'Val Pusteria', 'Ahrntal': 'Val Pusteria', 'Bruneck': 'Val Pusteria', 'Corvara': 'Val Pusteria', 'Enneberg': 'Val Pusteria', 'Gais': 'Val Pusteria', 'Gsies': 'Val Pusteria', 'Innichen': 'Val Pusteria', 'Kiens': 'Val Pusteria', 'Mühlwald': 'Val Pusteria', 'Niederdorf': 'Val Pusteria', 'Olang': 'Val Pusteria', 'Percha': 'Val Pusteria', 'Pfalzen': 'Val Pusteria', 'Prags': 'Val Pusteria', 'Prettau': 'Val Pusteria', 'Rasen-Antholz': 'Val Pusteria', 'Sand in Taufers': 'Val Pusteria', 'St.Lorenzen': 'Val Pusteria', 'St.Martin in Thurn': 'Val Pusteria', 'Sexten': 'Val Pusteria', 'Terenten': 'Val Pusteria', 'Toblach': 'Val Pusteria', 'Vintl': 'Val Pusteria', 'Welsberg-Taisten': 'Val Pusteria', 'Wengen': 'Val Pusteria'})"
   ]
  },
  {
   "cell_type": "code",
   "execution_count": 20,
   "id": "04225553-7450-4d6d-95c5-9618e5600caf",
   "metadata": {},
   "outputs": [],
   "source": [
    "# Eisacktal - Valle Isarco\n",
    "nationalityTrends['District'] = nationalityTrends['District'].replace({'Brixen': 'Valle Isarco', 'Barbian': 'Valle Isarco', 'Feldthurns': 'Valle Isarco', 'Klausen': 'Valle Isarco', 'Lajen': 'Valle Isarco', 'Lüsen': 'Valle Isarco', 'Mühlbach': 'Valle Isarco', 'Natz-Schabs': 'Valle Isarco', 'Rodeneck': 'Valle Isarco', 'Vahrn': 'Valle Isarco', 'Villanders': 'Valle Isarco', 'Villnöss': 'Valle Isarco', 'Waidbruck': 'Valle Isarco'})"
   ]
  },
  {
   "cell_type": "code",
   "execution_count": 21,
   "id": "0c2844f9-e9e7-4a81-b640-23acdc6b13b3",
   "metadata": {},
   "outputs": [],
   "source": [
    "# Salten-Schlern - Salto-Schiliar\n",
    "nationalityTrends['District'] = nationalityTrends['District'].replace({ 'Wolkenstein in Gröden': 'Salto-Schiliar', 'Deutschnofen': 'Salto-Schiliar', 'Jenesien': 'Salto-Schiliar', 'Karneid': 'Salto-Schiliar', 'Kastelruth': 'Salto-Schiliar', 'Mölten': 'Salto-Schiliar', 'Ritten': 'Salto-Schiliar', 'St.Christina in Gröden': 'Salto-Schiliar', 'St.Ulrich': 'Salto-Schiliar', 'Sarntal': 'Salto-Schiliar', 'Tiers': 'Salto-Schiliar', 'Völs am Schlern': 'Salto-Schiliar', 'Welschnofen': 'Salto-Schiliar'})"
   ]
  },
  {
   "cell_type": "code",
   "execution_count": 22,
   "id": "d1e0d246-7a11-4f9e-acde-52f2d2ff2968",
   "metadata": {},
   "outputs": [],
   "source": [
    "# Uberetsch-Unterland - Oltradige-Bassa Ates.\n",
    "nationalityTrends['District'] = nationalityTrends['District'].replace({'Eppan a.d. Weinstr.': 'Oltradige-Bassa Ates.', \n",
    "                                             'Kaltern a.d. Weinstr.': 'Oltradige-Bassa Ates.', \n",
    "                                             'Aldein': 'Oltradige-Bassa Ates.', \n",
    "                                             'Altrei': 'Oltradige-Bassa Ates.', \n",
    "                                             'Auer': 'Oltradige-Bassa Ates.', \n",
    "                                             'Branzoll': 'Oltradige-Bassa Ates.', \n",
    "                                             'Kurtatsch a.d. Weinstr.': 'Oltradige-Bassa Ates.', \n",
    "                                             'Kurtinig a.d. Weinstr.': 'Oltradige-Bassa Ates.', \n",
    "                                             'Leifers': 'Oltradige-Bassa Ates.', \n",
    "                                             'Margreid a.d. Weinstr.': 'Oltradige-Bassa Ates.', \n",
    "                                             'Montan': 'Oltradige-Bassa Ates.', \n",
    "                                             'Neumarkt': 'Oltradige-Bassa Ates.', \n",
    "                                             'Pfatten': 'Oltradige-Bassa Ates.', \n",
    "                                             'Salurn': 'Oltradige-Bassa Ates.', \n",
    "                                             'Tramin a.d. Weinstr.': 'Oltradige-Bassa Ates.', \n",
    "                                             'Truden im Naturpark': 'Oltradige-Bassa Ates.', \n",
    "                                             'Andrian': 'Oltradige-Bassa Ates.', \n",
    "                                             'Terlan': 'Oltradige-Bassa Ates.'})"
   ]
  },
  {
   "cell_type": "code",
   "execution_count": 23,
   "id": "53194ee1-a908-49c1-bce6-6462f8f99535",
   "metadata": {},
   "outputs": [],
   "source": [
    "# Burggrafenamt - Burgraviato\n",
    "nationalityTrends['District'] = nationalityTrends['District'].replace({'Algund': 'Burggrafenamt',\n",
    "'Burgstall': 'Burggrafenamt',\n",
    "'Gargazon': 'Burggrafenamt',\n",
    "'Hafling': 'Burggrafenamt',\n",
    "'Kuens': 'Burggrafenamt',\n",
    "'Lana': 'Burggrafenamt',\n",
    "'Laurein': 'Burggrafenamt',\n",
    "'Marling': 'Burggrafenamt',\n",
    "'Meran': 'Burggrafenamt',\n",
    "'Moos in Passeier': 'Burggrafenamt',\n",
    "'Nals': 'Burggrafenamt',\n",
    "'Naturns': 'Burggrafenamt',\n",
    "'Partschins': 'Burggrafenamt',\n",
    "'Plaus': 'Burggrafenamt',\n",
    "'Proveis': 'Burggrafenamt',\n",
    "'Riffian': 'Burggrafenamt',\n",
    "'St.Leonhard in Passeier': 'Burggrafenamt',\n",
    "'St.Martin in Passeier': 'Burggrafenamt',\n",
    "'St.Pankraz': 'Burggrafenamt',\n",
    "'Schenna': 'Burggrafenamt',\n",
    "'Tirol': 'Burggrafenamt',\n",
    "'Tisens': 'Burggrafenamt',\n",
    "'Tscherms': 'Burggrafenamt',\n",
    "'Ulten': 'Burggrafenamt',\n",
    "'U.L.Frau i.W.-St.Felix': 'Burggrafenamt',\n",
    "'Vöran': 'Burggrafenamt'})"
   ]
  },
  {
   "cell_type": "code",
   "execution_count": 24,
   "id": "661e1125-1678-4d1c-ab6e-4fc5f2db79a6",
   "metadata": {},
   "outputs": [],
   "source": [
    "# Vinschgau - Val Venosta\n",
    "nationalityTrends['District'] = nationalityTrends['District'].replace({ 'Glurns': 'Val Venosta', \n",
    "                                             'Graun im Vinschgau': 'Val Venosta', \n",
    "                                             'Kastelbell-Tschars': 'Val Venosta', \n",
    "                                             'Laas': 'Val Venosta', \n",
    "                                             'Latsch': 'Val Venosta', \n",
    "                                             'Mals': 'Val Venosta', \n",
    "                                             'Martell': 'Val Venosta', \n",
    "                                             'Prad am Stilfser Joch': 'Val Venosta',  \n",
    "                                             'Schluderns': 'Val Venosta', \n",
    "                                             'Schnals': 'Val Venosta', \n",
    "                                             'Stilfs': 'Val Venosta', \n",
    "                                             'Taufers im Münstertal': 'Val Venosta'})"
   ]
  },
  {
   "cell_type": "code",
   "execution_count": 25,
   "id": "6b694691-acaf-444e-826e-6c09023fe912",
   "metadata": {},
   "outputs": [],
   "source": [
    "# Bozen - Bolzano\n",
    "nationalityTrends['District'] = nationalityTrends['District'].replace({'Bozen': 'Bolzano'})"
   ]
  },
  {
   "cell_type": "code",
   "execution_count": 26,
   "id": "394814a7-21e0-4b9d-a323-f155507eda62",
   "metadata": {},
   "outputs": [],
   "source": [
    "nationalityTrends['district_c'] = nationalityTrends['District'].replace({'Bolzano': 1, 'Burggrafenamt': 2, 'Valle Isarco': 3, 'Val Pusteria': 4, 'Salto-Schiliar': 5, 'Oltradige-Bassa Ates.': 6, 'Val Venosta': 7, 'Alta Valle Isarco': 8, 'Schlanders': 7})"
   ]
  },
  {
   "cell_type": "code",
   "execution_count": 27,
   "id": "9156d864-a210-48b3-86cf-a6e2752f2528",
   "metadata": {},
   "outputs": [],
   "source": [
    "nationalityTrends[\"AverageStay\"] = nationalityTrends[\"Present\"] / nationalityTrends[\"Arrivals\"]\n",
    "nationalityTrends.replace([np.inf, -np.inf], 0, inplace=True)"
   ]
  },
  {
   "cell_type": "code",
   "execution_count": 33,
   "id": "1ff3724d-7893-4fee-aa8b-84e2bbe8cdc9",
   "metadata": {},
   "outputs": [],
   "source": [
    "pd.options.display.float_format = \"{:.2f}\".format"
   ]
  },
  {
   "cell_type": "code",
   "execution_count": 34,
   "id": "f95b162a-c3dd-433f-97a3-7238aa44b743",
   "metadata": {},
   "outputs": [
    {
     "data": {
      "text/html": [
       "<div>\n",
       "<style scoped>\n",
       "    .dataframe tbody tr th:only-of-type {\n",
       "        vertical-align: middle;\n",
       "    }\n",
       "\n",
       "    .dataframe tbody tr th {\n",
       "        vertical-align: top;\n",
       "    }\n",
       "\n",
       "    .dataframe thead th {\n",
       "        text-align: right;\n",
       "    }\n",
       "</style>\n",
       "<table border=\"1\" class=\"dataframe\">\n",
       "  <thead>\n",
       "    <tr style=\"text-align: right;\">\n",
       "      <th></th>\n",
       "      <th>Month</th>\n",
       "      <th>Day</th>\n",
       "      <th>Arrivals</th>\n",
       "      <th>Present</th>\n",
       "      <th>Year</th>\n",
       "      <th>district_c</th>\n",
       "      <th>AverageStay</th>\n",
       "    </tr>\n",
       "  </thead>\n",
       "  <tbody>\n",
       "    <tr>\n",
       "      <th>count</th>\n",
       "      <td>2220455.00</td>\n",
       "      <td>2220455.00</td>\n",
       "      <td>2220455.00</td>\n",
       "      <td>2220455.00</td>\n",
       "      <td>2220455.00</td>\n",
       "      <td>2220455.00</td>\n",
       "      <td>2147930.00</td>\n",
       "    </tr>\n",
       "    <tr>\n",
       "      <th>mean</th>\n",
       "      <td>6.53</td>\n",
       "      <td>15.73</td>\n",
       "      <td>31.72</td>\n",
       "      <td>146.97</td>\n",
       "      <td>2014.94</td>\n",
       "      <td>4.41</td>\n",
       "      <td>4.94</td>\n",
       "    </tr>\n",
       "    <tr>\n",
       "      <th>std</th>\n",
       "      <td>3.30</td>\n",
       "      <td>8.85</td>\n",
       "      <td>93.54</td>\n",
       "      <td>403.60</td>\n",
       "      <td>3.11</td>\n",
       "      <td>1.87</td>\n",
       "      <td>10.81</td>\n",
       "    </tr>\n",
       "    <tr>\n",
       "      <th>min</th>\n",
       "      <td>1.00</td>\n",
       "      <td>1.00</td>\n",
       "      <td>0.00</td>\n",
       "      <td>0.00</td>\n",
       "      <td>2010.00</td>\n",
       "      <td>1.00</td>\n",
       "      <td>0.00</td>\n",
       "    </tr>\n",
       "    <tr>\n",
       "      <th>25%</th>\n",
       "      <td>4.00</td>\n",
       "      <td>8.00</td>\n",
       "      <td>0.00</td>\n",
       "      <td>6.00</td>\n",
       "      <td>2012.00</td>\n",
       "      <td>3.00</td>\n",
       "      <td>1.00</td>\n",
       "    </tr>\n",
       "    <tr>\n",
       "      <th>50%</th>\n",
       "      <td>7.00</td>\n",
       "      <td>16.00</td>\n",
       "      <td>5.00</td>\n",
       "      <td>24.00</td>\n",
       "      <td>2015.00</td>\n",
       "      <td>4.00</td>\n",
       "      <td>2.52</td>\n",
       "    </tr>\n",
       "    <tr>\n",
       "      <th>75%</th>\n",
       "      <td>9.00</td>\n",
       "      <td>23.00</td>\n",
       "      <td>22.00</td>\n",
       "      <td>98.00</td>\n",
       "      <td>2018.00</td>\n",
       "      <td>6.00</td>\n",
       "      <td>5.50</td>\n",
       "    </tr>\n",
       "    <tr>\n",
       "      <th>max</th>\n",
       "      <td>12.00</td>\n",
       "      <td>31.00</td>\n",
       "      <td>3597.00</td>\n",
       "      <td>8606.00</td>\n",
       "      <td>2020.00</td>\n",
       "      <td>8.00</td>\n",
       "      <td>1427.00</td>\n",
       "    </tr>\n",
       "  </tbody>\n",
       "</table>\n",
       "</div>"
      ],
      "text/plain": [
       "           Month        Day   Arrivals    Present       Year  district_c  \\\n",
       "count 2220455.00 2220455.00 2220455.00 2220455.00 2220455.00  2220455.00   \n",
       "mean        6.53      15.73      31.72     146.97    2014.94        4.41   \n",
       "std         3.30       8.85      93.54     403.60       3.11        1.87   \n",
       "min         1.00       1.00       0.00       0.00    2010.00        1.00   \n",
       "25%         4.00       8.00       0.00       6.00    2012.00        3.00   \n",
       "50%         7.00      16.00       5.00      24.00    2015.00        4.00   \n",
       "75%         9.00      23.00      22.00      98.00    2018.00        6.00   \n",
       "max        12.00      31.00    3597.00    8606.00    2020.00        8.00   \n",
       "\n",
       "       AverageStay  \n",
       "count   2147930.00  \n",
       "mean          4.94  \n",
       "std          10.81  \n",
       "min           0.00  \n",
       "25%           1.00  \n",
       "50%           2.52  \n",
       "75%           5.50  \n",
       "max        1427.00  "
      ]
     },
     "execution_count": 34,
     "metadata": {},
     "output_type": "execute_result"
    }
   ],
   "source": [
    "nationalityTrends.describe()"
   ]
  },
  {
   "cell_type": "code",
   "execution_count": 29,
   "id": "ee019360-df66-4e39-9f1d-b0a42ff67969",
   "metadata": {},
   "outputs": [],
   "source": [
    "nationalityTrends.to_csv(\"../data/presences_simulation.csv\")"
   ]
  },
  {
   "cell_type": "code",
   "execution_count": 41,
   "id": "30373d0d-0e72-4d6f-8307-f023130b636f",
   "metadata": {},
   "outputs": [],
   "source": [
    "groupNationalityTrends = nationalityTrends[(nationalityTrends[\"Year\"] == 2019) & (nationalityTrends[\"Month\"] == 1) & (nationalityTrends[\"Nationality\"] == 'Italy' ) & (nationalityTrends[\"district_c\"] == 1 ) ]"
   ]
  },
  {
   "cell_type": "code",
   "execution_count": 44,
   "id": "26514a38-78e5-4118-9fb6-69c1cea21946",
   "metadata": {},
   "outputs": [
    {
     "data": {
      "text/html": [
       "<div>\n",
       "<style scoped>\n",
       "    .dataframe tbody tr th:only-of-type {\n",
       "        vertical-align: middle;\n",
       "    }\n",
       "\n",
       "    .dataframe tbody tr th {\n",
       "        vertical-align: top;\n",
       "    }\n",
       "\n",
       "    .dataframe thead th {\n",
       "        text-align: right;\n",
       "    }\n",
       "</style>\n",
       "<table border=\"1\" class=\"dataframe\">\n",
       "  <thead>\n",
       "    <tr style=\"text-align: right;\">\n",
       "      <th></th>\n",
       "      <th>Month</th>\n",
       "      <th>Day</th>\n",
       "      <th>Arrivals</th>\n",
       "      <th>Present</th>\n",
       "      <th>Year</th>\n",
       "      <th>district_c</th>\n",
       "      <th>AverageStay</th>\n",
       "    </tr>\n",
       "  </thead>\n",
       "  <tbody>\n",
       "    <tr>\n",
       "      <th>count</th>\n",
       "      <td>31.00</td>\n",
       "      <td>31.00</td>\n",
       "      <td>31.00</td>\n",
       "      <td>31.00</td>\n",
       "      <td>31.00</td>\n",
       "      <td>31.00</td>\n",
       "      <td>31.00</td>\n",
       "    </tr>\n",
       "    <tr>\n",
       "      <th>mean</th>\n",
       "      <td>1.00</td>\n",
       "      <td>16.00</td>\n",
       "      <td>451.77</td>\n",
       "      <td>986.29</td>\n",
       "      <td>2019.00</td>\n",
       "      <td>1.00</td>\n",
       "      <td>2.36</td>\n",
       "    </tr>\n",
       "    <tr>\n",
       "      <th>std</th>\n",
       "      <td>0.00</td>\n",
       "      <td>9.09</td>\n",
       "      <td>260.37</td>\n",
       "      <td>479.81</td>\n",
       "      <td>0.00</td>\n",
       "      <td>0.00</td>\n",
       "      <td>0.65</td>\n",
       "    </tr>\n",
       "    <tr>\n",
       "      <th>min</th>\n",
       "      <td>1.00</td>\n",
       "      <td>1.00</td>\n",
       "      <td>120.00</td>\n",
       "      <td>396.00</td>\n",
       "      <td>2019.00</td>\n",
       "      <td>1.00</td>\n",
       "      <td>1.34</td>\n",
       "    </tr>\n",
       "    <tr>\n",
       "      <th>25%</th>\n",
       "      <td>1.00</td>\n",
       "      <td>8.50</td>\n",
       "      <td>301.00</td>\n",
       "      <td>645.50</td>\n",
       "      <td>2019.00</td>\n",
       "      <td>1.00</td>\n",
       "      <td>1.96</td>\n",
       "    </tr>\n",
       "    <tr>\n",
       "      <th>50%</th>\n",
       "      <td>1.00</td>\n",
       "      <td>16.00</td>\n",
       "      <td>367.00</td>\n",
       "      <td>775.00</td>\n",
       "      <td>2019.00</td>\n",
       "      <td>1.00</td>\n",
       "      <td>2.36</td>\n",
       "    </tr>\n",
       "    <tr>\n",
       "      <th>75%</th>\n",
       "      <td>1.00</td>\n",
       "      <td>23.50</td>\n",
       "      <td>636.50</td>\n",
       "      <td>1433.00</td>\n",
       "      <td>2019.00</td>\n",
       "      <td>1.00</td>\n",
       "      <td>2.72</td>\n",
       "    </tr>\n",
       "    <tr>\n",
       "      <th>max</th>\n",
       "      <td>1.00</td>\n",
       "      <td>31.00</td>\n",
       "      <td>1148.00</td>\n",
       "      <td>2010.00</td>\n",
       "      <td>2019.00</td>\n",
       "      <td>1.00</td>\n",
       "      <td>4.30</td>\n",
       "    </tr>\n",
       "  </tbody>\n",
       "</table>\n",
       "</div>"
      ],
      "text/plain": [
       "       Month   Day  Arrivals  Present    Year  district_c  AverageStay\n",
       "count  31.00 31.00     31.00    31.00   31.00       31.00        31.00\n",
       "mean    1.00 16.00    451.77   986.29 2019.00        1.00         2.36\n",
       "std     0.00  9.09    260.37   479.81    0.00        0.00         0.65\n",
       "min     1.00  1.00    120.00   396.00 2019.00        1.00         1.34\n",
       "25%     1.00  8.50    301.00   645.50 2019.00        1.00         1.96\n",
       "50%     1.00 16.00    367.00   775.00 2019.00        1.00         2.36\n",
       "75%     1.00 23.50    636.50  1433.00 2019.00        1.00         2.72\n",
       "max     1.00 31.00   1148.00  2010.00 2019.00        1.00         4.30"
      ]
     },
     "execution_count": 44,
     "metadata": {},
     "output_type": "execute_result"
    }
   ],
   "source": [
    "groupNationalityTrends.describe()"
   ]
  },
  {
   "cell_type": "code",
   "execution_count": 30,
   "id": "c6f080ba-37c5-4e73-b355-ec03c84bc702",
   "metadata": {},
   "outputs": [
    {
     "data": {
      "text/html": [
       "<div>\n",
       "<style scoped>\n",
       "    .dataframe tbody tr th:only-of-type {\n",
       "        vertical-align: middle;\n",
       "    }\n",
       "\n",
       "    .dataframe tbody tr th {\n",
       "        vertical-align: top;\n",
       "    }\n",
       "\n",
       "    .dataframe thead th {\n",
       "        text-align: right;\n",
       "    }\n",
       "</style>\n",
       "<table border=\"1\" class=\"dataframe\">\n",
       "  <thead>\n",
       "    <tr style=\"text-align: right;\">\n",
       "      <th></th>\n",
       "      <th>Month</th>\n",
       "      <th>Day</th>\n",
       "      <th>Arrivals</th>\n",
       "      <th>Present</th>\n",
       "      <th>Year</th>\n",
       "      <th>district_c</th>\n",
       "      <th>AverageStay</th>\n",
       "    </tr>\n",
       "  </thead>\n",
       "  <tbody>\n",
       "    <tr>\n",
       "      <th>count</th>\n",
       "      <td>0.0</td>\n",
       "      <td>0.0</td>\n",
       "      <td>0.0</td>\n",
       "      <td>0.0</td>\n",
       "      <td>0.0</td>\n",
       "      <td>0.0</td>\n",
       "      <td>0.0</td>\n",
       "    </tr>\n",
       "    <tr>\n",
       "      <th>mean</th>\n",
       "      <td>NaN</td>\n",
       "      <td>NaN</td>\n",
       "      <td>NaN</td>\n",
       "      <td>NaN</td>\n",
       "      <td>NaN</td>\n",
       "      <td>NaN</td>\n",
       "      <td>NaN</td>\n",
       "    </tr>\n",
       "    <tr>\n",
       "      <th>std</th>\n",
       "      <td>NaN</td>\n",
       "      <td>NaN</td>\n",
       "      <td>NaN</td>\n",
       "      <td>NaN</td>\n",
       "      <td>NaN</td>\n",
       "      <td>NaN</td>\n",
       "      <td>NaN</td>\n",
       "    </tr>\n",
       "    <tr>\n",
       "      <th>min</th>\n",
       "      <td>NaN</td>\n",
       "      <td>NaN</td>\n",
       "      <td>NaN</td>\n",
       "      <td>NaN</td>\n",
       "      <td>NaN</td>\n",
       "      <td>NaN</td>\n",
       "      <td>NaN</td>\n",
       "    </tr>\n",
       "    <tr>\n",
       "      <th>25%</th>\n",
       "      <td>NaN</td>\n",
       "      <td>NaN</td>\n",
       "      <td>NaN</td>\n",
       "      <td>NaN</td>\n",
       "      <td>NaN</td>\n",
       "      <td>NaN</td>\n",
       "      <td>NaN</td>\n",
       "    </tr>\n",
       "    <tr>\n",
       "      <th>50%</th>\n",
       "      <td>NaN</td>\n",
       "      <td>NaN</td>\n",
       "      <td>NaN</td>\n",
       "      <td>NaN</td>\n",
       "      <td>NaN</td>\n",
       "      <td>NaN</td>\n",
       "      <td>NaN</td>\n",
       "    </tr>\n",
       "    <tr>\n",
       "      <th>75%</th>\n",
       "      <td>NaN</td>\n",
       "      <td>NaN</td>\n",
       "      <td>NaN</td>\n",
       "      <td>NaN</td>\n",
       "      <td>NaN</td>\n",
       "      <td>NaN</td>\n",
       "      <td>NaN</td>\n",
       "    </tr>\n",
       "    <tr>\n",
       "      <th>max</th>\n",
       "      <td>NaN</td>\n",
       "      <td>NaN</td>\n",
       "      <td>NaN</td>\n",
       "      <td>NaN</td>\n",
       "      <td>NaN</td>\n",
       "      <td>NaN</td>\n",
       "      <td>NaN</td>\n",
       "    </tr>\n",
       "  </tbody>\n",
       "</table>\n",
       "</div>"
      ],
      "text/plain": [
       "       Month  Day  Arrivals  Present  Year  district_c  AverageStay\n",
       "count    0.0  0.0       0.0      0.0   0.0         0.0          0.0\n",
       "mean     NaN  NaN       NaN      NaN   NaN         NaN          NaN\n",
       "std      NaN  NaN       NaN      NaN   NaN         NaN          NaN\n",
       "min      NaN  NaN       NaN      NaN   NaN         NaN          NaN\n",
       "25%      NaN  NaN       NaN      NaN   NaN         NaN          NaN\n",
       "50%      NaN  NaN       NaN      NaN   NaN         NaN          NaN\n",
       "75%      NaN  NaN       NaN      NaN   NaN         NaN          NaN\n",
       "max      NaN  NaN       NaN      NaN   NaN         NaN          NaN"
      ]
     },
     "execution_count": 30,
     "metadata": {},
     "output_type": "execute_result"
    }
   ],
   "source": [
    "groupNationalityTrends.describe()"
   ]
  }
 ],
 "metadata": {
  "kernelspec": {
   "display_name": "Python 3 (ipykernel)",
   "language": "python",
   "name": "python3"
  },
  "language_info": {
   "codemirror_mode": {
    "name": "ipython",
    "version": 3
   },
   "file_extension": ".py",
   "mimetype": "text/x-python",
   "name": "python",
   "nbconvert_exporter": "python",
   "pygments_lexer": "ipython3",
   "version": "3.9.7"
  }
 },
 "nbformat": 4,
 "nbformat_minor": 5
}
