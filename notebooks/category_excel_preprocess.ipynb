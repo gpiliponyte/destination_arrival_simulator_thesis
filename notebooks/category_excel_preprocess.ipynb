{
 "cells": [
  {
   "cell_type": "code",
   "execution_count": 3,
   "id": "af07e37a-cd60-483e-9e2f-4583ebb60c1d",
   "metadata": {},
   "outputs": [],
   "source": [
    "import pandas as pd"
   ]
  },
  {
   "cell_type": "code",
   "execution_count": 4,
   "id": "bfe3f3b7-497a-47d1-bd05-1b046b96c3e4",
   "metadata": {},
   "outputs": [],
   "source": [
    "categoryTrends2010=pd.read_excel(io='../real_data/2010 ARR PRES GG gem naz cat.xlsx', \n",
    "                          sheet_name='Category')"
   ]
  },
  {
   "cell_type": "code",
   "execution_count": 5,
   "id": "44ec0497-56ff-45c0-983a-cac3927c3999",
   "metadata": {},
   "outputs": [],
   "source": [
    "\n",
    "categoryTrends2011=pd.read_excel(io='../real_data/2011 ARR PRES GG gem naz cat.xlsx', \n",
    "                          sheet_name='Category')"
   ]
  },
  {
   "cell_type": "code",
   "execution_count": 6,
   "id": "85a28892-a7fc-4a55-88a6-5f842d456ae2",
   "metadata": {},
   "outputs": [],
   "source": [
    "\n",
    "categoryTrends2012=pd.read_excel(io='../real_data/2012 ARR PRES GG gem naz cat.xlsx', \n",
    "                          sheet_name='Category')"
   ]
  },
  {
   "cell_type": "code",
   "execution_count": 7,
   "id": "6f1a3c01-fdb4-4e91-8f8b-0a38f661096b",
   "metadata": {},
   "outputs": [],
   "source": [
    "categoryTrends2013=pd.read_excel(io='../real_data/2013 ARR PRE GG gem naz cat.xlsx', \n",
    "                          sheet_name='Category')"
   ]
  },
  {
   "cell_type": "code",
   "execution_count": 8,
   "id": "1134803c-17bf-41ca-9633-1a446fb6948d",
   "metadata": {},
   "outputs": [],
   "source": [
    "categoryTrends2014=pd.read_excel(io='../real_data/2014 ARR PRE GG gem naz cat.xlsx', \n",
    "                          sheet_name='Category')"
   ]
  },
  {
   "cell_type": "code",
   "execution_count": 9,
   "id": "5630614a-379c-4bb9-9207-c5ad2bbdceec",
   "metadata": {},
   "outputs": [],
   "source": [
    "categoryTrends2015=pd.read_excel(io='../real_data/2015 ARR PRE GG gem naz cat.xlsx', \n",
    "                          sheet_name='Category')"
   ]
  },
  {
   "cell_type": "code",
   "execution_count": 10,
   "id": "faef4326-7dfc-4e3c-9156-a5da9aee7a33",
   "metadata": {},
   "outputs": [],
   "source": [
    "categoryTrends2016=pd.read_excel(io='../real_data/2016 ARR PRE GG gem naz cat.xlsx', \n",
    "                          sheet_name='Category')"
   ]
  },
  {
   "cell_type": "code",
   "execution_count": 11,
   "id": "6922d887-a66e-49fa-8657-9a78172e8d4d",
   "metadata": {},
   "outputs": [],
   "source": [
    "categoryTrends2017=pd.read_excel(io='../real_data/2017 ARR PRE GG gem naz cat.xlsx', \n",
    "                          sheet_name='Category')"
   ]
  },
  {
   "cell_type": "code",
   "execution_count": 12,
   "id": "58fc0109-a018-4673-93bb-da122759cb29",
   "metadata": {},
   "outputs": [],
   "source": [
    "categoryTrends2018=pd.read_excel(io='../real_data/2018 ARR PRE GG gem naz cat.xlsx', \n",
    "                          sheet_name='Category')"
   ]
  },
  {
   "cell_type": "code",
   "execution_count": 13,
   "id": "8dc13858-08e9-45c2-97c3-dda4bf0cc22c",
   "metadata": {},
   "outputs": [],
   "source": [
    "categoryTrends2019=pd.read_excel(io='../real_data/2019 ARR PRE GG gem naz cat.xlsx', \n",
    "                          sheet_name='Category')"
   ]
  },
  {
   "cell_type": "code",
   "execution_count": 14,
   "id": "97828906-87ef-44b2-8318-14962b6787a4",
   "metadata": {},
   "outputs": [],
   "source": [
    "\n",
    "categoryTrends2020=pd.read_excel(io='../real_data/2020 ARR PRE GG gem naz cat.xlsx', \n",
    "                          sheet_name='Category')"
   ]
  },
  {
   "cell_type": "code",
   "execution_count": 15,
   "id": "177904c4-1f63-4704-8101-c053377b73d1",
   "metadata": {},
   "outputs": [],
   "source": [
    "categoryTrends2010[\"Year\"] = 2010\n",
    "categoryTrends2011[\"Year\"] = 2011\n",
    "categoryTrends2012[\"Year\"] = 2012\n",
    "categoryTrends2013[\"Year\"] = 2013\n",
    "categoryTrends2014[\"Year\"] = 2014\n",
    "categoryTrends2015[\"Year\"] = 2015\n",
    "categoryTrends2016[\"Year\"] = 2016\n",
    "categoryTrends2017[\"Year\"] = 2017\n",
    "categoryTrends2018[\"Year\"] = 2018\n",
    "categoryTrends2019[\"Year\"] = 2019\n",
    "categoryTrends2020[\"Year\"] = 2020"
   ]
  },
  {
   "cell_type": "code",
   "execution_count": 16,
   "id": "d7baf7f3-005a-411e-8893-88550139f782",
   "metadata": {},
   "outputs": [],
   "source": [
    "categoryTrends = pd.concat([categoryTrends2010, categoryTrends2011, categoryTrends2012, categoryTrends2013, categoryTrends2014, categoryTrends2015, categoryTrends2016, categoryTrends2017, categoryTrends2018, categoryTrends2019, categoryTrends2020], ignore_index=True)"
   ]
  },
  {
   "cell_type": "code",
   "execution_count": 17,
   "id": "1745844c-2241-43af-905d-f1f33575efa1",
   "metadata": {},
   "outputs": [],
   "source": [
    "categoryTrends = categoryTrends.rename(columns={\"Mese di riferimento\": \"Month\", \"Giorno di riferimento\": \"Day\", \"Beschreibung Bezirksgemeinschaft\": \"District\", \"ctt1aggr_desc\": \"Category\", \"Arrivi del giorno\": \"Arrivals\", \"Presenti del giorno\": \"Present\"})"
   ]
  },
  {
   "cell_type": "code",
   "execution_count": 18,
   "id": "59c4d182-d8cb-4249-8ad7-1d74c333d8c2",
   "metadata": {},
   "outputs": [],
   "source": [
    "categoryTrends = categoryTrends.fillna(method='ffill', axis=0)"
   ]
  },
  {
   "cell_type": "code",
   "execution_count": 19,
   "id": "f0b5611b-9795-4cf3-b904-4b9b1c5e85bb",
   "metadata": {},
   "outputs": [],
   "source": [
    "categoryTrends['district_c'] = categoryTrends['District'].replace({'Bozen': 1, 'Burggrafenamt': 2, 'Eisacktal': 3, 'Pustertal': 4, 'Salten-Schlern': 5, 'Überetsch-Südt.Unterl.': 6, 'Vinschgau': 7, 'Wipptal': 8})"
   ]
  },
  {
   "cell_type": "code",
   "execution_count": 20,
   "id": "540d147b-c392-4cc2-b92e-43d9d88ee0f1",
   "metadata": {},
   "outputs": [],
   "source": [
    "categoryTrends['Category'] = categoryTrends['Category'].replace({'1-2 Sterne': '1-2 Star Hotel', '3 Sterne': '3 Star Hotel', '4-5 Sterne': '4-5 Star Hotel', 'Andere Betriebe': 'Other', 'Privatquartiere': 'Private Lodging', 'Urlaub auf dem Bauernhof': 'Agricaltural Lodging', 'Campingplätze': 'Campings', 'Residence': 'Residence', 'Privatquartiere mit Vertrag': 'Private Lodging'})"
   ]
  },
  {
   "cell_type": "code",
   "execution_count": 21,
   "id": "b72bfef1-92b3-480b-b388-6f7bd0eeadfc",
   "metadata": {},
   "outputs": [
    {
     "data": {
      "text/html": [
       "<div>\n",
       "<style scoped>\n",
       "    .dataframe tbody tr th:only-of-type {\n",
       "        vertical-align: middle;\n",
       "    }\n",
       "\n",
       "    .dataframe tbody tr th {\n",
       "        vertical-align: top;\n",
       "    }\n",
       "\n",
       "    .dataframe thead th {\n",
       "        text-align: right;\n",
       "    }\n",
       "</style>\n",
       "<table border=\"1\" class=\"dataframe\">\n",
       "  <thead>\n",
       "    <tr style=\"text-align: right;\">\n",
       "      <th></th>\n",
       "      <th></th>\n",
       "      <th></th>\n",
       "      <th></th>\n",
       "      <th>Arrivals</th>\n",
       "      <th>Present</th>\n",
       "    </tr>\n",
       "    <tr>\n",
       "      <th>Year</th>\n",
       "      <th>Month</th>\n",
       "      <th>district_c</th>\n",
       "      <th>Category</th>\n",
       "      <th></th>\n",
       "      <th></th>\n",
       "    </tr>\n",
       "  </thead>\n",
       "  <tbody>\n",
       "    <tr>\n",
       "      <th rowspan=\"5\" valign=\"top\">2010</th>\n",
       "      <th rowspan=\"5\" valign=\"top\">1.0</th>\n",
       "      <th rowspan=\"5\" valign=\"top\">1</th>\n",
       "      <th>1-2 Star Hotel</th>\n",
       "      <td>1356</td>\n",
       "      <td>6728</td>\n",
       "    </tr>\n",
       "    <tr>\n",
       "      <th>3 Star Hotel</th>\n",
       "      <td>4941</td>\n",
       "      <td>9768</td>\n",
       "    </tr>\n",
       "    <tr>\n",
       "      <th>4-5 Star Hotel</th>\n",
       "      <td>7265</td>\n",
       "      <td>14385</td>\n",
       "    </tr>\n",
       "    <tr>\n",
       "      <th>Agricaltural Lodging</th>\n",
       "      <td>79</td>\n",
       "      <td>393</td>\n",
       "    </tr>\n",
       "    <tr>\n",
       "      <th>Other</th>\n",
       "      <td>867</td>\n",
       "      <td>1651</td>\n",
       "    </tr>\n",
       "    <tr>\n",
       "      <th>...</th>\n",
       "      <th>...</th>\n",
       "      <th>...</th>\n",
       "      <th>...</th>\n",
       "      <td>...</td>\n",
       "      <td>...</td>\n",
       "    </tr>\n",
       "    <tr>\n",
       "      <th rowspan=\"5\" valign=\"top\">2020</th>\n",
       "      <th rowspan=\"5\" valign=\"top\">12.0</th>\n",
       "      <th rowspan=\"5\" valign=\"top\">8</th>\n",
       "      <th>3 Star Hotel</th>\n",
       "      <td>1252</td>\n",
       "      <td>2862</td>\n",
       "    </tr>\n",
       "    <tr>\n",
       "      <th>4-5 Star Hotel</th>\n",
       "      <td>1811</td>\n",
       "      <td>3316</td>\n",
       "    </tr>\n",
       "    <tr>\n",
       "      <th>Agricaltural Lodging</th>\n",
       "      <td>105</td>\n",
       "      <td>628</td>\n",
       "    </tr>\n",
       "    <tr>\n",
       "      <th>Private Lodging</th>\n",
       "      <td>22</td>\n",
       "      <td>520</td>\n",
       "    </tr>\n",
       "    <tr>\n",
       "      <th>Residence</th>\n",
       "      <td>242</td>\n",
       "      <td>1418</td>\n",
       "    </tr>\n",
       "  </tbody>\n",
       "</table>\n",
       "<p>6297 rows × 2 columns</p>\n",
       "</div>"
      ],
      "text/plain": [
       "                                            Arrivals  Present\n",
       "Year Month district_c Category                               \n",
       "2010 1.0   1          1-2 Star Hotel            1356     6728\n",
       "                      3 Star Hotel              4941     9768\n",
       "                      4-5 Star Hotel            7265    14385\n",
       "                      Agricaltural Lodging        79      393\n",
       "                      Other                      867     1651\n",
       "...                                              ...      ...\n",
       "2020 12.0  8          3 Star Hotel              1252     2862\n",
       "                      4-5 Star Hotel            1811     3316\n",
       "                      Agricaltural Lodging       105      628\n",
       "                      Private Lodging             22      520\n",
       "                      Residence                  242     1418\n",
       "\n",
       "[6297 rows x 2 columns]"
      ]
     },
     "execution_count": 21,
     "metadata": {},
     "output_type": "execute_result"
    }
   ],
   "source": [
    "categoryTrends = categoryTrends.groupby(['Year','Month', 'district_c', 'Category']).sum()\n",
    "del categoryTrends[\"Day\"]\n",
    "categoryTrends                             "
   ]
  },
  {
   "cell_type": "code",
   "execution_count": 22,
   "id": "b55ac4e0-0a6d-4364-973a-4a697ca0f932",
   "metadata": {},
   "outputs": [],
   "source": [
    "categoryTrends.to_csv('category_trends.csv')"
   ]
  },
  {
   "cell_type": "code",
   "execution_count": 23,
   "id": "da6468af-e1da-4c40-bcca-5430312927db",
   "metadata": {},
   "outputs": [],
   "source": [
    "districtTrends = pd.read_csv('category_trends.csv')"
   ]
  },
  {
   "cell_type": "code",
   "execution_count": 24,
   "id": "b68e05ca-dcc0-49ec-8b48-335704cc8a4a",
   "metadata": {},
   "outputs": [
    {
     "data": {
      "text/html": [
       "<div>\n",
       "<style scoped>\n",
       "    .dataframe tbody tr th:only-of-type {\n",
       "        vertical-align: middle;\n",
       "    }\n",
       "\n",
       "    .dataframe tbody tr th {\n",
       "        vertical-align: top;\n",
       "    }\n",
       "\n",
       "    .dataframe thead th {\n",
       "        text-align: right;\n",
       "    }\n",
       "</style>\n",
       "<table border=\"1\" class=\"dataframe\">\n",
       "  <thead>\n",
       "    <tr style=\"text-align: right;\">\n",
       "      <th></th>\n",
       "      <th>Year</th>\n",
       "      <th>Month</th>\n",
       "      <th>district_c</th>\n",
       "      <th>Category</th>\n",
       "      <th>Arrivals</th>\n",
       "      <th>Present</th>\n",
       "      <th>Season</th>\n",
       "    </tr>\n",
       "  </thead>\n",
       "  <tbody>\n",
       "    <tr>\n",
       "      <th>0</th>\n",
       "      <td>2010</td>\n",
       "      <td>1.0</td>\n",
       "      <td>1</td>\n",
       "      <td>1-2 Star Hotel</td>\n",
       "      <td>1356</td>\n",
       "      <td>6728</td>\n",
       "      <td>Winter</td>\n",
       "    </tr>\n",
       "    <tr>\n",
       "      <th>1</th>\n",
       "      <td>2010</td>\n",
       "      <td>1.0</td>\n",
       "      <td>1</td>\n",
       "      <td>3 Star Hotel</td>\n",
       "      <td>4941</td>\n",
       "      <td>9768</td>\n",
       "      <td>Winter</td>\n",
       "    </tr>\n",
       "    <tr>\n",
       "      <th>2</th>\n",
       "      <td>2010</td>\n",
       "      <td>1.0</td>\n",
       "      <td>1</td>\n",
       "      <td>4-5 Star Hotel</td>\n",
       "      <td>7265</td>\n",
       "      <td>14385</td>\n",
       "      <td>Winter</td>\n",
       "    </tr>\n",
       "    <tr>\n",
       "      <th>3</th>\n",
       "      <td>2010</td>\n",
       "      <td>1.0</td>\n",
       "      <td>1</td>\n",
       "      <td>Agricaltural Lodging</td>\n",
       "      <td>79</td>\n",
       "      <td>393</td>\n",
       "      <td>Winter</td>\n",
       "    </tr>\n",
       "    <tr>\n",
       "      <th>4</th>\n",
       "      <td>2010</td>\n",
       "      <td>1.0</td>\n",
       "      <td>1</td>\n",
       "      <td>Other</td>\n",
       "      <td>867</td>\n",
       "      <td>1651</td>\n",
       "      <td>Winter</td>\n",
       "    </tr>\n",
       "    <tr>\n",
       "      <th>...</th>\n",
       "      <td>...</td>\n",
       "      <td>...</td>\n",
       "      <td>...</td>\n",
       "      <td>...</td>\n",
       "      <td>...</td>\n",
       "      <td>...</td>\n",
       "      <td>...</td>\n",
       "    </tr>\n",
       "    <tr>\n",
       "      <th>6292</th>\n",
       "      <td>2020</td>\n",
       "      <td>12.0</td>\n",
       "      <td>8</td>\n",
       "      <td>3 Star Hotel</td>\n",
       "      <td>1252</td>\n",
       "      <td>2862</td>\n",
       "      <td>Winter</td>\n",
       "    </tr>\n",
       "    <tr>\n",
       "      <th>6293</th>\n",
       "      <td>2020</td>\n",
       "      <td>12.0</td>\n",
       "      <td>8</td>\n",
       "      <td>4-5 Star Hotel</td>\n",
       "      <td>1811</td>\n",
       "      <td>3316</td>\n",
       "      <td>Winter</td>\n",
       "    </tr>\n",
       "    <tr>\n",
       "      <th>6294</th>\n",
       "      <td>2020</td>\n",
       "      <td>12.0</td>\n",
       "      <td>8</td>\n",
       "      <td>Agricaltural Lodging</td>\n",
       "      <td>105</td>\n",
       "      <td>628</td>\n",
       "      <td>Winter</td>\n",
       "    </tr>\n",
       "    <tr>\n",
       "      <th>6295</th>\n",
       "      <td>2020</td>\n",
       "      <td>12.0</td>\n",
       "      <td>8</td>\n",
       "      <td>Private Lodging</td>\n",
       "      <td>22</td>\n",
       "      <td>520</td>\n",
       "      <td>Winter</td>\n",
       "    </tr>\n",
       "    <tr>\n",
       "      <th>6296</th>\n",
       "      <td>2020</td>\n",
       "      <td>12.0</td>\n",
       "      <td>8</td>\n",
       "      <td>Residence</td>\n",
       "      <td>242</td>\n",
       "      <td>1418</td>\n",
       "      <td>Winter</td>\n",
       "    </tr>\n",
       "  </tbody>\n",
       "</table>\n",
       "<p>6297 rows × 7 columns</p>\n",
       "</div>"
      ],
      "text/plain": [
       "      Year  Month  district_c              Category  Arrivals  Present  Season\n",
       "0     2010    1.0           1        1-2 Star Hotel      1356     6728  Winter\n",
       "1     2010    1.0           1          3 Star Hotel      4941     9768  Winter\n",
       "2     2010    1.0           1        4-5 Star Hotel      7265    14385  Winter\n",
       "3     2010    1.0           1  Agricaltural Lodging        79      393  Winter\n",
       "4     2010    1.0           1                 Other       867     1651  Winter\n",
       "...    ...    ...         ...                   ...       ...      ...     ...\n",
       "6292  2020   12.0           8          3 Star Hotel      1252     2862  Winter\n",
       "6293  2020   12.0           8        4-5 Star Hotel      1811     3316  Winter\n",
       "6294  2020   12.0           8  Agricaltural Lodging       105      628  Winter\n",
       "6295  2020   12.0           8       Private Lodging        22      520  Winter\n",
       "6296  2020   12.0           8             Residence       242     1418  Winter\n",
       "\n",
       "[6297 rows x 7 columns]"
      ]
     },
     "execution_count": 24,
     "metadata": {},
     "output_type": "execute_result"
    }
   ],
   "source": [
    "districtTrends['Season'] = districtTrends['Month']\n",
    "\n",
    "districtTrends['Season'] = districtTrends['Season'].replace(1, 'Winter')\n",
    "districtTrends['Season'] = districtTrends['Season'].replace(2, 'Winter')\n",
    "districtTrends['Season'] = districtTrends['Season'].replace(12, 'Winter')\n",
    "districtTrends['Season'] = districtTrends['Season'].replace(3, 'Spring')\n",
    "districtTrends['Season'] = districtTrends['Season'].replace(4, 'Spring')\n",
    "districtTrends['Season'] = districtTrends['Season'].replace(5, 'Spring')\n",
    "districtTrends['Season'] = districtTrends['Season'].replace(6, 'Summer')\n",
    "districtTrends['Season'] = districtTrends['Season'].replace(7, 'Summer')\n",
    "districtTrends['Season'] = districtTrends['Season'].replace(8, 'Summer')\n",
    "districtTrends['Season'] = districtTrends['Season'].replace(9, 'Autumn')\n",
    "districtTrends['Season'] = districtTrends['Season'].replace(10, 'Autumn')\n",
    "districtTrends['Season'] = districtTrends['Season'].replace(11, 'Autumn')\n",
    "\n",
    "districtTrends"
   ]
  },
  {
   "cell_type": "code",
   "execution_count": 25,
   "id": "3f2bbc12-ff71-4d2e-b6da-6701163cec75",
   "metadata": {},
   "outputs": [],
   "source": [
    "districtTrends.to_csv('../data/category_trends.csv')"
   ]
  },
  {
   "cell_type": "code",
   "execution_count": 54,
   "id": "fd07af05-502e-4b10-bb9b-51c709c54ca7",
   "metadata": {},
   "outputs": [],
   "source": [
    "districtTrends = districtTrends.groupby(['Year','Category', 'district_c']).sum()\n",
    "del districtTrends['Month']"
   ]
  },
  {
   "cell_type": "code",
   "execution_count": 56,
   "id": "aada46e5-1acb-49bb-b76c-95b1ff9e5e66",
   "metadata": {},
   "outputs": [
    {
     "data": {
      "text/html": [
       "<div>\n",
       "<style scoped>\n",
       "    .dataframe tbody tr th:only-of-type {\n",
       "        vertical-align: middle;\n",
       "    }\n",
       "\n",
       "    .dataframe tbody tr th {\n",
       "        vertical-align: top;\n",
       "    }\n",
       "\n",
       "    .dataframe thead th {\n",
       "        text-align: right;\n",
       "    }\n",
       "</style>\n",
       "<table border=\"1\" class=\"dataframe\">\n",
       "  <thead>\n",
       "    <tr style=\"text-align: right;\">\n",
       "      <th></th>\n",
       "      <th></th>\n",
       "      <th></th>\n",
       "      <th>Arrivals</th>\n",
       "      <th>Present</th>\n",
       "    </tr>\n",
       "    <tr>\n",
       "      <th>Year</th>\n",
       "      <th>Category</th>\n",
       "      <th>district_c</th>\n",
       "      <th></th>\n",
       "      <th></th>\n",
       "    </tr>\n",
       "  </thead>\n",
       "  <tbody>\n",
       "    <tr>\n",
       "      <th rowspan=\"5\" valign=\"top\">2010</th>\n",
       "      <th rowspan=\"5\" valign=\"top\">1-2 Star Hotel</th>\n",
       "      <th>1</th>\n",
       "      <td>22044</td>\n",
       "      <td>92518</td>\n",
       "    </tr>\n",
       "    <tr>\n",
       "      <th>2</th>\n",
       "      <td>89060</td>\n",
       "      <td>489974</td>\n",
       "    </tr>\n",
       "    <tr>\n",
       "      <th>3</th>\n",
       "      <td>74152</td>\n",
       "      <td>357277</td>\n",
       "    </tr>\n",
       "    <tr>\n",
       "      <th>4</th>\n",
       "      <td>195894</td>\n",
       "      <td>1072208</td>\n",
       "    </tr>\n",
       "    <tr>\n",
       "      <th>5</th>\n",
       "      <td>64669</td>\n",
       "      <td>340983</td>\n",
       "    </tr>\n",
       "    <tr>\n",
       "      <th>...</th>\n",
       "      <th>...</th>\n",
       "      <th>...</th>\n",
       "      <td>...</td>\n",
       "      <td>...</td>\n",
       "    </tr>\n",
       "    <tr>\n",
       "      <th rowspan=\"5\" valign=\"top\">2020</th>\n",
       "      <th rowspan=\"5\" valign=\"top\">Residence</th>\n",
       "      <th>4</th>\n",
       "      <td>144308</td>\n",
       "      <td>909884</td>\n",
       "    </tr>\n",
       "    <tr>\n",
       "      <th>5</th>\n",
       "      <td>58965</td>\n",
       "      <td>381895</td>\n",
       "    </tr>\n",
       "    <tr>\n",
       "      <th>6</th>\n",
       "      <td>9506</td>\n",
       "      <td>83261</td>\n",
       "    </tr>\n",
       "    <tr>\n",
       "      <th>7</th>\n",
       "      <td>39017</td>\n",
       "      <td>222617</td>\n",
       "    </tr>\n",
       "    <tr>\n",
       "      <th>8</th>\n",
       "      <td>7387</td>\n",
       "      <td>50753</td>\n",
       "    </tr>\n",
       "  </tbody>\n",
       "</table>\n",
       "<p>533 rows × 2 columns</p>\n",
       "</div>"
      ],
      "text/plain": [
       "                                Arrivals  Present\n",
       "Year Category       district_c                   \n",
       "2010 1-2 Star Hotel 1              22044    92518\n",
       "                    2              89060   489974\n",
       "                    3              74152   357277\n",
       "                    4             195894  1072208\n",
       "                    5              64669   340983\n",
       "...                                  ...      ...\n",
       "2020 Residence      4             144308   909884\n",
       "                    5              58965   381895\n",
       "                    6               9506    83261\n",
       "                    7              39017   222617\n",
       "                    8               7387    50753\n",
       "\n",
       "[533 rows x 2 columns]"
      ]
     },
     "execution_count": 56,
     "metadata": {},
     "output_type": "execute_result"
    }
   ],
   "source": [
    "districtTrends"
   ]
  },
  {
   "cell_type": "code",
   "execution_count": 57,
   "id": "494e7104-6df9-4620-808d-4bc285f42bc1",
   "metadata": {},
   "outputs": [],
   "source": [
    "districtTrends.to_csv('category_trends_yearly.csv')"
   ]
  },
  {
   "cell_type": "code",
   "execution_count": 18,
   "id": "58342e99-1c5a-45cb-b133-e43f681a296d",
   "metadata": {},
   "outputs": [],
   "source": [
    "overall = pd.read_csv('../data/category_trends_yearly.csv')"
   ]
  },
  {
   "cell_type": "code",
   "execution_count": 20,
   "id": "503a8d45-cd72-4f97-95d6-f5ed1be2fee1",
   "metadata": {},
   "outputs": [
    {
     "data": {
      "text/html": [
       "<div>\n",
       "<style scoped>\n",
       "    .dataframe tbody tr th:only-of-type {\n",
       "        vertical-align: middle;\n",
       "    }\n",
       "\n",
       "    .dataframe tbody tr th {\n",
       "        vertical-align: top;\n",
       "    }\n",
       "\n",
       "    .dataframe thead th {\n",
       "        text-align: right;\n",
       "    }\n",
       "</style>\n",
       "<table border=\"1\" class=\"dataframe\">\n",
       "  <thead>\n",
       "    <tr style=\"text-align: right;\">\n",
       "      <th></th>\n",
       "      <th>Year</th>\n",
       "      <th>Category</th>\n",
       "      <th>district_c</th>\n",
       "      <th>Arrivals</th>\n",
       "      <th>Present</th>\n",
       "    </tr>\n",
       "  </thead>\n",
       "  <tbody>\n",
       "    <tr>\n",
       "      <th>253</th>\n",
       "      <td>2014</td>\n",
       "      <td>1-2 Star Hotel</td>\n",
       "      <td>6</td>\n",
       "      <td>586292</td>\n",
       "      <td>2494954</td>\n",
       "    </tr>\n",
       "    <tr>\n",
       "      <th>254</th>\n",
       "      <td>2014</td>\n",
       "      <td>3 Star Hotel</td>\n",
       "      <td>6</td>\n",
       "      <td>2282643</td>\n",
       "      <td>9476392</td>\n",
       "    </tr>\n",
       "    <tr>\n",
       "      <th>255</th>\n",
       "      <td>2014</td>\n",
       "      <td>4-5 Star Hotel</td>\n",
       "      <td>6</td>\n",
       "      <td>1722398</td>\n",
       "      <td>7647917</td>\n",
       "    </tr>\n",
       "    <tr>\n",
       "      <th>256</th>\n",
       "      <td>2014</td>\n",
       "      <td>Agricaltural Lodging</td>\n",
       "      <td>6</td>\n",
       "      <td>352746</td>\n",
       "      <td>2292824</td>\n",
       "    </tr>\n",
       "    <tr>\n",
       "      <th>257</th>\n",
       "      <td>2014</td>\n",
       "      <td>Campings</td>\n",
       "      <td>6</td>\n",
       "      <td>271707</td>\n",
       "      <td>1303190</td>\n",
       "    </tr>\n",
       "    <tr>\n",
       "      <th>258</th>\n",
       "      <td>2014</td>\n",
       "      <td>Other</td>\n",
       "      <td>6</td>\n",
       "      <td>171810</td>\n",
       "      <td>448232</td>\n",
       "    </tr>\n",
       "    <tr>\n",
       "      <th>259</th>\n",
       "      <td>2014</td>\n",
       "      <td>Private Lodging</td>\n",
       "      <td>6</td>\n",
       "      <td>329013</td>\n",
       "      <td>2067585</td>\n",
       "    </tr>\n",
       "    <tr>\n",
       "      <th>260</th>\n",
       "      <td>2014</td>\n",
       "      <td>Residence</td>\n",
       "      <td>6</td>\n",
       "      <td>425480</td>\n",
       "      <td>2706795</td>\n",
       "    </tr>\n",
       "  </tbody>\n",
       "</table>\n",
       "</div>"
      ],
      "text/plain": [
       "     Year              Category  district_c  Arrivals  Present\n",
       "253  2014        1-2 Star Hotel           6    586292  2494954\n",
       "254  2014          3 Star Hotel           6   2282643  9476392\n",
       "255  2014        4-5 Star Hotel           6   1722398  7647917\n",
       "256  2014  Agricaltural Lodging           6    352746  2292824\n",
       "257  2014              Campings           6    271707  1303190\n",
       "258  2014                 Other           6    171810   448232\n",
       "259  2014       Private Lodging           6    329013  2067585\n",
       "260  2014             Residence           6    425480  2706795"
      ]
     },
     "execution_count": 20,
     "metadata": {},
     "output_type": "execute_result"
    }
   ],
   "source": [
    "overall[overall['Year'] == 2014]"
   ]
  },
  {
   "cell_type": "code",
   "execution_count": 21,
   "id": "e7883891-a6c2-4195-bb42-422abaa508ac",
   "metadata": {},
   "outputs": [],
   "source": [
    "overall = overall.groupby(['Year', 'district_c']).sum()"
   ]
  },
  {
   "cell_type": "code",
   "execution_count": 22,
   "id": "3de12933-1d6f-4118-a3d6-f5c2125ea2be",
   "metadata": {},
   "outputs": [
    {
     "data": {
      "text/html": [
       "<div>\n",
       "<style scoped>\n",
       "    .dataframe tbody tr th:only-of-type {\n",
       "        vertical-align: middle;\n",
       "    }\n",
       "\n",
       "    .dataframe tbody tr th {\n",
       "        vertical-align: top;\n",
       "    }\n",
       "\n",
       "    .dataframe thead th {\n",
       "        text-align: right;\n",
       "    }\n",
       "</style>\n",
       "<table border=\"1\" class=\"dataframe\">\n",
       "  <thead>\n",
       "    <tr style=\"text-align: right;\">\n",
       "      <th></th>\n",
       "      <th>Year</th>\n",
       "      <th>district_c</th>\n",
       "      <th>Arrivals</th>\n",
       "      <th>Present</th>\n",
       "    </tr>\n",
       "  </thead>\n",
       "  <tbody>\n",
       "    <tr>\n",
       "      <th>32</th>\n",
       "      <td>2014</td>\n",
       "      <td>6</td>\n",
       "      <td>6142089</td>\n",
       "      <td>28437889</td>\n",
       "    </tr>\n",
       "  </tbody>\n",
       "</table>\n",
       "</div>"
      ],
      "text/plain": [
       "    Year  district_c  Arrivals   Present\n",
       "32  2014           6   6142089  28437889"
      ]
     },
     "execution_count": 22,
     "metadata": {},
     "output_type": "execute_result"
    }
   ],
   "source": [
    "overall = overall.reset_index()\n",
    "overall[overall['Year'] == 2014]"
   ]
  },
  {
   "cell_type": "code",
   "execution_count": 15,
   "id": "153b9c94-f8e8-4596-8f37-bf4f0a171ea9",
   "metadata": {},
   "outputs": [],
   "source": [
    "categories = pd.read_csv('../data/category_trends_yearly.csv')"
   ]
  },
  {
   "cell_type": "code",
   "execution_count": 16,
   "id": "786d7387-82ce-4237-99cd-c364d0fa4627",
   "metadata": {},
   "outputs": [
    {
     "data": {
      "text/plain": [
       "array([2010, 2011, 2012, 2013, 2014, 2015, 2016, 2017, 2018, 2019, 2020],\n",
       "      dtype=int64)"
      ]
     },
     "execution_count": 16,
     "metadata": {},
     "output_type": "execute_result"
    }
   ],
   "source": [
    "categories['Year'].unique()"
   ]
  },
  {
   "cell_type": "code",
   "execution_count": 4,
   "id": "caac30f3-cbe9-4ada-9f4e-c403523f6bc5",
   "metadata": {},
   "outputs": [],
   "source": [
    "overall.to_csv('trends_yearly.csv')"
   ]
  },
  {
   "cell_type": "code",
   "execution_count": null,
   "id": "9afd328b-1b4a-4ff6-aba3-552b7c3603fe",
   "metadata": {},
   "outputs": [],
   "source": []
  }
 ],
 "metadata": {
  "kernelspec": {
   "display_name": "Python 3 (ipykernel)",
   "language": "python",
   "name": "python3"
  },
  "language_info": {
   "codemirror_mode": {
    "name": "ipython",
    "version": 3
   },
   "file_extension": ".py",
   "mimetype": "text/x-python",
   "name": "python",
   "nbconvert_exporter": "python",
   "pygments_lexer": "ipython3",
   "version": "3.9.7"
  }
 },
 "nbformat": 4,
 "nbformat_minor": 5
}
