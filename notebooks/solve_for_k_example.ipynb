{
 "cells": [
  {
   "cell_type": "code",
   "execution_count": 8,
   "id": "51d83ba7-651c-4a0e-bd91-3b053ec2abd6",
   "metadata": {},
   "outputs": [],
   "source": [
    "from sympy import symbols, Eq, solve\n",
    "import math"
   ]
  },
  {
   "cell_type": "code",
   "execution_count": 2,
   "id": "cb13077d-fc06-4421-bdbe-76b888bf5043",
   "metadata": {},
   "outputs": [],
   "source": [
    "k = symbols('k')"
   ]
  },
  {
   "cell_type": "code",
   "execution_count": 18,
   "id": "8e3a21b5-d28e-4ee7-9285-961543986677",
   "metadata": {},
   "outputs": [],
   "source": [
    "eq1 = Eq(math.e**(k*3.92) + math.e**(k*1.3) + math.e**(k*2.9) - 247.35, 0)"
   ]
  },
  {
   "cell_type": "code",
   "execution_count": 19,
   "id": "08a4744e-c25e-478c-bf28-be80058b813f",
   "metadata": {},
   "outputs": [],
   "source": [
    "sol = solve((eq1),(k))"
   ]
  },
  {
   "cell_type": "code",
   "execution_count": 20,
   "id": "0606fdef-f795-4663-a4cb-dfcb2c9e1830",
   "metadata": {},
   "outputs": [
    {
     "data": {
      "text/plain": [
       "[]"
      ]
     },
     "execution_count": 20,
     "metadata": {},
     "output_type": "execute_result"
    }
   ],
   "source": [
    "sol"
   ]
  },
  {
   "cell_type": "code",
   "execution_count": 21,
   "id": "58bae856-6ef0-4985-9c7d-80d7c7cd2741",
   "metadata": {},
   "outputs": [],
   "source": [
    "from scipy import optimize"
   ]
  },
  {
   "cell_type": "code",
   "execution_count": 24,
   "id": "3ad6d4d3-465e-4ca1-bf3e-288ae94fa53a",
   "metadata": {},
   "outputs": [
    {
     "name": "stdout",
     "output_type": "stream",
     "text": [
      "x =  1.3420305816313605\n"
     ]
    }
   ],
   "source": [
    "def func(x):\n",
    "    return (math.exp(3.92*x) + math.exp(1.3*x) + math.exp(2.9*x)) - 247.355\n",
    "\n",
    "sol = optimize.root_scalar(func, bracket=[0,2.], method='brentq')\n",
    "x = sol.root\n",
    "print('x = ', x)\n",
    "\n"
   ]
  }
 ],
 "metadata": {
  "kernelspec": {
   "display_name": "Python 3 (ipykernel)",
   "language": "python",
   "name": "python3"
  },
  "language_info": {
   "codemirror_mode": {
    "name": "ipython",
    "version": 3
   },
   "file_extension": ".py",
   "mimetype": "text/x-python",
   "name": "python",
   "nbconvert_exporter": "python",
   "pygments_lexer": "ipython3",
   "version": "3.9.7"
  }
 },
 "nbformat": 4,
 "nbformat_minor": 5
}
