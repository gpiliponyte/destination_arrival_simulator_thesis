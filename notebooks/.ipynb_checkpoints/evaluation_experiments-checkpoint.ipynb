{
 "cells": [
  {
   "cell_type": "markdown",
   "id": "cc24cb5e-a19c-4474-8947-fefdcbfa7e72",
   "metadata": {},
   "source": [
    "# Simulation Work"
   ]
  },
  {
   "cell_type": "markdown",
   "id": "a8c87a44-c9b3-43b1-8e8a-c27c21e446af",
   "metadata": {},
   "source": [
    "## 1. Import Libraries"
   ]
  },
  {
   "cell_type": "code",
   "execution_count": 730,
   "id": "f39f9840-07b3-484f-a977-efc36bb3de28",
   "metadata": {},
   "outputs": [],
   "source": [
    "from distutils.command.config import config\n",
    "import pandas as pd\n",
    "import geopandas as gp\n",
    "import plotly.express as px\n",
    "import numpy as np\n",
    "import math\n",
    "import random\n",
    "from scipy import optimize\n",
    "import itertools\n",
    "import warnings\n",
    "warnings.filterwarnings('ignore')"
   ]
  },
  {
   "cell_type": "markdown",
   "id": "95172c1c-836c-4538-8af9-6ae5bfa47a67",
   "metadata": {},
   "source": [
    "## 2. Define simulation variables"
   ]
  },
  {
   "cell_type": "markdown",
   "id": "b9828251-1a58-43e7-9416-016f027a3861",
   "metadata": {
    "tags": []
   },
   "source": [
    "### Campaign names"
   ]
  },
  {
   "cell_type": "code",
   "execution_count": 277,
   "id": "438e3a21-0468-4f4d-aabe-dee1936fab00",
   "metadata": {},
   "outputs": [],
   "source": [
    "SIM_TYPE_RANDOMN = 'Random-N'\n",
    "SIM_TYPE_TOPN = 'Top-N'\n",
    "SIM_TYPE_BOTTOMN = 'Bottom-N'\n",
    "SIM_TYPE_CUSTOM = 'Custom'\n",
    "SIM_TYPE_SUSTAINABLE = 'Sustainable-N'\n",
    "SIM_TYPE_CAPACITY = \"Capacity-N\""
   ]
  },
  {
   "cell_type": "markdown",
   "id": "f6d0dd06-8966-462a-b5be-1990a4c3d4d2",
   "metadata": {},
   "source": [
    "### Other params"
   ]
  },
  {
   "cell_type": "code",
   "execution_count": 278,
   "id": "5901ae18-96e1-4544-9a69-886d7c5977d5",
   "metadata": {},
   "outputs": [],
   "source": [
    "CHOICE_UTILITY = 5\n",
    "ALL_COUNTRIES = \"All Countries\"\n",
    "\n",
    "district_code_map = {1: \"Bozen\", 2: \"Burggrafenamt\", 3: \"Eisacktal\", 4: \"Pustertal\", 5: \"Salten-Schlern\", 6: \"Uberetsch-Unterland\", 7: \"Vinschgau\", 8: \"Wipptal\"}\n",
    "district_code_map_reverse = {\"Bozen\": 1, \"Burggrafenamt\": 2, \"Eisacktal\": 3, \"Pustertal\": 4, \"Salten-Schlern\": 5, \"Uberetsch-Unterland\": 6, \"Vinschgau\": 7, \"Wipptal\": 8}\n",
    "\n",
    "DECAY_RATE = 1.2\n",
    "\n",
    "similarities = pd.read_csv('../data/similarities_indexed.csv', index_col=0)\n",
    "dataForPresences = pd.read_csv('../data/presences_simulation.csv')"
   ]
  },
  {
   "cell_type": "markdown",
   "id": "1fb724d3-09e2-4edc-ac1a-dece216660bf",
   "metadata": {},
   "source": [
    "## 3. Define functions"
   ]
  },
  {
   "cell_type": "code",
   "execution_count": 279,
   "id": "01ca60b7-d216-4fc3-a4e5-8d55071b8343",
   "metadata": {},
   "outputs": [],
   "source": [
    "def gini_coefficient(x):\n",
    "    \"\"\"Compute Gini coefficient of array of values\"\"\"\n",
    "    diffsum = 0\n",
    "    for i, xi in enumerate(x[:-1], 1):\n",
    "        diffsum += np.sum(np.abs(xi - x[i:]))\n",
    "    return diffsum / (len(x)**2 * np.mean(x))"
   ]
  },
  {
   "cell_type": "code",
   "execution_count": 611,
   "id": "8eac35cb-afd0-4fe4-b34f-6e794a7bf73c",
   "metadata": {},
   "outputs": [],
   "source": [
    "def getK(utilities, user_choice, conv_rate):\n",
    "\n",
    "    def func(x):\n",
    "        \n",
    "        total = 0\n",
    "        \n",
    "        for key in utilities:\n",
    "            if not key == user_choice:\n",
    "                total = total + math.exp(utilities[key]*x)\n",
    "            \n",
    "        return total - (math.exp(5)/(1 - conv_rate/100) - math.exp(5))\n",
    "\n",
    "    if conv_rate == 0:\n",
    "        return float('-inf')\n",
    "    \n",
    "    sol = optimize.root_scalar(func, bracket=[0,10.], method='brentq')\n",
    "    x = sol.root\n",
    "\n",
    "    return x"
   ]
  },
  {
   "cell_type": "code",
   "execution_count": 374,
   "id": "3886d6a3-0565-4d5e-828c-cd96297bf51b",
   "metadata": {},
   "outputs": [],
   "source": [
    "def getUtilities(advertisement, userChoice, decay_rate, conv_rate = -1):\n",
    "\n",
    "    utilities = {userChoice: CHOICE_UTILITY}\n",
    "\n",
    "    for index, d in enumerate(advertisement):\n",
    "        if not d in utilities:\n",
    "            utility = similarities[str(userChoice)].loc[d]*CHOICE_UTILITY/(decay_rate**index) \n",
    "            utilities[d] = utility \n",
    "        \n",
    "    if not conv_rate == -1:\n",
    "        k = getK(utilities, userChoice, conv_rate)\n",
    "        for key in utilities:\n",
    "            if not key == userChoice:\n",
    "                utilities[key] = utilities[key] * k\n",
    "        \n",
    "    return utilities"
   ]
  },
  {
   "cell_type": "code",
   "execution_count": 282,
   "id": "05667bf7-f1cc-4d06-a5c7-69f725ab5cb6",
   "metadata": {},
   "outputs": [],
   "source": [
    "def getProbabilities(utilities):\n",
    "    \n",
    "    elSum = 0\n",
    "    probabilities = {}\n",
    "    \n",
    "    for uKey in utilities:\n",
    "        elSum = elSum + math.exp(utilities[uKey])\n",
    "    \n",
    "    for uKey in utilities:\n",
    "        probabilities[uKey] = math.exp(utilities[uKey])/elSum\n",
    "        \n",
    "    return probabilities"
   ]
  },
  {
   "cell_type": "code",
   "execution_count": 283,
   "id": "811b74aa-1844-43f0-9128-cdeb8bace5ba",
   "metadata": {},
   "outputs": [],
   "source": [
    "def getSustainableForDistrict(district, k, dataframe, column):\n",
    "    similaritiesToDistrict = similarities[str(district)].sort_values(ascending=False)\n",
    "    sustainableItems = dataframe.sort_values(by=column, ascending=True)['district_c'].head(4).tolist()\n",
    "\n",
    "    sustainableAd = []\n",
    "    for index, row in similaritiesToDistrict.items():\n",
    "        if index != district:\n",
    "            if index in sustainableItems:\n",
    "                sustainableAd.append(index)\n",
    "            if len(sustainableAd) == k:\n",
    "                return sustainableAd\n",
    "    return sustainableAd"
   ]
  },
  {
   "cell_type": "code",
   "execution_count": 284,
   "id": "713d980c-adce-41e3-bbe3-30755e2b4878",
   "metadata": {},
   "outputs": [],
   "source": [
    "def getSusCapacityForDistrict(district, k, dataframe, column):\n",
    "    similaritiesToDistrict = similarities[str(district)].sort_values(ascending=False)\n",
    "    sustainableItems = dataframe.sort_values(by=\"Rank\", ascending=False)['district_c'].head(4).tolist()\n",
    "\n",
    "    sustainableAd = []\n",
    "    for index, row in similaritiesToDistrict.items():\n",
    "        if index != district:\n",
    "            if index in sustainableItems:\n",
    "                sustainableAd.append(index)\n",
    "            if len(sustainableAd) == k:\n",
    "                return sustainableAd\n",
    "    return sustainableAd"
   ]
  },
  {
   "cell_type": "code",
   "execution_count": 285,
   "id": "5a78af9b-b753-41ad-b2f6-daff7110615a",
   "metadata": {},
   "outputs": [],
   "source": [
    "def getMeanAndStandardDeviation(year, month, district_c):\n",
    "    filteredDf = dataForPresences[(dataForPresences[\"Year\"] == year) & (dataForPresences[\"Month\"] == month) & (dataForPresences[\"district_c\"] == district_c ) ]\n",
    "    filteredDf[\"AverageStay\"] = filteredDf[\"Present\"] / filteredDf[\"Arrivals\"]\n",
    "    filteredDf.replace([np.inf, -np.inf], 0, inplace=True)\n",
    "    return [filteredDf[\"AverageStay\"].mean(), filteredDf[\"AverageStay\"].std()]"
   ]
  },
  {
   "cell_type": "markdown",
   "id": "c723e8f2-4fca-4d15-ac91-df642079f907",
   "metadata": {},
   "source": [
    "## 4. Run simulation functions"
   ]
  },
  {
   "cell_type": "code",
   "execution_count": 571,
   "id": "e4303c45-5fb6-4175-9575-e720b38f6b2b",
   "metadata": {},
   "outputs": [],
   "source": [
    "districtsRankedCapacity = pd.read_csv(\"../data/districts_ranked.csv\")"
   ]
  },
  {
   "cell_type": "code",
   "execution_count": 572,
   "id": "94bd5c32-31bc-47cd-b02f-d5387f4c2104",
   "metadata": {},
   "outputs": [],
   "source": [
    "districts = gp.read_file('../data/geo_district_df.shp')"
   ]
  },
  {
   "cell_type": "code",
   "execution_count": 573,
   "id": "0b68ce6f-6738-4cd7-8e7d-bbda4893a858",
   "metadata": {},
   "outputs": [],
   "source": [
    "districtsRankedCapacity =  districtsRankedCapacity.merge(districts[[\"district_c\", \"beds\"]], on='district_c',\n",
    "                                     how=\"left\", suffixes=('', '_y'))"
   ]
  },
  {
   "cell_type": "code",
   "execution_count": 574,
   "id": "a98d4765-48d6-41c2-8c57-39396679c9ae",
   "metadata": {},
   "outputs": [],
   "source": [
    "districtsRankedCapacity[\"freeBeds\"] = districtsRankedCapacity[\"beds\"] - districtsRankedCapacity[\"Present\"] / 365 "
   ]
  },
  {
   "cell_type": "code",
   "execution_count": 575,
   "id": "a7260da5-f08c-43e9-988e-a63e00be333a",
   "metadata": {},
   "outputs": [],
   "source": [
    "districtsRankedCapacity['Rank'] = districtsRankedCapacity.groupby('Year')['freeBeds'].rank(ascending=True)"
   ]
  },
  {
   "cell_type": "code",
   "execution_count": 576,
   "id": "98a5dab7-a818-4907-92bc-b479068c4cec",
   "metadata": {},
   "outputs": [],
   "source": [
    "districtsRankedCapacity = districtsRankedCapacity.round(2)"
   ]
  },
  {
   "cell_type": "code",
   "execution_count": 577,
   "id": "8aa2bc53-504d-4300-81f8-cfa9898005b2",
   "metadata": {},
   "outputs": [],
   "source": [
    "districtsRankedCapacity.to_csv(\"../data/districts_ranked_capacity.csv\")"
   ]
  },
  {
   "cell_type": "code",
   "execution_count": 578,
   "id": "78bcf1be-1efa-44a6-a5ba-f8c14a84c459",
   "metadata": {},
   "outputs": [],
   "source": [
    "def run_capacity(year, conv_rate, k, seen_rate, nationality_filter, decay_rate):\n",
    "    \n",
    "    adDictionary = {}\n",
    "    utilitiesDictionary = {}\n",
    "    probabilitiesDictionary = {}\n",
    "    changedOpinionCount = 0\n",
    "    consumedFromAdvertisementCount = 0\n",
    "\n",
    "\n",
    "    if nationality_filter == ALL_COUNTRIES:\n",
    "\n",
    "        arrivalCounts = pd.read_csv(\"../data/districts_ranked_capacity.csv\")\n",
    "        column = 'Arrivals'\n",
    "    \n",
    "    else:\n",
    "\n",
    "        arrivalCounts = pd.read_csv(\"../data/yearly_arrivals_by_nat_and_dist.csv\")\n",
    "        column = nationality_filter\n",
    "\n",
    "    ac = arrivalCounts[arrivalCounts['Year'] == year]\n",
    "\n",
    "    for i in range(1, 9):\n",
    "        adDictionary[i] = getSusCapacityForDistrict(i, k, ac, column)\n",
    "        if not conv_rate == -1:\n",
    "            utilitiesDictionary[i] = getUtilities(adDictionary[i], i, decay_rate, conv_rate)\n",
    "        else:\n",
    "            utilitiesDictionary[i] = getUtilities(adDictionary[i], i, decay_rate)\n",
    "\n",
    "        probabilitiesDictionary[i] = getProbabilities(utilitiesDictionary[i])\n",
    "        \n",
    "    print(probabilitiesDictionary)\n",
    "\n",
    "    # setup stuff\n",
    "    arrivals = pd.read_csv('../data/nationality_long.csv')\n",
    "    arrivals = arrivals[arrivals['Year'] == year]\n",
    "\n",
    "    arrivalsDf = arrivals\n",
    "\n",
    "    # construct a new dataframe\n",
    "    df = pd.DataFrame(columns=['Year', 'Month', 'Season', 'district_c', 'District', 'Arrivals', 'Present'])\n",
    "    # nationalities = ['Austria', 'Benelux countries', 'Germany', 'Italy', 'Other countries', 'Switzerland and Liechtenstein']\n",
    "\n",
    "    filter = 'Arrivals' if nationality_filter == ALL_COUNTRIES else nationality_filter\n",
    "\n",
    "    nonArrivals = arrivalsDf.copy()\n",
    "    arrivalsDf['Arrivals'] = arrivalsDf[filter].multiply(seen_rate/100).round()\n",
    "\n",
    "    nonArrivals['Arrivals'] = nonArrivals['Arrivals'] - arrivalsDf['Arrivals']\n",
    "    \n",
    "    nonArrivals['Ratio'] = arrivalsDf[filter].multiply((100-seen_rate)/100).round() / arrivalsDf['Arrivals']\n",
    "    \n",
    "    nonArrivals['Present'] = nonArrivals['Ratio'] * arrivalsDf['Present']\n",
    "    \n",
    "    # arrivalsDf[[filter]].multiply((1-seen_rate)/100).round()\n",
    "\n",
    "\n",
    "    for i, row in arrivalsDf.iterrows():\n",
    "\n",
    "        probabilities = probabilitiesDictionary[row['district_c']]\n",
    "\n",
    "        elements = list(probabilities.keys())\n",
    "        \n",
    "        choices = random.choices(elements, weights=list(probabilities.values()), k=int(row['Arrivals']))\n",
    "        \n",
    "        changedOpinion = sum(map(lambda c : c != row['district_c'], choices))\n",
    "        changedOpinionCount = changedOpinionCount + changedOpinion\n",
    "        \n",
    "        consumedFromAdvertisement = sum(map(lambda c : c in elements, choices))\n",
    "        consumedFromAdvertisementCount = consumedFromAdvertisementCount + consumedFromAdvertisement\n",
    "        \n",
    "        start = [row['Year'], row['Month'], row['Season']]\n",
    "    \n",
    "        s_row = pd.Series(start + [nonArrivals.loc[i, 'district_c']] + [district_code_map[nonArrivals.loc[i, 'district_c']]] + [nonArrivals.loc[i, \"Arrivals\"]] + [nonArrivals.loc[i, \"Present\"]], index=df.columns)\n",
    "        df = df.append(s_row,ignore_index=True)\n",
    "        \n",
    "        results = getMeanAndStandardDeviation(row['Year'], row['Month'], row['district_c'])\n",
    "        mean = results[0]\n",
    "        std = results[1]\n",
    "        \n",
    "        simulatedPresences = np.random.normal(mean, std, int(row['Arrivals']))\n",
    "\n",
    "        for dist in range(1, 9):\n",
    "\n",
    "            arrivalsToDistrict = choices.count(dist)\n",
    "            \n",
    "            presenceArray = simulatedPresences[:arrivalsToDistrict]\n",
    "            simulatedPresences = simulatedPresences[arrivalsToDistrict:]\n",
    "            \n",
    "            sumOfPresences = np.sum(presenceArray)\n",
    "            \n",
    "            s_row = pd.Series(start + [dist] + [district_code_map[dist]] + [arrivalsToDistrict] + [sumOfPresences], index=df.columns)\n",
    "            df = df.append(s_row,ignore_index=True)\n",
    "\n",
    "    # print(df.columns.tolist())\n",
    "    simulatedResults = df.groupby(by=['Year', 'Month', 'Season', 'district_c', 'District']).agg({'Arrivals': 'sum', 'Present': 'sum'}).reset_index()\n",
    "    # print(simulatedResults.columns.tolist())\n",
    "\n",
    "    arrivals2 = pd.read_csv('../data/nationality_trends.csv')\n",
    "    arrivals2 = arrivals2[arrivals2['Year'] == year]\n",
    "    arrivals2 = arrivals2.groupby(by=['Year', 'Month', 'Season', 'district_c']).sum().reset_index()\n",
    "\n",
    "    arrivals2 = arrivals2.merge(simulatedResults, how='inner', on=[\"Year\", \"Month\", \"district_c\"], suffixes=(\"\", \"_sim\"))\n",
    "    arrivals2 = arrivals2.drop(['Season_sim'], axis = 1)\n",
    "    arrivals2['Diff'] = arrivals2['Arrivals_sim'] - arrivals2['Arrivals']\n",
    "    \n",
    "    #arrivals2['sim_present'] = arrivals2['Arrivals_sim'] * 4.63335435\n",
    "    \n",
    "#     for \n",
    "    \n",
    "#     [mean, std] = getMeanAndStandardDeviation(year, month, district_c)\n",
    "\n",
    "    # print(arrivals2.columns.tolist())\n",
    "    \n",
    "    arrivals2['sim_present'] = arrivals2['Present_sim']\n",
    "    \n",
    "    return [arrivals2, changedOpinionCount, consumedFromAdvertisementCount]\n",
    "\n",
    "    # st.session_state['comparable'] = True\n",
    "    # st.session_state.nclick += 1\n",
    "    # st.session_state.arrivals_sim = arrivals2\n",
    "    # st.session_state.executed_simulation = st.session_state.selectbox_symtype\n",
    "    # st.session_state.mode = SIMULATION\n",
    "    # st.session_state.strategy = SIM_TYPE_SUSTAINABLE"
   ]
  },
  {
   "cell_type": "code",
   "execution_count": 458,
   "id": "bac4b7ee-5e8c-438c-ae26-cb47ad398fff",
   "metadata": {},
   "outputs": [],
   "source": [
    "def run_sustainable(year, conv_rate, k, seen_rate, nationality_filter, decay_rate):\n",
    "    \n",
    "    adDictionary = {}\n",
    "    utilitiesDictionary = {}\n",
    "    probabilitiesDictionary = {}\n",
    "    changedOpinionCount = 0\n",
    "    consumedFromAdvertisementCount = 0\n",
    "\n",
    "\n",
    "    if nationality_filter == ALL_COUNTRIES:\n",
    "\n",
    "        arrivalCounts = pd.read_csv(\"../data/districts_ranked.csv\")\n",
    "        column = 'Arrivals'\n",
    "    \n",
    "    else:\n",
    "\n",
    "        arrivalCounts = pd.read_csv(\"../data/yearly_arrivals_by_nat_and_dist.csv\")\n",
    "        column = nationality_filter\n",
    "\n",
    "    ac = arrivalCounts[arrivalCounts['Year'] == year]\n",
    "\n",
    "    for i in range(1, 9):\n",
    "        adDictionary[i] = getSustainableForDistrict(i, k, ac, column)\n",
    "        if not conv_rate == -1:\n",
    "            utilitiesDictionary[i] = getUtilities(adDictionary[i], i, decay_rate, conv_rate)\n",
    "        else:\n",
    "            utilitiesDictionary[i] = getUtilities(adDictionary[i], i, decay_rate)\n",
    "\n",
    "        probabilitiesDictionary[i] = getProbabilities(utilitiesDictionary[i])\n",
    "        \n",
    "    print(probabilitiesDictionary)\n",
    "\n",
    "    # setup stuff\n",
    "    arrivals = pd.read_csv('../data/nationality_long.csv')\n",
    "    arrivals = arrivals[arrivals['Year'] == year]\n",
    "\n",
    "    arrivalsDf = arrivals\n",
    "\n",
    "    # construct a new dataframe\n",
    "    df = pd.DataFrame(columns=['Year', 'Month', 'Season', 'district_c', 'District', 'Arrivals', 'Present'])\n",
    "    # nationalities = ['Austria', 'Benelux countries', 'Germany', 'Italy', 'Other countries', 'Switzerland and Liechtenstein']\n",
    "\n",
    "    filter = 'Arrivals' if nationality_filter == ALL_COUNTRIES else nationality_filter\n",
    "\n",
    "    nonArrivals = arrivalsDf.copy()\n",
    "    arrivalsDf['Arrivals'] = arrivalsDf[filter].multiply(seen_rate/100).round()\n",
    "\n",
    "    nonArrivals['Arrivals'] = nonArrivals['Arrivals'] - arrivalsDf['Arrivals']\n",
    "    \n",
    "    nonArrivals['Ratio'] = arrivalsDf[filter].multiply((100-seen_rate)/100).round() / arrivalsDf['Arrivals']\n",
    "    \n",
    "    nonArrivals['Present'] = nonArrivals['Ratio'] * arrivalsDf['Present']\n",
    "    \n",
    "    # arrivalsDf[[filter]].multiply((1-seen_rate)/100).round()\n",
    "\n",
    "\n",
    "    for i, row in arrivalsDf.iterrows():\n",
    "\n",
    "        probabilities = probabilitiesDictionary[row['district_c']]\n",
    "\n",
    "        elements = list(probabilities.keys())\n",
    "        \n",
    "        choices = random.choices(elements, weights=list(probabilities.values()), k=int(row['Arrivals']))\n",
    "        \n",
    "        changedOpinion = sum(map(lambda c : c != row['district_c'], choices))\n",
    "        changedOpinionCount = changedOpinionCount + changedOpinion\n",
    "        \n",
    "        # consumedFromAdvertisement = sum(map(lambda c : c in elements, choices))\n",
    "        # consumedFromAdvertisementCount = consumedFromAdvertisementCount + consumedFromAdvertisement\n",
    "        \n",
    "        start = [row['Year'], row['Month'], row['Season']]\n",
    "    \n",
    "        s_row = pd.Series(start + [nonArrivals.loc[i, 'district_c']] + [district_code_map[nonArrivals.loc[i, 'district_c']]] + [nonArrivals.loc[i, \"Arrivals\"]] + [nonArrivals.loc[i, \"Present\"]], index=df.columns)\n",
    "        df = df.append(s_row,ignore_index=True)\n",
    "        \n",
    "        results = getMeanAndStandardDeviation(row['Year'], row['Month'], row['district_c'])\n",
    "        mean = results[0]\n",
    "        std = results[1]\n",
    "        \n",
    "        simulatedPresences = np.random.normal(mean, std, int(row['Arrivals']))\n",
    "\n",
    "        for dist in range(1, 9):\n",
    "\n",
    "            arrivalsToDistrict = choices.count(dist)\n",
    "            \n",
    "            presenceArray = simulatedPresences[:arrivalsToDistrict]\n",
    "            simulatedPresences = simulatedPresences[arrivalsToDistrict:]\n",
    "            \n",
    "            sumOfPresences = np.sum(presenceArray)\n",
    "            \n",
    "            s_row = pd.Series(start + [dist] + [district_code_map[dist]] + [arrivalsToDistrict] + [sumOfPresences], index=df.columns)\n",
    "            df = df.append(s_row,ignore_index=True)\n",
    "\n",
    "    # print(df.columns.tolist())\n",
    "    simulatedResults = df.groupby(by=['Year', 'Month', 'Season', 'district_c', 'District']).agg({'Arrivals': 'sum', 'Present': 'sum'}).reset_index()\n",
    "    # print(simulatedResults.columns.tolist())\n",
    "\n",
    "    arrivals2 = pd.read_csv('../data/nationality_trends.csv')\n",
    "    arrivals2 = arrivals2[arrivals2['Year'] == year]\n",
    "    arrivals2 = arrivals2.groupby(by=['Year', 'Month', 'Season', 'district_c']).sum().reset_index()\n",
    "\n",
    "    arrivals2 = arrivals2.merge(simulatedResults, how='inner', on=[\"Year\", \"Month\", \"district_c\"], suffixes=(\"\", \"_sim\"))\n",
    "    arrivals2 = arrivals2.drop(['Season_sim'], axis = 1)\n",
    "    arrivals2['Diff'] = arrivals2['Arrivals_sim'] - arrivals2['Arrivals']\n",
    "    \n",
    "    #arrivals2['sim_present'] = arrivals2['Arrivals_sim'] * 4.63335435\n",
    "    \n",
    "#     for \n",
    "    \n",
    "#     [mean, std] = getMeanAndStandardDeviation(year, month, district_c)\n",
    "\n",
    "    # print(arrivals2.columns.tolist())\n",
    "    \n",
    "    arrivals2['sim_present'] = arrivals2['Present_sim']\n",
    "    \n",
    "    return [arrivals2, changedOpinionCount, consumedFromAdvertisementCount]"
   ]
  },
  {
   "cell_type": "code",
   "execution_count": 620,
   "id": "5da16d3d-5d6e-4fef-9086-90ce013a182d",
   "metadata": {},
   "outputs": [],
   "source": [
    "def run_random(year, n, conv_rate, seen_rate, nationality_filter, decay_rate):\n",
    "\n",
    "    advertisementMap = {}\n",
    "    utilityMap = {}\n",
    "    probabilityMap = {}\n",
    "    \n",
    "    changedOpinionCount = 0\n",
    "    consumedFromAdvertisementCount = 0\n",
    "\n",
    "    items = list(range(1, 9))\n",
    "    \n",
    "    for i in items: \n",
    "        advertisementMap[i] = {}\n",
    "        elements = list(range(1, 9))\n",
    "        elements.remove(i)\n",
    "        for index, adCombination in enumerate(itertools.combinations(elements, n)):\n",
    "            ad = list(adCombination)\n",
    "            advertisementMap[i][index] = ad\n",
    "        \n",
    "    for i in range(1, 9):\n",
    "        utilityMap[i] = {}\n",
    "        probabilityMap[i] = {}\n",
    "        for key in advertisementMap[i].keys():\n",
    "            if not conv_rate == -1:\n",
    "                utilities = getUtilities(advertisementMap[i][key], i, decay_rate, conv_rate)\n",
    "            else:\n",
    "                utilities = getUtilities(advertisementMap[i][key], i, decay_rate)\n",
    "            utilityMap[i][key] = utilities\n",
    "            probabilities = getProbabilities(utilities)\n",
    "            probabilityMap[i][key] = probabilities \n",
    "        \n",
    "\n",
    "    # setup stuff\n",
    "    arrivals = pd.read_csv('../data/nationality_long.csv')\n",
    "    arrivals = arrivals[arrivals['Year'] == year]\n",
    "\n",
    "    arrivalsDf = arrivals\n",
    "\n",
    "    \n",
    "    # construct a new dataframe\n",
    "    df = pd.DataFrame(columns=['Year', 'Month', 'Season', 'district_c', 'District', 'Arrivals', 'Present'])\n",
    "\n",
    "    filter = 'Arrivals' if nationality_filter == ALL_COUNTRIES else nationality_filter\n",
    "\n",
    "    nonArrivals = arrivalsDf.copy()\n",
    "    \n",
    "    arrivalsDf['Arrivals'] = arrivalsDf[filter].multiply(seen_rate/100).round()\n",
    "\n",
    "    nonArrivals['Arrivals'] = nonArrivals['Arrivals'] - arrivalsDf['Arrivals']\n",
    "\n",
    "    \n",
    "    nonArrivals['Ratio'] = arrivalsDf[filter].multiply((100-seen_rate)/100).round() / arrivalsDf['Arrivals']\n",
    "    \n",
    "    nonArrivals['Present'] = nonArrivals['Ratio'] * arrivalsDf['Present']\n",
    "\n",
    "\n",
    "\n",
    "    for i, row in arrivalsDf.iterrows():\n",
    "\n",
    "        choices = []\n",
    "\n",
    "        adNumberChoices = random.choices(list(utilityMap[row['district_c']].keys()), k = int(row['Arrivals']) )\n",
    "        \n",
    "        for x in range(int(row['Arrivals'])):\n",
    "\n",
    "            adNumber = adNumberChoices[x]#random.choice(list(utilityMap[row['district_c']].keys()))\n",
    "            probabilities = probabilityMap[row['district_c']][adNumber]\n",
    "            elements = list(probabilities.keys())\n",
    "\n",
    "            choice = random.choices(elements, weights=list(probabilities.values()), k=1)\n",
    "\n",
    "            choices.append(choice[0])\n",
    "        \n",
    "        start = [row['Year'], row['Month'], row['Season']]\n",
    "\n",
    "        a1 = [nonArrivals.loc[i, 'district_c']]\n",
    "        a2 = [district_code_map[nonArrivals.loc[i, 'district_c']]]\n",
    "        a3 = [nonArrivals.loc[i, \"Arrivals\"]]\n",
    "        \n",
    "        changedOpinion = sum(map(lambda c : c != row['district_c'], choices))\n",
    "        changedOpinionCount = changedOpinionCount + changedOpinion\n",
    "        consumedFromAdvertisement = sum(map(lambda c :  c != row['district_c'] or len(elements) == n, choices))\n",
    "        consumedFromAdvertisementCount = consumedFromAdvertisementCount + consumedFromAdvertisement\n",
    "    \n",
    "        s_row = pd.Series(start + a1 + a2 + a3 + [nonArrivals.loc[i, 'Present']], index=df.columns)\n",
    "        df = df.append(s_row,ignore_index=True)\n",
    "        \n",
    "        results = getMeanAndStandardDeviation(row['Year'], row['Month'], row['district_c'])\n",
    "        mean = results[0]\n",
    "        std = results[1]\n",
    "        \n",
    "        simulatedPresences = np.random.normal(mean, std, int(row['Arrivals']))\n",
    "\n",
    "        for dist in range(1, 9):\n",
    "            \n",
    "            arrivalsToDistrict = choices.count(dist)\n",
    "            \n",
    "            presenceArray = simulatedPresences[:arrivalsToDistrict]\n",
    "            simulatedPresences = simulatedPresences[arrivalsToDistrict:]\n",
    "            \n",
    "            sumOfPresences = np.sum(presenceArray)\n",
    "\n",
    "            s_row = pd.Series(start + [dist] + [district_code_map[dist]] + [arrivalsToDistrict] + [sumOfPresences], index=df.columns)\n",
    "            df = df.append(s_row,ignore_index=True)\n",
    "\n",
    "    simulatedResults = df.groupby(by=['Year', 'Month', 'Season', 'district_c', 'District']).agg({'Arrivals': 'sum', 'Present': 'sum'}).reset_index()\n",
    "   \n",
    "    # print(df.groupby(by=['Year', 'Month', 'Season', 'district_c', 'District']).sum())\n",
    "\n",
    "    simulatedResults.to_csv('../data/sim.csv', index=False)\n",
    "\n",
    "    arrivals2 = pd.read_csv('../data/nationality_trends.csv')\n",
    "    arrivals2 = arrivals2[arrivals2['Year'] == year] \n",
    "    arrivals2 = arrivals2.groupby(by=['Year', 'Month', 'Season', 'district_c']).sum().reset_index()\n",
    "\n",
    "    arrivals2 = arrivals2.merge(simulatedResults, how='inner', on=[\"Year\", \"Month\", \"district_c\"], suffixes=(\"\", \"_sim\"))\n",
    "    arrivals2 = arrivals2.drop(['Season_sim'], axis = 1)\n",
    "    arrivals2['Diff'] = arrivals2['Arrivals_sim'] - arrivals2['Arrivals']\n",
    "    \n",
    "    arrivals2['sim_present'] = arrivals2['Present_sim']\n",
    "    \n",
    "    return  [arrivals2, changedOpinionCount, consumedFromAdvertisementCount] #arrivals2 #changedOpinionCount\n",
    "\n",
    "    # st.session_state['comparable'] = True\n",
    "    # st.session_state.nclick += 1\n",
    "    # st.session_state.arrivals_sim = arrivals2\n",
    "    # st.session_state.executed_simulation = st.session_state.selectbox_symtype\n",
    "    # st.session_state.mode = SIMULATION\n",
    "    # st.session_state.strategy = SIM_TYPE_RANDOMN\n"
   ]
  },
  {
   "cell_type": "code",
   "execution_count": 624,
   "id": "c258bef8-b8b1-44c5-905d-03f6224278c2",
   "metadata": {},
   "outputs": [],
   "source": [
    "def on_run_simulation_btn_click(year, type, n, conv_rate, seen_rate, multiselect, nationality_filter, decay_rate):\n",
    "    \n",
    "    changedOpinionCount = 0\n",
    "    consumedFromAdvertisementCount = 0\n",
    "\n",
    "    if nationality_filter == ALL_COUNTRIES:\n",
    "\n",
    "        arrivalCounts = pd.read_csv(\"../data/districts_ranked.csv\")\n",
    "        ac = arrivalCounts[arrivalCounts['Year'] == year]\n",
    "        \n",
    "        if type == SIM_TYPE_TOPN:\n",
    "            ad = ac['district_c'].head(n).tolist()\n",
    "        elif type == SIM_TYPE_BOTTOMN:\n",
    "            ad = ac.sort_values(by='Rank', ascending=False)['district_c'].head(n).tolist()\n",
    "        elif type == SIM_TYPE_CUSTOM:\n",
    "            ad = list(map(codeLoopup, multiselect))\n",
    "        else:\n",
    "            ad = random.sample(range(1, 9), n)\n",
    "    \n",
    "    else:\n",
    "\n",
    "        arrivalCounts = pd.read_csv(\"../data/yearly_arrivals_by_nat_and_dist.csv\")\n",
    "        ac = arrivalCounts[arrivalCounts['Year'] == year]\n",
    "        \n",
    "        if type == SIM_TYPE_TOPN:\n",
    "            ad = ac.sort_values(by=nationality_filter, ascending=False)['district_c'].head(n).tolist()\n",
    "        elif type == SIM_TYPE_BOTTOMN:\n",
    "            ad = ac.sort_values(by=nationality_filter, ascending=True)['district_c'].head(n).tolist()\n",
    "        elif type == SIM_TYPE_CUSTOM:\n",
    "            ad = list(map(codeLoopup, multiselect))\n",
    "        else:\n",
    "            ad = random.sample(range(1, 9), n)\n",
    "\n",
    "\n",
    "    # setup stuff\n",
    "    arrivals = pd.read_csv('../data/nationality_long.csv')\n",
    "    arrivals = arrivals[arrivals['Year'] == year]\n",
    "\n",
    "    arrivalsDf = arrivals\n",
    "\n",
    "    # construct a new dataframe\n",
    "    df = pd.DataFrame(columns=['Year', 'Month', 'Season', 'district_c', 'District', 'Arrivals', 'Present'])\n",
    "\n",
    "    filter = 'Arrivals' if nationality_filter == ALL_COUNTRIES else nationality_filter\n",
    "\n",
    "    nonArrivals = arrivalsDf.copy()\n",
    "    \n",
    "    arrivalsDf['Arrivals'] = arrivalsDf[filter].multiply(seen_rate/100).round()\n",
    "\n",
    "    nonArrivals['Arrivals'] = nonArrivals['Arrivals'] - arrivalsDf['Arrivals']\n",
    "    \n",
    "    nonArrivals['Ratio'] = arrivalsDf[filter].multiply((100-seen_rate)/100).round() / arrivalsDf['Arrivals']\n",
    "    \n",
    "    nonArrivals['Present'] = nonArrivals['Ratio'] * arrivalsDf['Present']\n",
    "\n",
    "    utilityMap = {}\n",
    "    for index in range(1, 9):\n",
    "        if not conv_rate == -1:\n",
    "            utilityMap[index] = getUtilities(ad, index, decay_rate, conv_rate)\n",
    "        else:\n",
    "            utilityMap[index] = getUtilities(ad, index, decay_rate)\n",
    "\n",
    "\n",
    "    for i, row in arrivalsDf.iterrows():\n",
    "\n",
    "        utilities = utilityMap[row['district_c']]\n",
    "\n",
    "        probabilities = getProbabilities(utilities)\n",
    "\n",
    "        elements = list(probabilities.keys())\n",
    "        \n",
    "        choices = random.choices(elements, weights=list(probabilities.values()), k=int(row['Arrivals']))\n",
    "        \n",
    "        changedOpinion = sum(map(lambda c : c != row['district_c'], choices))\n",
    "        changedOpinionCount = changedOpinionCount + changedOpinion\n",
    "        \n",
    "        consumedFromAdvertisement = sum(map(lambda c : c != row['district_c'] or len(elements) == n, choices))\n",
    "        consumedFromAdvertisementCount = consumedFromAdvertisementCount + consumedFromAdvertisement\n",
    "        \n",
    "        start = [row['Year'], row['Month'], row['Season']]\n",
    "    \n",
    "        s_row = pd.Series(start + [nonArrivals.loc[i, 'district_c']] + [district_code_map[nonArrivals.loc[i, 'district_c']]] + [nonArrivals.loc[i, \"Arrivals\"]] + [nonArrivals.loc[i, \"Present\"]], index=df.columns)\n",
    "        df = df.append(s_row,ignore_index=True)\n",
    "        \n",
    "        results = getMeanAndStandardDeviation(row['Year'], row['Month'], row['district_c'])\n",
    "        mean = results[0]\n",
    "        std = results[1]\n",
    "        \n",
    "        simulatedPresences = np.random.normal(mean, std, int(row['Arrivals']))\n",
    "        \n",
    "        # print(rowmean, std)\n",
    "\n",
    "        for dist in range(1, 9):\n",
    "            \n",
    "            arrivalsToDistrict = choices.count(dist)\n",
    "            \n",
    "            presenceArray = simulatedPresences[:arrivalsToDistrict]\n",
    "            simulatedPresences = simulatedPresences[arrivalsToDistrict:]\n",
    "            \n",
    "            sumOfPresences = np.sum(presenceArray)\n",
    "\n",
    "            s_row = pd.Series(start + [dist] + [district_code_map[dist]] + [arrivalsToDistrict] + [sumOfPresences], index=df.columns)\n",
    "            df = df.append(s_row,ignore_index=True)\n",
    "\n",
    "    simulatedResults = df.groupby(by=['Year', 'Month', 'Season', 'district_c', 'District']).agg({'Arrivals': 'sum', 'Present': 'sum'}).reset_index()\n",
    "   \n",
    "    # print(\"sim: \", simulatedResults.columns)\n",
    "    # print(\"df: \", df.columns)\n",
    "    # print(df)\n",
    "\n",
    "    simulatedResults.to_csv('../data/sim.csv', index=False)\n",
    "    \n",
    "    # simulatedResults\n",
    "\n",
    "    arrivals2 = pd.read_csv('../data/nationality_trends.csv')\n",
    "    arrivals2 = arrivals2[arrivals2['Year'] == year]\n",
    "    arrivals2 = arrivals2.groupby(by=['Year', 'Month', 'Season', 'district_c']).sum().reset_index()\n",
    "\n",
    "    arrivals2 = arrivals2.merge(simulatedResults, how='inner', on=[\"Year\", \"Month\", \"district_c\"], suffixes=(\"\", \"_sim\"))\n",
    "    arrivals2 = arrivals2.drop(['Season_sim'], axis = 1)\n",
    "    arrivals2['Diff'] = arrivals2['Arrivals_sim'] - arrivals2['Arrivals']\n",
    "    arrivals2['sim_present'] = arrivals2['Present_sim'] #* 4.63335435\n",
    "    # arrivals2 = arrivals2['Arrivals_sim'] * 4.63335435\n",
    "    \n",
    "    return [arrivals2, changedOpinionCount, consumedFromAdvertisementCount] #arrivals2#changedOpinionCount#(arrivals2, changedOpinionCount)\n"
   ]
  },
  {
   "cell_type": "markdown",
   "id": "857131bb-8649-4695-ae4f-c2195d6b7601",
   "metadata": {
    "tags": []
   },
   "source": [
    "## 5. Simulation"
   ]
  },
  {
   "cell_type": "code",
   "execution_count": null,
   "id": "471b5e60-7786-459b-a405-9cc8e0de4219",
   "metadata": {},
   "outputs": [],
   "source": [
    "results = {}\n",
    "\n",
    "for n in range(1, 4):\n",
    "    \n",
    "    results[n] = {}\n",
    "    \n",
    "    for i in range(1, 6):\n",
    "        \n",
    "        print(n, i)\n",
    "        \n",
    "        #run_sustainable2(year, conv_rate, k, seen_rate, nationality_filter, decay_rate):\n",
    "        results[n][i] = run_capacity(2019, -1, n, 100, ALL_COUNTRIES, 1.2)\n",
    "        \n",
    "        # results[n][i] = on_run_simulation_btn_click(2019, SIM_TYPE_BOTTOMN, n, -1, 100, [], ALL_COUNTRIES, 1.2)\n",
    "        \n"
   ]
  },
  {
   "cell_type": "code",
   "execution_count": null,
   "id": "3094de79-b0c7-4cf8-8b86-096ed8fd37fa",
   "metadata": {},
   "outputs": [],
   "source": [
    "results"
   ]
  },
  {
   "cell_type": "code",
   "execution_count": 581,
   "id": "0943bf8b-45e2-4cf4-94d0-e78001f9656e",
   "metadata": {},
   "outputs": [
    {
     "name": "stdout",
     "output_type": "stream",
     "text": [
      "[[0.39424529406389563, 0.4777342059248691, 0.44530780464971337, 0.19723547963091703], [0.39775125280492274, 0.4742364919369596, 0.44332214833558, 0.19881823017860653], [0.3920025889398041, 0.4646991796146586, 0.44345520173539626, 0.22468457931233313]]\n"
     ]
    }
   ],
   "source": [
    "table = []\n",
    "\n",
    "for n in range(1, 4):\n",
    "\n",
    "    arrivalsSum = 0\n",
    "    avgPresentSum = 0\n",
    "    avgPresentPopSum = 0\n",
    "    avgPresentBedSum = 0\n",
    "    \n",
    "    for i in range(1, 6):\n",
    "        \n",
    "            # print(n, i)\n",
    "        \n",
    "            #arrivalsSimulated = on_run_simulation_btn_click(2019, SIM_TYPE_BOTTOMN, n, -1, 100, [], ALL_COUNTRIES, 1.2)\n",
    "            arrivalsSimulated = results[n][i][0]#run_random(2019, n, -1, 100, ALL_COUNTRIES, 1.2)\n",
    "            #arrivalsSimulated = run_sustainable(2019, -1, n, 100, ALL_COUNTRIES, 1.2)\n",
    "        \n",
    "            districts = gp.read_file('../data/geo_district_df.shp')\n",
    "\n",
    "            yearlyDf = arrivalsSimulated[arrivalsSimulated['Year'] == 2019]\n",
    "\n",
    "            yearlyDf = yearlyDf.groupby(['district_c']).sum()\n",
    "\n",
    "            yearlyDf = districts.merge(yearlyDf, on='district_c',\n",
    "                                     how=\"inner\", suffixes=('', '_y'))\n",
    "\n",
    "            yearlyDf[\"AvgPresentSim\"] = yearlyDf[\"sim_present\"] / 365\n",
    "            yearlyDf[\"AvgPresentToBedsSim\"] = yearlyDf[\"AvgPresentSim\"] / yearlyDf[\"beds\"]\n",
    "            yearlyDf[\"AvgPresentToPopSim\"] = yearlyDf[\"AvgPresentSim\"] / yearlyDf[\"population\"]\n",
    "\n",
    "\n",
    "            yearlyDf[\"AvgPresent\"] = yearlyDf[\"Present\"] / 365\n",
    "            yearlyDf[\"AvgPresentToBeds\"] = yearlyDf[\"AvgPresent\"] / yearlyDf[\"beds\"]\n",
    "            yearlyDf[\"AvgPresentToPop\"] = yearlyDf[\"AvgPresent\"] / yearlyDf[\"population\"]\n",
    "\n",
    "            # #st.write(np.array(yearlyDf['avgPop'].values.tolist()))\n",
    "            \n",
    "            arrivals = gini_coefficient(np.array(yearlyDf['Arrivals_sim'].values.tolist()))\n",
    "            avgPresent = gini_coefficient(np.array(yearlyDf['AvgPresentSim'].values.tolist()))\n",
    "            avgPresentPop = gini_coefficient(np.array(yearlyDf['AvgPresentToPopSim'].values.tolist()))\n",
    "            avgPresentBeds = gini_coefficient(np.array(yearlyDf['AvgPresentToBedsSim'].values.tolist()))\n",
    "            \n",
    "    giniArrivals = arrivalsSum / 5\n",
    "    giniAvgPresent = avgPresentSum / 5\n",
    "    giniAvgPresentPop = avgPresentPopSum / 5\n",
    "    giniAvgPresentBed = avgPresentBedSum / 5\n",
    "    \n",
    "    table.append([arrivals, avgPresent, avgPresentPop, avgPresentBeds])\n",
    "    \n",
    "            \n",
    "print(table)\n"
   ]
  },
  {
   "cell_type": "code",
   "execution_count": 582,
   "id": "472a8a0c-4361-4073-9924-be254f8d7d58",
   "metadata": {},
   "outputs": [],
   "source": [
    "capacityNTable = pd.DataFrame(table, index = list(range(1, 4)), columns =['Arrivals', 'AvgPresent', 'AvgPresentPop', 'AvgPresentBeds'])"
   ]
  },
  {
   "cell_type": "code",
   "execution_count": 583,
   "id": "3780e260-becc-4cd0-a630-e42556ad0479",
   "metadata": {},
   "outputs": [],
   "source": [
    "capacityNTable.to_csv('../data/capacityN.csv')"
   ]
  },
  {
   "cell_type": "code",
   "execution_count": 204,
   "id": "701ba1c2-ce29-4dff-8b3a-49b0bfe35e56",
   "metadata": {},
   "outputs": [],
   "source": [
    "topNTable = pd.DataFrame(table, index = list(range(1, 9)), columns =['Arrivals', 'AvgPresent', 'AvgPresentPop', 'AvgPresentBeds'])"
   ]
  },
  {
   "cell_type": "code",
   "execution_count": 205,
   "id": "744602f7-87a9-406d-9143-39b6729172ae",
   "metadata": {},
   "outputs": [],
   "source": [
    "topNTable.to_csv('../data/topN.csv')"
   ]
  },
  {
   "cell_type": "code",
   "execution_count": 207,
   "id": "b9d8894a-7a38-4f90-8386-29d6c4704ba3",
   "metadata": {},
   "outputs": [],
   "source": [
    "bottomNTable = pd.DataFrame(table, index = list(range(1, 9)), columns =['Arrivals', 'AvgPresent', 'AvgPresentPop', 'AvgPresentBeds'])"
   ]
  },
  {
   "cell_type": "code",
   "execution_count": 208,
   "id": "e4a686ce-9a42-4c96-9f06-8aa542679605",
   "metadata": {},
   "outputs": [],
   "source": [
    "bottomNTable.to_csv('../data/bottomN.csv')"
   ]
  },
  {
   "cell_type": "code",
   "execution_count": 15,
   "id": "2dd86b92-4205-4016-90f2-0a511d38726b",
   "metadata": {},
   "outputs": [],
   "source": [
    "randomNTable = pd.DataFrame(table, index = list(range(1, 8)), columns =['Arrivals', 'AvgPresent', 'AvgPresentPop', 'AvgPresentBeds'])"
   ]
  },
  {
   "cell_type": "code",
   "execution_count": 16,
   "id": "0d877423-f194-4582-a9b1-24b6af814331",
   "metadata": {},
   "outputs": [],
   "source": [
    "randomNTable.to_csv('../data/randomN.csv')"
   ]
  },
  {
   "cell_type": "code",
   "execution_count": 13,
   "id": "5a4875fe-7e7c-421e-9e37-3eda02494b13",
   "metadata": {},
   "outputs": [],
   "source": [
    "sustainableNTable = pd.DataFrame(table, index = list(range(1, 4)), columns =['Arrivals', 'AvgPresent', 'AvgPresentPop', 'AvgPresentBeds'])"
   ]
  },
  {
   "cell_type": "code",
   "execution_count": 14,
   "id": "ac6b413a-e2b9-4580-8354-b0c7baeeba21",
   "metadata": {},
   "outputs": [],
   "source": [
    "sustainableNTable.to_csv('../data/sustainableN.csv')"
   ]
  },
  {
   "cell_type": "code",
   "execution_count": 584,
   "id": "f79fe7d2-39bf-44f6-b413-fb8100462604",
   "metadata": {},
   "outputs": [
    {
     "data": {
      "text/plain": [
       "7704312.0"
      ]
     },
     "execution_count": 584,
     "metadata": {},
     "output_type": "execute_result"
    }
   ],
   "source": [
    "# get number of all arrivals\n",
    "\n",
    "data = pd.read_csv('../data/nationality_long.csv')\n",
    "data = data[data['Year'] == 2019]\n",
    "data = data.groupby(['Year']).sum().reset_index()\n",
    "totalArrivals2019 = data['Arrivals'].loc[0]\n",
    "\n",
    "totalArrivals2019"
   ]
  },
  {
   "cell_type": "code",
   "execution_count": 585,
   "id": "c1e8080c-2d64-45af-beef-374cf86cf7ec",
   "metadata": {},
   "outputs": [],
   "source": [
    "# get arrivals by real arrivals by district\n",
    "\n",
    "averagePopularity = pd.read_csv('../data/nationality_long.csv')\n",
    "averagePopularity = averagePopularity[averagePopularity['Year'] == 2019]\n",
    "averagePopularity = averagePopularity.groupby(['district_c']).sum().reset_index()\n",
    "\n",
    "averagePopularity['Popularity'] = averagePopularity['Arrivals'] / totalArrivals2019"
   ]
  },
  {
   "cell_type": "code",
   "execution_count": 586,
   "id": "d730678c-531a-4a56-b913-28e3c85d0103",
   "metadata": {},
   "outputs": [
    {
     "name": "stdout",
     "output_type": "stream",
     "text": [
      "[0.17910255538519707, 0.18001563255913403, 0.17710364212420188]\n"
     ]
    }
   ],
   "source": [
    "table = []\n",
    "\n",
    "for n in range(1, 4):\n",
    "    \n",
    "    sumArrivals = 0\n",
    "    \n",
    "    for i in range(1, 6):\n",
    "        \n",
    "            #arrivalsSimulated = on_run_simulation_btn_click(2019, SIM_TYPE_BOTTOMN, n, -1, 100, [], ALL_COUNTRIES, 1.2)\n",
    "            arrivalsSimulated = results[n][i][0]#run_random(2019, n, -1, 100, ALL_COUNTRIES, 1.2)\n",
    "            #arrivalsSimulated = run_sustainable(2019, -1, n, 100, ALL_COUNTRIES, 1.2)\n",
    "        \n",
    "            # districts = gp.read_file('../data/geo_district_df.shp')\n",
    "\n",
    "            yearlyDf = arrivalsSimulated[arrivalsSimulated['Year'] == 2019]\n",
    "\n",
    "            yearlyDf = yearlyDf.groupby(['district_c']).sum()\n",
    "            \n",
    "            yearlyDf['Popularity'] = yearlyDf['Arrivals'] / totalArrivals2019\n",
    "            \n",
    "            sumArrivals = sumArrivals + (yearlyDf['Arrivals_sim']*yearlyDf['Popularity']).sum() #np.add(arrivalsSum, np.array(yearlyDf['Arrivals_sim'].values.tolist()))\n",
    "\n",
    "    # divider = np.empty(8)\n",
    "    # divider.fill(int(5*totalArrivals2019))\n",
    "    sumArrivals = sumArrivals / (5*totalArrivals2019)\n",
    "    \n",
    "    table.append(sumArrivals)\n",
    "    \n",
    "            \n",
    "print(table)\n"
   ]
  },
  {
   "cell_type": "code",
   "execution_count": 587,
   "id": "bbcb196c-1006-45ff-92ec-15a6582b570a",
   "metadata": {},
   "outputs": [],
   "source": [
    "capacityNTablePopularity = pd.DataFrame(table, index = list(range(1, 4)))"
   ]
  },
  {
   "cell_type": "code",
   "execution_count": 588,
   "id": "14a32443-aef2-4cf0-9121-9e5e597d4b97",
   "metadata": {},
   "outputs": [],
   "source": [
    "capacityNTablePopularity.to_csv('../data/capacityNPopularity.csv')"
   ]
  },
  {
   "cell_type": "code",
   "execution_count": 43,
   "id": "800f6f45-32d9-45c4-817d-d4e7fb11c0d0",
   "metadata": {},
   "outputs": [],
   "source": [
    "sustainableNTablePopularity = pd.DataFrame(table, index = list(range(1, 9)))"
   ]
  },
  {
   "cell_type": "code",
   "execution_count": 44,
   "id": "9eace226-b573-4f44-b1a5-636d8c027f7e",
   "metadata": {},
   "outputs": [],
   "source": [
    "sustainableNTablePopularity.to_csv('../data/sustainableNPopularity.csv')"
   ]
  },
  {
   "cell_type": "code",
   "execution_count": 36,
   "id": "9502fee2-be3a-496c-b99b-c510ee0e1788",
   "metadata": {},
   "outputs": [],
   "source": [
    "topNTablePopularity = pd.DataFrame(table, index = list(range(1, 9)))"
   ]
  },
  {
   "cell_type": "code",
   "execution_count": 38,
   "id": "16f8c994-f1e7-47f0-af0e-d15ed7e61fbf",
   "metadata": {},
   "outputs": [],
   "source": [
    "topNTablePopularity.to_csv('../data/topNPopularity.csv')"
   ]
  },
  {
   "cell_type": "code",
   "execution_count": 40,
   "id": "44643c70-0890-469d-ae51-5fd621aa297a",
   "metadata": {},
   "outputs": [],
   "source": [
    "bottomNTablePopularity = pd.DataFrame(table, index = list(range(1, 9)))"
   ]
  },
  {
   "cell_type": "code",
   "execution_count": 41,
   "id": "eb4d1316-010d-4b0b-b500-9acd08c9809f",
   "metadata": {},
   "outputs": [],
   "source": [
    "bottomNTablePopularity.to_csv('../data/bottomNPopularity.csv')"
   ]
  },
  {
   "cell_type": "code",
   "execution_count": 20,
   "id": "1ab3606c-4722-48c1-aac4-b7c24f384235",
   "metadata": {},
   "outputs": [],
   "source": [
    "randomNTablePopularity = pd.DataFrame(table, index = list(range(1, 8)))"
   ]
  },
  {
   "cell_type": "code",
   "execution_count": 21,
   "id": "9f68172a-5a84-4993-b25a-b6aa95481e77",
   "metadata": {},
   "outputs": [],
   "source": [
    "randomNTablePopularity.to_csv('../data/randomNPopularity.csv')"
   ]
  },
  {
   "cell_type": "code",
   "execution_count": 589,
   "id": "b1d67a8f-2403-461a-a0bc-380efe804669",
   "metadata": {},
   "outputs": [
    {
     "name": "stdout",
     "output_type": "stream",
     "text": [
      "[[0.3197187497079558, 1.0], [0.3879936326566214, 1.0], [0.4136486684339886, 1.0]]\n"
     ]
    }
   ],
   "source": [
    "table = []\n",
    "\n",
    "for n in range(1, 4):\n",
    "    \n",
    "    # [changedOpinionCount, consumedFromAdvertisementCount]\n",
    "\n",
    "    changedOpinionSum = 0\n",
    "    consumedFromAdvertisementSum = 0\n",
    "    \n",
    "    for i in range(1, 6):\n",
    "        \n",
    "        #results = on_run_simulation_btn_click(2019, SIM_TYPE_BOTTOMN, n, -1, 100, [], ALL_COUNTRIES, 1.2)\n",
    "        #print(changedOpinionCount)\n",
    "        #results = run_random(2019, n, -1, 100, ALL_COUNTRIES, 1.2)\n",
    "        #results = run_sustainable(2019, -1, n, 100, ALL_COUNTRIES, 1.2)\n",
    "        changedOpinionCount = results[n][i][1] #results[0]\n",
    "        consumedFromAdvertisementCount = results[n][i][2]#results[1]\n",
    "            \n",
    "#             print(arrivalsSimulated.columns)\n",
    "        \n",
    "#             districts = gp.read_file('../data/geo_district_df.shp')\n",
    "\n",
    "#             yearlyDf = arrivalsSimulated[arrivalsSimulated['Year'] == 2019]\n",
    "\n",
    "#             yearlyDf = yearlyDf.groupby(['Year']).sum()\n",
    "            \n",
    "        changedOpinionSum = changedOpinionSum + changedOpinionCount #yearlyDf['Changed'].values.tolist()[0]\n",
    "        consumedFromAdvertisementSum = consumedFromAdvertisementSum + consumedFromAdvertisementCount\n",
    "\n",
    " \n",
    "    changedRatio =changedOpinionSum / 5 / 7704312\n",
    "    consumedRatio =consumedFromAdvertisementSum / 5 / 7704312\n",
    "    \n",
    "    # print(arrivalsSum)\n",
    "    \n",
    "    table.append([changedRatio, consumedRatio])\n",
    "    \n",
    "            \n",
    "print(table)\n"
   ]
  },
  {
   "cell_type": "code",
   "execution_count": 71,
   "id": "1438bb63-39fa-4af7-a9fa-69bb5974f4fe",
   "metadata": {},
   "outputs": [],
   "source": [
    "topNTableAcc = pd.DataFrame(table, index = list(range(1, 9)), columns = [\"Changed\", \"Consumed\"])"
   ]
  },
  {
   "cell_type": "code",
   "execution_count": 72,
   "id": "36d2761a-486b-4523-a1f7-850b726eb99d",
   "metadata": {},
   "outputs": [],
   "source": [
    "topNTableAcc.to_csv('../data/topNTableAcc.csv')"
   ]
  },
  {
   "cell_type": "code",
   "execution_count": 74,
   "id": "8e806bac-db75-4f55-aeb0-ca189b118442",
   "metadata": {},
   "outputs": [],
   "source": [
    "bottomNTableAcc = pd.DataFrame(table, index = list(range(1, 9)), columns = [\"Changed\", \"Consumed\"])"
   ]
  },
  {
   "cell_type": "code",
   "execution_count": 75,
   "id": "7469893a-6ecd-4269-b595-13723cf60cd8",
   "metadata": {},
   "outputs": [],
   "source": [
    "bottomNTableAcc.to_csv('../data/bottomNTableAcc.csv')"
   ]
  },
  {
   "cell_type": "code",
   "execution_count": 23,
   "id": "e7c9f23a-5bfd-431d-892d-ef95235d5f2a",
   "metadata": {},
   "outputs": [],
   "source": [
    "randomNTableAcc = pd.DataFrame(table, index = list(range(1, 8)), columns = [\"Changed\", \"Consumed\"])"
   ]
  },
  {
   "cell_type": "code",
   "execution_count": 24,
   "id": "b2ecaa01-1990-4fd0-a589-4612ba748c00",
   "metadata": {},
   "outputs": [],
   "source": [
    "randomNTableAcc.to_csv('../data/randomNTableAcc.csv')"
   ]
  },
  {
   "cell_type": "code",
   "execution_count": 178,
   "id": "e146ed79-910b-4abe-8e9a-2e5c0b4d5f43",
   "metadata": {},
   "outputs": [],
   "source": [
    "sustainableNTableAcc = pd.DataFrame(table, index = list(range(1, 4)), columns = [\"Changed\", \"Consumed\"])"
   ]
  },
  {
   "cell_type": "code",
   "execution_count": 179,
   "id": "d6f2f03b-4d48-432d-9cb0-d0f0dd2d7c97",
   "metadata": {},
   "outputs": [],
   "source": [
    "sustainableNTableAcc.to_csv('../data/sustainableNTableAcc.csv')"
   ]
  },
  {
   "cell_type": "code",
   "execution_count": 590,
   "id": "cd78dea6-27c3-4332-beda-08d6f606fd3c",
   "metadata": {},
   "outputs": [],
   "source": [
    "capacityNTableAcc = pd.DataFrame(table, index = list(range(1, 4)), columns = [\"Changed\", \"Consumed\"])"
   ]
  },
  {
   "cell_type": "code",
   "execution_count": 591,
   "id": "49d1d067-c9bf-47e5-a210-d57f60d90f6f",
   "metadata": {},
   "outputs": [],
   "source": [
    "capacityNTableAcc.to_csv('../data/capacityNTableAcc.csv')"
   ]
  },
  {
   "cell_type": "code",
   "execution_count": 180,
   "id": "16ec716e-cafb-48c2-b892-d47b2d9715d9",
   "metadata": {},
   "outputs": [],
   "source": [
    "topNTablePopularityDf = pd.read_csv('../data/topNPopularity.csv', index_col=0)"
   ]
  },
  {
   "cell_type": "code",
   "execution_count": 183,
   "id": "bb98076a-4f6a-4a2b-9abb-fb73d87e4db1",
   "metadata": {},
   "outputs": [],
   "source": [
    "topNTablePopularityDf[\"averagePopularity\"] = topNTablePopularityDf[\"1\"]*topNTablePopularityDf[\"1\"] + topNTablePopularityDf[\"2\"]*topNTablePopularityDf[\"2\"] + topNTablePopularityDf[\"3\"]*topNTablePopularityDf[\"3\"] + topNTablePopularityDf[\"4\"]*topNTablePopularityDf[\"4\"] + topNTablePopularityDf[\"5\"]*topNTablePopularityDf[\"5\"] + topNTablePopularityDf[\"6\"]*topNTablePopularityDf[\"6\"] + topNTablePopularityDf[\"7\"]*topNTablePopularityDf[\"7\"] + topNTablePopularityDf[\"8\"]*topNTablePopularityDf[\"8\"]"
   ]
  },
  {
   "cell_type": "code",
   "execution_count": 185,
   "id": "8e9a94ec-042a-42e9-824d-56cae1c9045a",
   "metadata": {},
   "outputs": [],
   "source": [
    "topNTablePopularityDf.to_csv('../data/topNPopularity.csv')"
   ]
  },
  {
   "cell_type": "code",
   "execution_count": 186,
   "id": "2c9d04a1-67b7-40a9-aca3-573466bf959a",
   "metadata": {},
   "outputs": [],
   "source": [
    "bottomNTablePopularityDf = pd.read_csv('../data/bottomNPopularity.csv', index_col=0)"
   ]
  },
  {
   "cell_type": "code",
   "execution_count": 187,
   "id": "115901ad-878b-49ab-a354-523a99b0c8a5",
   "metadata": {},
   "outputs": [],
   "source": [
    "bottomNTablePopularityDf[\"averagePopularity\"] = bottomNTablePopularityDf[\"1\"]*bottomNTablePopularityDf[\"1\"] + bottomNTablePopularityDf[\"2\"]*bottomNTablePopularityDf[\"2\"] + bottomNTablePopularityDf[\"3\"]*bottomNTablePopularityDf[\"3\"] + bottomNTablePopularityDf[\"4\"]*bottomNTablePopularityDf[\"4\"] + bottomNTablePopularityDf[\"5\"]*bottomNTablePopularityDf[\"5\"] + bottomNTablePopularityDf[\"6\"]*bottomNTablePopularityDf[\"6\"] + bottomNTablePopularityDf[\"7\"]*bottomNTablePopularityDf[\"7\"] + bottomNTablePopularityDf[\"8\"]*bottomNTablePopularityDf[\"8\"]"
   ]
  },
  {
   "cell_type": "code",
   "execution_count": 188,
   "id": "665f8a5e-7fac-463a-85f5-9d856ef80b70",
   "metadata": {},
   "outputs": [],
   "source": [
    "bottomNTablePopularityDf.to_csv('../data/bottomNPopularity.csv')"
   ]
  },
  {
   "cell_type": "code",
   "execution_count": 189,
   "id": "cde98870-1fb2-432c-b3b0-e942b574af60",
   "metadata": {},
   "outputs": [],
   "source": [
    "randomNTablePopularityDf = pd.read_csv('../data/randomNPopularity.csv', index_col=0)"
   ]
  },
  {
   "cell_type": "code",
   "execution_count": 190,
   "id": "7e3cd2fa-7d5b-4f65-91a6-8ccd5dd231c8",
   "metadata": {},
   "outputs": [],
   "source": [
    "randomNTablePopularityDf[\"averagePopularity\"] = randomNTablePopularityDf[\"1\"]*randomNTablePopularityDf[\"1\"] + randomNTablePopularityDf[\"2\"]*randomNTablePopularityDf[\"2\"] + randomNTablePopularityDf[\"3\"]*randomNTablePopularityDf[\"3\"] + randomNTablePopularityDf[\"4\"]*randomNTablePopularityDf[\"4\"] + randomNTablePopularityDf[\"5\"]*randomNTablePopularityDf[\"5\"] + randomNTablePopularityDf[\"6\"]*randomNTablePopularityDf[\"6\"] + randomNTablePopularityDf[\"7\"]*randomNTablePopularityDf[\"7\"] + randomNTablePopularityDf[\"8\"]*randomNTablePopularityDf[\"8\"]"
   ]
  },
  {
   "cell_type": "code",
   "execution_count": 191,
   "id": "6d4bfeab-390f-436e-b144-290a4fd97a49",
   "metadata": {},
   "outputs": [],
   "source": [
    "randomNTablePopularityDf.to_csv('../data/randomNPopularity.csv')"
   ]
  },
  {
   "cell_type": "code",
   "execution_count": 198,
   "id": "ee74a10d-a84e-4f67-b428-917928a9546b",
   "metadata": {},
   "outputs": [],
   "source": [
    "sustainableNTablePopularityDf = pd.read_csv('../data/sustainableNPopularity.csv', index_col=0)"
   ]
  },
  {
   "cell_type": "code",
   "execution_count": 199,
   "id": "a67e3962-0ed2-4e50-b393-1785a996169e",
   "metadata": {},
   "outputs": [],
   "source": [
    "sustainableNTablePopularityDf[\"averagePopularity\"] = sustainableNTablePopularityDf[\"1\"]*sustainableNTablePopularityDf[\"1\"] + sustainableNTablePopularityDf[\"2\"]*sustainableNTablePopularityDf[\"2\"] + sustainableNTablePopularityDf[\"3\"]*sustainableNTablePopularityDf[\"3\"] + sustainableNTablePopularityDf[\"4\"]*sustainableNTablePopularityDf[\"4\"] + sustainableNTablePopularityDf[\"5\"]*sustainableNTablePopularityDf[\"5\"] + sustainableNTablePopularityDf[\"6\"]*sustainableNTablePopularityDf[\"6\"] + sustainableNTablePopularityDf[\"7\"]*sustainableNTablePopularityDf[\"7\"] + sustainableNTablePopularityDf[\"8\"]*sustainableNTablePopularityDf[\"8\"]"
   ]
  },
  {
   "cell_type": "code",
   "execution_count": 200,
   "id": "84789931-2d9b-40d8-af0f-6e7ec9d8d00c",
   "metadata": {},
   "outputs": [],
   "source": [
    "sustainableNTablePopularityDf.to_csv('../data/sustainableNPopularity.csv')"
   ]
  },
  {
   "cell_type": "code",
   "execution_count": 241,
   "id": "e533a324-06c9-4485-a46e-c31ee42ad24f",
   "metadata": {},
   "outputs": [],
   "source": [
    "capacityNTablePopularityDf = pd.read_csv('../data/capacityNPopularity.csv', index_col=0)"
   ]
  },
  {
   "cell_type": "code",
   "execution_count": 249,
   "id": "281fc256-2494-43f3-b06d-7c521e996936",
   "metadata": {},
   "outputs": [
    {
     "data": {
      "text/plain": [
       "0    0.14891\n",
       "Name: 1, dtype: float64"
      ]
     },
     "execution_count": 249,
     "metadata": {},
     "output_type": "execute_result"
    }
   ],
   "source": [
    "capacityNTablePopularityDf.iloc[0]"
   ]
  },
  {
   "cell_type": "code",
   "execution_count": 250,
   "id": "6bd769b3-9778-4c43-a79f-5d3d96760e31",
   "metadata": {},
   "outputs": [],
   "source": [
    "capacityNTablePopularityDf[\"averagePopularity\"] = capacityNTablePopularityDf.iloc[0][0]*capacityNTablePopularityDf.iloc[0][0] + capacityNTablePopularitydf.iloc[1][0]*capacityNTablePopularityDf.iloc[1][0] + capacityNTablePopularityDf.iloc[2][0]*capacityNTablePopularityDf.iloc[2][0]"
   ]
  },
  {
   "cell_type": "code",
   "execution_count": 251,
   "id": "c76cc28c-6e12-4d4e-8c0f-32f007421493",
   "metadata": {},
   "outputs": [],
   "source": [
    "realAvgPop = np.array([590082, 1548993, 428378, 2247110, 774849, 1203473, 343777, 567650])/7704312"
   ]
  },
  {
   "cell_type": "code",
   "execution_count": 252,
   "id": "0f2c7eea-843d-44cc-af67-c51021190175",
   "metadata": {},
   "outputs": [
    {
     "data": {
      "text/plain": [
       "0.17638755720059165"
      ]
     },
     "execution_count": 252,
     "metadata": {},
     "output_type": "execute_result"
    }
   ],
   "source": [
    "sum(list(realAvgPop * realAvgPop))"
   ]
  },
  {
   "cell_type": "code",
   "execution_count": null,
   "id": "2b951bfa-cc15-4a7f-9760-3859a92ebabd",
   "metadata": {},
   "outputs": [
    {
     "name": "stderr",
     "output_type": "stream",
     "text": [
      "C:\\Users\\gpili\\AppData\\Local\\Temp/ipykernel_10384/2514210986.py:3: SettingWithCopyWarning: \n",
      "A value is trying to be set on a copy of a slice from a DataFrame.\n",
      "Try using .loc[row_indexer,col_indexer] = value instead\n",
      "\n",
      "See the caveats in the documentation: https://pandas.pydata.org/pandas-docs/stable/user_guide/indexing.html#returning-a-view-versus-a-copy\n",
      "  filteredDf[\"AverageStay\"] = filteredDf[\"Present\"] / filteredDf[\"Arrivals\"]\n",
      "C:\\Users\\gpili\\anaconda3\\lib\\site-packages\\pandas\\core\\frame.py:5238: SettingWithCopyWarning: \n",
      "A value is trying to be set on a copy of a slice from a DataFrame\n",
      "\n",
      "See the caveats in the documentation: https://pandas.pydata.org/pandas-docs/stable/user_guide/indexing.html#returning-a-view-versus-a-copy\n",
      "  return super().replace(\n"
     ]
    }
   ],
   "source": [
    "testWithPresences = on_run_simulation_btn_click(2019, SIM_TYPE_BOTTOMN, 3, -1, 100, [], ALL_COUNTRIES, 1.2)"
   ]
  },
  {
   "cell_type": "code",
   "execution_count": null,
   "id": "5b960953-479d-44f8-b285-bdbd47cc60b0",
   "metadata": {},
   "outputs": [],
   "source": [
    "pd.options.display.float_format = \"{:.2f}\".format"
   ]
  },
  {
   "cell_type": "code",
   "execution_count": 200,
   "id": "1c383907-a418-4ab8-af11-9598625827e9",
   "metadata": {},
   "outputs": [
    {
     "data": {
      "text/html": [
       "<div>\n",
       "<style scoped>\n",
       "    .dataframe tbody tr th:only-of-type {\n",
       "        vertical-align: middle;\n",
       "    }\n",
       "\n",
       "    .dataframe tbody tr th {\n",
       "        vertical-align: top;\n",
       "    }\n",
       "\n",
       "    .dataframe thead th {\n",
       "        text-align: right;\n",
       "    }\n",
       "</style>\n",
       "<table border=\"1\" class=\"dataframe\">\n",
       "  <thead>\n",
       "    <tr style=\"text-align: right;\">\n",
       "      <th></th>\n",
       "      <th>Year</th>\n",
       "      <th>Month</th>\n",
       "      <th>Season</th>\n",
       "      <th>district_c</th>\n",
       "      <th>Arrivals</th>\n",
       "      <th>Present</th>\n",
       "      <th>District</th>\n",
       "      <th>Arrivals_sim</th>\n",
       "      <th>Present_sim</th>\n",
       "      <th>Diff</th>\n",
       "      <th>sim_present</th>\n",
       "    </tr>\n",
       "  </thead>\n",
       "  <tbody>\n",
       "    <tr>\n",
       "      <th>0</th>\n",
       "      <td>2019</td>\n",
       "      <td>1.00</td>\n",
       "      <td>Winter</td>\n",
       "      <td>1</td>\n",
       "      <td>19439</td>\n",
       "      <td>42465</td>\n",
       "      <td>Bozen</td>\n",
       "      <td>28221.00</td>\n",
       "      <td>109681.60</td>\n",
       "      <td>8782.00</td>\n",
       "      <td>109681.60</td>\n",
       "    </tr>\n",
       "    <tr>\n",
       "      <th>1</th>\n",
       "      <td>2019</td>\n",
       "      <td>1.00</td>\n",
       "      <td>Winter</td>\n",
       "      <td>2</td>\n",
       "      <td>33810</td>\n",
       "      <td>147290</td>\n",
       "      <td>Burggrafenamt</td>\n",
       "      <td>28171.00</td>\n",
       "      <td>108411.12</td>\n",
       "      <td>-5639.00</td>\n",
       "      <td>108411.12</td>\n",
       "    </tr>\n",
       "    <tr>\n",
       "      <th>2</th>\n",
       "      <td>2019</td>\n",
       "      <td>1.00</td>\n",
       "      <td>Winter</td>\n",
       "      <td>3</td>\n",
       "      <td>52218</td>\n",
       "      <td>232736</td>\n",
       "      <td>Eisacktal</td>\n",
       "      <td>39617.00</td>\n",
       "      <td>216462.59</td>\n",
       "      <td>-12601.00</td>\n",
       "      <td>216462.59</td>\n",
       "    </tr>\n",
       "    <tr>\n",
       "      <th>3</th>\n",
       "      <td>2019</td>\n",
       "      <td>1.00</td>\n",
       "      <td>Winter</td>\n",
       "      <td>4</td>\n",
       "      <td>239602</td>\n",
       "      <td>1262370</td>\n",
       "      <td>Pustertal</td>\n",
       "      <td>207666.00</td>\n",
       "      <td>1678265.92</td>\n",
       "      <td>-31936.00</td>\n",
       "      <td>1678265.92</td>\n",
       "    </tr>\n",
       "    <tr>\n",
       "      <th>4</th>\n",
       "      <td>2019</td>\n",
       "      <td>1.00</td>\n",
       "      <td>Winter</td>\n",
       "      <td>5</td>\n",
       "      <td>117974</td>\n",
       "      <td>679504</td>\n",
       "      <td>Salten-Schlern</td>\n",
       "      <td>101667.00</td>\n",
       "      <td>850807.66</td>\n",
       "      <td>-16307.00</td>\n",
       "      <td>850807.66</td>\n",
       "    </tr>\n",
       "    <tr>\n",
       "      <th>...</th>\n",
       "      <td>...</td>\n",
       "      <td>...</td>\n",
       "      <td>...</td>\n",
       "      <td>...</td>\n",
       "      <td>...</td>\n",
       "      <td>...</td>\n",
       "      <td>...</td>\n",
       "      <td>...</td>\n",
       "      <td>...</td>\n",
       "      <td>...</td>\n",
       "      <td>...</td>\n",
       "    </tr>\n",
       "    <tr>\n",
       "      <th>91</th>\n",
       "      <td>2019</td>\n",
       "      <td>12.00</td>\n",
       "      <td>Winter</td>\n",
       "      <td>4</td>\n",
       "      <td>231842</td>\n",
       "      <td>926411</td>\n",
       "      <td>Pustertal</td>\n",
       "      <td>200757.00</td>\n",
       "      <td>1118881.89</td>\n",
       "      <td>-31085.00</td>\n",
       "      <td>1118881.89</td>\n",
       "    </tr>\n",
       "    <tr>\n",
       "      <th>92</th>\n",
       "      <td>2019</td>\n",
       "      <td>12.00</td>\n",
       "      <td>Winter</td>\n",
       "      <td>5</td>\n",
       "      <td>119580</td>\n",
       "      <td>488448</td>\n",
       "      <td>Salten-Schlern</td>\n",
       "      <td>102890.00</td>\n",
       "      <td>533297.33</td>\n",
       "      <td>-16690.00</td>\n",
       "      <td>533297.33</td>\n",
       "    </tr>\n",
       "    <tr>\n",
       "      <th>93</th>\n",
       "      <td>2019</td>\n",
       "      <td>12.00</td>\n",
       "      <td>Winter</td>\n",
       "      <td>6</td>\n",
       "      <td>26334</td>\n",
       "      <td>74498</td>\n",
       "      <td>Uberetsch-Unterland</td>\n",
       "      <td>64000.00</td>\n",
       "      <td>258840.98</td>\n",
       "      <td>37666.00</td>\n",
       "      <td>258840.98</td>\n",
       "    </tr>\n",
       "    <tr>\n",
       "      <th>94</th>\n",
       "      <td>2019</td>\n",
       "      <td>12.00</td>\n",
       "      <td>Winter</td>\n",
       "      <td>7</td>\n",
       "      <td>32771</td>\n",
       "      <td>137244</td>\n",
       "      <td>Vinschgau</td>\n",
       "      <td>23980.00</td>\n",
       "      <td>110342.35</td>\n",
       "      <td>-8791.00</td>\n",
       "      <td>110342.35</td>\n",
       "    </tr>\n",
       "    <tr>\n",
       "      <th>95</th>\n",
       "      <td>2019</td>\n",
       "      <td>12.00</td>\n",
       "      <td>Winter</td>\n",
       "      <td>8</td>\n",
       "      <td>39767</td>\n",
       "      <td>128232</td>\n",
       "      <td>Wipptal</td>\n",
       "      <td>77200.00</td>\n",
       "      <td>348769.92</td>\n",
       "      <td>37433.00</td>\n",
       "      <td>348769.92</td>\n",
       "    </tr>\n",
       "  </tbody>\n",
       "</table>\n",
       "<p>96 rows × 11 columns</p>\n",
       "</div>"
      ],
      "text/plain": [
       "    Year  Month  Season  district_c  Arrivals  Present             District  \\\n",
       "0   2019   1.00  Winter           1     19439    42465                Bozen   \n",
       "1   2019   1.00  Winter           2     33810   147290        Burggrafenamt   \n",
       "2   2019   1.00  Winter           3     52218   232736            Eisacktal   \n",
       "3   2019   1.00  Winter           4    239602  1262370            Pustertal   \n",
       "4   2019   1.00  Winter           5    117974   679504       Salten-Schlern   \n",
       "..   ...    ...     ...         ...       ...      ...                  ...   \n",
       "91  2019  12.00  Winter           4    231842   926411            Pustertal   \n",
       "92  2019  12.00  Winter           5    119580   488448       Salten-Schlern   \n",
       "93  2019  12.00  Winter           6     26334    74498  Uberetsch-Unterland   \n",
       "94  2019  12.00  Winter           7     32771   137244            Vinschgau   \n",
       "95  2019  12.00  Winter           8     39767   128232              Wipptal   \n",
       "\n",
       "    Arrivals_sim  Present_sim      Diff  sim_present  \n",
       "0       28221.00    109681.60   8782.00    109681.60  \n",
       "1       28171.00    108411.12  -5639.00    108411.12  \n",
       "2       39617.00    216462.59 -12601.00    216462.59  \n",
       "3      207666.00   1678265.92 -31936.00   1678265.92  \n",
       "4      101667.00    850807.66 -16307.00    850807.66  \n",
       "..           ...          ...       ...          ...  \n",
       "91     200757.00   1118881.89 -31085.00   1118881.89  \n",
       "92     102890.00    533297.33 -16690.00    533297.33  \n",
       "93      64000.00    258840.98  37666.00    258840.98  \n",
       "94      23980.00    110342.35  -8791.00    110342.35  \n",
       "95      77200.00    348769.92  37433.00    348769.92  \n",
       "\n",
       "[96 rows x 11 columns]"
      ]
     },
     "execution_count": 200,
     "metadata": {},
     "output_type": "execute_result"
    }
   ],
   "source": [
    "testWithPresences"
   ]
  },
  {
   "cell_type": "markdown",
   "id": "f0fcd374-b7e1-4048-9445-204f5369b4a6",
   "metadata": {},
   "source": [
    "### Visualisation of Results"
   ]
  },
  {
   "cell_type": "code",
   "execution_count": 253,
   "id": "797ed71b-b835-40a8-8b61-f2b7fcd83d2a",
   "metadata": {},
   "outputs": [],
   "source": [
    "import matplotlib.pyplot as plt"
   ]
  },
  {
   "cell_type": "code",
   "execution_count": 592,
   "id": "640e63cb-f14d-49d8-9ae1-9823a92256ec",
   "metadata": {},
   "outputs": [],
   "source": [
    "x = np.array([1, 2, 3, 4, 5, 6, 7, 8])\n",
    "\n",
    "giniTopNDf = pd.read_csv('../data/topN.csv')\n",
    "giniBottomNDf = pd.read_csv('../data/bottomN.csv')\n",
    "giniRandomNDf = pd.read_csv('../data/randomN.csv')\n",
    "giniSustainableNDf = pd.read_csv('../data/sustainableN.csv')\n",
    "giniCapacityNDf = pd.read_csv('../data/capacityN.csv')\n",
    "\n",
    "NAarray = np.repeat(None, 5)\n",
    "\n",
    "NAarray1 = np.repeat(None, 1)"
   ]
  },
  {
   "cell_type": "markdown",
   "id": "116c4a75-49e7-4d75-b30e-47f781a73de0",
   "metadata": {},
   "source": [
    "#### Gini Arrivals"
   ]
  },
  {
   "cell_type": "code",
   "execution_count": 715,
   "id": "53f3a7bc-f269-417d-a994-216a916ec145",
   "metadata": {},
   "outputs": [
    {
     "data": {
      "image/png": "[encoded data removed]",
      "text/plain": [
       "<Figure size 1300x800 with 1 Axes>"
      ]
     },
     "metadata": {},
     "output_type": "display_data"
    }
   ],
   "source": [
    "# GINI ARRIVALS\n",
    "\n",
    "labels = ['N = 1', 'N = 3', 'N = 5', 'N = 8']\n",
    "\n",
    "topNArrivals = np.round(giniTopNDf[\"Arrivals\"][[0, 2, 4, 7]], 3)\n",
    "bottomNArrivals = np.round(giniBottomNDf[\"Arrivals\"][[0, 2, 4, 7]], 3)\n",
    "randomNArrivals = np.round(np.concatenate((giniRandomNDf[\"Arrivals\"][[0, 2, 4]], np.array([np.NaN])), axis=None), 3) # giniRandomNDf[\"Arrivals\"]\n",
    "sustainableNArrivals = np.round(np.concatenate((giniSustainableNDf[\"Arrivals\"][[0, 2]], np.array([np.NaN, np.NaN])), axis=None), 3)   #giniSustainableNDf[\"Arrivals\"].\n",
    "capacityNArrivals = np.round(np.concatenate((giniCapacityNDf[\"Arrivals\"][[0, 2]], np.array([np.NaN, np.NaN])), axis=None), 3)\n",
    "realityArrivals = np.repeat(0.341, 4)\n",
    "\n",
    "x = np.arange(len(labels))  # the label locations\n",
    "width = 0.7  # the width of the bars\n",
    "\n",
    "fig, ax = plt.subplots(figsize=(13, 8))\n",
    "# rects5 = ax.bar(x - 2*width/4, realityArrivals, width/4, label='REAL', color='#9566bd')\n",
    "rects1 = ax.bar(x, topNArrivals, width/5, label='TOP-N')\n",
    "rects2 = ax.bar(x + width/5, bottomNArrivals, width/5, label='LEAST-N')\n",
    "rects3 = ax.bar(x + width/5*2, randomNArrivals, width/5, label='RANDOM-N')\n",
    "rects4 = ax.bar(x + 3*width/5, sustainableNArrivals, width/5, label='SUS-UNPOP-N')\n",
    "rects5 = ax.bar(x + 4*width/5, capacityNArrivals, width/5, label='SUS-FREEBEDS-N')\n",
    "\n",
    "hmm = ax.axhline(0.341, color='#000000', ls='--', alpha = 0.5, label = 'REAL (0.341)')\n",
    "\n",
    "# plt.plot([0, 1, 2, 3], [0.341, 0.341, 0.341, 0.341])\n",
    "\n",
    "# Add some text for labels, title and custom x-axis tick labels, etc.\n",
    "ax.set_ylabel('Gini Index')\n",
    "# ax.set_title('(a) Arrivals')\n",
    "# plt.title(\"(a) Arrivals\", y=-0.13, fontsize=14)\n",
    "ax.set_xticks(x)\n",
    "ax.set_xticklabels(labels)\n",
    "ax.legend(loc='upper right')\n",
    "\n",
    "ax.bar_label(rects1, padding=2)\n",
    "ax.bar_label(rects2, padding=2)\n",
    "ax.bar_label(rects3, padding=2)\n",
    "ax.bar_label(rects4, padding=2)\n",
    "ax.bar_label(rects5, padding=2)\n",
    "# ax.bar_label(rects5, padding=2)\n",
    "# ax.bar_label(g, padding=3)\n",
    "\n",
    "plt.xticks(fontsize= 12)\n",
    "\n",
    "# fig.tight_layout()\n",
    "plt.margins(0.02, 0.2)\n",
    "\n",
    "# plt.show()\n",
    "# plt.savefig('data1.png') \n",
    "\n",
    "fig1 = plt.gcf()\n",
    "plt.show()\n",
    "# plt.draw()\n",
    "fig1.savefig('../img/sim/gini_index_arrivals.png', bbox_inches='tight')"
   ]
  },
  {
   "cell_type": "markdown",
   "id": "5a785100-2f7a-4a7c-977b-38b3941445be",
   "metadata": {},
   "source": [
    "#### Gini Present to Population"
   ]
  },
  {
   "cell_type": "code",
   "execution_count": 797,
   "id": "58d616fa-64e8-4ba3-a484-1c770ffcae11",
   "metadata": {},
   "outputs": [
    {
     "data": {
      "image/png": "[encoded data removed]",
      "text/plain": [
       "<Figure size 1300x800 with 1 Axes>"
      ]
     },
     "metadata": {},
     "output_type": "display_data"
    },
    {
     "data": {
      "text/plain": [
       "<Figure size 640x480 with 0 Axes>"
      ]
     },
     "metadata": {},
     "output_type": "display_data"
    }
   ],
   "source": [
    "# GINI PRES to POP\n",
    "\n",
    "labels = ['N = 1', 'N = 3', 'N = 5', 'N = 8']\n",
    "\n",
    "topNArrivals = np.round(giniTopNDf[\"AvgPresentPop\"][[0, 2, 4, 7]], 3)\n",
    "bottomNArrivals = np.round(giniBottomNDf[\"AvgPresentPop\"][[0, 2, 4, 7]], 3)\n",
    "randomNArrivals = np.round(np.concatenate((giniRandomNDf[\"AvgPresentPop\"][[0, 2, 4]], np.array([np.NaN])), axis=None), 3) # giniRandomNDf[\"Arrivals\"]\n",
    "sustainableNArrivals = np.round(np.concatenate((giniSustainableNDf[\"AvgPresentPop\"][[0, 2]], np.array([np.NaN, np.NaN])), axis=None), 3)   #giniSustainableNDf[\"Arrivals\"].\n",
    "capacityNArrivals = np.round(np.concatenate((giniCapacityNDf[\"AvgPresentPop\"][[0, 2]], np.array([np.NaN, np.NaN])), axis=None), 3)   #giniSustainableNDf[\"Arrivals\"].\n",
    "realityArrivals = np.repeat(0.341, 4)\n",
    "\n",
    "x = np.arange(len(labels))  # the label locations\n",
    "width = 0.7  # the width of the bars\n",
    "\n",
    "fig, ax = plt.subplots(figsize=(13, 8))\n",
    "# rects5 = ax.bar(x - 2*width/4, realityArrivals, width/4, label='REAL', color='#9566bd')\n",
    "rects1 = ax.bar(x, topNArrivals, width/5, label='TOP-N')\n",
    "rects2 = ax.bar(x + width/5, bottomNArrivals, width/5, label='LEAST-N')\n",
    "rects3 = ax.bar(x + width/5*2, randomNArrivals, width/5, label='RANDOM-N')\n",
    "rects4 = ax.bar(x + 3*width/5, sustainableNArrivals, width/5, label='SUS-UNPOP-N')\n",
    "rects5 = ax.bar(x + 4*width/5, capacityNArrivals, width/5, label='SUS-FREEBEDS-N')\n",
    "\n",
    "\n",
    "hmm = ax.axhline(0.308, color='#000000', ls='--', alpha = 0.5, label = 'REAL (0.308)')\n",
    "\n",
    "# plt.plot([0, 1, 2, 3], [0.341, 0.341, 0.341, 0.341])\n",
    "\n",
    "# Add some text for labels, title and custom x-axis tick labels, etc.\n",
    "ax.set_ylabel('Gini Index')\n",
    "# ax.set_title('(b) Avg. Presence To Population Ratio')\n",
    "# plt.title(\"(a) Arrivals\", y=-0.13, fontsize=14)\n",
    "ax.set_xticks(x)\n",
    "ax.set_xticklabels(labels)\n",
    "ax.legend(loc='upper right')\n",
    "\n",
    "ax.bar_label(rects1, padding=2)\n",
    "ax.bar_label(rects2, padding=2)\n",
    "ax.bar_label(rects3, padding=2)\n",
    "ax.bar_label(rects4, padding=2)\n",
    "ax.bar_label(rects5, padding=2)\n",
    "# ax.bar_label(rects5, padding=2)\n",
    "# ax.bar_label(g, padding=3)\n",
    "\n",
    "plt.xticks(fontsize= 12)\n",
    "\n",
    "# fig.tight_layout()\n",
    "plt.margins(0.02, 0.2)\n",
    "\n",
    "fig1 = plt.gcf()\n",
    "plt.show()\n",
    "plt.draw()\n",
    "fig1.savefig('../img/sim/gini_index_pres_to_pop.png', bbox_inches='tight')"
   ]
  },
  {
   "cell_type": "markdown",
   "id": "d494118c-0946-477d-89c5-f999da27e648",
   "metadata": {},
   "source": [
    "#### Gini Present to Beds"
   ]
  },
  {
   "cell_type": "code",
   "execution_count": 717,
   "id": "c4b66dc7-e871-4a5a-8a1c-cc00f2faac3c",
   "metadata": {},
   "outputs": [
    {
     "data": {
      "image/png": "[encoded data removed]",
      "text/plain": [
       "<Figure size 1300x800 with 1 Axes>"
      ]
     },
     "metadata": {},
     "output_type": "display_data"
    },
    {
     "data": {
      "text/plain": [
       "<Figure size 640x480 with 0 Axes>"
      ]
     },
     "metadata": {},
     "output_type": "display_data"
    }
   ],
   "source": [
    "# GINI PRES to BEDS\n",
    "\n",
    "labels = ['N = 1', 'N = 3', 'N = 5', 'N = 8']\n",
    "\n",
    "topNArrivals = np.round(giniTopNDf[\"AvgPresentBeds\"][[0, 2, 4, 7]], 3)\n",
    "bottomNArrivals = np.round(giniBottomNDf[\"AvgPresentBeds\"][[0, 2, 4, 7]], 3)\n",
    "randomNArrivals = np.round(np.concatenate((giniRandomNDf[\"AvgPresentBeds\"][[0, 2, 4]], np.array([np.NaN])), axis=None), 3) # giniRandomNDf[\"Arrivals\"]\n",
    "sustainableNArrivals = np.round(np.concatenate((giniSustainableNDf[\"AvgPresentBeds\"][[0, 2]], np.array([np.NaN, np.NaN])), axis=None), 3)   #giniSustainableNDf[\"Arrivals\"].\n",
    "capacityNArrivals = np.round(np.concatenate((giniCapacityNDf[\"AvgPresentBeds\"][[0, 2]], np.array([np.NaN, np.NaN])), axis=None), 3)   #giniSustainableNDf[\"Arrivals\"].\n",
    "realityArrivals = np.repeat(0.341, 4)\n",
    "\n",
    "x = np.arange(len(labels))  # the label locations\n",
    "width = 0.7  # the width of the bars\n",
    "\n",
    "fig, ax = plt.subplots(figsize=(13, 8))\n",
    "# rects5 = ax.bar(x - 2*width/4, realityArrivals, width/4, label='REAL', color='#9566bd')\n",
    "rects1 = ax.bar(x, topNArrivals, width/5, label='TOP-N')\n",
    "rects2 = ax.bar(x + width/5, bottomNArrivals, width/5, label='LEAST-N')\n",
    "rects3 = ax.bar(x + width/5*2, randomNArrivals, width/5, label='RANDOM-N')\n",
    "rects4 = ax.bar(x + 3*width/5, sustainableNArrivals, width/5, label='SUS-UNPOP-N')\n",
    "rects5 = ax.bar(x + 4*width/5, capacityNArrivals, width/5, label='SUS-FREEBEDS-N')\n",
    "\n",
    "hmm = ax.axhline(0.061, color='#000000', ls='--', alpha = 0.5, label = 'REAL (0.061)')\n",
    "\n",
    "# plt.plot([0, 1, 2, 3], [0.341, 0.341, 0.341, 0.341])\n",
    "\n",
    "# Add some text for labels, title and custom x-axis tick labels, etc.\n",
    "ax.set_ylabel('Gini Index')\n",
    "# ax.set_title('(c) Avg. Presence To Number of Beds Ratio')\n",
    "# plt.title(\"(a) Arrivals\", y=-0.13, fontsize=14)\n",
    "ax.set_xticks(x)\n",
    "ax.set_xticklabels(labels)\n",
    "ax.legend(loc='upper right')\n",
    "\n",
    "ax.bar_label(rects1, padding=2)\n",
    "ax.bar_label(rects2, padding=2)\n",
    "ax.bar_label(rects3, padding=2)\n",
    "ax.bar_label(rects4, padding=2)\n",
    "ax.bar_label(rects5, padding=2)\n",
    "# ax.bar_label(g, padding=3)\n",
    "\n",
    "plt.xticks(fontsize= 12)\n",
    "\n",
    "# fig.tight_layout()\n",
    "plt.margins(0.02, 0.2)\n",
    "\n",
    "fig1 = plt.gcf()\n",
    "plt.show()\n",
    "plt.draw()\n",
    "fig1.savefig('../img/sim/gini_index_pres_to_beds.png', bbox_inches='tight')"
   ]
  },
  {
   "cell_type": "markdown",
   "id": "d1e34140-fe53-4bc5-b03a-5a1964b302ee",
   "metadata": {},
   "source": [
    "#### Popularity - avg. consumed item popularity"
   ]
  },
  {
   "cell_type": "code",
   "execution_count": 718,
   "id": "5b03dcdb-097e-420f-bead-0ac858135c1d",
   "metadata": {},
   "outputs": [
    {
     "data": {
      "image/png": "[encoded data removed]",
      "text/plain": [
       "<Figure size 1300x800 with 1 Axes>"
      ]
     },
     "metadata": {},
     "output_type": "display_data"
    }
   ],
   "source": [
    "# POPULARITY\n",
    "\n",
    "labels = ['N = 1', 'N = 3', 'N = 5', 'N = 8']\n",
    "\n",
    "popTopNDf = pd.read_csv('../data/topNPopularity.csv')\n",
    "popBottomNDf = pd.read_csv('../data/bottomNPopularity.csv')\n",
    "popRandomNDf = pd.read_csv('../data/randomNPopularity.csv')\n",
    "popSustainableNDf = pd.read_csv('../data/sustainableNPopularity.csv')\n",
    "popCapacityNDf = pd.read_csv('../data/capacityNPopularity.csv')\n",
    "\n",
    "top = np.round(popTopNDf[\"0\"][[0, 2, 4, 7]], 3)\n",
    "bottom = np.round(popBottomNDf[\"0\"][[0, 2, 4, 7]], 3)\n",
    "random = np.round(np.concatenate((popRandomNDf[\"0\"][[0, 2, 4]], np.array([np.NaN])), axis=None), 3)\n",
    "sus = np.round(np.concatenate((popSustainableNDf[\"0\"][[0, 2]], np.array([np.NaN, np.NaN])), axis=None), 3)\n",
    "cap = np.round(np.concatenate((popCapacityNDf[\"0\"][[0, 2]], np.array([np.NaN, np.NaN])), axis=None), 3)\n",
    "\n",
    "x = np.arange(len(labels))  # the label locations\n",
    "width = 0.7  # the width of the bars\n",
    "\n",
    "fig, ax = plt.subplots(figsize=(13, 8))\n",
    "# rects5 = ax.bar(x - 2*width/4, realityArrivals, width/4, label='REAL', color='#9566bd')\n",
    "rects1 = ax.bar(x, top, width/5, label='TOP-N')\n",
    "rects2 = ax.bar(x + width/5, bottom, width/5, label='LEAST-N')\n",
    "rects3 = ax.bar(x + width/5*2, random, width/5, label='RANDOM-N')\n",
    "rects4 = ax.bar(x + 3*width/5, sus, width/5, label='SUS-UNPOP-N')\n",
    "rects5 = ax.bar(x + 4*width/5, cap, width/5, label='SUS-FREEBEDS-N')\n",
    "\n",
    "hmm = ax.axhline(0.176, color='#000000', ls='--', alpha = 0.5, label = 'REAL (0.176)')\n",
    "\n",
    "# plt.plot([0, 1, 2, 3], [0.341, 0.341, 0.341, 0.341])\n",
    "\n",
    "# Add some text for labels, title and custom x-axis tick labels, etc.\n",
    "ax.set_ylabel('Average Consumed Item Popularity')\n",
    "# ax.set_title('(a) Arrivals')\n",
    "# plt.title(\"(a) Arrivals\", y=-0.13, fontsize=14)\n",
    "ax.set_xticks(x)\n",
    "ax.set_xticklabels(labels)\n",
    "ax.legend(loc='lower right')\n",
    "\n",
    "ax.bar_label(rects1, padding=2)\n",
    "ax.bar_label(rects2, padding=2)\n",
    "ax.bar_label(rects3, padding=2)\n",
    "ax.bar_label(rects4, padding=2)\n",
    "ax.bar_label(rects5, padding=2)\n",
    "# ax.bar_label(rects5, padding=2)\n",
    "# ax.bar_label(g, padding=3)\n",
    "\n",
    "plt.xticks(fontsize= 12)\n",
    "\n",
    "# fig.tight_layout()\n",
    "plt.margins(0.02, 0.2)\n",
    "\n",
    "# plt.show()\n",
    "# plt.savefig('data1.png') \n",
    "\n",
    "fig1 = plt.gcf()\n",
    "plt.show()\n",
    "# plt.draw()\n",
    "# fig1.savefig('data1.png', dpi=100)\n",
    "fig1.savefig('../img/sim/avg_pop.png', bbox_inches='tight')"
   ]
  },
  {
   "cell_type": "markdown",
   "id": "e2561750-cd0e-4720-bcc7-42868146eef3",
   "metadata": {},
   "source": [
    "#### Conversion rate"
   ]
  },
  {
   "cell_type": "code",
   "execution_count": 719,
   "id": "b61c5799-a173-4845-bad9-5d534cce8a4e",
   "metadata": {},
   "outputs": [
    {
     "data": {
      "image/png": "[encoded data removed]",
      "text/plain": [
       "<Figure size 1300x800 with 1 Axes>"
      ]
     },
     "metadata": {},
     "output_type": "display_data"
    }
   ],
   "source": [
    "labels = ['N = 1', 'N = 3', 'N = 5', 'N = 8']\n",
    "\n",
    "accTopNDf = pd.read_csv('../data/topNTableAcc.csv')\n",
    "accBottomNDf = pd.read_csv('../data/bottomNTableAcc.csv')\n",
    "accRandomNDf = pd.read_csv('../data/randomNTableAcc.csv')\n",
    "accSustainableNDf = pd.read_csv('../data/sustainableNTableAcc.csv')\n",
    "accCapacityNDf = pd.read_csv('../data/capacityNTableAcc.csv')\n",
    "\n",
    "top = np.round(accTopNDf[\"Changed\"][[0, 2, 4, 7]], 3)\n",
    "bottom = np.round(accBottomNDf[\"Changed\"][[0, 2, 4, 7]], 3)\n",
    "random = np.round(np.concatenate((accRandomNDf[\"Changed\"][[0, 2, 4]], np.array([np.NaN])), axis=None), 3)\n",
    "sus = np.round(np.concatenate((accSustainableNDf[\"Ratio\"][[0, 2]], np.array([np.NaN, np.NaN])), axis=None), 3)\n",
    "cap = np.round(np.concatenate((accCapacityNDf[\"Changed\"][[0, 2]], np.array([np.NaN, np.NaN])), axis=None), 3)\n",
    "\n",
    "x = np.arange(len(labels))  # the label locations\n",
    "width = 0.7  # the width of the bars\n",
    "\n",
    "fig, ax = plt.subplots(figsize=(13, 8))\n",
    "# rects5 = ax.bar(x - 2*width/4, realityArrivals, width/4, label='REAL', color='#9566bd')\n",
    "rects1 = ax.bar(x, top, width/5, label='TOP-N')\n",
    "rects2 = ax.bar(x + width/5, bottom, width/5, label='LEAST-N')\n",
    "rects3 = ax.bar(x + width/5*2, random, width/5, label='RANDOM-N')\n",
    "rects4 = ax.bar(x + 3*width/5, sus, width/5, label='SUS-UNPOP-N')\n",
    "rects5 = ax.bar(x + 4*width/5, cap, width/5, label='SUS-FREEBEDS-N')\n",
    "\n",
    "# hmm = ax.axhline(0.176, color='#000000', ls='--', alpha = 0.5, label = 'REAL (0.176)')\n",
    "\n",
    "# plt.plot([0, 1, 2, 3], [0.341, 0.341, 0.341, 0.341])\n",
    "\n",
    "# Add some text for labels, title and custom x-axis tick labels, etc.\n",
    "ax.set_ylabel('Conversion Rate')\n",
    "# ax.set_title('(a) Arrivals')\n",
    "# plt.title(\"(a) Arrivals\", y=-0.13, fontsize=14)\n",
    "ax.set_xticks(x)\n",
    "ax.set_xticklabels(labels)\n",
    "ax.legend(loc='upper right')\n",
    "\n",
    "ax.bar_label(rects1, padding=2)\n",
    "ax.bar_label(rects2, padding=2)\n",
    "ax.bar_label(rects3, padding=2)\n",
    "ax.bar_label(rects4, padding=2)\n",
    "ax.bar_label(rects5, padding=2)\n",
    "# ax.bar_label(rects5, padding=2)\n",
    "# ax.bar_label(g, padding=3)\n",
    "\n",
    "plt.xticks(fontsize= 12)\n",
    "\n",
    "# fig.tight_layout()\n",
    "plt.margins(0.02, 0.3)\n",
    "\n",
    "# plt.show()\n",
    "# plt.savefig('data1.png') \n",
    "\n",
    "fig1 = plt.gcf()\n",
    "plt.show()\n",
    "# plt.draw()\n",
    "# fig1.savefig('data1.png', dpi=100)\n",
    "fig1.savefig('../img/sim/conv_rate.png', bbox_inches='tight')"
   ]
  },
  {
   "cell_type": "code",
   "execution_count": 267,
   "id": "aa2bea7b-1803-4411-9e17-2d76c63eccfd",
   "metadata": {},
   "outputs": [
    {
     "data": {
      "text/html": [
       "<div>\n",
       "<style scoped>\n",
       "    .dataframe tbody tr th:only-of-type {\n",
       "        vertical-align: middle;\n",
       "    }\n",
       "\n",
       "    .dataframe tbody tr th {\n",
       "        vertical-align: top;\n",
       "    }\n",
       "\n",
       "    .dataframe thead th {\n",
       "        text-align: right;\n",
       "    }\n",
       "</style>\n",
       "<table border=\"1\" class=\"dataframe\">\n",
       "  <thead>\n",
       "    <tr style=\"text-align: right;\">\n",
       "      <th></th>\n",
       "      <th>Unnamed: 0</th>\n",
       "      <th>Ratio</th>\n",
       "    </tr>\n",
       "  </thead>\n",
       "  <tbody>\n",
       "    <tr>\n",
       "      <th>0</th>\n",
       "      <td>1</td>\n",
       "      <td>0.245309</td>\n",
       "    </tr>\n",
       "    <tr>\n",
       "      <th>1</th>\n",
       "      <td>2</td>\n",
       "      <td>0.303508</td>\n",
       "    </tr>\n",
       "    <tr>\n",
       "      <th>2</th>\n",
       "      <td>3</td>\n",
       "      <td>0.322359</td>\n",
       "    </tr>\n",
       "  </tbody>\n",
       "</table>\n",
       "</div>"
      ],
      "text/plain": [
       "   Unnamed: 0     Ratio\n",
       "0           1  0.245309\n",
       "1           2  0.303508\n",
       "2           3  0.322359"
      ]
     },
     "execution_count": 267,
     "metadata": {},
     "output_type": "execute_result"
    }
   ],
   "source": [
    "accSustainableNDf = pd.read_csv('../data/sustainableNTableAcc.csv')\n",
    "accSustainableNDf"
   ]
  },
  {
   "cell_type": "markdown",
   "id": "be308883-2c62-42b1-823a-5b7b6d1edb38",
   "metadata": {},
   "source": [
    "#### Recommendation acceptance \n",
    "How frequently are the items promoted by the considered marketing strategies consumed?"
   ]
  },
  {
   "cell_type": "code",
   "execution_count": 720,
   "id": "0d246f03-e1e3-4c07-a8be-578382528a59",
   "metadata": {},
   "outputs": [
    {
     "data": {
      "image/png": "[encoded data removed]",
      "text/plain": [
       "<Figure size 1300x800 with 1 Axes>"
      ]
     },
     "metadata": {},
     "output_type": "display_data"
    }
   ],
   "source": [
    "# REC ACC - CHOICE CHANGED\n",
    "\n",
    "labels = ['N = 1', 'N = 3', 'N = 5', 'N = 7']\n",
    "\n",
    "accTopNDf = pd.read_csv('../data/topNTableAcc.csv')\n",
    "accBottomNDf = pd.read_csv('../data/bottomNTableAcc.csv')\n",
    "accRandomNDf = pd.read_csv('../data/randomNTableAcc.csv')\n",
    "accSustainableNDf = pd.read_csv('../data/sustainableNTableAcc.csv')\n",
    "accCapacityNDf = pd.read_csv('../data/capacityNTableAcc.csv')\n",
    "\n",
    "top = np.round(accTopNDf[\"Consumed\"][[0, 2, 4, 6]], 3)\n",
    "bottom = np.round(accBottomNDf[\"Consumed\"][[0, 2, 4, 6]], 3)\n",
    "random = np.round(accRandomNDf[\"Consumed\"][[0, 2, 4, 6]], 3)\n",
    "sus = np.round(np.concatenate((accSustainableNDf[\"Ratio\"][[0, 2]], np.array([np.NaN, np.NaN])), axis=None), 3)\n",
    "cap = np.round(np.concatenate((accCapacityNDf[\"Changed\"][[0, 2]], np.array([np.NaN, np.NaN])), axis=None), 3)\n",
    "\n",
    "x = np.arange(len(labels))  # the label locations\n",
    "width = 0.7  # the width of the bars\n",
    "\n",
    "fig, ax = plt.subplots(figsize=(13, 8))\n",
    "# rects5 = ax.bar(x - 2*width/4, realityArrivals, width/4, label='REAL', color='#9566bd')\n",
    "rects1 = ax.bar(x, top, width/5, label='TOP-N')\n",
    "rects2 = ax.bar(x + width/5, bottom, width/5, label='LEAST-N')\n",
    "rects3 = ax.bar(x + width/5*2, random, width/5, label='RANDOM-N')\n",
    "rects4 = ax.bar(x + 3*width/5, sus, width/5, label='SUS-UNPOP-N')\n",
    "rects5 = ax.bar(x + 4*width/5, cap, width/5, label='SUS-FREEBEDS-N')\n",
    "\n",
    "# hmm = ax.axhline(0.176, color='#000000', ls='--', alpha = 0.5, label = 'REAL (0.176)')\n",
    "\n",
    "# plt.plot([0, 1, 2, 3], [0.341, 0.341, 0.341, 0.341])\n",
    "\n",
    "# Add some text for labels, title and custom x-axis tick labels, etc.\n",
    "ax.set_ylabel('Recommendation Acceptance')\n",
    "# ax.set_title('(a) Arrivals')\n",
    "# plt.title(\"(a) Arrivals\", y=-0.13, fontsize=14)\n",
    "ax.set_xticks(x)\n",
    "ax.set_xticklabels(labels)\n",
    "ax.legend(loc='upper right')\n",
    "\n",
    "ax.bar_label(rects1, padding=2)\n",
    "ax.bar_label(rects2, padding=2)\n",
    "ax.bar_label(rects3, padding=2)\n",
    "ax.bar_label(rects4, padding=2)\n",
    "ax.bar_label(rects5, padding=2)\n",
    "# ax.bar_label(rects5, padding=2)\n",
    "# ax.bar_label(g, padding=3)\n",
    "\n",
    "plt.xticks(fontsize= 12)\n",
    "\n",
    "# fig.tight_layout()\n",
    "plt.margins(0.02, 0.3)\n",
    "\n",
    "# plt.show()\n",
    "# plt.savefig('data1.png') \n",
    "\n",
    "fig1 = plt.gcf()\n",
    "plt.show()\n",
    "# plt.draw()\n",
    "# fig1.savefig('data1.png', dpi=100)\n",
    "fig1.savefig('../img/sim/rec_acc.png', bbox_inches='tight')"
   ]
  },
  {
   "cell_type": "markdown",
   "id": "dfe5efa4-c7c9-47d3-b5c2-8c1ee29c0826",
   "metadata": {},
   "source": [
    "## Experiments for different conversion rates"
   ]
  },
  {
   "cell_type": "markdown",
   "id": "033c8339-d613-47f2-bb7d-2ba7a9d5f161",
   "metadata": {},
   "source": [
    "Rerun experiments for 2019 | ALL_COUNTRIES | CONV_RATE = 25% | 50% | 75% | 100%"
   ]
  },
  {
   "cell_type": "code",
   "execution_count": 612,
   "id": "61cf69bc-ff61-49fb-bacc-390f8f42f176",
   "metadata": {},
   "outputs": [],
   "source": [
    "conv_rates = [0, 12.5, 25, 50]"
   ]
  },
  {
   "cell_type": "code",
   "execution_count": null,
   "id": "28de3a0c-037a-4025-be2e-8306352ab603",
   "metadata": {},
   "outputs": [],
   "source": [
    "cResults = {}\n",
    "\n",
    "N = 3\n",
    "\n",
    "for cr in conv_rates:\n",
    "    \n",
    "    cResults[cr] = {}\n",
    "    \n",
    "    for i in range(1, 6):\n",
    "        \n",
    "        print(cr, i)\n",
    "        \n",
    "        #run_sustainable2(year, conv_rate, k, seen_rate, nationality_filter, decay_rate):\n",
    "        cResults[cr][i] = on_run_simulation_btn_click(2019, SIM_TYPE_TOPN, N, cr, 100, [], ALL_COUNTRIES, 1.2)\n",
    "        #run_sustainable(2019, cr, N, 100, ALL_COUNTRIES, 1.2)#on_run_simulation_btn_click(2019, SIM_TYPE_BOTTOMN, N, cr, 100, [], ALL_COUNTRIES, 1.2)\n",
    "        "
   ]
  },
  {
   "cell_type": "code",
   "execution_count": 626,
   "id": "64ed3024-9dfc-43c1-90d4-35dc33111c5e",
   "metadata": {},
   "outputs": [],
   "source": [
    "bottomNR = cResults"
   ]
  },
  {
   "cell_type": "code",
   "execution_count": 628,
   "id": "9afcfd73-1fb6-45e9-93eb-350a0f3bdc7f",
   "metadata": {},
   "outputs": [],
   "source": [
    "topNR = cResults"
   ]
  },
  {
   "cell_type": "code",
   "execution_count": 616,
   "id": "210493b6-b00f-4b97-8742-4ddfca1b0fc8",
   "metadata": {},
   "outputs": [],
   "source": [
    "capacityNR = cResults"
   ]
  },
  {
   "cell_type": "code",
   "execution_count": 618,
   "id": "16cf178a-73d1-4dc0-8f58-23d7a465f805",
   "metadata": {},
   "outputs": [],
   "source": [
    "sustainableNR = cResults"
   ]
  },
  {
   "cell_type": "code",
   "execution_count": 622,
   "id": "90195df0-9fc6-4163-877c-d950b32eb1e7",
   "metadata": {},
   "outputs": [],
   "source": [
    "randomNR = cResults"
   ]
  },
  {
   "cell_type": "code",
   "execution_count": 790,
   "id": "10078304-0de0-4fd4-b3c2-2bc0c6445c8e",
   "metadata": {},
   "outputs": [
    {
     "name": "stdout",
     "output_type": "stream",
     "text": [
      "[[0.3410207491596913, 0.4026787990127464, 0.3077106030034163, 0.06076124413213433], [0.3559369415465002, 0.4326962352888017, 0.3697416485338796, 0.09932222961352465], [0.3803043023179747, 0.4521099937116898, 0.40302347174601444, 0.15418801155971698], [0.4407761199183003, 0.4971938745548209, 0.47337289095893487, 0.27444647773143527]]\n"
     ]
    }
   ],
   "source": [
    "cTable = []\n",
    "\n",
    "for cr in conv_rates:\n",
    "\n",
    "    arrivalsSum = 0\n",
    "    avgPresentSum = 0\n",
    "    avgPresentPopSum = 0\n",
    "    avgPresentBedSum = 0\n",
    "    \n",
    "    for i in range(1, 6):\n",
    "        \n",
    "            # print(n, i)\n",
    "        \n",
    "            #arrivalsSimulated = on_run_simulation_btn_click(2019, SIM_TYPE_BOTTOMN, n, -1, 100, [], ALL_COUNTRIES, 1.2)\n",
    "            arrivalsSimulated = capacityNR[cr][i][0]#run_random(2019, n, -1, 100, ALL_COUNTRIES, 1.2)\n",
    "            #arrivalsSimulated = run_sustainable(2019, -1, n, 100, ALL_COUNTRIES, 1.2)\n",
    "        \n",
    "            districts = gp.read_file('../data/geo_district_df.shp')\n",
    "\n",
    "            yearlyDf = arrivalsSimulated[arrivalsSimulated['Year'] == 2019]\n",
    "\n",
    "            yearlyDf = yearlyDf.groupby(['district_c']).sum()\n",
    "\n",
    "            yearlyDf = districts.merge(yearlyDf, on='district_c',\n",
    "                                     how=\"inner\", suffixes=('', '_y'))\n",
    "            \n",
    "            if cr == 0:\n",
    "                yearlyDf[\"sim_present\"] = yearlyDf[\"Present\"]\n",
    "\n",
    "            yearlyDf[\"AvgPresentSim\"] = yearlyDf[\"sim_present\"] / 365\n",
    "            yearlyDf[\"AvgPresentToBedsSim\"] = yearlyDf[\"AvgPresentSim\"] / yearlyDf[\"beds\"]\n",
    "            yearlyDf[\"AvgPresentToPopSim\"] = yearlyDf[\"AvgPresentSim\"] / yearlyDf[\"population\"]\n",
    "\n",
    "\n",
    "            yearlyDf[\"AvgPresent\"] = yearlyDf[\"Present\"] / 365\n",
    "            yearlyDf[\"AvgPresentToBeds\"] = yearlyDf[\"AvgPresent\"] / yearlyDf[\"beds\"]\n",
    "            yearlyDf[\"AvgPresentToPop\"] = yearlyDf[\"AvgPresent\"] / yearlyDf[\"population\"]\n",
    "\n",
    "            # #st.write(np.array(yearlyDf['avgPop'].values.tolist()))\n",
    "            \n",
    "            arrivals = gini_coefficient(np.array(yearlyDf['Arrivals_sim'].values.tolist()))\n",
    "            avgPresent = gini_coefficient(np.array(yearlyDf['AvgPresentSim'].values.tolist()))\n",
    "            avgPresentPop = gini_coefficient(np.array(yearlyDf['AvgPresentToPopSim'].values.tolist()))\n",
    "            avgPresentBeds = gini_coefficient(np.array(yearlyDf['AvgPresentToBedsSim'].values.tolist()))\n",
    "            \n",
    "    giniArrivals = arrivalsSum / 5\n",
    "    giniAvgPresent = avgPresentSum / 5\n",
    "    giniAvgPresentPop = avgPresentPopSum / 5\n",
    "    giniAvgPresentBed = avgPresentBedSum / 5\n",
    "    \n",
    "    cTable.append([arrivals, avgPresent, avgPresentPop, avgPresentBeds])\n",
    "    \n",
    "            \n",
    "print(cTable)"
   ]
  },
  {
   "cell_type": "code",
   "execution_count": 787,
   "id": "569e93d0-7fb4-46f2-bbed-8b7d08851fea",
   "metadata": {},
   "outputs": [],
   "source": [
    "sustainableNTableCR = pd.DataFrame(cTable, index = conv_rates, columns =['Arrivals', 'AvgPresent', 'AvgPresentPop', 'AvgPresentBeds'])"
   ]
  },
  {
   "cell_type": "code",
   "execution_count": 788,
   "id": "6948da0b-8edf-41ec-a5c2-2d2ade22c0b2",
   "metadata": {},
   "outputs": [],
   "source": [
    "sustainableNTableCR.to_csv('../data/CR/sustainableN.csv')"
   ]
  },
  {
   "cell_type": "code",
   "execution_count": 789,
   "id": "79aa9156-be8c-4735-98b7-0c78e2c2ab8c",
   "metadata": {},
   "outputs": [
    {
     "data": {
      "text/html": [
       "<div>\n",
       "<style scoped>\n",
       "    .dataframe tbody tr th:only-of-type {\n",
       "        vertical-align: middle;\n",
       "    }\n",
       "\n",
       "    .dataframe tbody tr th {\n",
       "        vertical-align: top;\n",
       "    }\n",
       "\n",
       "    .dataframe thead th {\n",
       "        text-align: right;\n",
       "    }\n",
       "</style>\n",
       "<table border=\"1\" class=\"dataframe\">\n",
       "  <thead>\n",
       "    <tr style=\"text-align: right;\">\n",
       "      <th></th>\n",
       "      <th>Arrivals</th>\n",
       "      <th>AvgPresent</th>\n",
       "      <th>AvgPresentPop</th>\n",
       "      <th>AvgPresentBeds</th>\n",
       "    </tr>\n",
       "  </thead>\n",
       "  <tbody>\n",
       "    <tr>\n",
       "      <th>0.0</th>\n",
       "      <td>0.341021</td>\n",
       "      <td>0.402679</td>\n",
       "      <td>0.307711</td>\n",
       "      <td>0.060761</td>\n",
       "    </tr>\n",
       "    <tr>\n",
       "      <th>12.5</th>\n",
       "      <td>0.271015</td>\n",
       "      <td>0.345040</td>\n",
       "      <td>0.294864</td>\n",
       "      <td>0.106445</td>\n",
       "    </tr>\n",
       "    <tr>\n",
       "      <th>25.0</th>\n",
       "      <td>0.250123</td>\n",
       "      <td>0.300429</td>\n",
       "      <td>0.328143</td>\n",
       "      <td>0.219515</td>\n",
       "    </tr>\n",
       "    <tr>\n",
       "      <th>50.0</th>\n",
       "      <td>0.362989</td>\n",
       "      <td>0.379855</td>\n",
       "      <td>0.470301</td>\n",
       "      <td>0.415553</td>\n",
       "    </tr>\n",
       "  </tbody>\n",
       "</table>\n",
       "</div>"
      ],
      "text/plain": [
       "      Arrivals  AvgPresent  AvgPresentPop  AvgPresentBeds\n",
       "0.0   0.341021    0.402679       0.307711        0.060761\n",
       "12.5  0.271015    0.345040       0.294864        0.106445\n",
       "25.0  0.250123    0.300429       0.328143        0.219515\n",
       "50.0  0.362989    0.379855       0.470301        0.415553"
      ]
     },
     "execution_count": 789,
     "metadata": {},
     "output_type": "execute_result"
    }
   ],
   "source": [
    "sustainableNTableCR"
   ]
  },
  {
   "cell_type": "code",
   "execution_count": 791,
   "id": "6175d754-6554-4487-85dd-c09c4e21fb96",
   "metadata": {},
   "outputs": [],
   "source": [
    "capacityNTableCR = pd.DataFrame(cTable, index = conv_rates, columns =['Arrivals', 'AvgPresent', 'AvgPresentPop', 'AvgPresentBeds'])"
   ]
  },
  {
   "cell_type": "code",
   "execution_count": 792,
   "id": "2b01adaf-5636-44a9-82d0-fd2fc509ca8d",
   "metadata": {},
   "outputs": [],
   "source": [
    "capacityNTableCR.to_csv('../data/CR/capacityN.csv')"
   ]
  },
  {
   "cell_type": "code",
   "execution_count": 793,
   "id": "690c7e73-5961-4ded-8eae-2f45dc3945ed",
   "metadata": {},
   "outputs": [
    {
     "data": {
      "text/html": [
       "<div>\n",
       "<style scoped>\n",
       "    .dataframe tbody tr th:only-of-type {\n",
       "        vertical-align: middle;\n",
       "    }\n",
       "\n",
       "    .dataframe tbody tr th {\n",
       "        vertical-align: top;\n",
       "    }\n",
       "\n",
       "    .dataframe thead th {\n",
       "        text-align: right;\n",
       "    }\n",
       "</style>\n",
       "<table border=\"1\" class=\"dataframe\">\n",
       "  <thead>\n",
       "    <tr style=\"text-align: right;\">\n",
       "      <th></th>\n",
       "      <th>Arrivals</th>\n",
       "      <th>AvgPresent</th>\n",
       "      <th>AvgPresentPop</th>\n",
       "      <th>AvgPresentBeds</th>\n",
       "    </tr>\n",
       "  </thead>\n",
       "  <tbody>\n",
       "    <tr>\n",
       "      <th>0.0</th>\n",
       "      <td>0.341021</td>\n",
       "      <td>0.402679</td>\n",
       "      <td>0.307711</td>\n",
       "      <td>0.060761</td>\n",
       "    </tr>\n",
       "    <tr>\n",
       "      <th>12.5</th>\n",
       "      <td>0.355937</td>\n",
       "      <td>0.432696</td>\n",
       "      <td>0.369742</td>\n",
       "      <td>0.099322</td>\n",
       "    </tr>\n",
       "    <tr>\n",
       "      <th>25.0</th>\n",
       "      <td>0.380304</td>\n",
       "      <td>0.452110</td>\n",
       "      <td>0.403023</td>\n",
       "      <td>0.154188</td>\n",
       "    </tr>\n",
       "    <tr>\n",
       "      <th>50.0</th>\n",
       "      <td>0.440776</td>\n",
       "      <td>0.497194</td>\n",
       "      <td>0.473373</td>\n",
       "      <td>0.274446</td>\n",
       "    </tr>\n",
       "  </tbody>\n",
       "</table>\n",
       "</div>"
      ],
      "text/plain": [
       "      Arrivals  AvgPresent  AvgPresentPop  AvgPresentBeds\n",
       "0.0   0.341021    0.402679       0.307711        0.060761\n",
       "12.5  0.355937    0.432696       0.369742        0.099322\n",
       "25.0  0.380304    0.452110       0.403023        0.154188\n",
       "50.0  0.440776    0.497194       0.473373        0.274446"
      ]
     },
     "execution_count": 793,
     "metadata": {},
     "output_type": "execute_result"
    }
   ],
   "source": [
    "capacityNTableCR"
   ]
  },
  {
   "cell_type": "code",
   "execution_count": 783,
   "id": "17fc741d-f168-4b0c-a4dc-1a79e43fd548",
   "metadata": {},
   "outputs": [],
   "source": [
    "randomNTableCR = pd.DataFrame(cTable, index = conv_rates, columns =['Arrivals', 'AvgPresent', 'AvgPresentPop', 'AvgPresentBeds'])"
   ]
  },
  {
   "cell_type": "code",
   "execution_count": 784,
   "id": "3b374b26-6c13-4a49-acac-e447dad39f6f",
   "metadata": {},
   "outputs": [],
   "source": [
    "randomNTableCR.to_csv('../data/CR/randomN.csv')"
   ]
  },
  {
   "cell_type": "code",
   "execution_count": 785,
   "id": "3a4e73e4-f76c-4e02-a9b2-66c45e314add",
   "metadata": {},
   "outputs": [
    {
     "data": {
      "text/html": [
       "<div>\n",
       "<style scoped>\n",
       "    .dataframe tbody tr th:only-of-type {\n",
       "        vertical-align: middle;\n",
       "    }\n",
       "\n",
       "    .dataframe tbody tr th {\n",
       "        vertical-align: top;\n",
       "    }\n",
       "\n",
       "    .dataframe thead th {\n",
       "        text-align: right;\n",
       "    }\n",
       "</style>\n",
       "<table border=\"1\" class=\"dataframe\">\n",
       "  <thead>\n",
       "    <tr style=\"text-align: right;\">\n",
       "      <th></th>\n",
       "      <th>Arrivals</th>\n",
       "      <th>AvgPresent</th>\n",
       "      <th>AvgPresentPop</th>\n",
       "      <th>AvgPresentBeds</th>\n",
       "    </tr>\n",
       "  </thead>\n",
       "  <tbody>\n",
       "    <tr>\n",
       "      <th>0.0</th>\n",
       "      <td>0.341021</td>\n",
       "      <td>0.402679</td>\n",
       "      <td>0.307711</td>\n",
       "      <td>0.060761</td>\n",
       "    </tr>\n",
       "    <tr>\n",
       "      <th>12.5</th>\n",
       "      <td>0.315865</td>\n",
       "      <td>0.385951</td>\n",
       "      <td>0.305076</td>\n",
       "      <td>0.059425</td>\n",
       "    </tr>\n",
       "    <tr>\n",
       "      <th>25.0</th>\n",
       "      <td>0.304801</td>\n",
       "      <td>0.364269</td>\n",
       "      <td>0.284485</td>\n",
       "      <td>0.066092</td>\n",
       "    </tr>\n",
       "    <tr>\n",
       "      <th>50.0</th>\n",
       "      <td>0.296523</td>\n",
       "      <td>0.332700</td>\n",
       "      <td>0.264278</td>\n",
       "      <td>0.118609</td>\n",
       "    </tr>\n",
       "  </tbody>\n",
       "</table>\n",
       "</div>"
      ],
      "text/plain": [
       "      Arrivals  AvgPresent  AvgPresentPop  AvgPresentBeds\n",
       "0.0   0.341021    0.402679       0.307711        0.060761\n",
       "12.5  0.315865    0.385951       0.305076        0.059425\n",
       "25.0  0.304801    0.364269       0.284485        0.066092\n",
       "50.0  0.296523    0.332700       0.264278        0.118609"
      ]
     },
     "execution_count": 785,
     "metadata": {},
     "output_type": "execute_result"
    }
   ],
   "source": [
    "randomNTableCR"
   ]
  },
  {
   "cell_type": "code",
   "execution_count": 779,
   "id": "89b07d5a-8b3c-4158-bf23-c40cd43ea73d",
   "metadata": {},
   "outputs": [],
   "source": [
    "topNTableCR = pd.DataFrame(cTable, index = conv_rates, columns =['Arrivals', 'AvgPresent', 'AvgPresentPop', 'AvgPresentBeds'])"
   ]
  },
  {
   "cell_type": "code",
   "execution_count": 780,
   "id": "d997bce8-e1bc-4fea-8f05-d9876769e441",
   "metadata": {},
   "outputs": [],
   "source": [
    "topNTableCR.to_csv('../data/CR/topN.csv')"
   ]
  },
  {
   "cell_type": "code",
   "execution_count": 781,
   "id": "8b09fa92-5233-4197-9b03-ad04902e98c2",
   "metadata": {},
   "outputs": [
    {
     "data": {
      "text/html": [
       "<div>\n",
       "<style scoped>\n",
       "    .dataframe tbody tr th:only-of-type {\n",
       "        vertical-align: middle;\n",
       "    }\n",
       "\n",
       "    .dataframe tbody tr th {\n",
       "        vertical-align: top;\n",
       "    }\n",
       "\n",
       "    .dataframe thead th {\n",
       "        text-align: right;\n",
       "    }\n",
       "</style>\n",
       "<table border=\"1\" class=\"dataframe\">\n",
       "  <thead>\n",
       "    <tr style=\"text-align: right;\">\n",
       "      <th></th>\n",
       "      <th>Arrivals</th>\n",
       "      <th>AvgPresent</th>\n",
       "      <th>AvgPresentPop</th>\n",
       "      <th>AvgPresentBeds</th>\n",
       "    </tr>\n",
       "  </thead>\n",
       "  <tbody>\n",
       "    <tr>\n",
       "      <th>0.0</th>\n",
       "      <td>0.341021</td>\n",
       "      <td>0.402679</td>\n",
       "      <td>0.307711</td>\n",
       "      <td>0.060761</td>\n",
       "    </tr>\n",
       "    <tr>\n",
       "      <th>12.5</th>\n",
       "      <td>0.381055</td>\n",
       "      <td>0.451457</td>\n",
       "      <td>0.371560</td>\n",
       "      <td>0.106257</td>\n",
       "    </tr>\n",
       "    <tr>\n",
       "      <th>25.0</th>\n",
       "      <td>0.425348</td>\n",
       "      <td>0.485284</td>\n",
       "      <td>0.407593</td>\n",
       "      <td>0.153197</td>\n",
       "    </tr>\n",
       "    <tr>\n",
       "      <th>50.0</th>\n",
       "      <td>0.519153</td>\n",
       "      <td>0.558314</td>\n",
       "      <td>0.487994</td>\n",
       "      <td>0.274976</td>\n",
       "    </tr>\n",
       "  </tbody>\n",
       "</table>\n",
       "</div>"
      ],
      "text/plain": [
       "      Arrivals  AvgPresent  AvgPresentPop  AvgPresentBeds\n",
       "0.0   0.341021    0.402679       0.307711        0.060761\n",
       "12.5  0.381055    0.451457       0.371560        0.106257\n",
       "25.0  0.425348    0.485284       0.407593        0.153197\n",
       "50.0  0.519153    0.558314       0.487994        0.274976"
      ]
     },
     "execution_count": 781,
     "metadata": {},
     "output_type": "execute_result"
    }
   ],
   "source": [
    "topNTableCR"
   ]
  },
  {
   "cell_type": "code",
   "execution_count": 775,
   "id": "de52160f-481f-422e-bb48-8ee817c0b8d8",
   "metadata": {},
   "outputs": [],
   "source": [
    "bottomNTableCR = pd.DataFrame(cTable, index = conv_rates, columns =['Arrivals', 'AvgPresent', 'AvgPresentPop', 'AvgPresentBeds'])"
   ]
  },
  {
   "cell_type": "code",
   "execution_count": 776,
   "id": "05b44c16-df7d-4ab6-a5c2-3ca48425bb65",
   "metadata": {},
   "outputs": [],
   "source": [
    "bottomNTableCR.to_csv('../data/CR/bottomNTableCR.csv')"
   ]
  },
  {
   "cell_type": "code",
   "execution_count": 777,
   "id": "23d8541e-4ff8-4e25-95f9-a8cd01ac8697",
   "metadata": {},
   "outputs": [
    {
     "data": {
      "text/html": [
       "<div>\n",
       "<style scoped>\n",
       "    .dataframe tbody tr th:only-of-type {\n",
       "        vertical-align: middle;\n",
       "    }\n",
       "\n",
       "    .dataframe tbody tr th {\n",
       "        vertical-align: top;\n",
       "    }\n",
       "\n",
       "    .dataframe thead th {\n",
       "        text-align: right;\n",
       "    }\n",
       "</style>\n",
       "<table border=\"1\" class=\"dataframe\">\n",
       "  <thead>\n",
       "    <tr style=\"text-align: right;\">\n",
       "      <th></th>\n",
       "      <th>Arrivals</th>\n",
       "      <th>AvgPresent</th>\n",
       "      <th>AvgPresentPop</th>\n",
       "      <th>AvgPresentBeds</th>\n",
       "    </tr>\n",
       "  </thead>\n",
       "  <tbody>\n",
       "    <tr>\n",
       "      <th>0.0</th>\n",
       "      <td>0.341021</td>\n",
       "      <td>0.402679</td>\n",
       "      <td>0.307711</td>\n",
       "      <td>0.060761</td>\n",
       "    </tr>\n",
       "    <tr>\n",
       "      <th>12.5</th>\n",
       "      <td>0.261474</td>\n",
       "      <td>0.326058</td>\n",
       "      <td>0.285221</td>\n",
       "      <td>0.201120</td>\n",
       "    </tr>\n",
       "    <tr>\n",
       "      <th>25.0</th>\n",
       "      <td>0.244675</td>\n",
       "      <td>0.280679</td>\n",
       "      <td>0.339526</td>\n",
       "      <td>0.318014</td>\n",
       "    </tr>\n",
       "    <tr>\n",
       "      <th>50.0</th>\n",
       "      <td>0.367657</td>\n",
       "      <td>0.372966</td>\n",
       "      <td>0.494920</td>\n",
       "      <td>0.486822</td>\n",
       "    </tr>\n",
       "  </tbody>\n",
       "</table>\n",
       "</div>"
      ],
      "text/plain": [
       "      Arrivals  AvgPresent  AvgPresentPop  AvgPresentBeds\n",
       "0.0   0.341021    0.402679       0.307711        0.060761\n",
       "12.5  0.261474    0.326058       0.285221        0.201120\n",
       "25.0  0.244675    0.280679       0.339526        0.318014\n",
       "50.0  0.367657    0.372966       0.494920        0.486822"
      ]
     },
     "execution_count": 777,
     "metadata": {},
     "output_type": "execute_result"
    }
   ],
   "source": [
    "bottomNTableCR"
   ]
  },
  {
   "cell_type": "code",
   "execution_count": 794,
   "id": "795faa4b-80d6-4c1f-af37-9b7a59c8857a",
   "metadata": {},
   "outputs": [
    {
     "data": {
      "image/png": "[encoded data removed]",
      "text/plain": [
       "<Figure size 1300x800 with 1 Axes>"
      ]
     },
     "metadata": {},
     "output_type": "display_data"
    }
   ],
   "source": [
    "labels = ['CR = 0%', 'CR = 12.5%', 'CR = 25%', 'CR = 50%']\n",
    "\n",
    "top = np.round(topNTableCR[\"Arrivals\"], 2)\n",
    "bottom = np.round(bottomNTableCR[\"Arrivals\"], 2)\n",
    "random = np.round(randomNTableCR[\"Arrivals\"], 2)\n",
    "sus = np.round(sustainableNTableCR[\"Arrivals\"], 2)\n",
    "cap = np.round(capacityNTableCR[\"Arrivals\"], 2)\n",
    "\n",
    "x = np.arange(len(labels))  # the label locations\n",
    "width = 0.7  # the width of the bars\n",
    "\n",
    "fig, ax = plt.subplots(figsize=(13, 8))\n",
    "# rects5 = ax.bar(x - 2*width/4, realityArrivals, width/4, label='REAL', color='#9566bd')\n",
    "rects1 = ax.bar(x, top, width/5, label='TOP-N')\n",
    "rects2 = ax.bar(x + width/5, bottom, width/5, label='LEAST-N')\n",
    "rects3 = ax.bar(x + width/5*2, random, width/5, label='RANDOM-N')\n",
    "rects4 = ax.bar(x + 3*width/5, sus, width/5, label='SUS-UNPOP-N')\n",
    "rects5 = ax.bar(x + 4*width/5, cap, width/5, label='SUS-FREEBEDS-N')\n",
    "\n",
    "hmm = ax.axhline(0.341, color='#000000', ls='--', alpha = 0.5, label = 'REAL (0.341)')\n",
    "\n",
    "# hmm = ax.axhline(0.176, color='#000000', ls='--', alpha = 0.5, label = 'REAL (0.176)')\n",
    "\n",
    "# plt.plot([0, 1, 2, 3], [0.341, 0.341, 0.341, 0.341])\n",
    "\n",
    "# Add some text for labels, title and custom x-axis tick labels, etc.\n",
    "ax.set_ylabel('Gini Index')\n",
    "# ax.set_title('(a) Arrivals')\n",
    "# plt.title(\"(a) Arrivals\", y=-0.13, fontsize=14)\n",
    "ax.set_xticks(x)\n",
    "ax.set_xticklabels(labels)\n",
    "ax.legend(loc='upper left')\n",
    "\n",
    "ax.bar_label(rects1, padding=2, rotation=45)\n",
    "ax.bar_label(rects2, padding=2, rotation=45)\n",
    "ax.bar_label(rects3, padding=2, rotation=45)\n",
    "ax.bar_label(rects4, padding=2, rotation=45)\n",
    "ax.bar_label(rects5, padding=2, rotation=45)\n",
    "# ax.bar_label(rects5, padding=2)\n",
    "# ax.bar_label(g, padding=3)\n",
    "\n",
    "plt.xticks(fontsize= 12)\n",
    "\n",
    "# fig.tight_layout()\n",
    "plt.margins(0.02, 0.3)\n",
    "\n",
    "# plt.show()\n",
    "# plt.savefig('data1.png') \n",
    "\n",
    "fig1 = plt.gcf()\n",
    "plt.show()\n",
    "# plt.draw()\n",
    "fig1.savefig('../img/rc/gini_index_arrivals.png', bbox_inches='tight')"
   ]
  },
  {
   "cell_type": "code",
   "execution_count": 800,
   "id": "a4f02bd9-1381-4f37-8be8-c2d81634a004",
   "metadata": {},
   "outputs": [
    {
     "data": {
      "image/png": "[encoded data removed]",
      "text/plain": [
       "<Figure size 1300x800 with 1 Axes>"
      ]
     },
     "metadata": {},
     "output_type": "display_data"
    }
   ],
   "source": [
    "labels = ['CR = 0%', 'CR = 12.5%', 'CR = 25%', 'CR = 50%']\n",
    "\n",
    "top = np.round(topNTableCR[\"AvgPresentPop\"], 2)\n",
    "bottom = np.round(bottomNTableCR[\"AvgPresentPop\"], 2)\n",
    "random = np.round(randomNTableCR[\"AvgPresentPop\"], 2)\n",
    "sus = np.round(sustainableNTableCR[\"AvgPresentPop\"], 2)\n",
    "cap = np.round(capacityNTableCR[\"AvgPresentPop\"], 2)\n",
    "\n",
    "x = np.arange(len(labels))  # the label locations\n",
    "width = 0.7  # the width of the bars\n",
    "\n",
    "fig, ax = plt.subplots(figsize=(13, 8))\n",
    "# rects5 = ax.bar(x - 2*width/4, realityArrivals, width/4, label='REAL', color='#9566bd')\n",
    "rects1 = ax.bar(x, top, width/5, label='TOP-N')\n",
    "rects2 = ax.bar(x + width/5, bottom, width/5, label='LEAST-N')\n",
    "rects3 = ax.bar(x + width/5*2, random, width/5, label='RANDOM-N')\n",
    "rects4 = ax.bar(x + 3*width/5, sus, width/5, label='SUS-UNPOP-N')\n",
    "rects5 = ax.bar(x + 4*width/5, cap, width/5, label='SUS-FREEBEDS-N')\n",
    "\n",
    "# hmm = ax.axhline(0.176, color='#000000', ls='--', alpha = 0.5, label = 'REAL (0.176)')\n",
    "\n",
    "# plt.plot([0, 1, 2, 3], [0.341, 0.341, 0.341, 0.341])\n",
    "\n",
    "hmm = ax.axhline(0.31, color='#000000', ls='--', alpha = 0.5, label = 'REAL (0.308)')\n",
    "\n",
    "# Add some text for labels, title and custom x-axis tick labels, etc.\n",
    "ax.set_ylabel('Gini Index')\n",
    "# ax.set_title('(a) Arrivals')\n",
    "# plt.title(\"(a) Arrivals\", y=-0.13, fontsize=14)\n",
    "ax.set_xticks(x)\n",
    "ax.set_xticklabels(labels)\n",
    "ax.legend(loc='upper left')\n",
    "\n",
    "ax.bar_label(rects1, padding=2, rotation=45)\n",
    "ax.bar_label(rects2, padding=2, rotation=45)\n",
    "ax.bar_label(rects3, padding=2, rotation=45)\n",
    "ax.bar_label(rects4, padding=2, rotation=45)\n",
    "ax.bar_label(rects5, padding=2, rotation=45)\n",
    "# ax.bar_label(rects5, padding=2)\n",
    "# ax.bar_label(g, padding=3)\n",
    "\n",
    "plt.xticks(fontsize= 12)\n",
    "\n",
    "# fig.tight_layout()\n",
    "plt.margins(0.02, 0.3)\n",
    "\n",
    "# plt.show()\n",
    "# plt.savefig('data1.png') \n",
    "\n",
    "fig1 = plt.gcf()\n",
    "plt.show()\n",
    "# plt.draw()\n",
    "fig1.savefig('../img/rc/gini_index_avg_pres_pop.png', bbox_inches='tight')"
   ]
  },
  {
   "cell_type": "code",
   "execution_count": 796,
   "id": "93f405e7-3ce6-4a4b-a37e-26bf7d9e8af3",
   "metadata": {},
   "outputs": [
    {
     "data": {
      "image/png": "[encoded data removed]",
      "text/plain": [
       "<Figure size 1300x800 with 1 Axes>"
      ]
     },
     "metadata": {},
     "output_type": "display_data"
    }
   ],
   "source": [
    "labels = ['CR = 0%', 'CR = 12.5%', 'CR = 25%', 'CR = 50%']\n",
    "\n",
    "top = np.round(topNTableCR[\"AvgPresentBeds\"], 2)\n",
    "bottom = np.round(bottomNTableCR[\"AvgPresentBeds\"], 2)\n",
    "random = np.round(randomNTableCR[\"AvgPresentBeds\"], 2)\n",
    "sus = np.round(sustainableNTableCR[\"AvgPresentBeds\"], 2)\n",
    "cap = np.round(capacityNTableCR[\"AvgPresentBeds\"], 2)\n",
    "\n",
    "x = np.arange(len(labels))  # the label locations\n",
    "width = 0.7  # the width of the bars\n",
    "\n",
    "fig, ax = plt.subplots(figsize=(13, 8))\n",
    "# rects5 = ax.bar(x - 2*width/4, realityArrivals, width/4, label='REAL', color='#9566bd')\n",
    "rects1 = ax.bar(x, top, width/5, label='TOP-N')\n",
    "rects2 = ax.bar(x + width/5, bottom, width/5, label='LEAST-N')\n",
    "rects3 = ax.bar(x + width/5*2, random, width/5, label='RANDOM-N')\n",
    "rects4 = ax.bar(x + 3*width/5, sus, width/5, label='SUS-UNPOP-N')\n",
    "rects5 = ax.bar(x + 4*width/5, cap, width/5, label='SUS-FREEBEDS-N')\n",
    "\n",
    "# hmm = ax.axhline(0.176, color='#000000', ls='--', alpha = 0.5, label = 'REAL (0.176)')\n",
    "\n",
    "# plt.plot([0, 1, 2, 3], [0.341, 0.341, 0.341, 0.341])\n",
    "\n",
    "hmm = ax.axhline(0.061, color='#000000', ls='--', alpha = 0.5, label = 'REAL (0.061)')\n",
    "\n",
    "# Add some text for labels, title and custom x-axis tick labels, etc.\n",
    "ax.set_ylabel('Gini Index')\n",
    "# ax.set_title('(a) Arrivals')\n",
    "# plt.title(\"(a) Arrivals\", y=-0.13, fontsize=14)\n",
    "ax.set_xticks(x)\n",
    "ax.set_xticklabels(labels)\n",
    "ax.legend(loc='upper left')\n",
    "\n",
    "ax.bar_label(rects1, padding=2, rotation=45)\n",
    "ax.bar_label(rects2, padding=2, rotation=45)\n",
    "ax.bar_label(rects3, padding=2, rotation=45)\n",
    "ax.bar_label(rects4, padding=2, rotation=45)\n",
    "ax.bar_label(rects5, padding=2, rotation=45)\n",
    "# ax.bar_label(rects5, padding=2)\n",
    "# ax.bar_label(g, padding=3)\n",
    "\n",
    "plt.xticks(fontsize= 12)\n",
    "\n",
    "# fig.tight_layout()\n",
    "plt.margins(0.02, 0.3)\n",
    "\n",
    "# plt.show()\n",
    "# plt.savefig('data1.png') \n",
    "\n",
    "fig1 = plt.gcf()\n",
    "plt.show()\n",
    "# plt.draw()\n",
    "fig1.savefig('../img/rc/gini_index_avg_pres_beds.png', bbox_inches='tight')"
   ]
  },
  {
   "cell_type": "markdown",
   "id": "6e690f22-a75d-4100-9bc8-c099958bd12e",
   "metadata": {},
   "source": [
    "### Popularity"
   ]
  },
  {
   "cell_type": "code",
   "execution_count": 672,
   "id": "72e78b36-9adc-469a-881c-e63e4e1672fe",
   "metadata": {},
   "outputs": [
    {
     "name": "stdout",
     "output_type": "stream",
     "text": [
      "[0.17638755720059163, 0.16320847397630964, 0.15024418007243046, 0.12451335540275765]\n"
     ]
    }
   ],
   "source": [
    "pTable = []\n",
    "\n",
    "for cr in conv_rates:\n",
    "    \n",
    "    sumArrivals = 0\n",
    "    \n",
    "    for i in range(1, 6):\n",
    "        \n",
    "            #arrivalsSimulated = on_run_simulation_btn_click(2019, SIM_TYPE_BOTTOMN, n, -1, 100, [], ALL_COUNTRIES, 1.2)\n",
    "            arrivalsSimulated = sustainableNR[cr][i][0]#run_random(2019, n, -1, 100, ALL_COUNTRIES, 1.2)\n",
    "            #arrivalsSimulated = run_sustainable(2019, -1, n, 100, ALL_COUNTRIES, 1.2)\n",
    "        \n",
    "            # districts = gp.read_file('../data/geo_district_df.shp')\n",
    "\n",
    "            yearlyDf = arrivalsSimulated[arrivalsSimulated['Year'] == 2019]\n",
    "\n",
    "            yearlyDf = yearlyDf.groupby(['district_c']).sum()\n",
    "            \n",
    "            yearlyDf['Popularity'] = yearlyDf['Arrivals'] / totalArrivals2019\n",
    "            \n",
    "            sumArrivals = sumArrivals + (yearlyDf['Arrivals_sim']*yearlyDf['Popularity']).sum() #np.add(arrivalsSum, np.array(yearlyDf['Arrivals_sim'].values.tolist()))\n",
    "\n",
    "    # divider = np.empty(8)\n",
    "    # divider.fill(int(5*totalArrivals2019))\n",
    "    sumArrivals = sumArrivals / (5*totalArrivals2019)\n",
    "    \n",
    "    pTable.append(sumArrivals)\n",
    "    \n",
    "            \n",
    "print(pTable)"
   ]
  },
  {
   "cell_type": "code",
   "execution_count": 667,
   "id": "72515ee2-34f3-4a3f-9bf0-5f2dfdf41917",
   "metadata": {},
   "outputs": [],
   "source": [
    "bottomNTablePopularity = pd.DataFrame(pTable, index = conv_rates)"
   ]
  },
  {
   "cell_type": "code",
   "execution_count": 668,
   "id": "a74ec7a9-cae1-46c0-88dc-8bc352d179da",
   "metadata": {},
   "outputs": [],
   "source": [
    "bottomNTablePopularity.to_csv('../data/CR/bottomNPopularity.csv')"
   ]
  },
  {
   "cell_type": "code",
   "execution_count": 664,
   "id": "f9be60af-8477-41ef-9b54-8eb057d90f3e",
   "metadata": {},
   "outputs": [],
   "source": [
    "topNTablePopularity = pd.DataFrame(pTable, index = conv_rates)"
   ]
  },
  {
   "cell_type": "code",
   "execution_count": 665,
   "id": "417cf079-43eb-46e1-9c5a-30ce0ef3bb46",
   "metadata": {},
   "outputs": [],
   "source": [
    "topNTablePopularity.to_csv('../data/CR/topNPopularity.csv')"
   ]
  },
  {
   "cell_type": "code",
   "execution_count": 670,
   "id": "2cf66f32-cd38-4510-b266-9d808b8c2e07",
   "metadata": {},
   "outputs": [],
   "source": [
    "capacityNTablePopularity = pd.DataFrame(pTable, index = conv_rates)"
   ]
  },
  {
   "cell_type": "code",
   "execution_count": 671,
   "id": "66c0c1ff-0daa-4525-bd4e-9373583ec78a",
   "metadata": {},
   "outputs": [],
   "source": [
    "capacityNTablePopularity.to_csv('../data/CR/capacityNPopularity.csv')"
   ]
  },
  {
   "cell_type": "code",
   "execution_count": 673,
   "id": "072f58c3-8efd-4b41-aaff-4234846d98cf",
   "metadata": {},
   "outputs": [],
   "source": [
    "sustainableNTablePopularity = pd.DataFrame(pTable, index = conv_rates)"
   ]
  },
  {
   "cell_type": "code",
   "execution_count": 674,
   "id": "a827ee82-104e-44f4-b5fa-fabebf56141c",
   "metadata": {},
   "outputs": [],
   "source": [
    "sustainableNTablePopularity.to_csv('../data/CR/sustainableNPopularity.csv')"
   ]
  },
  {
   "cell_type": "code",
   "execution_count": 661,
   "id": "516d97b5-aa0e-415a-8c29-df9d73029822",
   "metadata": {},
   "outputs": [],
   "source": [
    "randomNTablePopularity = pd.DataFrame(pTable, index = conv_rates)"
   ]
  },
  {
   "cell_type": "code",
   "execution_count": 662,
   "id": "798abe4b-c2c0-464c-bfce-fe5d5cfa3a77",
   "metadata": {},
   "outputs": [],
   "source": [
    "randomNTablePopularity.to_csv('../data/CR/randomNPopularity.csv')"
   ]
  },
  {
   "cell_type": "code",
   "execution_count": 724,
   "id": "c45b63d1-55a9-4ac6-8cf3-bb875594a214",
   "metadata": {},
   "outputs": [
    {
     "data": {
      "image/png": "[encoded data removed]",
      "text/plain": [
       "<Figure size 1300x800 with 1 Axes>"
      ]
     },
     "metadata": {},
     "output_type": "display_data"
    }
   ],
   "source": [
    "labels = ['CR = 0%', 'CR = 12.5%', 'CR = 25%', 'CR = 50%']\n",
    "\n",
    "popTopNDf = pd.read_csv('../data/CR/topNPopularity.csv')\n",
    "popBottomNDf = pd.read_csv('../data/CR/bottomNPopularity.csv')\n",
    "popRandomNDf = pd.read_csv('../data/CR/randomNPopularity.csv')\n",
    "popSustainableNDf = pd.read_csv('../data/CR/sustainableNPopularity.csv')\n",
    "popCapacityNDf = pd.read_csv('../data/CR/capacityNPopularity.csv')\n",
    "\n",
    "top = np.round(popTopNDf[\"0\"], 2)\n",
    "bottom = np.round(popBottomNDf[\"0\"], 2)\n",
    "random = np.round(popRandomNDf[\"0\"], 2)\n",
    "sus = np.round(popSustainableNDf[\"0\"], 2)\n",
    "cap = np.round(popCapacityNDf[\"0\"], 2)\n",
    "\n",
    "x = np.arange(len(labels))  # the label locations\n",
    "width = 0.7  # the width of the bars\n",
    "\n",
    "fig, ax = plt.subplots(figsize=(13, 8))\n",
    "# rects5 = ax.bar(x - 2*width/4, realityArrivals, width/4, label='REAL', color='#9566bd')\n",
    "rects1 = ax.bar(x, top, width/5, label='TOP-N')\n",
    "rects2 = ax.bar(x + width/5, bottom, width/5, label='LEAST-N')\n",
    "rects3 = ax.bar(x + width/5*2, random, width/5, label='RANDOM-N')\n",
    "rects4 = ax.bar(x + 3*width/5, sus, width/5, label='SUS-UNPOP-N')\n",
    "rects5 = ax.bar(x + 4*width/5, cap, width/5, label='SUS-FREEBEDS-N')\n",
    "\n",
    "hmm = ax.axhline(0.18, color='#000000', ls='--', alpha = 0.5, label = 'REAL (0.176)')\n",
    "\n",
    "# plt.plot([0, 1, 2, 3], [0.341, 0.341, 0.341, 0.341])\n",
    "\n",
    "# Add some text for labels, title and custom x-axis tick labels, etc.\n",
    "ax.set_ylabel('Average Consumed Item Popularity')\n",
    "# ax.set_title('(a) Arrivals')\n",
    "# plt.title(\"(a) Arrivals\", y=-0.13, fontsize=14)\n",
    "ax.set_xticks(x)\n",
    "ax.set_xticklabels(labels)\n",
    "ax.legend(loc='upper left')\n",
    "\n",
    "ax.bar_label(rects1, padding=2, rotation=45)\n",
    "ax.bar_label(rects2, padding=2, rotation=45)\n",
    "ax.bar_label(rects3, padding=2, rotation=45)\n",
    "ax.bar_label(rects4, padding=2, rotation=45)\n",
    "ax.bar_label(rects5, padding=2, rotation=45)\n",
    "# ax.bar_label(rects5, padding=2)\n",
    "# ax.bar_label(g, padding=3)\n",
    "\n",
    "plt.xticks(fontsize= 12)\n",
    "\n",
    "# fig.tight_layout()\n",
    "plt.margins(0.02, 0.2)\n",
    "\n",
    "# plt.show()\n",
    "# plt.savefig('data1.png') \n",
    "\n",
    "fig1 = plt.gcf()\n",
    "plt.show()\n",
    "# plt.draw()\n",
    "# fig1.savefig('data1.png', dpi=100)\n",
    "fig1.savefig('../img/rc/avg_consumed_item_pop.png', bbox_inches='tight')"
   ]
  },
  {
   "cell_type": "code",
   "execution_count": 688,
   "id": "1bdf2cc6-7013-41da-b485-e6237a769d28",
   "metadata": {},
   "outputs": [
    {
     "name": "stdout",
     "output_type": "stream",
     "text": [
      "[[0.0, 1.0], [0.12492645676862515, 1.0], [0.2501148447778335, 1.0], [0.5000121750001817, 1.0]]\n"
     ]
    }
   ],
   "source": [
    "accTable = []\n",
    "\n",
    "for cr in conv_rates:\n",
    "\n",
    "    changedOpinionSum = 0\n",
    "    consumedFromAdvertisementSum = 0\n",
    "    \n",
    "    for i in range(1, 6):\n",
    "        \n",
    "        changedOpinionCount = capacityNR[cr][i][1]\n",
    "        consumedFromAdvertisementCount = capacityNR[cr][i][2]\n",
    "            \n",
    "        changedOpinionSum = changedOpinionSum + changedOpinionCount \n",
    "        consumedFromAdvertisementSum = consumedFromAdvertisementSum + consumedFromAdvertisementCount\n",
    "\n",
    " \n",
    "    changedRatio =changedOpinionSum / 5 / 7704312\n",
    "    consumedRatio =consumedFromAdvertisementSum / 5 / 7704312\n",
    "    \n",
    "    accTable.append([changedRatio, consumedRatio])\n",
    "    \n",
    "            \n",
    "print(accTable)"
   ]
  },
  {
   "cell_type": "code",
   "execution_count": 678,
   "id": "bf0679bf-f4b6-417a-bd68-041853060efd",
   "metadata": {},
   "outputs": [],
   "source": [
    "bottomNTableAcc = pd.DataFrame(accTable, index = conv_rates, columns = [\"Changed\", \"Consumed\"])"
   ]
  },
  {
   "cell_type": "code",
   "execution_count": 679,
   "id": "0ee15d39-138f-43e3-804c-1690d5a39280",
   "metadata": {},
   "outputs": [],
   "source": [
    "bottomNTableAcc.to_csv('../data/CR/bottomNTableAcc.csv')"
   ]
  },
  {
   "cell_type": "code",
   "execution_count": 680,
   "id": "5a701f32-a561-45c3-ba2b-da319e2d81a2",
   "metadata": {},
   "outputs": [],
   "source": [
    "topNTableAcc = pd.DataFrame(accTable, index = conv_rates, columns = [\"Changed\", \"Consumed\"])"
   ]
  },
  {
   "cell_type": "code",
   "execution_count": 681,
   "id": "99b406dd-deaa-4c05-ab70-42fd2f15c92c",
   "metadata": {},
   "outputs": [],
   "source": [
    "topNTableAcc.to_csv('../data/CR/topNTableAcc.csv')"
   ]
  },
  {
   "cell_type": "code",
   "execution_count": 683,
   "id": "6972e0e7-407e-4ddf-acbf-18ec68d5d075",
   "metadata": {},
   "outputs": [],
   "source": [
    "randomNTableAcc = pd.DataFrame(accTable, index = conv_rates, columns = [\"Changed\", \"Consumed\"])"
   ]
  },
  {
   "cell_type": "code",
   "execution_count": 684,
   "id": "405ae76f-8925-4ba4-afde-8fd019067809",
   "metadata": {},
   "outputs": [],
   "source": [
    "randomNTableAcc.to_csv('../data/CR/randomNTableAcc.csv')"
   ]
  },
  {
   "cell_type": "code",
   "execution_count": 686,
   "id": "45c0b23e-3940-48df-b0d9-52a3fed38510",
   "metadata": {},
   "outputs": [],
   "source": [
    "sustainableNTableAcc = pd.DataFrame(accTable, index = conv_rates, columns = [\"Changed\", \"Consumed\"])"
   ]
  },
  {
   "cell_type": "code",
   "execution_count": 687,
   "id": "cd522bcd-59f0-4639-b254-65fff4ff70d7",
   "metadata": {},
   "outputs": [],
   "source": [
    "sustainableNTableAcc.to_csv('../data/CR/sustainableNTableAcc.csv')"
   ]
  },
  {
   "cell_type": "code",
   "execution_count": 689,
   "id": "8568809a-36d2-411c-ae3d-04e22811dec0",
   "metadata": {},
   "outputs": [],
   "source": [
    "capacityNTableAcc = pd.DataFrame(accTable, index = conv_rates, columns = [\"Changed\", \"Consumed\"])"
   ]
  },
  {
   "cell_type": "code",
   "execution_count": 690,
   "id": "2afe4900-b272-4d87-a879-3620b6c87662",
   "metadata": {},
   "outputs": [],
   "source": [
    "capacityNTableAcc.to_csv('../data/CR/capacityNTableAcc.csv')"
   ]
  },
  {
   "cell_type": "code",
   "execution_count": 725,
   "id": "d7603a2c-21a4-49d1-9d22-29542bac4b2d",
   "metadata": {},
   "outputs": [
    {
     "data": {
      "image/png": "[encoded data removed]",
      "text/plain": [
       "<Figure size 1300x800 with 1 Axes>"
      ]
     },
     "metadata": {},
     "output_type": "display_data"
    }
   ],
   "source": [
    "labels = ['CR = 0%', 'CR = 12.5%', 'CR = 25%', 'CR = 50%']\n",
    "\n",
    "accTopNDf = pd.read_csv('../data/CR/topNTableAcc.csv')\n",
    "accBottomNDf = pd.read_csv('../data/CR/bottomNTableAcc.csv')\n",
    "accRandomNDf = pd.read_csv('../data/CR/randomNTableAcc.csv')\n",
    "accSustainableNDf = pd.read_csv('../data/CR/sustainableNTableAcc.csv')\n",
    "accCapacityNDf = pd.read_csv('../data/CR/capacityNTableAcc.csv')\n",
    "\n",
    "top = np.round(accTopNDf[\"Changed\"], 3)\n",
    "bottom = np.round(accBottomNDf[\"Changed\"], 3)\n",
    "random = np.round(accRandomNDf[\"Changed\"], 3)\n",
    "sus = np.round(accSustainableNDf[\"Changed\"], 3)\n",
    "cap = np.round(accCapacityNDf[\"Changed\"], 3)\n",
    "\n",
    "x = np.arange(len(labels))  # the label locations\n",
    "width = 0.7  # the width of the bars\n",
    "\n",
    "fig, ax = plt.subplots(figsize=(13, 8))\n",
    "# rects5 = ax.bar(x - 2*width/4, realityArrivals, width/4, label='REAL', color='#9566bd')\n",
    "rects1 = ax.bar(x, top, width/5, label='TOP-N')\n",
    "rects2 = ax.bar(x + width/5, bottom, width/5, label='LEAST-N')\n",
    "rects3 = ax.bar(x + width/5*2, random, width/5, label='RANDOM-N')\n",
    "rects4 = ax.bar(x + 3*width/5, sus, width/5, label='SUS-UNPOP-N')\n",
    "rects5 = ax.bar(x + 4*width/5, cap, width/5, label='SUS-FREEBEDS-N')\n",
    "\n",
    "# hmm = ax.axhline(0.176, color='#000000', ls='--', alpha = 0.5, label = 'REAL (0.176)')\n",
    "\n",
    "# plt.plot([0, 1, 2, 3], [0.341, 0.341, 0.341, 0.341])\n",
    "\n",
    "# Add some text for labels, title and custom x-axis tick labels, etc.\n",
    "ax.set_ylabel('Conversion Rate')\n",
    "# ax.set_title('(a) Arrivals')\n",
    "# plt.title(\"(a) Arrivals\", y=-0.13, fontsize=14)\n",
    "ax.set_xticks(x)\n",
    "ax.set_xticklabels(labels)\n",
    "ax.legend(loc='upper left')\n",
    "\n",
    "ax.bar_label(rects1, padding=2, rotation=45)\n",
    "ax.bar_label(rects2, padding=2, rotation=45)\n",
    "ax.bar_label(rects3, padding=2, rotation=45)\n",
    "ax.bar_label(rects4, padding=2, rotation=45)\n",
    "ax.bar_label(rects5, padding=2, rotation=45)\n",
    "# ax.bar_label(rects5, padding=2)\n",
    "# ax.bar_label(g, padding=3)\n",
    "\n",
    "plt.xticks(fontsize= 12)\n",
    "\n",
    "# fig.tight_layout()\n",
    "plt.margins(0.02, 0.3)\n",
    "\n",
    "# plt.show()\n",
    "# plt.savefig('data1.png') \n",
    "\n",
    "fig1 = plt.gcf()\n",
    "plt.show()\n",
    "# plt.draw()\n",
    "# fig1.savefig('data1.png', dpi=100)\n",
    "fig1.savefig('../img/rc/conv_rate.png', bbox_inches='tight')"
   ]
  },
  {
   "cell_type": "code",
   "execution_count": 726,
   "id": "21006c85-9a6f-42dd-8dca-6b628fa4ede5",
   "metadata": {},
   "outputs": [
    {
     "data": {
      "image/png": "[encoded data removed]",
      "text/plain": [
       "<Figure size 1300x800 with 1 Axes>"
      ]
     },
     "metadata": {},
     "output_type": "display_data"
    }
   ],
   "source": [
    "labels = ['CR = 0%', 'CR = 12.5%', 'CR = 25%', 'CR = 50%']\n",
    "\n",
    "accTopNDf = pd.read_csv('../data/CR/topNTableAcc.csv')\n",
    "accBottomNDf = pd.read_csv('../data/CR/bottomNTableAcc.csv')\n",
    "accRandomNDf = pd.read_csv('../data/CR/randomNTableAcc.csv')\n",
    "accSustainableNDf = pd.read_csv('../data/CR/sustainableNTableAcc.csv')\n",
    "accCapacityNDf = pd.read_csv('../data/CR/capacityNTableAcc.csv')\n",
    "\n",
    "top = np.round(accTopNDf[\"Consumed\"], 3)\n",
    "bottom = np.round(accBottomNDf[\"Consumed\"], 3)\n",
    "random = np.round(accRandomNDf[\"Changed\"], 3)\n",
    "sus = np.round(accSustainableNDf[\"Changed\"], 3)\n",
    "cap = np.round(accCapacityNDf[\"Changed\"], 3)\n",
    "\n",
    "x = np.arange(len(labels))  # the label locations\n",
    "width = 0.7  # the width of the bars\n",
    "\n",
    "fig, ax = plt.subplots(figsize=(13, 8))\n",
    "# rects5 = ax.bar(x - 2*width/4, realityArrivals, width/4, label='REAL', color='#9566bd')\n",
    "rects1 = ax.bar(x, top, width/5, label='TOP-N')\n",
    "rects2 = ax.bar(x + width/5, bottom, width/5, label='LEAST-N')\n",
    "rects3 = ax.bar(x + width/5*2, random, width/5, label='RANDOM-N')\n",
    "rects4 = ax.bar(x + 3*width/5, sus, width/5, label='SUS-UNPOP-N')\n",
    "rects5 = ax.bar(x + 4*width/5, cap, width/5, label='SUS-FREEBEDS-N')\n",
    "\n",
    "# hmm = ax.axhline(0.176, color='#000000', ls='--', alpha = 0.5, label = 'REAL (0.176)')\n",
    "\n",
    "# plt.plot([0, 1, 2, 3], [0.341, 0.341, 0.341, 0.341])\n",
    "\n",
    "# Add some text for labels, title and custom x-axis tick labels, etc.\n",
    "ax.set_ylabel('Recommendation Acceptance')\n",
    "# ax.set_title('(a) Arrivals')\n",
    "# plt.title(\"(a) Arrivals\", y=-0.13, fontsize=14)\n",
    "ax.set_xticks(x)\n",
    "ax.set_xticklabels(labels)\n",
    "ax.legend(loc='upper left')\n",
    "\n",
    "ax.bar_label(rects1, padding=2, rotation=45)\n",
    "ax.bar_label(rects2, padding=2, rotation=45)\n",
    "ax.bar_label(rects3, padding=2, rotation=45)\n",
    "ax.bar_label(rects4, padding=2, rotation=45)\n",
    "ax.bar_label(rects5, padding=2, rotation=45)\n",
    "# ax.bar_label(rects5, padding=2)\n",
    "# ax.bar_label(g, padding=3)\n",
    "\n",
    "plt.xticks(fontsize= 12)\n",
    "\n",
    "# fig.tight_layout()\n",
    "plt.margins(0.02, 0.3)\n",
    "\n",
    "# plt.show()\n",
    "# plt.savefig('data1.png') \n",
    "\n",
    "fig1 = plt.gcf()\n",
    "plt.show()\n",
    "# plt.draw()\n",
    "# fig1.savefig('data1.png', dpi=100)\n",
    "fig1.savefig('../img/rc/rec_acc.png', bbox_inches='tight')"
   ]
  },
  {
   "cell_type": "markdown",
   "id": "8e200c6a-c9cc-4efe-bdce-5972d7acb3d5",
   "metadata": {},
   "source": [
    "#### Seen rate experiments"
   ]
  },
  {
   "cell_type": "code",
   "execution_count": 728,
   "id": "24e61f58-f0f5-4b50-92ae-3e7bfb3e9d9e",
   "metadata": {},
   "outputs": [],
   "source": [
    "seen_rates = [0, 20, 40, 60, 80, 100]"
   ]
  },
  {
   "cell_type": "code",
   "execution_count": 743,
   "id": "9222d9a9-4e14-43c0-8fe1-7144eb842201",
   "metadata": {},
   "outputs": [
    {
     "name": "stdout",
     "output_type": "stream",
     "text": [
      "0 1\n",
      "0 2\n",
      "0 3\n",
      "0 4\n",
      "0 5\n",
      "20 1\n",
      "20 2\n",
      "20 3\n",
      "20 4\n",
      "20 5\n",
      "40 1\n",
      "40 2\n",
      "40 3\n",
      "40 4\n",
      "40 5\n",
      "60 1\n",
      "60 2\n",
      "60 3\n",
      "60 4\n",
      "60 5\n",
      "80 1\n",
      "80 2\n",
      "80 3\n",
      "80 4\n",
      "80 5\n",
      "100 1\n",
      "100 2\n",
      "100 3\n",
      "100 4\n",
      "100 5\n"
     ]
    }
   ],
   "source": [
    "sResults = {}\n",
    "\n",
    "N = 3\n",
    "\n",
    "for sr in seen_rates:\n",
    "    \n",
    "    sResults[sr] = {}\n",
    "    \n",
    "    for i in range(1, 6):\n",
    "        \n",
    "        print(sr, i)\n",
    "        \n",
    "        #run_sustainable2(year, conv_rate, k, seen_rate, nationality_filter, decay_rate):\n",
    "        sResults[sr][i] = run_random(2019, N, -1, sr, ALL_COUNTRIES, 1.2)#run_capacity(2019, -1, N, sr, ALL_COUNTRIES, 1.2)\n",
    "        #run_sustainable(2019, cr, N, 100, ALL_COUNTRIES, 1.2)#on_run_simulation_btn_click(2019, SIM_TYPE_BOTTOMN, N, cr, 100, [], ALL_COUNTRIES, 1.2)\n",
    "        "
   ]
  },
  {
   "cell_type": "code",
   "execution_count": 738,
   "id": "7517dcd1-23e1-487a-9f49-353453ab5f75",
   "metadata": {},
   "outputs": [],
   "source": [
    "sBottomN = sResults"
   ]
  },
  {
   "cell_type": "code",
   "execution_count": 736,
   "id": "e19c4c28-5b70-4f4d-956e-ce1e5f41cc1d",
   "metadata": {},
   "outputs": [],
   "source": [
    "sTopN = sResults"
   ]
  },
  {
   "cell_type": "code",
   "execution_count": 740,
   "id": "553b5f8c-9c37-4cb2-b239-e11c7da22abf",
   "metadata": {},
   "outputs": [],
   "source": [
    "sSustainableN = sResults"
   ]
  },
  {
   "cell_type": "code",
   "execution_count": 742,
   "id": "b0e81347-994d-4fe5-b869-b5e55bef937e",
   "metadata": {},
   "outputs": [],
   "source": [
    "sCapacityN = sResults"
   ]
  },
  {
   "cell_type": "code",
   "execution_count": 744,
   "id": "affe92ee-26a1-4041-badc-785041072efa",
   "metadata": {},
   "outputs": [],
   "source": [
    "sRandomN = sResults"
   ]
  },
  {
   "cell_type": "code",
   "execution_count": 769,
   "id": "b92bab79-6033-4f82-8826-0d48b0e90f7f",
   "metadata": {},
   "outputs": [
    {
     "name": "stdout",
     "output_type": "stream",
     "text": [
      "[[0.3410207491596913, 0.4026787990127464, 0.3077106030034163, 0.06076124413213433], [0.3019635627425265, 0.36106242649694564, 0.29035724724372153, 0.06279091541974328], [0.2757499306881653, 0.3323869831152903, 0.2916444398795814, 0.12897691996136693], [0.2555618204454856, 0.3076812905407548, 0.31393834544002486, 0.18949278613692752], [0.257795439748546, 0.3056641904518505, 0.33812438143370654, 0.2415448922481592], [0.2689338775480536, 0.317054602578092, 0.3664209704589222, 0.28560902943975375]]\n"
     ]
    }
   ],
   "source": [
    "sTable = []\n",
    "\n",
    "for sr in seen_rates:\n",
    "\n",
    "    arrivalsSum = 0\n",
    "    avgPresentSum = 0\n",
    "    avgPresentPopSum = 0\n",
    "    avgPresentBedSum = 0\n",
    "    \n",
    "    for i in range(1, 6):\n",
    "        \n",
    "            # print(n, i)\n",
    "        \n",
    "            #arrivalsSimulated = on_run_simulation_btn_click(2019, SIM_TYPE_BOTTOMN, n, -1, 100, [], ALL_COUNTRIES, 1.2)\n",
    "            arrivalsSimulated = sSustainableN[sr][i][0]#run_random(2019, n, -1, 100, ALL_COUNTRIES, 1.2)\n",
    "            #arrivalsSimulated = run_sustainable(2019, -1, n, 100, ALL_COUNTRIES, 1.2)\n",
    "        \n",
    "            districts = gp.read_file('../data/geo_district_df.shp')\n",
    "\n",
    "            yearlyDf = arrivalsSimulated[arrivalsSimulated['Year'] == 2019]\n",
    "\n",
    "            yearlyDf = yearlyDf.groupby(['district_c']).sum()\n",
    "\n",
    "            yearlyDf = districts.merge(yearlyDf, on='district_c',\n",
    "                                     how=\"inner\", suffixes=('', '_y'))\n",
    "            \n",
    "            if(sr == 0):\n",
    "                yearlyDf[\"sim_present\"] = yearlyDf[\"Present\"]\n",
    "                \n",
    "\n",
    "            yearlyDf[\"AvgPresentSim\"] = yearlyDf[\"sim_present\"] / 365\n",
    "            yearlyDf[\"AvgPresentToBedsSim\"] = yearlyDf[\"AvgPresentSim\"] / yearlyDf[\"beds\"]\n",
    "            yearlyDf[\"AvgPresentToPopSim\"] = yearlyDf[\"AvgPresentSim\"] / yearlyDf[\"population\"]\n",
    "\n",
    "\n",
    "            yearlyDf[\"AvgPresent\"] = yearlyDf[\"Present\"] / 365\n",
    "            yearlyDf[\"AvgPresentToBeds\"] = yearlyDf[\"AvgPresent\"] / yearlyDf[\"beds\"]\n",
    "            yearlyDf[\"AvgPresentToPop\"] = yearlyDf[\"AvgPresent\"] / yearlyDf[\"population\"]\n",
    "\n",
    "            # #st.write(np.array(yearlyDf['avgPop'].values.tolist()))\n",
    "            \n",
    "            arrivals = gini_coefficient(np.array(yearlyDf['Arrivals_sim'].values.tolist()))\n",
    "            avgPresent = gini_coefficient(np.array(yearlyDf['AvgPresentSim'].values.tolist()))\n",
    "            avgPresentPop = gini_coefficient(np.array(yearlyDf['AvgPresentToPopSim'].values.tolist()))\n",
    "            avgPresentBeds = gini_coefficient(np.array(yearlyDf['AvgPresentToBedsSim'].values.tolist()))\n",
    "            \n",
    "    giniArrivals = arrivalsSum / 5\n",
    "    giniAvgPresent = avgPresentSum / 5\n",
    "    giniAvgPresentPop = avgPresentPopSum / 5\n",
    "    giniAvgPresentBed = avgPresentBedSum / 5\n",
    "    \n",
    "    sTable.append([arrivals, avgPresent, avgPresentPop, avgPresentBeds])\n",
    "    \n",
    "            \n",
    "print(sTable)"
   ]
  },
  {
   "cell_type": "code",
   "execution_count": 754,
   "id": "dcfaa0e5-e5eb-4d45-9dec-e0bef46b5cfe",
   "metadata": {},
   "outputs": [],
   "source": [
    "bottomNTableSR = pd.DataFrame(sTable, index = seen_rates, columns =['Arrivals', 'AvgPresent', 'AvgPresentPop', 'AvgPresentBeds'])"
   ]
  },
  {
   "cell_type": "code",
   "execution_count": 755,
   "id": "0f8568b5-2675-49a2-82d6-a20c1e44d29f",
   "metadata": {},
   "outputs": [],
   "source": [
    "bottomNTableSR.to_csv('../data/SR/bottomN.csv')"
   ]
  },
  {
   "cell_type": "code",
   "execution_count": 756,
   "id": "7b569408-eedc-4ba5-9a3c-39543e1bf513",
   "metadata": {},
   "outputs": [
    {
     "data": {
      "text/html": [
       "<div>\n",
       "<style scoped>\n",
       "    .dataframe tbody tr th:only-of-type {\n",
       "        vertical-align: middle;\n",
       "    }\n",
       "\n",
       "    .dataframe tbody tr th {\n",
       "        vertical-align: top;\n",
       "    }\n",
       "\n",
       "    .dataframe thead th {\n",
       "        text-align: right;\n",
       "    }\n",
       "</style>\n",
       "<table border=\"1\" class=\"dataframe\">\n",
       "  <thead>\n",
       "    <tr style=\"text-align: right;\">\n",
       "      <th></th>\n",
       "      <th>Arrivals</th>\n",
       "      <th>AvgPresent</th>\n",
       "      <th>AvgPresentPop</th>\n",
       "      <th>AvgPresentBeds</th>\n",
       "    </tr>\n",
       "  </thead>\n",
       "  <tbody>\n",
       "    <tr>\n",
       "      <th>0</th>\n",
       "      <td>0.341021</td>\n",
       "      <td>0.402679</td>\n",
       "      <td>0.307711</td>\n",
       "      <td>0.060761</td>\n",
       "    </tr>\n",
       "    <tr>\n",
       "      <th>20</th>\n",
       "      <td>0.315999</td>\n",
       "      <td>0.374280</td>\n",
       "      <td>0.297159</td>\n",
       "      <td>0.097878</td>\n",
       "    </tr>\n",
       "    <tr>\n",
       "      <th>40</th>\n",
       "      <td>0.296236</td>\n",
       "      <td>0.354585</td>\n",
       "      <td>0.294159</td>\n",
       "      <td>0.147164</td>\n",
       "    </tr>\n",
       "    <tr>\n",
       "      <th>60</th>\n",
       "      <td>0.282043</td>\n",
       "      <td>0.342345</td>\n",
       "      <td>0.294067</td>\n",
       "      <td>0.192768</td>\n",
       "    </tr>\n",
       "    <tr>\n",
       "      <th>80</th>\n",
       "      <td>0.270397</td>\n",
       "      <td>0.333352</td>\n",
       "      <td>0.309886</td>\n",
       "      <td>0.233093</td>\n",
       "    </tr>\n",
       "    <tr>\n",
       "      <th>100</th>\n",
       "      <td>0.260580</td>\n",
       "      <td>0.325651</td>\n",
       "      <td>0.325368</td>\n",
       "      <td>0.266704</td>\n",
       "    </tr>\n",
       "  </tbody>\n",
       "</table>\n",
       "</div>"
      ],
      "text/plain": [
       "     Arrivals  AvgPresent  AvgPresentPop  AvgPresentBeds\n",
       "0    0.341021    0.402679       0.307711        0.060761\n",
       "20   0.315999    0.374280       0.297159        0.097878\n",
       "40   0.296236    0.354585       0.294159        0.147164\n",
       "60   0.282043    0.342345       0.294067        0.192768\n",
       "80   0.270397    0.333352       0.309886        0.233093\n",
       "100  0.260580    0.325651       0.325368        0.266704"
      ]
     },
     "execution_count": 756,
     "metadata": {},
     "output_type": "execute_result"
    }
   ],
   "source": [
    "bottomNTableSR"
   ]
  },
  {
   "cell_type": "code",
   "execution_count": 758,
   "id": "86e9c299-33af-418e-af98-2cfbd4534093",
   "metadata": {},
   "outputs": [],
   "source": [
    "topNTableSR = pd.DataFrame(sTable, index = seen_rates, columns =['Arrivals', 'AvgPresent', 'AvgPresentPop', 'AvgPresentBeds'])"
   ]
  },
  {
   "cell_type": "code",
   "execution_count": 759,
   "id": "f34223dd-a966-49f0-9b00-7c821fd4ce98",
   "metadata": {},
   "outputs": [],
   "source": [
    "topNTableSR.to_csv('../data/SR/topN.csv')"
   ]
  },
  {
   "cell_type": "code",
   "execution_count": 760,
   "id": "5db92248-8faf-4ca8-a535-820b88c90220",
   "metadata": {},
   "outputs": [
    {
     "data": {
      "text/html": [
       "<div>\n",
       "<style scoped>\n",
       "    .dataframe tbody tr th:only-of-type {\n",
       "        vertical-align: middle;\n",
       "    }\n",
       "\n",
       "    .dataframe tbody tr th {\n",
       "        vertical-align: top;\n",
       "    }\n",
       "\n",
       "    .dataframe thead th {\n",
       "        text-align: right;\n",
       "    }\n",
       "</style>\n",
       "<table border=\"1\" class=\"dataframe\">\n",
       "  <thead>\n",
       "    <tr style=\"text-align: right;\">\n",
       "      <th></th>\n",
       "      <th>Arrivals</th>\n",
       "      <th>AvgPresent</th>\n",
       "      <th>AvgPresentPop</th>\n",
       "      <th>AvgPresentBeds</th>\n",
       "    </tr>\n",
       "  </thead>\n",
       "  <tbody>\n",
       "    <tr>\n",
       "      <th>0</th>\n",
       "      <td>0.341021</td>\n",
       "      <td>0.402679</td>\n",
       "      <td>0.307711</td>\n",
       "      <td>0.060761</td>\n",
       "    </tr>\n",
       "    <tr>\n",
       "      <th>20</th>\n",
       "      <td>0.360843</td>\n",
       "      <td>0.428460</td>\n",
       "      <td>0.335696</td>\n",
       "      <td>0.079958</td>\n",
       "    </tr>\n",
       "    <tr>\n",
       "      <th>40</th>\n",
       "      <td>0.380804</td>\n",
       "      <td>0.451808</td>\n",
       "      <td>0.362101</td>\n",
       "      <td>0.102251</td>\n",
       "    </tr>\n",
       "    <tr>\n",
       "      <th>60</th>\n",
       "      <td>0.400598</td>\n",
       "      <td>0.473123</td>\n",
       "      <td>0.386790</td>\n",
       "      <td>0.129223</td>\n",
       "    </tr>\n",
       "    <tr>\n",
       "      <th>80</th>\n",
       "      <td>0.420377</td>\n",
       "      <td>0.492800</td>\n",
       "      <td>0.409938</td>\n",
       "      <td>0.156899</td>\n",
       "    </tr>\n",
       "    <tr>\n",
       "      <th>100</th>\n",
       "      <td>0.440365</td>\n",
       "      <td>0.511650</td>\n",
       "      <td>0.431411</td>\n",
       "      <td>0.185269</td>\n",
       "    </tr>\n",
       "  </tbody>\n",
       "</table>\n",
       "</div>"
      ],
      "text/plain": [
       "     Arrivals  AvgPresent  AvgPresentPop  AvgPresentBeds\n",
       "0    0.341021    0.402679       0.307711        0.060761\n",
       "20   0.360843    0.428460       0.335696        0.079958\n",
       "40   0.380804    0.451808       0.362101        0.102251\n",
       "60   0.400598    0.473123       0.386790        0.129223\n",
       "80   0.420377    0.492800       0.409938        0.156899\n",
       "100  0.440365    0.511650       0.431411        0.185269"
      ]
     },
     "execution_count": 760,
     "metadata": {},
     "output_type": "execute_result"
    }
   ],
   "source": [
    "topNTableSR"
   ]
  },
  {
   "cell_type": "code",
   "execution_count": 762,
   "id": "c53e52ea-8812-4275-b933-7bb48550418a",
   "metadata": {},
   "outputs": [],
   "source": [
    "randomNTableSR = pd.DataFrame(sTable, index = seen_rates, columns =['Arrivals', 'AvgPresent', 'AvgPresentPop', 'AvgPresentBeds'])"
   ]
  },
  {
   "cell_type": "code",
   "execution_count": 763,
   "id": "e5c85813-f295-47ec-ae11-a7ed1c15e39c",
   "metadata": {},
   "outputs": [],
   "source": [
    "randomNTableSR.to_csv('../data/SR/randomN.csv')"
   ]
  },
  {
   "cell_type": "code",
   "execution_count": 764,
   "id": "19cb1edf-3d8b-44f3-89e0-370fafa52298",
   "metadata": {},
   "outputs": [
    {
     "data": {
      "text/html": [
       "<div>\n",
       "<style scoped>\n",
       "    .dataframe tbody tr th:only-of-type {\n",
       "        vertical-align: middle;\n",
       "    }\n",
       "\n",
       "    .dataframe tbody tr th {\n",
       "        vertical-align: top;\n",
       "    }\n",
       "\n",
       "    .dataframe thead th {\n",
       "        text-align: right;\n",
       "    }\n",
       "</style>\n",
       "<table border=\"1\" class=\"dataframe\">\n",
       "  <thead>\n",
       "    <tr style=\"text-align: right;\">\n",
       "      <th></th>\n",
       "      <th>Arrivals</th>\n",
       "      <th>AvgPresent</th>\n",
       "      <th>AvgPresentPop</th>\n",
       "      <th>AvgPresentBeds</th>\n",
       "    </tr>\n",
       "  </thead>\n",
       "  <tbody>\n",
       "    <tr>\n",
       "      <th>0</th>\n",
       "      <td>0.341021</td>\n",
       "      <td>0.402679</td>\n",
       "      <td>0.307711</td>\n",
       "      <td>0.060761</td>\n",
       "    </tr>\n",
       "    <tr>\n",
       "      <th>20</th>\n",
       "      <td>0.329910</td>\n",
       "      <td>0.390078</td>\n",
       "      <td>0.294175</td>\n",
       "      <td>0.064923</td>\n",
       "    </tr>\n",
       "    <tr>\n",
       "      <th>40</th>\n",
       "      <td>0.318687</td>\n",
       "      <td>0.378788</td>\n",
       "      <td>0.283667</td>\n",
       "      <td>0.073152</td>\n",
       "    </tr>\n",
       "    <tr>\n",
       "      <th>60</th>\n",
       "      <td>0.307872</td>\n",
       "      <td>0.368352</td>\n",
       "      <td>0.278936</td>\n",
       "      <td>0.080256</td>\n",
       "    </tr>\n",
       "    <tr>\n",
       "      <th>80</th>\n",
       "      <td>0.297149</td>\n",
       "      <td>0.359197</td>\n",
       "      <td>0.276139</td>\n",
       "      <td>0.088805</td>\n",
       "    </tr>\n",
       "    <tr>\n",
       "      <th>100</th>\n",
       "      <td>0.285964</td>\n",
       "      <td>0.349928</td>\n",
       "      <td>0.274515</td>\n",
       "      <td>0.098281</td>\n",
       "    </tr>\n",
       "  </tbody>\n",
       "</table>\n",
       "</div>"
      ],
      "text/plain": [
       "     Arrivals  AvgPresent  AvgPresentPop  AvgPresentBeds\n",
       "0    0.341021    0.402679       0.307711        0.060761\n",
       "20   0.329910    0.390078       0.294175        0.064923\n",
       "40   0.318687    0.378788       0.283667        0.073152\n",
       "60   0.307872    0.368352       0.278936        0.080256\n",
       "80   0.297149    0.359197       0.276139        0.088805\n",
       "100  0.285964    0.349928       0.274515        0.098281"
      ]
     },
     "execution_count": 764,
     "metadata": {},
     "output_type": "execute_result"
    }
   ],
   "source": [
    "randomNTableSR"
   ]
  },
  {
   "cell_type": "code",
   "execution_count": 766,
   "id": "ee85d5af-db7e-4041-8a56-4dcbe9d0c56f",
   "metadata": {},
   "outputs": [],
   "source": [
    "capacityNTableSR = pd.DataFrame(sTable, index = seen_rates, columns =['Arrivals', 'AvgPresent', 'AvgPresentPop', 'AvgPresentBeds'])"
   ]
  },
  {
   "cell_type": "code",
   "execution_count": 767,
   "id": "b5be319b-90ec-4293-914e-1d790933a805",
   "metadata": {},
   "outputs": [],
   "source": [
    "capacityNTableSR.to_csv('../data/SR/capacityN.csv')"
   ]
  },
  {
   "cell_type": "code",
   "execution_count": 768,
   "id": "f53585b9-9bc2-48c7-9384-2ada81b48eb8",
   "metadata": {},
   "outputs": [
    {
     "data": {
      "text/html": [
       "<div>\n",
       "<style scoped>\n",
       "    .dataframe tbody tr th:only-of-type {\n",
       "        vertical-align: middle;\n",
       "    }\n",
       "\n",
       "    .dataframe tbody tr th {\n",
       "        vertical-align: top;\n",
       "    }\n",
       "\n",
       "    .dataframe thead th {\n",
       "        text-align: right;\n",
       "    }\n",
       "</style>\n",
       "<table border=\"1\" class=\"dataframe\">\n",
       "  <thead>\n",
       "    <tr style=\"text-align: right;\">\n",
       "      <th></th>\n",
       "      <th>Arrivals</th>\n",
       "      <th>AvgPresent</th>\n",
       "      <th>AvgPresentPop</th>\n",
       "      <th>AvgPresentBeds</th>\n",
       "    </tr>\n",
       "  </thead>\n",
       "  <tbody>\n",
       "    <tr>\n",
       "      <th>0</th>\n",
       "      <td>0.341021</td>\n",
       "      <td>0.402679</td>\n",
       "      <td>0.307711</td>\n",
       "      <td>0.060761</td>\n",
       "    </tr>\n",
       "    <tr>\n",
       "      <th>20</th>\n",
       "      <td>0.345298</td>\n",
       "      <td>0.410814</td>\n",
       "      <td>0.337090</td>\n",
       "      <td>0.071859</td>\n",
       "    </tr>\n",
       "    <tr>\n",
       "      <th>40</th>\n",
       "      <td>0.354017</td>\n",
       "      <td>0.423323</td>\n",
       "      <td>0.368099</td>\n",
       "      <td>0.105554</td>\n",
       "    </tr>\n",
       "    <tr>\n",
       "      <th>60</th>\n",
       "      <td>0.363825</td>\n",
       "      <td>0.438245</td>\n",
       "      <td>0.395663</td>\n",
       "      <td>0.145369</td>\n",
       "    </tr>\n",
       "    <tr>\n",
       "      <th>80</th>\n",
       "      <td>0.377709</td>\n",
       "      <td>0.452007</td>\n",
       "      <td>0.420598</td>\n",
       "      <td>0.184883</td>\n",
       "    </tr>\n",
       "    <tr>\n",
       "      <th>100</th>\n",
       "      <td>0.391939</td>\n",
       "      <td>0.464600</td>\n",
       "      <td>0.443592</td>\n",
       "      <td>0.224825</td>\n",
       "    </tr>\n",
       "  </tbody>\n",
       "</table>\n",
       "</div>"
      ],
      "text/plain": [
       "     Arrivals  AvgPresent  AvgPresentPop  AvgPresentBeds\n",
       "0    0.341021    0.402679       0.307711        0.060761\n",
       "20   0.345298    0.410814       0.337090        0.071859\n",
       "40   0.354017    0.423323       0.368099        0.105554\n",
       "60   0.363825    0.438245       0.395663        0.145369\n",
       "80   0.377709    0.452007       0.420598        0.184883\n",
       "100  0.391939    0.464600       0.443592        0.224825"
      ]
     },
     "execution_count": 768,
     "metadata": {},
     "output_type": "execute_result"
    }
   ],
   "source": [
    "capacityNTableSR"
   ]
  },
  {
   "cell_type": "code",
   "execution_count": 770,
   "id": "824de4b6-2d99-4f9f-b847-cd83c48af703",
   "metadata": {},
   "outputs": [],
   "source": [
    "sustainableNTableSR = pd.DataFrame(sTable, index = seen_rates, columns =['Arrivals', 'AvgPresent', 'AvgPresentPop', 'AvgPresentBeds'])"
   ]
  },
  {
   "cell_type": "code",
   "execution_count": 771,
   "id": "dc79b2e6-7bc2-4d18-a65e-a56e4b3de099",
   "metadata": {},
   "outputs": [],
   "source": [
    "sustainableNTableSR.to_csv('../data/SR/sustainableN.csv')"
   ]
  },
  {
   "cell_type": "code",
   "execution_count": 772,
   "id": "fa22b06c-7b22-4f64-802f-a5a624239e74",
   "metadata": {},
   "outputs": [
    {
     "data": {
      "text/html": [
       "<div>\n",
       "<style scoped>\n",
       "    .dataframe tbody tr th:only-of-type {\n",
       "        vertical-align: middle;\n",
       "    }\n",
       "\n",
       "    .dataframe tbody tr th {\n",
       "        vertical-align: top;\n",
       "    }\n",
       "\n",
       "    .dataframe thead th {\n",
       "        text-align: right;\n",
       "    }\n",
       "</style>\n",
       "<table border=\"1\" class=\"dataframe\">\n",
       "  <thead>\n",
       "    <tr style=\"text-align: right;\">\n",
       "      <th></th>\n",
       "      <th>Arrivals</th>\n",
       "      <th>AvgPresent</th>\n",
       "      <th>AvgPresentPop</th>\n",
       "      <th>AvgPresentBeds</th>\n",
       "    </tr>\n",
       "  </thead>\n",
       "  <tbody>\n",
       "    <tr>\n",
       "      <th>0</th>\n",
       "      <td>0.341021</td>\n",
       "      <td>0.402679</td>\n",
       "      <td>0.307711</td>\n",
       "      <td>0.060761</td>\n",
       "    </tr>\n",
       "    <tr>\n",
       "      <th>20</th>\n",
       "      <td>0.301964</td>\n",
       "      <td>0.361062</td>\n",
       "      <td>0.290357</td>\n",
       "      <td>0.062791</td>\n",
       "    </tr>\n",
       "    <tr>\n",
       "      <th>40</th>\n",
       "      <td>0.275750</td>\n",
       "      <td>0.332387</td>\n",
       "      <td>0.291644</td>\n",
       "      <td>0.128977</td>\n",
       "    </tr>\n",
       "    <tr>\n",
       "      <th>60</th>\n",
       "      <td>0.255562</td>\n",
       "      <td>0.307681</td>\n",
       "      <td>0.313938</td>\n",
       "      <td>0.189493</td>\n",
       "    </tr>\n",
       "    <tr>\n",
       "      <th>80</th>\n",
       "      <td>0.257795</td>\n",
       "      <td>0.305664</td>\n",
       "      <td>0.338124</td>\n",
       "      <td>0.241545</td>\n",
       "    </tr>\n",
       "    <tr>\n",
       "      <th>100</th>\n",
       "      <td>0.268934</td>\n",
       "      <td>0.317055</td>\n",
       "      <td>0.366421</td>\n",
       "      <td>0.285609</td>\n",
       "    </tr>\n",
       "  </tbody>\n",
       "</table>\n",
       "</div>"
      ],
      "text/plain": [
       "     Arrivals  AvgPresent  AvgPresentPop  AvgPresentBeds\n",
       "0    0.341021    0.402679       0.307711        0.060761\n",
       "20   0.301964    0.361062       0.290357        0.062791\n",
       "40   0.275750    0.332387       0.291644        0.128977\n",
       "60   0.255562    0.307681       0.313938        0.189493\n",
       "80   0.257795    0.305664       0.338124        0.241545\n",
       "100  0.268934    0.317055       0.366421        0.285609"
      ]
     },
     "execution_count": 772,
     "metadata": {},
     "output_type": "execute_result"
    }
   ],
   "source": [
    "sustainableNTableSR"
   ]
  }
 ],
 "metadata": {
  "kernelspec": {
   "display_name": "Python 3 (ipykernel)",
   "language": "python",
   "name": "python3"
  },
  "language_info": {
   "codemirror_mode": {
    "name": "ipython",
    "version": 3
   },
   "file_extension": ".py",
   "mimetype": "text/x-python",
   "name": "python",
   "nbconvert_exporter": "python",
   "pygments_lexer": "ipython3",
   "version": "3.9.13"
  }
 },
 "nbformat": 4,
 "nbformat_minor": 5
}
