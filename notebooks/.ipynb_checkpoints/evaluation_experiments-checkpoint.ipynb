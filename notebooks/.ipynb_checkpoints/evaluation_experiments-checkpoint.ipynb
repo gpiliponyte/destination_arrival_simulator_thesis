{
 "cells": [
  {
   "cell_type": "code",
   "execution_count": 1,
   "id": "01ca60b7-d216-4fc3-a4e5-8d55071b8343",
   "metadata": {},
   "outputs": [],
   "source": [
    "def gini_coefficient(x):\n",
    "    \"\"\"Compute Gini coefficient of array of values\"\"\"\n",
    "    diffsum = 0\n",
    "    for i, xi in enumerate(x[:-1], 1):\n",
    "        diffsum += np.sum(np.abs(xi - x[i:]))\n",
    "    return diffsum / (len(x)**2 * np.mean(x))"
   ]
  },
  {
   "cell_type": "code",
   "execution_count": 2,
   "id": "f39f9840-07b3-484f-a977-efc36bb3de28",
   "metadata": {},
   "outputs": [],
   "source": [
    "import numpy as np"
   ]
  },
  {
   "cell_type": "code",
   "execution_count": 3,
   "id": "5901ae18-96e1-4544-9a69-886d7c5977d5",
   "metadata": {},
   "outputs": [
    {
     "name": "stderr",
     "output_type": "stream",
     "text": [
      "2022-08-31 13:49:22.727 INFO    numexpr.utils: Note: NumExpr detected 12 cores but \"NUMEXPR_MAX_THREADS\" not set, so enforcing safe limit of 8.\n",
      "2022-08-31 13:49:22.729 INFO    numexpr.utils: NumExpr defaulting to 8 threads.\n",
      "C:\\Users\\gpili\\anaconda3\\lib\\site-packages\\numpy\\lib\\arraysetops.py:583: FutureWarning: elementwise comparison failed; returning scalar instead, but in the future will perform elementwise comparison\n",
      "  mask |= (ar1 == a)\n"
     ]
    }
   ],
   "source": [
    "from distutils.command.config import config\n",
    "import streamlit as st\n",
    "import geopandas as gp\n",
    "import pandas as pd\n",
    "import plotly.express as px\n",
    "import numpy as np\n",
    "import math\n",
    "import random\n",
    "from scipy import optimize\n",
    "import itertools\n",
    "\n",
    "SIM_TYPE_RANDOMN = 'Random-N'\n",
    "SIM_TYPE_TOPN = 'Top-N'\n",
    "SIM_TYPE_BOTTOMN = 'Bottom-N'\n",
    "SIM_TYPE_CUSTOM = 'Custom'\n",
    "SIM_TYPE_SUSTAINABLE = 'Sustainable-N'\n",
    "\n",
    "CHOICE_UTILITY = 5\n",
    "ALL_COUNTRIES = \"All Countries\"\n",
    "district_code_map = {1: \"Bozen\", 2: \"Burggrafenamt\", 3: \"Eisacktal\", 4: \"Pustertal\", 5: \"Salten-Schlern\", 6: \"Uberetsch-Unterland\", 7: \"Vinschgau\", 8: \"Wipptal\"}\n",
    "district_code_map_reverse = {\"Bozen\": 1, \"Burggrafenamt\": 2, \"Eisacktal\": 3, \"Pustertal\": 4, \"Salten-Schlern\": 5, \"Uberetsch-Unterland\": 6, \"Vinschgau\": 7, \"Wipptal\": 8}\n",
    "DECAY_RATE = 1.2\n",
    "similarities = pd.read_csv('../data/similarities_indexed.csv', index_col=0)\n",
    "dataForPresences = pd.read_csv('../data/presences_simulation.csv', index_col=0)"
   ]
  },
  {
   "cell_type": "code",
   "execution_count": 9,
   "id": "811b74aa-1844-43f0-9128-cdeb8bace5ba",
   "metadata": {},
   "outputs": [],
   "source": [
    "def getK(utilities, user_choice, conv_rate):\n",
    "\n",
    "    def func(x):\n",
    "        \n",
    "        total = 0\n",
    "        \n",
    "        for key in utilities:\n",
    "            if not key == user_choice:\n",
    "                total = total + math.exp(utilities[key]*x)\n",
    "            \n",
    "        return total - (math.exp(5)/(1 - conv_rate/100) - math.exp(5))\n",
    "\n",
    "    sol = optimize.root_scalar(func, bracket=[0,10.], method='brentq')\n",
    "    x = sol.root\n",
    "\n",
    "    return x\n",
    "\n",
    "def getUtilities(advertisement, userChoice, decay_rate, conv_rate = -1):\n",
    "\n",
    "    utilities = {userChoice: CHOICE_UTILITY}\n",
    "\n",
    "    for index, d in enumerate(advertisement):\n",
    "        if not d in utilities:\n",
    "            utility = similarities[str(userChoice)].loc[d]*CHOICE_UTILITY/(decay_rate**index) \n",
    "            utilities[d] = utility \n",
    "        \n",
    "    if not conv_rate == -1:\n",
    "        k = getK(utilities, userChoice, conv_rate)\n",
    "        for key in utilities:\n",
    "            if not key == userChoice:\n",
    "                utilities[key] = utilities[key] * k\n",
    "        \n",
    "    return utilities\n",
    "\n",
    "def getProbabilities(utilities):\n",
    "    \n",
    "    elSum = 0\n",
    "    probabilities = {}\n",
    "    \n",
    "    for uKey in utilities:\n",
    "        elSum = elSum + math.exp(utilities[uKey])\n",
    "    \n",
    "    for uKey in utilities:\n",
    "        probabilities[uKey] = math.exp(utilities[uKey])/elSum\n",
    "        \n",
    "    return probabilities\n",
    "\n",
    "def getSustainableForDistrict(district, k, dataframe, column):\n",
    "    similaritiesToDistrict = similarities[str(district)].sort_values(ascending=False)\n",
    "    sustainableItems = dataframe.sort_values(by=column, ascending=True)['district_c'].head(4).tolist()\n",
    "\n",
    "    sustainableAd = []\n",
    "    for index, row in similaritiesToDistrict.items():\n",
    "        if index != district:\n",
    "            if index in sustainableItems:\n",
    "                sustainableAd.append(index)\n",
    "            if len(sustainableAd) == k:\n",
    "                return sustainableAd\n",
    "    return sustainableAd"
   ]
  },
  {
   "cell_type": "code",
   "execution_count": 10,
   "id": "5a78af9b-b753-41ad-b2f6-daff7110615a",
   "metadata": {},
   "outputs": [],
   "source": [
    "def getMeanAndStandardDeviation(year, month, district_c):\n",
    "    filteredDf = dataForPresences[(dataForPresences[\"Year\"] == year) & (dataForPresences[\"Month\"] == month) & (dataForPresences[\"district_c\"] == district_c ) ]\n",
    "    filteredDf[\"AverageStay\"] = filteredDf[\"Present\"] / filteredDf[\"Arrivals\"]\n",
    "    filteredDf.replace([np.inf, -np.inf], 0, inplace=True)\n",
    "    return [filteredDf[\"AverageStay\"].mean(), filteredDf[\"AverageStay\"].std()]"
   ]
  },
  {
   "cell_type": "code",
   "execution_count": 6,
   "id": "bac4b7ee-5e8c-438c-ae26-cb47ad398fff",
   "metadata": {},
   "outputs": [],
   "source": [
    "def run_sustainable(year, conv_rate, k, seen_rate, nationality_filter, decay_rate):\n",
    "    \n",
    "    adDictionary = {}\n",
    "    utilitiesDictionary = {}\n",
    "    probabilitiesDictionary = {}\n",
    "    changedOpinionCount = 0\n",
    "    consumedFromAdvertisementCount = 0\n",
    "\n",
    "\n",
    "    if nationality_filter == ALL_COUNTRIES:\n",
    "\n",
    "        arrivalCounts = pd.read_csv(\"../data/districts_ranked.csv\")\n",
    "        column = 'Arrivals'\n",
    "    \n",
    "    else:\n",
    "\n",
    "        arrivalCounts = pd.read_csv(\"../data/yearly_arrivals_by_nat_and_dist.csv\")\n",
    "        column = nationality_filter\n",
    "\n",
    "    ac = arrivalCounts[arrivalCounts['Year'] == year]\n",
    "\n",
    "    for i in range(1, 9):\n",
    "        adDictionary[i] = getSustainableForDistrict(i, k, ac, column)\n",
    "        if not conv_rate == -1:\n",
    "            utilitiesDictionary[i] = getUtilities(adDictionary[i], i, decay_rate, conv_rate)\n",
    "        else:\n",
    "            utilitiesDictionary[i] = getUtilities(adDictionary[i], i, decay_rate)\n",
    "\n",
    "        probabilitiesDictionary[i] = getProbabilities(utilitiesDictionary[i])\n",
    "\n",
    "    # setup stuff\n",
    "    arrivals = pd.read_csv('../data/nationality_long.csv')\n",
    "    arrivals = arrivals[arrivals['Year'] == year]\n",
    "\n",
    "    arrivalsDf = arrivals\n",
    "\n",
    "    # construct a new dataframe\n",
    "    df = pd.DataFrame(columns=['Year', 'Month', 'Season', 'district_c', 'District', 'Arrivals', 'Present'])\n",
    "    # nationalities = ['Austria', 'Benelux countries', 'Germany', 'Italy', 'Other countries', 'Switzerland and Liechtenstein']\n",
    "\n",
    "    filter = 'Arrivals' if nationality_filter == ALL_COUNTRIES else nationality_filter\n",
    "\n",
    "    nonArrivals = arrivalsDf.copy()\n",
    "    arrivalsDf['Arrivals'] = arrivalsDf[filter].multiply(seen_rate/100).round()\n",
    "\n",
    "    nonArrivals['Arrivals'] = nonArrivals['Arrivals'] - arrivalsDf['Arrivals']\n",
    "    \n",
    "    nonArrivals['Ratio'] = arrivalsDf[filter].multiply((100-seen_rate)/100).round() / arrivalsDf['Arrivals']\n",
    "    \n",
    "    nonArrivals['Present'] = nonArrivals['Ratio'] * arrivalsDf['Present']\n",
    "    \n",
    "    print(nonArrivals['Present'] )\n",
    "    \n",
    "    # arrivalsDf[[filter]].multiply((1-seen_rate)/100).round()\n",
    "\n",
    "\n",
    "    for i, row in arrivalsDf.iterrows():\n",
    "\n",
    "        probabilities = probabilitiesDictionary[row['district_c']]\n",
    "\n",
    "        elements = list(probabilities.keys())\n",
    "        \n",
    "        choices = random.choices(elements, weights=list(probabilities.values()), k=int(row['Arrivals']))\n",
    "        \n",
    "        changedOpinion = sum(map(lambda c : c != row['district_c'], choices))\n",
    "        changedOpinionCount = changedOpinionCount + changedOpinion\n",
    "        \n",
    "        # consumedFromAdvertisement = sum(map(lambda c : c in elements, choices))\n",
    "        # consumedFromAdvertisementCount = consumedFromAdvertisementCount + consumedFromAdvertisement\n",
    "        \n",
    "        start = [row['Year'], row['Month'], row['Season']]\n",
    "    \n",
    "        s_row = pd.Series(start + [nonArrivals.loc[i, 'district_c']] + [district_code_map[nonArrivals.loc[i, 'district_c']]] + [nonArrivals.loc[i, \"Arrivals\"]] + [nonArrivals.loc[i, \"Present\"]], index=df.columns)\n",
    "        df = df.append(s_row,ignore_index=True)\n",
    "        \n",
    "        results = getMeanAndStandardDeviation(row['Year'], row['Month'], row['district_c'])\n",
    "        mean = results[0]\n",
    "        std = results[1]\n",
    "        \n",
    "        simulatedPresences = np.random.normal(mean, std, int(row['Arrivals']))\n",
    "\n",
    "        for dist in range(1, 9):\n",
    "\n",
    "            arrivalsToDistrict = choices.count(dist)\n",
    "            \n",
    "            presenceArray = simulatedPresences[:arrivalsToDistrict]\n",
    "            simulatedPresences = simulatedPresences[arrivalsToDistrict:]\n",
    "            \n",
    "            sumOfPresences = np.sum(presenceArray)\n",
    "            \n",
    "            s_row = pd.Series(start + [dist] + [district_code_map[dist]] + [arrivalsToDistrict] + [sumOfPresences], index=df.columns)\n",
    "            df = df.append(s_row,ignore_index=True)\n",
    "\n",
    "    # print(df.columns.tolist())\n",
    "    simulatedResults = df.groupby(by=['Year', 'Month', 'Season', 'district_c', 'District']).agg({'Arrivals': 'sum', 'Present': 'sum'}).reset_index()\n",
    "    # print(simulatedResults.columns.tolist())\n",
    "\n",
    "    arrivals2 = pd.read_csv('../data/nationality_trends.csv')\n",
    "    arrivals2 = arrivals2[arrivals2['Year'] == year]\n",
    "    arrivals2 = arrivals2.groupby(by=['Year', 'Month', 'Season', 'district_c']).sum().reset_index()\n",
    "\n",
    "    arrivals2 = arrivals2.merge(simulatedResults, how='inner', on=[\"Year\", \"Month\", \"district_c\"], suffixes=(\"\", \"_sim\"))\n",
    "    arrivals2 = arrivals2.drop(['Season_sim'], axis = 1)\n",
    "    arrivals2['Diff'] = arrivals2['Arrivals_sim'] - arrivals2['Arrivals']\n",
    "    \n",
    "    #arrivals2['sim_present'] = arrivals2['Arrivals_sim'] * 4.63335435\n",
    "    \n",
    "#     for \n",
    "    \n",
    "#     [mean, std] = getMeanAndStandardDeviation(year, month, district_c)\n",
    "\n",
    "    # print(arrivals2.columns.tolist())\n",
    "    \n",
    "    arrivals2['sim_present'] = arrivals2['Present_sim']\n",
    "    \n",
    "    return arrivals2#[changedOpinionCount, changedOpinionCount]\n",
    "\n",
    "    # st.session_state['comparable'] = True\n",
    "    # st.session_state.nclick += 1\n",
    "    # st.session_state.arrivals_sim = arrivals2\n",
    "    # st.session_state.executed_simulation = st.session_state.selectbox_symtype\n",
    "    # st.session_state.mode = SIMULATION\n",
    "    # st.session_state.strategy = SIM_TYPE_SUSTAINABLE"
   ]
  },
  {
   "cell_type": "code",
   "execution_count": 10,
   "id": "5da16d3d-5d6e-4fef-9086-90ce013a182d",
   "metadata": {},
   "outputs": [],
   "source": [
    "def run_random(year, n, conv_rate, seen_rate, nationality_filter, decay_rate):\n",
    "\n",
    "    advertisementMap = {}\n",
    "    utilityMap = {}\n",
    "    probabilityMap = {}\n",
    "    \n",
    "    changedOpinionCount = 0\n",
    "    consumedFromAdvertisementCount = 0\n",
    "\n",
    "    items = list(range(1, 9))\n",
    "    \n",
    "    for i in items: \n",
    "        advertisementMap[i] = {}\n",
    "        elements = list(range(1, 9))\n",
    "        elements.remove(i)\n",
    "        for index, adCombination in enumerate(itertools.combinations(elements, n)):\n",
    "            ad = list(adCombination)\n",
    "            advertisementMap[i][index] = ad\n",
    "        \n",
    "    for i in range(1, 9):\n",
    "        utilityMap[i] = {}\n",
    "        probabilityMap[i] = {}\n",
    "        for key in advertisementMap[i].keys():\n",
    "            if not conv_rate == -1:\n",
    "                utilities = getUtilities(advertisementMap[i][key], i, decay_rate, conv_rate)\n",
    "            else:\n",
    "                utilities = getUtilities(advertisementMap[i][key], i, decay_rate)\n",
    "            utilityMap[i][key] = utilities\n",
    "            probabilities = getProbabilities(utilities)\n",
    "            probabilityMap[i][key] = probabilities \n",
    "\n",
    "\n",
    "    # setup stuff\n",
    "    arrivals = pd.read_csv('../data/nationality_long.csv')\n",
    "    arrivals = arrivals[arrivals['Year'] == year]\n",
    "\n",
    "    arrivalsDf = arrivals\n",
    "\n",
    "    # construct a new dataframe\n",
    "    df = pd.DataFrame(columns=['Year', 'Month', 'Season', 'district_c', 'District', 'Arrivals', 'Present'])\n",
    "\n",
    "    filter = 'Arrivals' if nationality_filter == ALL_COUNTRIES else nationality_filter\n",
    "\n",
    "    nonArrivals = arrivalsDf.copy()\n",
    "    arrivalsDf['Arrivals'] = arrivalsDf[filter].multiply(seen_rate/100).round()\n",
    "\n",
    "    nonArrivals['Arrivals'] = nonArrivals['Arrivals'] - arrivalsDf['Arrivals']\n",
    "    \n",
    "    nonArrivals['Ratio'] = arrivalsDf[filter].multiply((100-seen_rate)/100).round() / arrivalsDf['Arrivals']\n",
    "    \n",
    "    nonArrivals['Present'] = nonArrivals['Ratio'] * arrivalsDf['Present']\n",
    "\n",
    "\n",
    "    for i, row in arrivalsDf.iterrows():\n",
    "\n",
    "        choices = []\n",
    "\n",
    "        adNumberChoices = random.choices(list(utilityMap[row['district_c']].keys()), k = int(row['Arrivals']) )\n",
    "        \n",
    "        for x in range(int(row['Arrivals'])):\n",
    "\n",
    "            adNumber = adNumberChoices[x]#random.choice(list(utilityMap[row['district_c']].keys()))\n",
    "            probabilities = probabilityMap[row['district_c']][adNumber]\n",
    "            elements = list(probabilities.keys())\n",
    "\n",
    "            choice = random.choices(elements, weights=list(probabilities.values()), k=1)\n",
    "\n",
    "            choices.append(choice[0])\n",
    "        \n",
    "        start = [row['Year'], row['Month'], row['Season']]\n",
    "\n",
    "        a1 = [nonArrivals.loc[i, 'district_c']]\n",
    "        a2 = [district_code_map[nonArrivals.loc[i, 'district_c']]]\n",
    "        a3 = [nonArrivals.loc[i, \"Arrivals\"]]\n",
    "        \n",
    "        changedOpinion = sum(map(lambda c : c != row['district_c'], choices))\n",
    "        changedOpinionCount = changedOpinionCount + changedOpinion\n",
    "        consumedFromAdvertisement = sum(map(lambda c :  c != row['district_c'] or len(elements) == n, choices))\n",
    "        consumedFromAdvertisementCount = consumedFromAdvertisementCount + consumedFromAdvertisement\n",
    "    \n",
    "        s_row = pd.Series(start + a1 + a2 + a3 + [nonArrivals.loc[i, 'Present']], index=df.columns)\n",
    "        df = df.append(s_row,ignore_index=True)\n",
    "        \n",
    "        results = getMeanAndStandardDeviation(row['Year'], row['Month'], row['district_c'])\n",
    "        mean = results[0]\n",
    "        std = results[1]\n",
    "        \n",
    "        simulatedPresences = np.random.normal(mean, std, int(row['Arrivals']))\n",
    "\n",
    "        for dist in range(1, 9):\n",
    "            \n",
    "            arrivalsToDistrict = choices.count(dist)\n",
    "            \n",
    "            presenceArray = simulatedPresences[:arrivalsToDistrict]\n",
    "            simulatedPresences = simulatedPresences[arrivalsToDistrict:]\n",
    "            \n",
    "            sumOfPresences = np.sum(presenceArray)\n",
    "\n",
    "            s_row = pd.Series(start + [dist] + [district_code_map[dist]] + [arrivalsToDistrict] + [sumOfPresences], index=df.columns)\n",
    "            df = df.append(s_row,ignore_index=True)\n",
    "\n",
    "    simulatedResults = df.groupby(by=['Year', 'Month', 'Season', 'district_c', 'District']).agg({'Arrivals': 'sum', 'Present': 'sum'}).reset_index()\n",
    "   \n",
    "    # print(df.groupby(by=['Year', 'Month', 'Season', 'district_c', 'District']).sum())\n",
    "\n",
    "    simulatedResults.to_csv('../data/sim.csv', index=False)\n",
    "\n",
    "    arrivals2 = pd.read_csv('../data/nationality_trends.csv')\n",
    "    arrivals2 = arrivals2[arrivals2['Year'] == year] \n",
    "    arrivals2 = arrivals2.groupby(by=['Year', 'Month', 'Season', 'district_c']).sum().reset_index()\n",
    "\n",
    "    arrivals2 = arrivals2.merge(simulatedResults, how='inner', on=[\"Year\", \"Month\", \"district_c\"], suffixes=(\"\", \"_sim\"))\n",
    "    arrivals2 = arrivals2.drop(['Season_sim'], axis = 1)\n",
    "    arrivals2['Diff'] = arrivals2['Arrivals_sim'] - arrivals2['Arrivals']\n",
    "    \n",
    "    arrivals2['sim_present'] = arrivals2['Present_sim']\n",
    "    \n",
    "    return  [arrivals2, changedOpinionCount, consumedFromAdvertisementCount] #arrivals2 #changedOpinionCount\n",
    "\n",
    "    # st.session_state['comparable'] = True\n",
    "    # st.session_state.nclick += 1\n",
    "    # st.session_state.arrivals_sim = arrivals2\n",
    "    # st.session_state.executed_simulation = st.session_state.selectbox_symtype\n",
    "    # st.session_state.mode = SIMULATION\n",
    "    # st.session_state.strategy = SIM_TYPE_RANDOMN\n"
   ]
  },
  {
   "cell_type": "code",
   "execution_count": 8,
   "id": "c258bef8-b8b1-44c5-905d-03f6224278c2",
   "metadata": {},
   "outputs": [],
   "source": [
    "def on_run_simulation_btn_click(year, type, n, conv_rate, seen_rate, multiselect, nationality_filter, decay_rate):\n",
    "\n",
    "    # seen_rate = 0.6#conv_rate / 100\n",
    "    \n",
    "    # run advertisement\n",
    "    \n",
    "    changedOpinionCount = 0\n",
    "    consumedFromAdvertisementCount = 0\n",
    "\n",
    "    if nationality_filter == ALL_COUNTRIES:\n",
    "\n",
    "        arrivalCounts = pd.read_csv(\"../data/districts_ranked.csv\")\n",
    "        ac = arrivalCounts[arrivalCounts['Year'] == year]\n",
    "        \n",
    "        if type == SIM_TYPE_TOPN:\n",
    "            ad = ac['district_c'].head(n).tolist()\n",
    "        elif type == SIM_TYPE_BOTTOMN:\n",
    "            ad = ac.sort_values(by='Rank', ascending=False)['district_c'].head(n).tolist()\n",
    "        elif type == SIM_TYPE_CUSTOM:\n",
    "            ad = list(map(codeLoopup, multiselect))\n",
    "        else:\n",
    "            ad = random.sample(range(1, 9), n)\n",
    "    \n",
    "    else:\n",
    "\n",
    "        arrivalCounts = pd.read_csv(\"../data/yearly_arrivals_by_nat_and_dist.csv\")\n",
    "        ac = arrivalCounts[arrivalCounts['Year'] == year]\n",
    "        \n",
    "        if type == SIM_TYPE_TOPN:\n",
    "            ad = ac.sort_values(by=nationality_filter, ascending=False)['district_c'].head(n).tolist()\n",
    "        elif type == SIM_TYPE_BOTTOMN:\n",
    "            ad = ac.sort_values(by=nationality_filter, ascending=True)['district_c'].head(n).tolist()\n",
    "        elif type == SIM_TYPE_CUSTOM:\n",
    "            ad = list(map(codeLoopup, multiselect))\n",
    "        else:\n",
    "            ad = random.sample(range(1, 9), n)\n",
    "\n",
    "\n",
    "    # setup stuff\n",
    "    arrivals = pd.read_csv('../data/nationality_long.csv')\n",
    "    arrivals = arrivals[arrivals['Year'] == year]\n",
    "\n",
    "    arrivalsDf = arrivals\n",
    "\n",
    "    # construct a new dataframe\n",
    "    df = pd.DataFrame(columns=['Year', 'Month', 'Season', 'district_c', 'District', 'Arrivals', 'Present'])\n",
    "\n",
    "    filter = 'Arrivals' if nationality_filter == ALL_COUNTRIES else nationality_filter\n",
    "\n",
    "    nonArrivals = arrivalsDf.copy()\n",
    "    arrivalsDf['Arrivals'] = arrivalsDf[filter].multiply(seen_rate/100).round()\n",
    "\n",
    "    nonArrivals['Arrivals'] = nonArrivals['Arrivals'] - arrivalsDf['Arrivals']\n",
    "    \n",
    "    nonArrivals['Ratio'] = arrivalsDf[filter].multiply((100-seen_rate)/100).round() / arrivalsDf['Arrivals']\n",
    "    \n",
    "    nonArrivals['Present'] = nonArrivals['Ratio'] * arrivalsDf['Present']\n",
    "\n",
    "    utilityMap = {}\n",
    "    for index in range(1, 9):\n",
    "        if not conv_rate == -1:\n",
    "            utilityMap[index] = getUtilities(ad, index, decay_rate, conv_rate)\n",
    "        else:\n",
    "            utilityMap[index] = getUtilities(ad, index, decay_rate)\n",
    "\n",
    "\n",
    "    for i, row in arrivalsDf.iterrows():\n",
    "\n",
    "        utilities = utilityMap[row['district_c']]\n",
    "\n",
    "        probabilities = getProbabilities(utilities)\n",
    "\n",
    "        elements = list(probabilities.keys())\n",
    "        \n",
    "        choices = random.choices(elements, weights=list(probabilities.values()), k=int(row['Arrivals']))\n",
    "        \n",
    "        # changedOpinion = count(c == row['district_c'] for c in choices)\n",
    "        changedOpinion = sum(map(lambda c : c != row['district_c'], choices))\n",
    "        changedOpinionCount = changedOpinionCount + changedOpinion\n",
    "        \n",
    "        consumedFromAdvertisement = sum(map(lambda c : c != row['district_c'] or len(elements) == n, choices))\n",
    "        consumedFromAdvertisementCount = consumedFromAdvertisementCount + consumedFromAdvertisement\n",
    "        \n",
    "        # print(changedOpinion)\n",
    "        # print(changedOpinionCount)\n",
    "        \n",
    "        start = [row['Year'], row['Month'], row['Season']]\n",
    "    \n",
    "        s_row = pd.Series(start + [nonArrivals.loc[i, 'district_c']] + [district_code_map[nonArrivals.loc[i, 'district_c']]] + [nonArrivals.loc[i, \"Arrivals\"]] + [nonArrivals.loc[i, \"Present\"]], index=df.columns)\n",
    "        df = df.append(s_row,ignore_index=True)\n",
    "        \n",
    "        results = getMeanAndStandardDeviation(row['Year'], row['Month'], row['district_c'])\n",
    "        mean = results[0]\n",
    "        std = results[1]\n",
    "        \n",
    "        simulatedPresences = np.random.normal(mean, std, int(row['Arrivals']))\n",
    "\n",
    "        for dist in range(1, 9):\n",
    "            \n",
    "            arrivalsToDistrict = choices.count(dist)\n",
    "            \n",
    "            presenceArray = simulatedPresences[:arrivalsToDistrict]\n",
    "            simulatedPresences = simulatedPresences[arrivalsToDistrict:]\n",
    "            \n",
    "            sumOfPresences = np.sum(presenceArray)\n",
    "\n",
    "            s_row = pd.Series(start + [dist] + [district_code_map[dist]] + [arrivalsToDistrict] + [sumOfPresences], index=df.columns)\n",
    "            df = df.append(s_row,ignore_index=True)\n",
    "\n",
    "    simulatedResults = df.groupby(by=['Year', 'Month', 'Season', 'district_c', 'District']).agg({'Arrivals': 'sum', 'Present': 'sum'}).reset_index()\n",
    "   \n",
    "    # print(\"sim: \", simulatedResults.columns)\n",
    "    # print(\"df: \", df.columns)\n",
    "    # print(df)\n",
    "\n",
    "    simulatedResults.to_csv('../data/sim.csv', index=False)\n",
    "    \n",
    "    # simulatedResults\n",
    "\n",
    "    arrivals2 = pd.read_csv('../data/nationality_trends.csv')\n",
    "    arrivals2 = arrivals2[arrivals2['Year'] == year]\n",
    "    arrivals2 = arrivals2.groupby(by=['Year', 'Month', 'Season', 'district_c']).sum().reset_index()\n",
    "\n",
    "    arrivals2 = arrivals2.merge(simulatedResults, how='inner', on=[\"Year\", \"Month\", \"district_c\"], suffixes=(\"\", \"_sim\"))\n",
    "    arrivals2 = arrivals2.drop(['Season_sim'], axis = 1)\n",
    "    arrivals2['Diff'] = arrivals2['Arrivals_sim'] - arrivals2['Arrivals']\n",
    "    arrivals2['sim_present'] = arrivals2['Present_sim'] #* 4.63335435\n",
    "    \n",
    "    return arrivals2 #[changedOpinionCount, consumedFromAdvertisementCount] #arrivals2#changedOpinionCount#(arrivals2, changedOpinionCount)\n",
    "\n",
    "    # st.session_state['comparable'] = True\n",
    "    # st.session_state.nclick += 1\n",
    "    # st.session_state.arrivals_sim = arrivals2\n",
    "    # st.session_state.executed_simulation = st.session_state.selectbox_symtype\n",
    "    # st.session_state.mode = SIMULATION\n",
    "    # st.session_state.strategy = type"
   ]
  },
  {
   "cell_type": "code",
   "execution_count": 12,
   "id": "471b5e60-7786-459b-a405-9cc8e0de4219",
   "metadata": {},
   "outputs": [
    {
     "name": "stdout",
     "output_type": "stream",
     "text": [
      "1 1\n"
     ]
    },
    {
     "name": "stderr",
     "output_type": "stream",
     "text": [
      "C:\\Users\\gpili\\AppData\\Local\\Temp/ipykernel_6868/2514210986.py:3: SettingWithCopyWarning: \n",
      "A value is trying to be set on a copy of a slice from a DataFrame.\n",
      "Try using .loc[row_indexer,col_indexer] = value instead\n",
      "\n",
      "See the caveats in the documentation: https://pandas.pydata.org/pandas-docs/stable/user_guide/indexing.html#returning-a-view-versus-a-copy\n",
      "  filteredDf[\"AverageStay\"] = filteredDf[\"Present\"] / filteredDf[\"Arrivals\"]\n"
     ]
    },
    {
     "name": "stdout",
     "output_type": "stream",
     "text": [
      "1 2\n",
      "1 3\n",
      "1 4\n",
      "1 5\n",
      "2 1\n",
      "2 2\n",
      "2 3\n",
      "2 4\n",
      "2 5\n",
      "3 1\n",
      "3 2\n",
      "3 3\n",
      "3 4\n",
      "3 5\n",
      "4 1\n",
      "4 2\n",
      "4 3\n",
      "4 4\n",
      "4 5\n",
      "5 1\n",
      "5 2\n",
      "5 3\n",
      "5 4\n",
      "5 5\n",
      "6 1\n",
      "6 2\n",
      "6 3\n",
      "6 4\n",
      "6 5\n",
      "7 1\n",
      "7 2\n",
      "7 3\n",
      "7 4\n",
      "7 5\n"
     ]
    }
   ],
   "source": [
    "results = {}\n",
    "\n",
    "for n in range(1, 8):\n",
    "    \n",
    "    results[n] = {}\n",
    "    \n",
    "    for i in range(1, 6):\n",
    "        \n",
    "        print(n, i)\n",
    "        \n",
    "        results[n][i] = run_random(2019, n, -1, 100, ALL_COUNTRIES, 1.2)\n",
    "        \n"
   ]
  },
  {
   "cell_type": "code",
   "execution_count": 14,
   "id": "0943bf8b-45e2-4cf4-94d0-e78001f9656e",
   "metadata": {},
   "outputs": [
    {
     "name": "stdout",
     "output_type": "stream",
     "text": [
      "[[0.2915710059509532, 0.3734549547396849, 0.3088106900962923, 0.07925915409555614], [0.28358661357432047, 0.3579457716094366, 0.2894487987158361, 0.0934933505163439], [0.28621867857895683, 0.3541085273281509, 0.2854152623617301, 0.11335961013484723], [0.28970912652550934, 0.3568630688782659, 0.28270530594434634, 0.13380101904445701], [0.2930240558793569, 0.3601990706260277, 0.27986495387042215, 0.15088195853588995], [0.2953604423081516, 0.36234842035157927, 0.27936225238151613, 0.16632339917675348], [0.29694708625507377, 0.36341044503914666, 0.27822233783046796, 0.17946262894166126]]\n"
     ]
    }
   ],
   "source": [
    "table = []\n",
    "\n",
    "for n in range(1, 8):\n",
    "\n",
    "    arrivalsSum = 0\n",
    "    avgPresentSum = 0\n",
    "    avgPresentPopSum = 0\n",
    "    avgPresentBedSum = 0\n",
    "    \n",
    "    for i in range(1, 6):\n",
    "        \n",
    "            # print(n, i)\n",
    "        \n",
    "            #arrivalsSimulated = on_run_simulation_btn_click(2019, SIM_TYPE_BOTTOMN, n, -1, 100, [], ALL_COUNTRIES, 1.2)\n",
    "            arrivalsSimulated = results[n][i][0]#run_random(2019, n, -1, 100, ALL_COUNTRIES, 1.2)\n",
    "            #arrivalsSimulated = run_sustainable(2019, -1, n, 100, ALL_COUNTRIES, 1.2)\n",
    "        \n",
    "            districts = gp.read_file('../data/geo_district_df.shp')\n",
    "\n",
    "            yearlyDf = arrivalsSimulated[arrivalsSimulated['Year'] == 2019]\n",
    "\n",
    "            yearlyDf = yearlyDf.groupby(['district_c']).sum()\n",
    "\n",
    "            yearlyDf = districts.merge(yearlyDf, on='district_c',\n",
    "                                     how=\"inner\", suffixes=('', '_y'))\n",
    "\n",
    "            yearlyDf[\"AvgPresentSim\"] = yearlyDf[\"sim_present\"] / 365\n",
    "            yearlyDf[\"AvgPresentToBedsSim\"] = yearlyDf[\"AvgPresentSim\"] / yearlyDf[\"beds\"]\n",
    "            yearlyDf[\"AvgPresentToPopSim\"] = yearlyDf[\"AvgPresentSim\"] / yearlyDf[\"population\"]\n",
    "\n",
    "\n",
    "            yearlyDf[\"AvgPresent\"] = yearlyDf[\"Present\"] / 365\n",
    "            yearlyDf[\"AvgPresentToBeds\"] = yearlyDf[\"AvgPresent\"] / yearlyDf[\"beds\"]\n",
    "            yearlyDf[\"AvgPresentToPop\"] = yearlyDf[\"AvgPresent\"] / yearlyDf[\"population\"]\n",
    "\n",
    "            # #st.write(np.array(yearlyDf['avgPop'].values.tolist()))\n",
    "            \n",
    "            arrivals = gini_coefficient(np.array(yearlyDf['Arrivals_sim'].values.tolist()))\n",
    "            avgPresent = gini_coefficient(np.array(yearlyDf['AvgPresentSim'].values.tolist()))\n",
    "            avgPresentPop = gini_coefficient(np.array(yearlyDf['AvgPresentToPopSim'].values.tolist()))\n",
    "            avgPresentBeds = gini_coefficient(np.array(yearlyDf['AvgPresentToBedsSim'].values.tolist()))\n",
    "            \n",
    "    giniArrivals = arrivalsSum / 5\n",
    "    giniAvgPresent = avgPresentSum / 5\n",
    "    giniAvgPresentPop = avgPresentPopSum / 5\n",
    "    giniAvgPresentBed = avgPresentBedSum / 5\n",
    "    \n",
    "    table.append([arrivals, avgPresent, avgPresentPop, avgPresentBeds])\n",
    "    \n",
    "            \n",
    "print(table)\n"
   ]
  },
  {
   "cell_type": "code",
   "execution_count": 204,
   "id": "701ba1c2-ce29-4dff-8b3a-49b0bfe35e56",
   "metadata": {},
   "outputs": [],
   "source": [
    "topNTable = pd.DataFrame(table, index = list(range(1, 9)), columns =['Arrivals', 'AvgPresent', 'AvgPresentPop', 'AvgPresentBeds'])"
   ]
  },
  {
   "cell_type": "code",
   "execution_count": 205,
   "id": "744602f7-87a9-406d-9143-39b6729172ae",
   "metadata": {},
   "outputs": [],
   "source": [
    "topNTable.to_csv('../data/topN.csv')"
   ]
  },
  {
   "cell_type": "code",
   "execution_count": 207,
   "id": "b9d8894a-7a38-4f90-8386-29d6c4704ba3",
   "metadata": {},
   "outputs": [],
   "source": [
    "bottomNTable = pd.DataFrame(table, index = list(range(1, 9)), columns =['Arrivals', 'AvgPresent', 'AvgPresentPop', 'AvgPresentBeds'])"
   ]
  },
  {
   "cell_type": "code",
   "execution_count": 208,
   "id": "e4a686ce-9a42-4c96-9f06-8aa542679605",
   "metadata": {},
   "outputs": [],
   "source": [
    "bottomNTable.to_csv('../data/bottomN.csv')"
   ]
  },
  {
   "cell_type": "code",
   "execution_count": 15,
   "id": "2dd86b92-4205-4016-90f2-0a511d38726b",
   "metadata": {},
   "outputs": [],
   "source": [
    "randomNTable = pd.DataFrame(table, index = list(range(1, 8)), columns =['Arrivals', 'AvgPresent', 'AvgPresentPop', 'AvgPresentBeds'])"
   ]
  },
  {
   "cell_type": "code",
   "execution_count": 16,
   "id": "0d877423-f194-4582-a9b1-24b6af814331",
   "metadata": {},
   "outputs": [],
   "source": [
    "randomNTable.to_csv('../data/randomN.csv')"
   ]
  },
  {
   "cell_type": "code",
   "execution_count": 13,
   "id": "5a4875fe-7e7c-421e-9e37-3eda02494b13",
   "metadata": {},
   "outputs": [],
   "source": [
    "sustainableNTable = pd.DataFrame(table, index = list(range(1, 4)), columns =['Arrivals', 'AvgPresent', 'AvgPresentPop', 'AvgPresentBeds'])"
   ]
  },
  {
   "cell_type": "code",
   "execution_count": 14,
   "id": "ac6b413a-e2b9-4580-8354-b0c7baeeba21",
   "metadata": {},
   "outputs": [],
   "source": [
    "sustainableNTable.to_csv('../data/sustainableN.csv')"
   ]
  },
  {
   "cell_type": "code",
   "execution_count": 18,
   "id": "f79fe7d2-39bf-44f6-b413-fb8100462604",
   "metadata": {},
   "outputs": [
    {
     "data": {
      "text/plain": [
       "7704312.0"
      ]
     },
     "execution_count": 18,
     "metadata": {},
     "output_type": "execute_result"
    }
   ],
   "source": [
    "# get number of all arrivals\n",
    "\n",
    "data = pd.read_csv('../data/nationality_long.csv')\n",
    "data = data[data['Year'] == 2019]\n",
    "data = data.groupby(['Year']).sum().reset_index()\n",
    "totalArrivals2019 = data['Arrivals'].loc[0]\n",
    "\n",
    "totalArrivals2019"
   ]
  },
  {
   "cell_type": "code",
   "execution_count": 25,
   "id": "c1e8080c-2d64-45af-beef-374cf86cf7ec",
   "metadata": {},
   "outputs": [],
   "source": [
    "# get arrivals by real arrivals by district\n",
    "\n",
    "averagePopularity = pd.read_csv('../data/nationality_long.csv')\n",
    "averagePopularity = averagePopularity[averagePopularity['Year'] == 2019]\n",
    "averagePopularity = averagePopularity.groupby(['district_c']).sum().reset_index()\n",
    "\n",
    "averagePopularity['Popularity'] = averagePopularity['Arrivals'] / totalArrivals2019"
   ]
  },
  {
   "cell_type": "code",
   "execution_count": 19,
   "id": "d730678c-531a-4a56-b913-28e3c85d0103",
   "metadata": {},
   "outputs": [
    {
     "name": "stdout",
     "output_type": "stream",
     "text": [
      "[0.16759550178845709, 0.1653240462042933, 0.16503284110014382, 0.165264028866746, 0.16562148259244638, 0.1658773021887515, 0.16609935861856795]\n"
     ]
    }
   ],
   "source": [
    "table = []\n",
    "\n",
    "for n in range(1, 8):\n",
    "    \n",
    "    sumArrivals = 0\n",
    "    \n",
    "    for i in range(1, 6):\n",
    "        \n",
    "            #arrivalsSimulated = on_run_simulation_btn_click(2019, SIM_TYPE_BOTTOMN, n, -1, 100, [], ALL_COUNTRIES, 1.2)\n",
    "            arrivalsSimulated = results[n][i][0]#run_random(2019, n, -1, 100, ALL_COUNTRIES, 1.2)\n",
    "            #arrivalsSimulated = run_sustainable(2019, -1, n, 100, ALL_COUNTRIES, 1.2)\n",
    "        \n",
    "            # districts = gp.read_file('../data/geo_district_df.shp')\n",
    "\n",
    "            yearlyDf = arrivalsSimulated[arrivalsSimulated['Year'] == 2019]\n",
    "\n",
    "            yearlyDf = yearlyDf.groupby(['district_c']).sum()\n",
    "            \n",
    "            yearlyDf['Popularity'] = yearlyDf['Arrivals'] / totalArrivals2019\n",
    "            \n",
    "            sumArrivals = sumArrivals + (yearlyDf['Arrivals_sim']*yearlyDf['Popularity']).sum() #np.add(arrivalsSum, np.array(yearlyDf['Arrivals_sim'].values.tolist()))\n",
    "\n",
    "    # divider = np.empty(8)\n",
    "    # divider.fill(int(5*totalArrivals2019))\n",
    "    sumArrivals = sumArrivals / (5*totalArrivals2019)\n",
    "    \n",
    "    table.append(sumArrivals)\n",
    "    \n",
    "            \n",
    "print(table)\n"
   ]
  },
  {
   "cell_type": "code",
   "execution_count": 43,
   "id": "800f6f45-32d9-45c4-817d-d4e7fb11c0d0",
   "metadata": {},
   "outputs": [],
   "source": [
    "sustainableNTablePopularity = pd.DataFrame(table, index = list(range(1, 9)))"
   ]
  },
  {
   "cell_type": "code",
   "execution_count": 44,
   "id": "9eace226-b573-4f44-b1a5-636d8c027f7e",
   "metadata": {},
   "outputs": [],
   "source": [
    "sustainableNTablePopularity.to_csv('../data/sustainableNPopularity.csv')"
   ]
  },
  {
   "cell_type": "code",
   "execution_count": 36,
   "id": "9502fee2-be3a-496c-b99b-c510ee0e1788",
   "metadata": {},
   "outputs": [],
   "source": [
    "topNTablePopularity = pd.DataFrame(table, index = list(range(1, 9)))"
   ]
  },
  {
   "cell_type": "code",
   "execution_count": 38,
   "id": "16f8c994-f1e7-47f0-af0e-d15ed7e61fbf",
   "metadata": {},
   "outputs": [],
   "source": [
    "topNTablePopularity.to_csv('../data/topNPopularity.csv')"
   ]
  },
  {
   "cell_type": "code",
   "execution_count": 40,
   "id": "44643c70-0890-469d-ae51-5fd621aa297a",
   "metadata": {},
   "outputs": [],
   "source": [
    "bottomNTablePopularity = pd.DataFrame(table, index = list(range(1, 9)))"
   ]
  },
  {
   "cell_type": "code",
   "execution_count": 41,
   "id": "eb4d1316-010d-4b0b-b500-9acd08c9809f",
   "metadata": {},
   "outputs": [],
   "source": [
    "bottomNTablePopularity.to_csv('../data/bottomNPopularity.csv')"
   ]
  },
  {
   "cell_type": "code",
   "execution_count": 20,
   "id": "1ab3606c-4722-48c1-aac4-b7c24f384235",
   "metadata": {},
   "outputs": [],
   "source": [
    "randomNTablePopularity = pd.DataFrame(table, index = list(range(1, 8)))"
   ]
  },
  {
   "cell_type": "code",
   "execution_count": 21,
   "id": "9f68172a-5a84-4993-b25a-b6aa95481e77",
   "metadata": {},
   "outputs": [],
   "source": [
    "randomNTablePopularity.to_csv('../data/randomNPopularity.csv')"
   ]
  },
  {
   "cell_type": "code",
   "execution_count": 22,
   "id": "b1d67a8f-2403-461a-a0bc-380efe804669",
   "metadata": {},
   "outputs": [
    {
     "name": "stdout",
     "output_type": "stream",
     "text": [
      "[[0.19576592952102667, 0.19576592952102667], [0.27367232791195373, 0.27367232791195373], [0.30772546594686195, 0.30772546594686195], [0.321860770955278, 0.321860770955278], [0.32583431200605584, 0.32583431200605584], [0.32424143778185516, 0.32424143778185516], [0.31928156595942636, 0.31928156595942636]]\n"
     ]
    }
   ],
   "source": [
    "table = []\n",
    "\n",
    "for n in range(1, 8):\n",
    "    \n",
    "    # [changedOpinionCount, consumedFromAdvertisementCount]\n",
    "\n",
    "    changedOpinionSum = 0\n",
    "    consumedFromAdvertisementSum = 0\n",
    "    \n",
    "    for i in range(1, 6):\n",
    "        \n",
    "        #results = on_run_simulation_btn_click(2019, SIM_TYPE_BOTTOMN, n, -1, 100, [], ALL_COUNTRIES, 1.2)\n",
    "        #print(changedOpinionCount)\n",
    "        #results = run_random(2019, n, -1, 100, ALL_COUNTRIES, 1.2)\n",
    "        #results = run_sustainable(2019, -1, n, 100, ALL_COUNTRIES, 1.2)\n",
    "        changedOpinionCount = results[n][i][1] #results[0]\n",
    "        consumedFromAdvertisementCount = results[n][i][2]#results[1]\n",
    "            \n",
    "#             print(arrivalsSimulated.columns)\n",
    "        \n",
    "#             districts = gp.read_file('../data/geo_district_df.shp')\n",
    "\n",
    "#             yearlyDf = arrivalsSimulated[arrivalsSimulated['Year'] == 2019]\n",
    "\n",
    "#             yearlyDf = yearlyDf.groupby(['Year']).sum()\n",
    "            \n",
    "        changedOpinionSum = changedOpinionSum + changedOpinionCount #yearlyDf['Changed'].values.tolist()[0]\n",
    "        consumedFromAdvertisementSum = consumedFromAdvertisementSum + consumedFromAdvertisementCount\n",
    "\n",
    " \n",
    "    changedRatio =changedOpinionSum / 5 / 7704312\n",
    "    consumedRatio =consumedFromAdvertisementSum / 5 / 7704312\n",
    "    \n",
    "    # print(arrivalsSum)\n",
    "    \n",
    "    table.append([changedRatio, consumedRatio])\n",
    "    \n",
    "            \n",
    "print(table)\n"
   ]
  },
  {
   "cell_type": "code",
   "execution_count": 71,
   "id": "1438bb63-39fa-4af7-a9fa-69bb5974f4fe",
   "metadata": {},
   "outputs": [],
   "source": [
    "topNTableAcc = pd.DataFrame(table, index = list(range(1, 9)), columns = [\"Changed\", \"Consumed\"])"
   ]
  },
  {
   "cell_type": "code",
   "execution_count": 72,
   "id": "36d2761a-486b-4523-a1f7-850b726eb99d",
   "metadata": {},
   "outputs": [],
   "source": [
    "topNTableAcc.to_csv('../data/topNTableAcc.csv')"
   ]
  },
  {
   "cell_type": "code",
   "execution_count": 74,
   "id": "8e806bac-db75-4f55-aeb0-ca189b118442",
   "metadata": {},
   "outputs": [],
   "source": [
    "bottomNTableAcc = pd.DataFrame(table, index = list(range(1, 9)), columns = [\"Changed\", \"Consumed\"])"
   ]
  },
  {
   "cell_type": "code",
   "execution_count": 75,
   "id": "7469893a-6ecd-4269-b595-13723cf60cd8",
   "metadata": {},
   "outputs": [],
   "source": [
    "bottomNTableAcc.to_csv('../data/bottomNTableAcc.csv')"
   ]
  },
  {
   "cell_type": "code",
   "execution_count": 23,
   "id": "e7c9f23a-5bfd-431d-892d-ef95235d5f2a",
   "metadata": {},
   "outputs": [],
   "source": [
    "randomNTableAcc = pd.DataFrame(table, index = list(range(1, 8)), columns = [\"Changed\", \"Consumed\"])"
   ]
  },
  {
   "cell_type": "code",
   "execution_count": 24,
   "id": "b2ecaa01-1990-4fd0-a589-4612ba748c00",
   "metadata": {},
   "outputs": [],
   "source": [
    "randomNTableAcc.to_csv('../data/randomNTableAcc.csv')"
   ]
  },
  {
   "cell_type": "code",
   "execution_count": 178,
   "id": "e146ed79-910b-4abe-8e9a-2e5c0b4d5f43",
   "metadata": {},
   "outputs": [],
   "source": [
    "sustainableNTableAcc = pd.DataFrame(table, index = list(range(1, 4)), columns = [\"Changed\", \"Consumed\"])"
   ]
  },
  {
   "cell_type": "code",
   "execution_count": 179,
   "id": "d6f2f03b-4d48-432d-9cb0-d0f0dd2d7c97",
   "metadata": {},
   "outputs": [],
   "source": [
    "sustainableNTableAcc.to_csv('../data/sustainableNTableAcc.csv')"
   ]
  },
  {
   "cell_type": "code",
   "execution_count": 180,
   "id": "16ec716e-cafb-48c2-b892-d47b2d9715d9",
   "metadata": {},
   "outputs": [],
   "source": [
    "topNTablePopularityDf = pd.read_csv('../data/topNPopularity.csv', index_col=0)"
   ]
  },
  {
   "cell_type": "code",
   "execution_count": 183,
   "id": "bb98076a-4f6a-4a2b-9abb-fb73d87e4db1",
   "metadata": {},
   "outputs": [],
   "source": [
    "topNTablePopularityDf[\"averagePopularity\"] = topNTablePopularityDf[\"1\"]*topNTablePopularityDf[\"1\"] + topNTablePopularityDf[\"2\"]*topNTablePopularityDf[\"2\"] + topNTablePopularityDf[\"3\"]*topNTablePopularityDf[\"3\"] + topNTablePopularityDf[\"4\"]*topNTablePopularityDf[\"4\"] + topNTablePopularityDf[\"5\"]*topNTablePopularityDf[\"5\"] + topNTablePopularityDf[\"6\"]*topNTablePopularityDf[\"6\"] + topNTablePopularityDf[\"7\"]*topNTablePopularityDf[\"7\"] + topNTablePopularityDf[\"8\"]*topNTablePopularityDf[\"8\"]"
   ]
  },
  {
   "cell_type": "code",
   "execution_count": 185,
   "id": "8e9a94ec-042a-42e9-824d-56cae1c9045a",
   "metadata": {},
   "outputs": [],
   "source": [
    "topNTablePopularityDf.to_csv('../data/topNPopularity.csv')"
   ]
  },
  {
   "cell_type": "code",
   "execution_count": 186,
   "id": "2c9d04a1-67b7-40a9-aca3-573466bf959a",
   "metadata": {},
   "outputs": [],
   "source": [
    "bottomNTablePopularityDf = pd.read_csv('../data/bottomNPopularity.csv', index_col=0)"
   ]
  },
  {
   "cell_type": "code",
   "execution_count": 187,
   "id": "115901ad-878b-49ab-a354-523a99b0c8a5",
   "metadata": {},
   "outputs": [],
   "source": [
    "bottomNTablePopularityDf[\"averagePopularity\"] = bottomNTablePopularityDf[\"1\"]*bottomNTablePopularityDf[\"1\"] + bottomNTablePopularityDf[\"2\"]*bottomNTablePopularityDf[\"2\"] + bottomNTablePopularityDf[\"3\"]*bottomNTablePopularityDf[\"3\"] + bottomNTablePopularityDf[\"4\"]*bottomNTablePopularityDf[\"4\"] + bottomNTablePopularityDf[\"5\"]*bottomNTablePopularityDf[\"5\"] + bottomNTablePopularityDf[\"6\"]*bottomNTablePopularityDf[\"6\"] + bottomNTablePopularityDf[\"7\"]*bottomNTablePopularityDf[\"7\"] + bottomNTablePopularityDf[\"8\"]*bottomNTablePopularityDf[\"8\"]"
   ]
  },
  {
   "cell_type": "code",
   "execution_count": 188,
   "id": "665f8a5e-7fac-463a-85f5-9d856ef80b70",
   "metadata": {},
   "outputs": [],
   "source": [
    "bottomNTablePopularityDf.to_csv('../data/bottomNPopularity.csv')"
   ]
  },
  {
   "cell_type": "code",
   "execution_count": 189,
   "id": "cde98870-1fb2-432c-b3b0-e942b574af60",
   "metadata": {},
   "outputs": [],
   "source": [
    "randomNTablePopularityDf = pd.read_csv('../data/randomNPopularity.csv', index_col=0)"
   ]
  },
  {
   "cell_type": "code",
   "execution_count": 190,
   "id": "7e3cd2fa-7d5b-4f65-91a6-8ccd5dd231c8",
   "metadata": {},
   "outputs": [],
   "source": [
    "randomNTablePopularityDf[\"averagePopularity\"] = randomNTablePopularityDf[\"1\"]*randomNTablePopularityDf[\"1\"] + randomNTablePopularityDf[\"2\"]*randomNTablePopularityDf[\"2\"] + randomNTablePopularityDf[\"3\"]*randomNTablePopularityDf[\"3\"] + randomNTablePopularityDf[\"4\"]*randomNTablePopularityDf[\"4\"] + randomNTablePopularityDf[\"5\"]*randomNTablePopularityDf[\"5\"] + randomNTablePopularityDf[\"6\"]*randomNTablePopularityDf[\"6\"] + randomNTablePopularityDf[\"7\"]*randomNTablePopularityDf[\"7\"] + randomNTablePopularityDf[\"8\"]*randomNTablePopularityDf[\"8\"]"
   ]
  },
  {
   "cell_type": "code",
   "execution_count": 191,
   "id": "6d4bfeab-390f-436e-b144-290a4fd97a49",
   "metadata": {},
   "outputs": [],
   "source": [
    "randomNTablePopularityDf.to_csv('../data/randomNPopularity.csv')"
   ]
  },
  {
   "cell_type": "code",
   "execution_count": 198,
   "id": "ee74a10d-a84e-4f67-b428-917928a9546b",
   "metadata": {},
   "outputs": [],
   "source": [
    "sustainableNTablePopularityDf = pd.read_csv('../data/sustainableNPopularity.csv', index_col=0)"
   ]
  },
  {
   "cell_type": "code",
   "execution_count": 199,
   "id": "a67e3962-0ed2-4e50-b393-1785a996169e",
   "metadata": {},
   "outputs": [],
   "source": [
    "sustainableNTablePopularityDf[\"averagePopularity\"] = sustainableNTablePopularityDf[\"1\"]*sustainableNTablePopularityDf[\"1\"] + sustainableNTablePopularityDf[\"2\"]*sustainableNTablePopularityDf[\"2\"] + sustainableNTablePopularityDf[\"3\"]*sustainableNTablePopularityDf[\"3\"] + sustainableNTablePopularityDf[\"4\"]*sustainableNTablePopularityDf[\"4\"] + sustainableNTablePopularityDf[\"5\"]*sustainableNTablePopularityDf[\"5\"] + sustainableNTablePopularityDf[\"6\"]*sustainableNTablePopularityDf[\"6\"] + sustainableNTablePopularityDf[\"7\"]*sustainableNTablePopularityDf[\"7\"] + sustainableNTablePopularityDf[\"8\"]*sustainableNTablePopularityDf[\"8\"]"
   ]
  },
  {
   "cell_type": "code",
   "execution_count": 200,
   "id": "84789931-2d9b-40d8-af0f-6e7ec9d8d00c",
   "metadata": {},
   "outputs": [],
   "source": [
    "sustainableNTablePopularityDf.to_csv('../data/sustainableNPopularity.csv')"
   ]
  },
  {
   "cell_type": "code",
   "execution_count": 205,
   "id": "c76cc28c-6e12-4d4e-8c0f-32f007421493",
   "metadata": {},
   "outputs": [],
   "source": [
    "realAvgPop = np.array([590082, 1548993, 428378, 2247110, 774849, 1203473, 343777, 567650])/7704312"
   ]
  },
  {
   "cell_type": "code",
   "execution_count": 208,
   "id": "0f2c7eea-843d-44cc-af67-c51021190175",
   "metadata": {},
   "outputs": [
    {
     "data": {
      "text/plain": [
       "0.17638755720059165"
      ]
     },
     "execution_count": 208,
     "metadata": {},
     "output_type": "execute_result"
    }
   ],
   "source": [
    "sum(list(realAvgPop * realAvgPop))"
   ]
  },
  {
   "cell_type": "code",
   "execution_count": 218,
   "id": "a60f7b11-c119-47f5-bc1c-8a047b7d97a8",
   "metadata": {},
   "outputs": [],
   "source": [
    "arrivalsDf = pd.read_csv('../data/topN.csv', index_col=0)"
   ]
  },
  {
   "cell_type": "code",
   "execution_count": 219,
   "id": "366fc40d-7569-4331-9e54-6b5899151e1d",
   "metadata": {},
   "outputs": [
    {
     "data": {
      "text/html": [
       "<div>\n",
       "<style scoped>\n",
       "    .dataframe tbody tr th:only-of-type {\n",
       "        vertical-align: middle;\n",
       "    }\n",
       "\n",
       "    .dataframe tbody tr th {\n",
       "        vertical-align: top;\n",
       "    }\n",
       "\n",
       "    .dataframe thead th {\n",
       "        text-align: right;\n",
       "    }\n",
       "</style>\n",
       "<table border=\"1\" class=\"dataframe\">\n",
       "  <thead>\n",
       "    <tr style=\"text-align: right;\">\n",
       "      <th></th>\n",
       "      <th>Arrivals</th>\n",
       "      <th>AvgPresent</th>\n",
       "      <th>AvgPresentPop</th>\n",
       "      <th>AvgPresentBeds</th>\n",
       "    </tr>\n",
       "  </thead>\n",
       "  <tbody>\n",
       "    <tr>\n",
       "      <th>1</th>\n",
       "      <td>0.446276</td>\n",
       "      <td>0.446276</td>\n",
       "      <td>0.377990</td>\n",
       "      <td>0.271381</td>\n",
       "    </tr>\n",
       "    <tr>\n",
       "      <th>2</th>\n",
       "      <td>0.453808</td>\n",
       "      <td>0.453808</td>\n",
       "      <td>0.360898</td>\n",
       "      <td>0.277085</td>\n",
       "    </tr>\n",
       "    <tr>\n",
       "      <th>3</th>\n",
       "      <td>0.440243</td>\n",
       "      <td>0.440243</td>\n",
       "      <td>0.365194</td>\n",
       "      <td>0.251790</td>\n",
       "    </tr>\n",
       "    <tr>\n",
       "      <th>4</th>\n",
       "      <td>0.425431</td>\n",
       "      <td>0.425431</td>\n",
       "      <td>0.332722</td>\n",
       "      <td>0.232960</td>\n",
       "    </tr>\n",
       "    <tr>\n",
       "      <th>5</th>\n",
       "      <td>0.412779</td>\n",
       "      <td>0.412779</td>\n",
       "      <td>0.312978</td>\n",
       "      <td>0.211108</td>\n",
       "    </tr>\n",
       "    <tr>\n",
       "      <th>6</th>\n",
       "      <td>0.399115</td>\n",
       "      <td>0.399115</td>\n",
       "      <td>0.299117</td>\n",
       "      <td>0.185014</td>\n",
       "    </tr>\n",
       "    <tr>\n",
       "      <th>7</th>\n",
       "      <td>0.388409</td>\n",
       "      <td>0.388409</td>\n",
       "      <td>0.294447</td>\n",
       "      <td>0.188968</td>\n",
       "    </tr>\n",
       "    <tr>\n",
       "      <th>8</th>\n",
       "      <td>0.380961</td>\n",
       "      <td>0.380961</td>\n",
       "      <td>0.290412</td>\n",
       "      <td>0.212770</td>\n",
       "    </tr>\n",
       "  </tbody>\n",
       "</table>\n",
       "</div>"
      ],
      "text/plain": [
       "   Arrivals  AvgPresent  AvgPresentPop  AvgPresentBeds\n",
       "1  0.446276    0.446276       0.377990        0.271381\n",
       "2  0.453808    0.453808       0.360898        0.277085\n",
       "3  0.440243    0.440243       0.365194        0.251790\n",
       "4  0.425431    0.425431       0.332722        0.232960\n",
       "5  0.412779    0.412779       0.312978        0.211108\n",
       "6  0.399115    0.399115       0.299117        0.185014\n",
       "7  0.388409    0.388409       0.294447        0.188968\n",
       "8  0.380961    0.380961       0.290412        0.212770"
      ]
     },
     "execution_count": 219,
     "metadata": {},
     "output_type": "execute_result"
    }
   ],
   "source": [
    "arrivalsDf"
   ]
  },
  {
   "cell_type": "code",
   "execution_count": 198,
   "id": "2b951bfa-cc15-4a7f-9760-3859a92ebabd",
   "metadata": {},
   "outputs": [
    {
     "name": "stderr",
     "output_type": "stream",
     "text": [
      "C:\\Users\\gpili\\AppData\\Local\\Temp/ipykernel_10384/2514210986.py:3: SettingWithCopyWarning: \n",
      "A value is trying to be set on a copy of a slice from a DataFrame.\n",
      "Try using .loc[row_indexer,col_indexer] = value instead\n",
      "\n",
      "See the caveats in the documentation: https://pandas.pydata.org/pandas-docs/stable/user_guide/indexing.html#returning-a-view-versus-a-copy\n",
      "  filteredDf[\"AverageStay\"] = filteredDf[\"Present\"] / filteredDf[\"Arrivals\"]\n",
      "C:\\Users\\gpili\\anaconda3\\lib\\site-packages\\pandas\\core\\frame.py:5238: SettingWithCopyWarning: \n",
      "A value is trying to be set on a copy of a slice from a DataFrame\n",
      "\n",
      "See the caveats in the documentation: https://pandas.pydata.org/pandas-docs/stable/user_guide/indexing.html#returning-a-view-versus-a-copy\n",
      "  return super().replace(\n"
     ]
    }
   ],
   "source": [
    "testWithPresences = on_run_simulation_btn_click(2019, SIM_TYPE_BOTTOMN, 3, -1, 100, [], ALL_COUNTRIES, 1.2)"
   ]
  },
  {
   "cell_type": "code",
   "execution_count": 199,
   "id": "5b960953-479d-44f8-b285-bdbd47cc60b0",
   "metadata": {},
   "outputs": [],
   "source": [
    "pd.options.display.float_format = \"{:.2f}\".format"
   ]
  },
  {
   "cell_type": "code",
   "execution_count": 200,
   "id": "1c383907-a418-4ab8-af11-9598625827e9",
   "metadata": {},
   "outputs": [
    {
     "data": {
      "text/html": [
       "<div>\n",
       "<style scoped>\n",
       "    .dataframe tbody tr th:only-of-type {\n",
       "        vertical-align: middle;\n",
       "    }\n",
       "\n",
       "    .dataframe tbody tr th {\n",
       "        vertical-align: top;\n",
       "    }\n",
       "\n",
       "    .dataframe thead th {\n",
       "        text-align: right;\n",
       "    }\n",
       "</style>\n",
       "<table border=\"1\" class=\"dataframe\">\n",
       "  <thead>\n",
       "    <tr style=\"text-align: right;\">\n",
       "      <th></th>\n",
       "      <th>Year</th>\n",
       "      <th>Month</th>\n",
       "      <th>Season</th>\n",
       "      <th>district_c</th>\n",
       "      <th>Arrivals</th>\n",
       "      <th>Present</th>\n",
       "      <th>District</th>\n",
       "      <th>Arrivals_sim</th>\n",
       "      <th>Present_sim</th>\n",
       "      <th>Diff</th>\n",
       "      <th>sim_present</th>\n",
       "    </tr>\n",
       "  </thead>\n",
       "  <tbody>\n",
       "    <tr>\n",
       "      <th>0</th>\n",
       "      <td>2019</td>\n",
       "      <td>1.00</td>\n",
       "      <td>Winter</td>\n",
       "      <td>1</td>\n",
       "      <td>19439</td>\n",
       "      <td>42465</td>\n",
       "      <td>Bozen</td>\n",
       "      <td>28221.00</td>\n",
       "      <td>109681.60</td>\n",
       "      <td>8782.00</td>\n",
       "      <td>109681.60</td>\n",
       "    </tr>\n",
       "    <tr>\n",
       "      <th>1</th>\n",
       "      <td>2019</td>\n",
       "      <td>1.00</td>\n",
       "      <td>Winter</td>\n",
       "      <td>2</td>\n",
       "      <td>33810</td>\n",
       "      <td>147290</td>\n",
       "      <td>Burggrafenamt</td>\n",
       "      <td>28171.00</td>\n",
       "      <td>108411.12</td>\n",
       "      <td>-5639.00</td>\n",
       "      <td>108411.12</td>\n",
       "    </tr>\n",
       "    <tr>\n",
       "      <th>2</th>\n",
       "      <td>2019</td>\n",
       "      <td>1.00</td>\n",
       "      <td>Winter</td>\n",
       "      <td>3</td>\n",
       "      <td>52218</td>\n",
       "      <td>232736</td>\n",
       "      <td>Eisacktal</td>\n",
       "      <td>39617.00</td>\n",
       "      <td>216462.59</td>\n",
       "      <td>-12601.00</td>\n",
       "      <td>216462.59</td>\n",
       "    </tr>\n",
       "    <tr>\n",
       "      <th>3</th>\n",
       "      <td>2019</td>\n",
       "      <td>1.00</td>\n",
       "      <td>Winter</td>\n",
       "      <td>4</td>\n",
       "      <td>239602</td>\n",
       "      <td>1262370</td>\n",
       "      <td>Pustertal</td>\n",
       "      <td>207666.00</td>\n",
       "      <td>1678265.92</td>\n",
       "      <td>-31936.00</td>\n",
       "      <td>1678265.92</td>\n",
       "    </tr>\n",
       "    <tr>\n",
       "      <th>4</th>\n",
       "      <td>2019</td>\n",
       "      <td>1.00</td>\n",
       "      <td>Winter</td>\n",
       "      <td>5</td>\n",
       "      <td>117974</td>\n",
       "      <td>679504</td>\n",
       "      <td>Salten-Schlern</td>\n",
       "      <td>101667.00</td>\n",
       "      <td>850807.66</td>\n",
       "      <td>-16307.00</td>\n",
       "      <td>850807.66</td>\n",
       "    </tr>\n",
       "    <tr>\n",
       "      <th>...</th>\n",
       "      <td>...</td>\n",
       "      <td>...</td>\n",
       "      <td>...</td>\n",
       "      <td>...</td>\n",
       "      <td>...</td>\n",
       "      <td>...</td>\n",
       "      <td>...</td>\n",
       "      <td>...</td>\n",
       "      <td>...</td>\n",
       "      <td>...</td>\n",
       "      <td>...</td>\n",
       "    </tr>\n",
       "    <tr>\n",
       "      <th>91</th>\n",
       "      <td>2019</td>\n",
       "      <td>12.00</td>\n",
       "      <td>Winter</td>\n",
       "      <td>4</td>\n",
       "      <td>231842</td>\n",
       "      <td>926411</td>\n",
       "      <td>Pustertal</td>\n",
       "      <td>200757.00</td>\n",
       "      <td>1118881.89</td>\n",
       "      <td>-31085.00</td>\n",
       "      <td>1118881.89</td>\n",
       "    </tr>\n",
       "    <tr>\n",
       "      <th>92</th>\n",
       "      <td>2019</td>\n",
       "      <td>12.00</td>\n",
       "      <td>Winter</td>\n",
       "      <td>5</td>\n",
       "      <td>119580</td>\n",
       "      <td>488448</td>\n",
       "      <td>Salten-Schlern</td>\n",
       "      <td>102890.00</td>\n",
       "      <td>533297.33</td>\n",
       "      <td>-16690.00</td>\n",
       "      <td>533297.33</td>\n",
       "    </tr>\n",
       "    <tr>\n",
       "      <th>93</th>\n",
       "      <td>2019</td>\n",
       "      <td>12.00</td>\n",
       "      <td>Winter</td>\n",
       "      <td>6</td>\n",
       "      <td>26334</td>\n",
       "      <td>74498</td>\n",
       "      <td>Uberetsch-Unterland</td>\n",
       "      <td>64000.00</td>\n",
       "      <td>258840.98</td>\n",
       "      <td>37666.00</td>\n",
       "      <td>258840.98</td>\n",
       "    </tr>\n",
       "    <tr>\n",
       "      <th>94</th>\n",
       "      <td>2019</td>\n",
       "      <td>12.00</td>\n",
       "      <td>Winter</td>\n",
       "      <td>7</td>\n",
       "      <td>32771</td>\n",
       "      <td>137244</td>\n",
       "      <td>Vinschgau</td>\n",
       "      <td>23980.00</td>\n",
       "      <td>110342.35</td>\n",
       "      <td>-8791.00</td>\n",
       "      <td>110342.35</td>\n",
       "    </tr>\n",
       "    <tr>\n",
       "      <th>95</th>\n",
       "      <td>2019</td>\n",
       "      <td>12.00</td>\n",
       "      <td>Winter</td>\n",
       "      <td>8</td>\n",
       "      <td>39767</td>\n",
       "      <td>128232</td>\n",
       "      <td>Wipptal</td>\n",
       "      <td>77200.00</td>\n",
       "      <td>348769.92</td>\n",
       "      <td>37433.00</td>\n",
       "      <td>348769.92</td>\n",
       "    </tr>\n",
       "  </tbody>\n",
       "</table>\n",
       "<p>96 rows × 11 columns</p>\n",
       "</div>"
      ],
      "text/plain": [
       "    Year  Month  Season  district_c  Arrivals  Present             District  \\\n",
       "0   2019   1.00  Winter           1     19439    42465                Bozen   \n",
       "1   2019   1.00  Winter           2     33810   147290        Burggrafenamt   \n",
       "2   2019   1.00  Winter           3     52218   232736            Eisacktal   \n",
       "3   2019   1.00  Winter           4    239602  1262370            Pustertal   \n",
       "4   2019   1.00  Winter           5    117974   679504       Salten-Schlern   \n",
       "..   ...    ...     ...         ...       ...      ...                  ...   \n",
       "91  2019  12.00  Winter           4    231842   926411            Pustertal   \n",
       "92  2019  12.00  Winter           5    119580   488448       Salten-Schlern   \n",
       "93  2019  12.00  Winter           6     26334    74498  Uberetsch-Unterland   \n",
       "94  2019  12.00  Winter           7     32771   137244            Vinschgau   \n",
       "95  2019  12.00  Winter           8     39767   128232              Wipptal   \n",
       "\n",
       "    Arrivals_sim  Present_sim      Diff  sim_present  \n",
       "0       28221.00    109681.60   8782.00    109681.60  \n",
       "1       28171.00    108411.12  -5639.00    108411.12  \n",
       "2       39617.00    216462.59 -12601.00    216462.59  \n",
       "3      207666.00   1678265.92 -31936.00   1678265.92  \n",
       "4      101667.00    850807.66 -16307.00    850807.66  \n",
       "..           ...          ...       ...          ...  \n",
       "91     200757.00   1118881.89 -31085.00   1118881.89  \n",
       "92     102890.00    533297.33 -16690.00    533297.33  \n",
       "93      64000.00    258840.98  37666.00    258840.98  \n",
       "94      23980.00    110342.35  -8791.00    110342.35  \n",
       "95      77200.00    348769.92  37433.00    348769.92  \n",
       "\n",
       "[96 rows x 11 columns]"
      ]
     },
     "execution_count": 200,
     "metadata": {},
     "output_type": "execute_result"
    }
   ],
   "source": [
    "testWithPresences"
   ]
  },
  {
   "cell_type": "markdown",
   "id": "f0fcd374-b7e1-4048-9445-204f5369b4a6",
   "metadata": {},
   "source": [
    "### Visualisation of Results"
   ]
  },
  {
   "cell_type": "code",
   "execution_count": 4,
   "id": "797ed71b-b835-40a8-8b61-f2b7fcd83d2a",
   "metadata": {},
   "outputs": [],
   "source": [
    "import matplotlib.pyplot as plt"
   ]
  },
  {
   "cell_type": "code",
   "execution_count": 77,
   "id": "640e63cb-f14d-49d8-9ae1-9823a92256ec",
   "metadata": {},
   "outputs": [],
   "source": [
    "x = np.array([1, 2, 3, 4, 5, 6, 7, 8])\n",
    "\n",
    "giniTopNDf = pd.read_csv('../data/topN.csv')\n",
    "giniBottomNDf = pd.read_csv('../data/bottomN.csv')\n",
    "giniRandomNDf = pd.read_csv('../data/randomN.csv')\n",
    "giniSustainableNDf = pd.read_csv('../data/sustainableN.csv')\n",
    "\n",
    "NAarray = np.repeat(None, 5)\n",
    "\n",
    "NAarray1 = np.repeat(None, 1)"
   ]
  },
  {
   "cell_type": "code",
   "execution_count": 82,
   "id": "3d39c069-bf17-4980-a7c4-d86002e4ccb8",
   "metadata": {},
   "outputs": [
    {
     "data": {
      "text/plain": [
       "0    0.446170\n",
       "2    0.440171\n",
       "4    0.412862\n",
       "7    0.381183\n",
       "Name: Arrivals, dtype: float64"
      ]
     },
     "execution_count": 82,
     "metadata": {},
     "output_type": "execute_result"
    }
   ],
   "source": [
    "topNArrivals = giniTopNDf[\"Arrivals\"][[0, 2, 4, 7]]\n",
    "topNArrivals"
   ]
  },
  {
   "cell_type": "code",
   "execution_count": 94,
   "id": "53f3a7bc-f269-417d-a994-216a916ec145",
   "metadata": {},
   "outputs": [
    {
     "ename": "AttributeError",
     "evalue": "module 'matplotlib.pyplot' has no attribute 'width'",
     "output_type": "error",
     "traceback": [
      "\u001b[1;31m---------------------------------------------------------------------------\u001b[0m",
      "\u001b[1;31mAttributeError\u001b[0m                            Traceback (most recent call last)",
      "\u001b[1;32m~\\AppData\\Local\\Temp/ipykernel_18384/4153582139.py\u001b[0m in \u001b[0;36m<module>\u001b[1;34m\u001b[0m\n\u001b[0;32m     37\u001b[0m \u001b[1;31m# fig.tight_layout()\u001b[0m\u001b[1;33m\u001b[0m\u001b[1;33m\u001b[0m\u001b[0m\n\u001b[0;32m     38\u001b[0m \u001b[0mplt\u001b[0m\u001b[1;33m.\u001b[0m\u001b[0mmargins\u001b[0m\u001b[1;33m(\u001b[0m\u001b[1;36m0.05\u001b[0m\u001b[1;33m,\u001b[0m \u001b[1;36m0.3\u001b[0m\u001b[1;33m)\u001b[0m\u001b[1;33m\u001b[0m\u001b[1;33m\u001b[0m\u001b[0m\n\u001b[1;32m---> 39\u001b[1;33m \u001b[0mplt\u001b[0m\u001b[1;33m.\u001b[0m\u001b[0mwidth\u001b[0m\u001b[1;33m(\u001b[0m\u001b[1;36m10\u001b[0m\u001b[1;33m)\u001b[0m\u001b[1;33m\u001b[0m\u001b[1;33m\u001b[0m\u001b[0m\n\u001b[0m\u001b[0;32m     40\u001b[0m \u001b[1;33m\u001b[0m\u001b[0m\n\u001b[0;32m     41\u001b[0m \u001b[0mplt\u001b[0m\u001b[1;33m.\u001b[0m\u001b[0mshow\u001b[0m\u001b[1;33m(\u001b[0m\u001b[1;33m)\u001b[0m\u001b[1;33m\u001b[0m\u001b[1;33m\u001b[0m\u001b[0m\n",
      "\u001b[1;31mAttributeError\u001b[0m: module 'matplotlib.pyplot' has no attribute 'width'"
     ]
    },
    {
     "data": {
      "image/png": "[encoded data removed]",
      "text/plain": [
       "<Figure size 1440x720 with 1 Axes>"
      ]
     },
     "metadata": {
      "needs_background": "light"
     },
     "output_type": "display_data"
    }
   ],
   "source": [
    "labels = ['N = 1', 'N = 3', 'N = 5', 'N = 8']\n",
    "\n",
    "topNArrivals = np.round(giniTopNDf[\"Arrivals\"][[0, 2, 4, 7]], 2)\n",
    "bottomNArrivals = np.round(giniBottomNDf[\"Arrivals\"][[0, 2, 4, 7]], 2)\n",
    "randomNArrivals = np.round(np.concatenate((giniRandomNDf[\"Arrivals\"][[0, 2, 4]], np.array([0])), axis=None), 2) # giniRandomNDf[\"Arrivals\"]\n",
    "sustainableNArrivals = np.round(np.concatenate((giniSustainableNDf[\"Arrivals\"][[0, 2]], np.array([0, 0])), axis=None), 2)   #giniSustainableNDf[\"Arrivals\"].\n",
    "realityArrivals = np.repeat(0.34, 4)\n",
    "\n",
    "x = np.arange(len(labels))  # the label locations\n",
    "width = 0.6  # the width of the bars\n",
    "\n",
    "fig, ax = plt.subplots(figsize=(20, 10))\n",
    "rects5 = ax.bar(x - 2*width/4, realityArrivals, width/4, label='REAL', color='#9566bd')\n",
    "rects1 = ax.bar(x - width/4, topNArrivals, width/4, label='TOP')\n",
    "rects2 = ax.bar(x, bottomNArrivals, width/4, label='BOT')\n",
    "rects3 = ax.bar(x + width/4, randomNArrivals, width/4, label='RAN')\n",
    "rects4 = ax.bar(x + 2*width/4, sustainableNArrivals, width/4, label='SUS')\n",
    "\n",
    "# hmm = ax.axhline(15)\n",
    "\n",
    "# Add some text for labels, title and custom x-axis tick labels, etc.\n",
    "ax.set_ylabel('Scores')\n",
    "ax.set_title('Scores by group and gender')\n",
    "ax.set_xticks(x)\n",
    "ax.set_xticklabels(labels)\n",
    "ax.legend()\n",
    "\n",
    "ax.bar_label(rects1, padding=2)\n",
    "ax.bar_label(rects2, padding=2)\n",
    "ax.bar_label(rects3, padding=2)\n",
    "ax.bar_label(rects4, padding=2)\n",
    "ax.bar_label(rects5, padding=2)\n",
    "# ax.bar_label(g, padding=3)\n",
    "\n",
    "# plt.xticks(fontsize=14, rotation=90)\n",
    "\n",
    "# fig.tight_layout()\n",
    "plt.margins(0.05, 0.3)\n",
    "\n",
    "plt.show()"
   ]
  },
  {
   "cell_type": "code",
   "execution_count": 5,
   "id": "7d888e2a-2280-4ee1-afb1-81579074b6f4",
   "metadata": {},
   "outputs": [
    {
     "data": {
      "image/png": "[encoded data removed]",
      "text/plain": [
       "<Figure size 1440x576 with 3 Axes>"
      ]
     },
     "metadata": {
      "needs_background": "light"
     },
     "output_type": "display_data"
    },
    {
     "data": {
      "text/plain": [
       "<Figure size 432x288 with 0 Axes>"
      ]
     },
     "metadata": {},
     "output_type": "display_data"
    }
   ],
   "source": [
    "fig = plt.figure(figsize=(20, 8))\n",
    "\n",
    "#plot 1 - ARRIVALS:\n",
    "\n",
    "topNArrivals = giniTopNDf[\"Arrivals\"]\n",
    "bottomNArrivals = giniBottomNDf[\"Arrivals\"]\n",
    "randomNArrivals = np.concatenate((giniRandomNDf[\"Arrivals\"], NAarray1), axis=None) # giniRandomNDf[\"Arrivals\"]\n",
    "sustainableNArrivals = np.concatenate((giniSustainableNDf[\"Arrivals\"], NAarray), axis=None)   #giniSustainableNDf[\"Arrivals\"].\n",
    "realityArrivals = np.repeat(0.341, 8)\n",
    "\n",
    "fig.add_subplot(131)\n",
    "\n",
    "plt.plot(x, topNArrivals, label='T-N')\n",
    "plt.plot(x, bottomNArrivals, label='B-N')\n",
    "plt.plot(x, randomNArrivals, label='R-N')\n",
    "plt.plot(x, sustainableNArrivals, label='S-N')\n",
    "plt.plot(x, realityArrivals, label='REAL')\n",
    "\n",
    "plt.xlabel('Size of N')\n",
    "plt.ylabel('Gini Index')\n",
    "\n",
    "# plt.legend()\n",
    "\n",
    "plt.title(\"(a) Arrivals\", y=-0.13, fontsize=14)\n",
    "\n",
    "# #plot 2 - AVG PRESENCES:\n",
    "\n",
    "# topNAvgP = giniTopNDf[\"AvgPresent\"]\n",
    "# bottomNAvgP = giniBottomNDf[\"AvgPresent\"]\n",
    "# randomNAvgP = giniRandomNDf[\"AvgPresent\"]\n",
    "# sustainableNAvgP = np.concatenate((giniSustainableNDf[\"AvgPresent\"], NAarray), axis=None)   #giniSustainableNDf[\"Arrivals\"].\n",
    "# realityAvgP = np.repeat(0.4027, 8)\n",
    "\n",
    "\n",
    "# fig.add_subplot(142)\n",
    "\n",
    "# plt.plot(x, topNAvgP, label='TOP')\n",
    "# plt.plot(x, bottomNAvgP, label='BOT')\n",
    "# plt.plot(x, randomNAvgP, label='RAND')\n",
    "# plt.plot(x, sustainableNAvgP, label='SUS')\n",
    "# plt.plot(x, realityAvgP, label='REAL')\n",
    "\n",
    "# # plt.legend()\n",
    "\n",
    "# plt.title(\"(b) Avg. Presences\", y=-0.2, fontsize=14)\n",
    "\n",
    "# plt.show()\n",
    "\n",
    "#plot 3 - AVG PRESENCES POP:\n",
    "\n",
    "topNAvgPP = giniTopNDf[\"AvgPresentPop\"]\n",
    "bottomNAvgPP = giniBottomNDf[\"AvgPresentPop\"]\n",
    "randomNAvgPP = np.concatenate((giniRandomNDf[\"AvgPresentPop\"], NAarray1), axis=None) #giniRandomNDf[\"AvgPresentPop\"]\n",
    "sustainableNAvgPP = np.concatenate((giniSustainableNDf[\"AvgPresentPop\"], NAarray), axis=None)   #giniSustainableNDf[\"Arrivals\"].\n",
    "realityAvgPP = np.repeat(0.30777, 8)\n",
    "\n",
    "\n",
    "fig.add_subplot(132)\n",
    "\n",
    "plt.plot(x, topNAvgPP, label='T-N')\n",
    "plt.plot(x, bottomNAvgPP, label='B-N')\n",
    "plt.plot(x, randomNAvgPP, label='R-N')\n",
    "plt.plot(x, sustainableNAvgPP, label='S-N')\n",
    "plt.plot(x, realityAvgPP, label='REAL')\n",
    "\n",
    "# plt.xlabel('Size of N')\n",
    "# plt.ylabel('Gini Index')\n",
    "\n",
    "# plt.legend()\n",
    "\n",
    "plt.title(\"(b) Avg. Presence To Population Ratio\", y=-0.13, fontsize=14)\n",
    "\n",
    "#plot 4 - AVG PRESENCES BEDS:\n",
    "\n",
    "topNAvgPB = giniTopNDf[\"AvgPresentBeds\"]\n",
    "bottomNAvgPB = giniBottomNDf[\"AvgPresentBeds\"]\n",
    "randomNAvgPB = np.concatenate((giniRandomNDf[\"AvgPresentBeds\"], NAarray1), axis=None) #giniRandomNDf[\"AvgPresentBeds\"]\n",
    "sustainableNAvgPB = np.concatenate((giniSustainableNDf[\"AvgPresentBeds\"], NAarray), axis=None)   #giniSustainableNDf[\"Arrivals\"].\n",
    "realityAvgPB = np.repeat(0.0608, 8)\n",
    "\n",
    "\n",
    "fig.add_subplot(133)\n",
    "\n",
    "plt.plot(x, topNAvgPB, label='T-N')\n",
    "plt.plot(x, bottomNAvgPB, label='B-N')\n",
    "plt.plot(x, randomNAvgPB, label='R-N')\n",
    "plt.plot(x, sustainableNAvgPB, label='S-N')\n",
    "plt.plot(x, realityAvgPB, label='REAL')\n",
    "\n",
    "# plt.xlabel('Size of N')\n",
    "# plt.ylabel('Gini Index')\n",
    "\n",
    "plt.legend()\n",
    "\n",
    "plt.title(\"(c) Avg. Presence To Number of Beds Ratio\", y=-0.13, fontsize=14)\n",
    "\n",
    "plt.show()\n",
    "\n",
    "plt.savefig('data.png') \n"
   ]
  },
  {
   "cell_type": "code",
   "execution_count": 30,
   "id": "0afeec63-5828-4f1b-b4b8-8ac144dda0c0",
   "metadata": {},
   "outputs": [
    {
     "data": {
      "image/png": "[encoded data removed]",
      "text/plain": [
       "<Figure size 720x360 with 1 Axes>"
      ]
     },
     "metadata": {
      "needs_background": "light"
     },
     "output_type": "display_data"
    }
   ],
   "source": [
    "fig = plt.figure(figsize=(10, 5))\n",
    "\n",
    "popTopNDf = pd.read_csv('../data/topNPopularity.csv')\n",
    "popBottomNDf = pd.read_csv('../data/bottomNPopularity.csv')\n",
    "popRandomNDf = pd.read_csv('../data/randomNPopularity.csv')\n",
    "popSustainableNDf = pd.read_csv('../data/sustainableNPopularity.csv')\n",
    "\n",
    "popSus = np.concatenate((popSustainableNDf[\"0\"], NAarray), axis=None) \n",
    "popRand = np.concatenate((popRandomNDf[\"0\"], NAarray1), axis=None) \n",
    "realityPop = np.repeat(0.1764, 8) # to change\n",
    "\n",
    "plt.plot(x, popTopNDf[\"0\"], label='T-N')\n",
    "plt.plot(x, popBottomNDf[\"0\"], label='B-N')\n",
    "plt.plot(x, popRand, label='R-N')\n",
    "plt.plot(x, popSus, label='S-N')\n",
    "plt.plot(x, realityPop, label='REAL')\n",
    "\n",
    "plt.xlabel('Size of N')\n",
    "plt.ylabel('Average Consumed Item Popularity')\n",
    "\n",
    "plt.legend()\n",
    "\n",
    "plt.title(\"Average Item Popularity\", y=-0.2, fontsize=14)\n",
    "\n",
    "plt.show()"
   ]
  },
  {
   "cell_type": "code",
   "execution_count": 12,
   "id": "a472af48-4dbc-4181-9e8b-051001d44dfe",
   "metadata": {},
   "outputs": [
    {
     "data": {
      "image/png": "[encoded data removed]",
      "text/plain": [
       "<Figure size 1440x360 with 2 Axes>"
      ]
     },
     "metadata": {
      "needs_background": "light"
     },
     "output_type": "display_data"
    }
   ],
   "source": [
    "fig = plt.figure(figsize=(20, 5))\n",
    "\n",
    "# Popularity \n",
    "\n",
    "fig.add_subplot(121)\n",
    "\n",
    "accTopNDf = pd.read_csv('../data/topNTableAcc.csv')\n",
    "accBottomNDf = pd.read_csv('../data/bottomNTableAcc.csv')\n",
    "accRandomNDf = pd.read_csv('../data/randomNTableAcc.csv')\n",
    "accSustainableNDf = pd.read_csv('../data/sustainableNTableAcc.csv')\n",
    "\n",
    "accSus = np.concatenate((accSustainableNDf[\"Ratio\"], NAarray), axis=None) \n",
    "accRand = np.concatenate((accRandomNDf[\"Changed\"], NAarray1), axis=None) \n",
    "realityPop = np.repeat(0.1764, 8) # to change\n",
    "\n",
    "plt.plot(x, accTopNDf[\"Changed\"], label='T-N')\n",
    "plt.plot(x, accBottomNDf[\"Changed\"], label='B-N')\n",
    "plt.plot(x, accRand, label='R-N')\n",
    "plt.plot(x, accSus, label='S-N')\n",
    "# plt.plot(x, realityPop, label='REAL')\n",
    "\n",
    "plt.xlabel('Size of N')\n",
    "plt.ylabel('Recommendation Acceptance')\n",
    "\n",
    "plt.title(\"(a) Recommendation Acceptance (Choice Changed)\", y=-0.2, fontsize=14)\n",
    "\n",
    "# Recommendation Acceptance\n",
    "\n",
    "fig.add_subplot(122)\n",
    "\n",
    "# accSus = np.concatenate((accSustainableNDf[\"Ratio\"], NAarray), axis=None) \n",
    "# realityAvgP = np.repeat(0.1764, 8) # to change\n",
    "\n",
    "plt.plot(x, accTopNDf[\"Consumed\"], label='T-N')\n",
    "plt.plot(x, accBottomNDf[\"Consumed\"], label='B-N')\n",
    "plt.plot(x, accRand, label='R-N')\n",
    "plt.plot(x, accSus, label='S-N')\n",
    "\n",
    "plt.xlabel('Size of N')\n",
    "plt.ylabel('Recommendation Acceptance')\n",
    "\n",
    "plt.legend()\n",
    "\n",
    "plt.title(\"(b) Recommendation Acceptance\", y=-0.2, fontsize=14)\n",
    "\n",
    "plt.show()"
   ]
  }
 ],
 "metadata": {
  "kernelspec": {
   "display_name": "Python 3 (ipykernel)",
   "language": "python",
   "name": "python3"
  },
  "language_info": {
   "codemirror_mode": {
    "name": "ipython",
    "version": 3
   },
   "file_extension": ".py",
   "mimetype": "text/x-python",
   "name": "python",
   "nbconvert_exporter": "python",
   "pygments_lexer": "ipython3",
   "version": "3.9.7"
  }
 },
 "nbformat": 4,
 "nbformat_minor": 5
}
