{
 "cells": [
  {
   "cell_type": "code",
   "execution_count": 2,
   "id": "af07e37a-cd60-483e-9e2f-4583ebb60c1d",
   "metadata": {},
   "outputs": [],
   "source": [
    "import pandas as pd"
   ]
  },
  {
   "cell_type": "code",
   "execution_count": 3,
   "id": "bfe3f3b7-497a-47d1-bd05-1b046b96c3e4",
   "metadata": {},
   "outputs": [],
   "source": [
    "categoryTrends2010=pd.read_excel(io='real_data/2010 ARR PRES GG gem naz cat.xlsx', \n",
    "                          sheet_name='Category')"
   ]
  },
  {
   "cell_type": "code",
   "execution_count": 4,
   "id": "44ec0497-56ff-45c0-983a-cac3927c3999",
   "metadata": {},
   "outputs": [],
   "source": [
    "\n",
    "categoryTrends2011=pd.read_excel(io='real_data/2011 ARR PRES GG gem naz cat.xlsx', \n",
    "                          sheet_name='Category')"
   ]
  },
  {
   "cell_type": "code",
   "execution_count": 5,
   "id": "85a28892-a7fc-4a55-88a6-5f842d456ae2",
   "metadata": {},
   "outputs": [],
   "source": [
    "\n",
    "categoryTrends2012=pd.read_excel(io='real_data/2012 ARR PRES GG gem naz cat.xlsx', \n",
    "                          sheet_name='Category')"
   ]
  },
  {
   "cell_type": "code",
   "execution_count": 6,
   "id": "6f1a3c01-fdb4-4e91-8f8b-0a38f661096b",
   "metadata": {},
   "outputs": [],
   "source": [
    "categoryTrends2013=pd.read_excel(io='real_data/2013 ARR PRE GG gem naz cat.xlsx', \n",
    "                          sheet_name='Category')"
   ]
  },
  {
   "cell_type": "code",
   "execution_count": 7,
   "id": "1134803c-17bf-41ca-9633-1a446fb6948d",
   "metadata": {},
   "outputs": [],
   "source": [
    "categoryTrends2014=pd.read_excel(io='real_data/2014 ARR PRE GG gem naz cat.xlsx', \n",
    "                          sheet_name='Category')"
   ]
  },
  {
   "cell_type": "code",
   "execution_count": 8,
   "id": "5630614a-379c-4bb9-9207-c5ad2bbdceec",
   "metadata": {},
   "outputs": [],
   "source": [
    "categoryTrends2015=pd.read_excel(io='real_data/2015 ARR PRE GG gem naz cat.xlsx', \n",
    "                          sheet_name='Category')"
   ]
  },
  {
   "cell_type": "code",
   "execution_count": 9,
   "id": "faef4326-7dfc-4e3c-9156-a5da9aee7a33",
   "metadata": {},
   "outputs": [],
   "source": [
    "categoryTrends2016=pd.read_excel(io='real_data/2016 ARR PRE GG gem naz cat.xlsx', \n",
    "                          sheet_name='Category')"
   ]
  },
  {
   "cell_type": "code",
   "execution_count": 10,
   "id": "6922d887-a66e-49fa-8657-9a78172e8d4d",
   "metadata": {},
   "outputs": [],
   "source": [
    "categoryTrends2017=pd.read_excel(io='real_data/2017 ARR PRE GG gem naz cat.xlsx', \n",
    "                          sheet_name='Category')"
   ]
  },
  {
   "cell_type": "code",
   "execution_count": 11,
   "id": "58fc0109-a018-4673-93bb-da122759cb29",
   "metadata": {},
   "outputs": [],
   "source": [
    "categoryTrends2018=pd.read_excel(io='real_data/2018 ARR PRE GG gem naz cat.xlsx', \n",
    "                          sheet_name='Category')"
   ]
  },
  {
   "cell_type": "code",
   "execution_count": 12,
   "id": "8dc13858-08e9-45c2-97c3-dda4bf0cc22c",
   "metadata": {},
   "outputs": [],
   "source": [
    "categoryTrends2019=pd.read_excel(io='real_data/2019 ARR PRE GG gem naz cat.xlsx', \n",
    "                          sheet_name='Category')"
   ]
  },
  {
   "cell_type": "code",
   "execution_count": 13,
   "id": "97828906-87ef-44b2-8318-14962b6787a4",
   "metadata": {},
   "outputs": [],
   "source": [
    "\n",
    "categoryTrends2020=pd.read_excel(io='real_data/2020 ARR PRE GG gem naz cat.xlsx', \n",
    "                          sheet_name='Category')"
   ]
  },
  {
   "cell_type": "code",
   "execution_count": 14,
   "id": "177904c4-1f63-4704-8101-c053377b73d1",
   "metadata": {},
   "outputs": [],
   "source": [
    "categoryTrends2010[\"Year\"] = 2010\n",
    "categoryTrends2011[\"Year\"] = 2011\n",
    "categoryTrends2012[\"Year\"] = 2012\n",
    "categoryTrends2013[\"Year\"] = 2013\n",
    "categoryTrends2014[\"Year\"] = 2014\n",
    "categoryTrends2015[\"Year\"] = 2015\n",
    "categoryTrends2016[\"Year\"] = 2016\n",
    "categoryTrends2017[\"Year\"] = 2017\n",
    "categoryTrends2018[\"Year\"] = 2018\n",
    "categoryTrends2019[\"Year\"] = 2019\n",
    "categoryTrends2020[\"Year\"] = 2020"
   ]
  },
  {
   "cell_type": "code",
   "execution_count": 46,
   "id": "d7baf7f3-005a-411e-8893-88550139f782",
   "metadata": {},
   "outputs": [],
   "source": [
    "categoryTrends = pd.concat([categoryTrends2010, categoryTrends2011, categoryTrends2012, categoryTrends2013, categoryTrends2014, categoryTrends2015, categoryTrends2016, categoryTrends2017, categoryTrends2018, categoryTrends2019, categoryTrends2020], ignore_index=True)"
   ]
  },
  {
   "cell_type": "code",
   "execution_count": 47,
   "id": "1745844c-2241-43af-905d-f1f33575efa1",
   "metadata": {},
   "outputs": [],
   "source": [
    "categoryTrends = categoryTrends.rename(columns={\"Mese di riferimento\": \"Month\", \"Giorno di riferimento\": \"Day\", \"Beschreibung Bezirksgemeinschaft\": \"District\", \"ctt1aggr_desc\": \"Category\", \"Arrivi del giorno\": \"Arrivals\", \"Presenti del giorno\": \"Present\"})"
   ]
  },
  {
   "cell_type": "code",
   "execution_count": 48,
   "id": "59c4d182-d8cb-4249-8ad7-1d74c333d8c2",
   "metadata": {},
   "outputs": [],
   "source": [
    "categoryTrends = categoryTrends.fillna(method='ffill', axis=0)"
   ]
  },
  {
   "cell_type": "code",
   "execution_count": 49,
   "id": "f0b5611b-9795-4cf3-b904-4b9b1c5e85bb",
   "metadata": {},
   "outputs": [],
   "source": [
    "categoryTrends['district_c'] = categoryTrends['District'].replace({'Bozen': 1, 'Burggrafenamt': 2, 'Eisacktal': 3, 'Pustertal': 4, 'Salten-Schlern': 5, 'Überetsch-Südt.Unterl.': 6, 'Vinschgau': 7, 'Wipptal': 8})"
   ]
  },
  {
   "cell_type": "code",
   "execution_count": 50,
   "id": "540d147b-c392-4cc2-b92e-43d9d88ee0f1",
   "metadata": {},
   "outputs": [],
   "source": [
    "categoryTrends['Category'] = categoryTrends['Category'].replace({'1-2 Sterne': '1-2 Star Hotel', '3 Sterne': '3 Star Hotel', '4-5 Sterne': '4-5 Star Hotel', 'Andere Betriebe': 'Other', 'Privatquartiere': 'Private Lodging', 'Urlaub auf dem Bauernhof': 'Agricaltural Lodging', 'Campingplätze': 'Campings', 'Residence': 'Residence', 'Privatquartiere mit Vertrag': 'Private Lodging'})"
   ]
  },
  {
   "cell_type": "code",
   "execution_count": 51,
   "id": "b72bfef1-92b3-480b-b388-6f7bd0eeadfc",
   "metadata": {},
   "outputs": [
    {
     "data": {
      "text/html": [
       "<div>\n",
       "<style scoped>\n",
       "    .dataframe tbody tr th:only-of-type {\n",
       "        vertical-align: middle;\n",
       "    }\n",
       "\n",
       "    .dataframe tbody tr th {\n",
       "        vertical-align: top;\n",
       "    }\n",
       "\n",
       "    .dataframe thead th {\n",
       "        text-align: right;\n",
       "    }\n",
       "</style>\n",
       "<table border=\"1\" class=\"dataframe\">\n",
       "  <thead>\n",
       "    <tr style=\"text-align: right;\">\n",
       "      <th></th>\n",
       "      <th></th>\n",
       "      <th></th>\n",
       "      <th></th>\n",
       "      <th>Arrivals</th>\n",
       "      <th>Present</th>\n",
       "    </tr>\n",
       "    <tr>\n",
       "      <th>Year</th>\n",
       "      <th>Month</th>\n",
       "      <th>district_c</th>\n",
       "      <th>Category</th>\n",
       "      <th></th>\n",
       "      <th></th>\n",
       "    </tr>\n",
       "  </thead>\n",
       "  <tbody>\n",
       "    <tr>\n",
       "      <th rowspan=\"5\" valign=\"top\">2010</th>\n",
       "      <th rowspan=\"5\" valign=\"top\">1.0</th>\n",
       "      <th rowspan=\"5\" valign=\"top\">1</th>\n",
       "      <th>1-2 Star Hotel</th>\n",
       "      <td>1356</td>\n",
       "      <td>6728</td>\n",
       "    </tr>\n",
       "    <tr>\n",
       "      <th>3 Star Hotel</th>\n",
       "      <td>4941</td>\n",
       "      <td>9768</td>\n",
       "    </tr>\n",
       "    <tr>\n",
       "      <th>4-5 Star Hotel</th>\n",
       "      <td>7265</td>\n",
       "      <td>14385</td>\n",
       "    </tr>\n",
       "    <tr>\n",
       "      <th>Agricaltural Lodging</th>\n",
       "      <td>79</td>\n",
       "      <td>393</td>\n",
       "    </tr>\n",
       "    <tr>\n",
       "      <th>Other</th>\n",
       "      <td>867</td>\n",
       "      <td>1651</td>\n",
       "    </tr>\n",
       "    <tr>\n",
       "      <th>...</th>\n",
       "      <th>...</th>\n",
       "      <th>...</th>\n",
       "      <th>...</th>\n",
       "      <td>...</td>\n",
       "      <td>...</td>\n",
       "    </tr>\n",
       "    <tr>\n",
       "      <th rowspan=\"5\" valign=\"top\">2020</th>\n",
       "      <th rowspan=\"5\" valign=\"top\">12.0</th>\n",
       "      <th rowspan=\"5\" valign=\"top\">8</th>\n",
       "      <th>3 Star Hotel</th>\n",
       "      <td>1252</td>\n",
       "      <td>2862</td>\n",
       "    </tr>\n",
       "    <tr>\n",
       "      <th>4-5 Star Hotel</th>\n",
       "      <td>1811</td>\n",
       "      <td>3316</td>\n",
       "    </tr>\n",
       "    <tr>\n",
       "      <th>Agricaltural Lodging</th>\n",
       "      <td>105</td>\n",
       "      <td>628</td>\n",
       "    </tr>\n",
       "    <tr>\n",
       "      <th>Private Lodging</th>\n",
       "      <td>22</td>\n",
       "      <td>520</td>\n",
       "    </tr>\n",
       "    <tr>\n",
       "      <th>Residence</th>\n",
       "      <td>242</td>\n",
       "      <td>1418</td>\n",
       "    </tr>\n",
       "  </tbody>\n",
       "</table>\n",
       "<p>6297 rows × 2 columns</p>\n",
       "</div>"
      ],
      "text/plain": [
       "                                            Arrivals  Present\n",
       "Year Month district_c Category                               \n",
       "2010 1.0   1          1-2 Star Hotel            1356     6728\n",
       "                      3 Star Hotel              4941     9768\n",
       "                      4-5 Star Hotel            7265    14385\n",
       "                      Agricaltural Lodging        79      393\n",
       "                      Other                      867     1651\n",
       "...                                              ...      ...\n",
       "2020 12.0  8          3 Star Hotel              1252     2862\n",
       "                      4-5 Star Hotel            1811     3316\n",
       "                      Agricaltural Lodging       105      628\n",
       "                      Private Lodging             22      520\n",
       "                      Residence                  242     1418\n",
       "\n",
       "[6297 rows x 2 columns]"
      ]
     },
     "execution_count": 51,
     "metadata": {},
     "output_type": "execute_result"
    }
   ],
   "source": [
    "categoryTrends = categoryTrends.groupby(['Year','Month', 'district_c', 'Category']).sum()\n",
    "del categoryTrends[\"Day\"]\n",
    "categoryTrends                             "
   ]
  },
  {
   "cell_type": "code",
   "execution_count": 52,
   "id": "b55ac4e0-0a6d-4364-973a-4a697ca0f932",
   "metadata": {},
   "outputs": [],
   "source": [
    "categoryTrends.to_csv('category_trends.csv')"
   ]
  },
  {
   "cell_type": "code",
   "execution_count": 53,
   "id": "da6468af-e1da-4c40-bcca-5430312927db",
   "metadata": {},
   "outputs": [],
   "source": [
    "districtTrends = pd.read_csv('category_trends.csv')"
   ]
  },
  {
   "cell_type": "code",
   "execution_count": 54,
   "id": "fd07af05-502e-4b10-bb9b-51c709c54ca7",
   "metadata": {},
   "outputs": [],
   "source": [
    "districtTrends = districtTrends.groupby(['Year','Category', 'district_c']).sum()\n",
    "del districtTrends['Month']"
   ]
  },
  {
   "cell_type": "code",
   "execution_count": 56,
   "id": "aada46e5-1acb-49bb-b76c-95b1ff9e5e66",
   "metadata": {},
   "outputs": [
    {
     "data": {
      "text/html": [
       "<div>\n",
       "<style scoped>\n",
       "    .dataframe tbody tr th:only-of-type {\n",
       "        vertical-align: middle;\n",
       "    }\n",
       "\n",
       "    .dataframe tbody tr th {\n",
       "        vertical-align: top;\n",
       "    }\n",
       "\n",
       "    .dataframe thead th {\n",
       "        text-align: right;\n",
       "    }\n",
       "</style>\n",
       "<table border=\"1\" class=\"dataframe\">\n",
       "  <thead>\n",
       "    <tr style=\"text-align: right;\">\n",
       "      <th></th>\n",
       "      <th></th>\n",
       "      <th></th>\n",
       "      <th>Arrivals</th>\n",
       "      <th>Present</th>\n",
       "    </tr>\n",
       "    <tr>\n",
       "      <th>Year</th>\n",
       "      <th>Category</th>\n",
       "      <th>district_c</th>\n",
       "      <th></th>\n",
       "      <th></th>\n",
       "    </tr>\n",
       "  </thead>\n",
       "  <tbody>\n",
       "    <tr>\n",
       "      <th rowspan=\"5\" valign=\"top\">2010</th>\n",
       "      <th rowspan=\"5\" valign=\"top\">1-2 Star Hotel</th>\n",
       "      <th>1</th>\n",
       "      <td>22044</td>\n",
       "      <td>92518</td>\n",
       "    </tr>\n",
       "    <tr>\n",
       "      <th>2</th>\n",
       "      <td>89060</td>\n",
       "      <td>489974</td>\n",
       "    </tr>\n",
       "    <tr>\n",
       "      <th>3</th>\n",
       "      <td>74152</td>\n",
       "      <td>357277</td>\n",
       "    </tr>\n",
       "    <tr>\n",
       "      <th>4</th>\n",
       "      <td>195894</td>\n",
       "      <td>1072208</td>\n",
       "    </tr>\n",
       "    <tr>\n",
       "      <th>5</th>\n",
       "      <td>64669</td>\n",
       "      <td>340983</td>\n",
       "    </tr>\n",
       "    <tr>\n",
       "      <th>...</th>\n",
       "      <th>...</th>\n",
       "      <th>...</th>\n",
       "      <td>...</td>\n",
       "      <td>...</td>\n",
       "    </tr>\n",
       "    <tr>\n",
       "      <th rowspan=\"5\" valign=\"top\">2020</th>\n",
       "      <th rowspan=\"5\" valign=\"top\">Residence</th>\n",
       "      <th>4</th>\n",
       "      <td>144308</td>\n",
       "      <td>909884</td>\n",
       "    </tr>\n",
       "    <tr>\n",
       "      <th>5</th>\n",
       "      <td>58965</td>\n",
       "      <td>381895</td>\n",
       "    </tr>\n",
       "    <tr>\n",
       "      <th>6</th>\n",
       "      <td>9506</td>\n",
       "      <td>83261</td>\n",
       "    </tr>\n",
       "    <tr>\n",
       "      <th>7</th>\n",
       "      <td>39017</td>\n",
       "      <td>222617</td>\n",
       "    </tr>\n",
       "    <tr>\n",
       "      <th>8</th>\n",
       "      <td>7387</td>\n",
       "      <td>50753</td>\n",
       "    </tr>\n",
       "  </tbody>\n",
       "</table>\n",
       "<p>533 rows × 2 columns</p>\n",
       "</div>"
      ],
      "text/plain": [
       "                                Arrivals  Present\n",
       "Year Category       district_c                   \n",
       "2010 1-2 Star Hotel 1              22044    92518\n",
       "                    2              89060   489974\n",
       "                    3              74152   357277\n",
       "                    4             195894  1072208\n",
       "                    5              64669   340983\n",
       "...                                  ...      ...\n",
       "2020 Residence      4             144308   909884\n",
       "                    5              58965   381895\n",
       "                    6               9506    83261\n",
       "                    7              39017   222617\n",
       "                    8               7387    50753\n",
       "\n",
       "[533 rows x 2 columns]"
      ]
     },
     "execution_count": 56,
     "metadata": {},
     "output_type": "execute_result"
    }
   ],
   "source": [
    "districtTrends"
   ]
  },
  {
   "cell_type": "code",
   "execution_count": 57,
   "id": "494e7104-6df9-4620-808d-4bc285f42bc1",
   "metadata": {},
   "outputs": [],
   "source": [
    "districtTrends.to_csv('category_trends_yearly.csv')"
   ]
  },
  {
   "cell_type": "code",
   "execution_count": 60,
   "id": "58342e99-1c5a-45cb-b133-e43f681a296d",
   "metadata": {},
   "outputs": [],
   "source": [
    "overall = pd.read_csv('category_trends_yearly.csv')\n",
    "overall = overall.groupby(['Year', 'district_c']).sum()"
   ]
  },
  {
   "cell_type": "code",
   "execution_count": 61,
   "id": "caac30f3-cbe9-4ada-9f4e-c403523f6bc5",
   "metadata": {},
   "outputs": [],
   "source": [
    "overall.to_csv('trends_yearly.csv')"
   ]
  }
 ],
 "metadata": {
  "kernelspec": {
   "display_name": "Python 3 (ipykernel)",
   "language": "python",
   "name": "python3"
  },
  "language_info": {
   "codemirror_mode": {
    "name": "ipython",
    "version": 3
   },
   "file_extension": ".py",
   "mimetype": "text/x-python",
   "name": "python",
   "nbconvert_exporter": "python",
   "pygments_lexer": "ipython3",
   "version": "3.9.7"
  }
 },
 "nbformat": 4,
 "nbformat_minor": 5
}
