{
 "cells": [
  {
   "cell_type": "code",
   "execution_count": 1,
   "id": "af07e37a-cd60-483e-9e2f-4583ebb60c1d",
   "metadata": {},
   "outputs": [],
   "source": [
    "import pandas as pd"
   ]
  },
  {
   "cell_type": "code",
   "execution_count": 2,
   "id": "bfe3f3b7-497a-47d1-bd05-1b046b96c3e4",
   "metadata": {},
   "outputs": [],
   "source": [
    "categoryTrends2010=pd.read_excel(io='real_data/2010 ARR PRES GG gem naz cat.xlsx', \n",
    "                          sheet_name='Category')"
   ]
  },
  {
   "cell_type": "code",
   "execution_count": 3,
   "id": "44ec0497-56ff-45c0-983a-cac3927c3999",
   "metadata": {},
   "outputs": [],
   "source": [
    "\n",
    "categoryTrends2011=pd.read_excel(io='real_data/2011 ARR PRES GG gem naz cat.xlsx', \n",
    "                          sheet_name='Category')"
   ]
  },
  {
   "cell_type": "code",
   "execution_count": 4,
   "id": "85a28892-a7fc-4a55-88a6-5f842d456ae2",
   "metadata": {},
   "outputs": [],
   "source": [
    "\n",
    "categoryTrends2012=pd.read_excel(io='real_data/2012 ARR PRES GG gem naz cat.xlsx', \n",
    "                          sheet_name='Category')"
   ]
  },
  {
   "cell_type": "code",
   "execution_count": 5,
   "id": "6f1a3c01-fdb4-4e91-8f8b-0a38f661096b",
   "metadata": {},
   "outputs": [],
   "source": [
    "categoryTrends2013=pd.read_excel(io='real_data/2013 ARR PRE GG gem naz cat.xlsx', \n",
    "                          sheet_name='Category')"
   ]
  },
  {
   "cell_type": "code",
   "execution_count": 6,
   "id": "1134803c-17bf-41ca-9633-1a446fb6948d",
   "metadata": {},
   "outputs": [],
   "source": [
    "categoryTrends2014=pd.read_excel(io='real_data/2014 ARR PRE GG gem naz cat.xlsx', \n",
    "                          sheet_name='Category')"
   ]
  },
  {
   "cell_type": "code",
   "execution_count": 7,
   "id": "5630614a-379c-4bb9-9207-c5ad2bbdceec",
   "metadata": {},
   "outputs": [],
   "source": [
    "categoryTrends2015=pd.read_excel(io='real_data/2015 ARR PRE GG gem naz cat.xlsx', \n",
    "                          sheet_name='Category')"
   ]
  },
  {
   "cell_type": "code",
   "execution_count": 8,
   "id": "faef4326-7dfc-4e3c-9156-a5da9aee7a33",
   "metadata": {},
   "outputs": [],
   "source": [
    "categoryTrends2016=pd.read_excel(io='real_data/2016 ARR PRE GG gem naz cat.xlsx', \n",
    "                          sheet_name='Category')"
   ]
  },
  {
   "cell_type": "code",
   "execution_count": 9,
   "id": "6922d887-a66e-49fa-8657-9a78172e8d4d",
   "metadata": {},
   "outputs": [],
   "source": [
    "categoryTrends2017=pd.read_excel(io='real_data/2017 ARR PRE GG gem naz cat.xlsx', \n",
    "                          sheet_name='Category')"
   ]
  },
  {
   "cell_type": "code",
   "execution_count": 10,
   "id": "58fc0109-a018-4673-93bb-da122759cb29",
   "metadata": {},
   "outputs": [],
   "source": [
    "categoryTrends2018=pd.read_excel(io='real_data/2018 ARR PRE GG gem naz cat.xlsx', \n",
    "                          sheet_name='Category')"
   ]
  },
  {
   "cell_type": "code",
   "execution_count": 11,
   "id": "8dc13858-08e9-45c2-97c3-dda4bf0cc22c",
   "metadata": {},
   "outputs": [],
   "source": [
    "categoryTrends2019=pd.read_excel(io='real_data/2019 ARR PRE GG gem naz cat.xlsx', \n",
    "                          sheet_name='Category')"
   ]
  },
  {
   "cell_type": "code",
   "execution_count": 12,
   "id": "97828906-87ef-44b2-8318-14962b6787a4",
   "metadata": {},
   "outputs": [],
   "source": [
    "\n",
    "categoryTrends2020=pd.read_excel(io='real_data/2020 ARR PRE GG gem naz cat.xlsx', \n",
    "                          sheet_name='Category')"
   ]
  },
  {
   "cell_type": "code",
   "execution_count": 13,
   "id": "177904c4-1f63-4704-8101-c053377b73d1",
   "metadata": {},
   "outputs": [],
   "source": [
    "categoryTrends2010[\"Year\"] = 2010\n",
    "categoryTrends2011[\"Year\"] = 2011\n",
    "categoryTrends2012[\"Year\"] = 2012\n",
    "categoryTrends2013[\"Year\"] = 2013\n",
    "categoryTrends2014[\"Year\"] = 2014\n",
    "categoryTrends2015[\"Year\"] = 2015\n",
    "categoryTrends2016[\"Year\"] = 2016\n",
    "categoryTrends2017[\"Year\"] = 2017\n",
    "categoryTrends2018[\"Year\"] = 2018\n",
    "categoryTrends2019[\"Year\"] = 2019\n",
    "categoryTrends2020[\"Year\"] = 2020"
   ]
  },
  {
   "cell_type": "code",
   "execution_count": 14,
   "id": "d7baf7f3-005a-411e-8893-88550139f782",
   "metadata": {},
   "outputs": [],
   "source": [
    "categoryTrends = pd.concat([categoryTrends2010, categoryTrends2011, categoryTrends2012, categoryTrends2013, categoryTrends2014, categoryTrends2015, categoryTrends2016, categoryTrends2017, categoryTrends2018, categoryTrends2019, categoryTrends2020], ignore_index=True)"
   ]
  },
  {
   "cell_type": "code",
   "execution_count": 15,
   "id": "1745844c-2241-43af-905d-f1f33575efa1",
   "metadata": {},
   "outputs": [],
   "source": [
    "categoryTrends = categoryTrends.rename(columns={\"Mese di riferimento\": \"Month\", \"Giorno di riferimento\": \"Day\", \"Beschreibung Bezirksgemeinschaft\": \"District\", \"ctt1aggr_desc\": \"Category\", \"Arrivi del giorno\": \"Arrivals\", \"Presenti del giorno\": \"Present\"})"
   ]
  },
  {
   "cell_type": "code",
   "execution_count": 16,
   "id": "59c4d182-d8cb-4249-8ad7-1d74c333d8c2",
   "metadata": {},
   "outputs": [],
   "source": [
    "categoryTrends = categoryTrends.fillna(method='ffill', axis=0)"
   ]
  },
  {
   "cell_type": "code",
   "execution_count": 18,
   "id": "b72bfef1-92b3-480b-b388-6f7bd0eeadfc",
   "metadata": {},
   "outputs": [
    {
     "data": {
      "text/html": [
       "<div>\n",
       "<style scoped>\n",
       "    .dataframe tbody tr th:only-of-type {\n",
       "        vertical-align: middle;\n",
       "    }\n",
       "\n",
       "    .dataframe tbody tr th {\n",
       "        vertical-align: top;\n",
       "    }\n",
       "\n",
       "    .dataframe thead th {\n",
       "        text-align: right;\n",
       "    }\n",
       "</style>\n",
       "<table border=\"1\" class=\"dataframe\">\n",
       "  <thead>\n",
       "    <tr style=\"text-align: right;\">\n",
       "      <th></th>\n",
       "      <th></th>\n",
       "      <th></th>\n",
       "      <th></th>\n",
       "      <th>Arrivals</th>\n",
       "      <th>Present</th>\n",
       "    </tr>\n",
       "    <tr>\n",
       "      <th>Year</th>\n",
       "      <th>Month</th>\n",
       "      <th>District</th>\n",
       "      <th>Category</th>\n",
       "      <th></th>\n",
       "      <th></th>\n",
       "    </tr>\n",
       "  </thead>\n",
       "  <tbody>\n",
       "    <tr>\n",
       "      <th rowspan=\"5\" valign=\"top\">2010</th>\n",
       "      <th rowspan=\"5\" valign=\"top\">1.0</th>\n",
       "      <th rowspan=\"5\" valign=\"top\">Bozen</th>\n",
       "      <th>1-2 Sterne</th>\n",
       "      <td>1356</td>\n",
       "      <td>6728</td>\n",
       "    </tr>\n",
       "    <tr>\n",
       "      <th>3 Sterne</th>\n",
       "      <td>4941</td>\n",
       "      <td>9768</td>\n",
       "    </tr>\n",
       "    <tr>\n",
       "      <th>4-5 Sterne</th>\n",
       "      <td>7265</td>\n",
       "      <td>14385</td>\n",
       "    </tr>\n",
       "    <tr>\n",
       "      <th>Andere Betriebe</th>\n",
       "      <td>867</td>\n",
       "      <td>1651</td>\n",
       "    </tr>\n",
       "    <tr>\n",
       "      <th>Privatquartiere</th>\n",
       "      <td>65</td>\n",
       "      <td>479</td>\n",
       "    </tr>\n",
       "    <tr>\n",
       "      <th>...</th>\n",
       "      <th>...</th>\n",
       "      <th>...</th>\n",
       "      <th>...</th>\n",
       "      <td>...</td>\n",
       "      <td>...</td>\n",
       "    </tr>\n",
       "    <tr>\n",
       "      <th rowspan=\"5\" valign=\"top\">2020</th>\n",
       "      <th rowspan=\"5\" valign=\"top\">12.0</th>\n",
       "      <th rowspan=\"5\" valign=\"top\">Überetsch-Südt.Unterl.</th>\n",
       "      <th>4-5 Sterne</th>\n",
       "      <td>432</td>\n",
       "      <td>1030</td>\n",
       "    </tr>\n",
       "    <tr>\n",
       "      <th>Andere Betriebe</th>\n",
       "      <td>3</td>\n",
       "      <td>94</td>\n",
       "    </tr>\n",
       "    <tr>\n",
       "      <th>Privatquartiere</th>\n",
       "      <td>69</td>\n",
       "      <td>1809</td>\n",
       "    </tr>\n",
       "    <tr>\n",
       "      <th>Residence</th>\n",
       "      <td>324</td>\n",
       "      <td>3759</td>\n",
       "    </tr>\n",
       "    <tr>\n",
       "      <th>Urlaub auf dem Bauernhof</th>\n",
       "      <td>110</td>\n",
       "      <td>1895</td>\n",
       "    </tr>\n",
       "  </tbody>\n",
       "</table>\n",
       "<p>6628 rows × 2 columns</p>\n",
       "</div>"
      ],
      "text/plain": [
       "                                                            Arrivals  Present\n",
       "Year Month District               Category                                   \n",
       "2010 1.0   Bozen                  1-2 Sterne                    1356     6728\n",
       "                                  3 Sterne                      4941     9768\n",
       "                                  4-5 Sterne                    7265    14385\n",
       "                                  Andere Betriebe                867     1651\n",
       "                                  Privatquartiere                 65      479\n",
       "...                                                              ...      ...\n",
       "2020 12.0  Überetsch-Südt.Unterl. 4-5 Sterne                     432     1030\n",
       "                                  Andere Betriebe                  3       94\n",
       "                                  Privatquartiere                 69     1809\n",
       "                                  Residence                      324     3759\n",
       "                                  Urlaub auf dem Bauernhof       110     1895\n",
       "\n",
       "[6628 rows x 2 columns]"
      ]
     },
     "execution_count": 18,
     "metadata": {},
     "output_type": "execute_result"
    }
   ],
   "source": [
    "categoryTrends = categoryTrends.groupby(['Year','Month', 'District', 'Category']).sum()\n",
    "del categoryTrends[\"Day\"]\n",
    "categoryTrends                             "
   ]
  },
  {
   "cell_type": "code",
   "execution_count": 19,
   "id": "b55ac4e0-0a6d-4364-973a-4a697ca0f932",
   "metadata": {},
   "outputs": [],
   "source": [
    "categoryTrends.to_csv('category_trends.csv')"
   ]
  },
  {
   "cell_type": "code",
   "execution_count": 34,
   "id": "af84b6fa-13e9-47e9-a6e4-6db96059fc37",
   "metadata": {},
   "outputs": [],
   "source": [
    "categoryTrends = pd.read_csv('category_trends.csv')"
   ]
  },
  {
   "cell_type": "code",
   "execution_count": 39,
   "id": "5aa9d2ea-fd0e-494d-8ee6-1dd6581136d6",
   "metadata": {},
   "outputs": [
    {
     "data": {
      "text/plain": [
       "array(['Bolzano', 'Burgraviato', 'Valle Isarco', 'Val Pusteria',\n",
       "       'Salto-Sciliar', 'Val Venosta', 'Alta Valle Isarco',\n",
       "       'Oltradige-Bassa Ates.'], dtype=object)"
      ]
     },
     "execution_count": 39,
     "metadata": {},
     "output_type": "execute_result"
    }
   ],
   "source": [
    "categoryTrends['District'].unique()"
   ]
  },
  {
   "cell_type": "code",
   "execution_count": 36,
   "id": "163e308c-467a-4b76-b602-4d5e54087ccc",
   "metadata": {},
   "outputs": [],
   "source": [
    "categoryTrends['District'] = categoryTrends['District'].replace({'Bozen': 'Bolzano', 'Burggrafenamt': 'Burgraviato', 'Eisacktal': 'Valle Isarco', 'Pustertal': 'Val Pusteria', 'Salten-Schlern': 'Salto-Sciliar', 'Vinschgau': 'Val Venosta', 'Wipptal': 'Alta Valle Isarco', 'Überetsch-Südt.Unterl.': 'Oltradige-Bassa Ates.'})"
   ]
  },
  {
   "cell_type": "code",
   "execution_count": 40,
   "id": "79885591-7af5-45c8-8b18-5222c170556e",
   "metadata": {},
   "outputs": [
    {
     "data": {
      "text/plain": [
       "array(['1-2 Sterne', '3 Sterne', '4-5 Sterne', 'Andere Betriebe',\n",
       "       'Privatquartiere', 'Urlaub auf dem Bauernhof', 'Campingplätze',\n",
       "       'Residence', 'Privatquartiere mit Vertrag'], dtype=object)"
      ]
     },
     "execution_count": 40,
     "metadata": {},
     "output_type": "execute_result"
    }
   ],
   "source": [
    "categoryTrends['Category'].unique()"
   ]
  },
  {
   "cell_type": "code",
   "execution_count": 41,
   "id": "c8aa59a6-c850-4dd8-8c83-c051d5a14a4e",
   "metadata": {},
   "outputs": [],
   "source": [
    "categoryTrends['Category'] = categoryTrends['Category'].replace({'1-2 Sterne': '1-2 Star Hotel', '3 Sterne': '3 Star Hotel', '4-5 Sterne': '4-5 Star Hotel', 'Andere Betriebe': 'Other', 'Privatquartiere': 'Private Lodging', 'Urlaub auf dem Bauernhof': 'Agricaltural Lodging', 'Campingplätze': 'Campings', 'Residence': 'Residence', 'Privatquartiere mit Vertrag': 'Private Lodging'})"
   ]
  },
  {
   "cell_type": "code",
   "execution_count": 42,
   "id": "ae25b1f4-dca2-4cec-bb6c-1305c1fc21c2",
   "metadata": {},
   "outputs": [
    {
     "data": {
      "text/plain": [
       "array(['1-2 Star Hotel', '3 Star Hotel', '4-5 Star Hotel', 'Other',\n",
       "       'Private Lodging', 'Agricaltural Lodging', 'Campings', 'Residence'],\n",
       "      dtype=object)"
      ]
     },
     "execution_count": 42,
     "metadata": {},
     "output_type": "execute_result"
    }
   ],
   "source": [
    "categoryTrends['Category'].unique()"
   ]
  },
  {
   "cell_type": "code",
   "execution_count": 57,
   "id": "7a9b9a2d-5204-4f09-8da2-45cbfd87fa73",
   "metadata": {},
   "outputs": [],
   "source": [
    "categoryTrends.to_csv('category_trends.csv')"
   ]
  },
  {
   "cell_type": "code",
   "execution_count": 58,
   "id": "da6468af-e1da-4c40-bcca-5430312927db",
   "metadata": {},
   "outputs": [],
   "source": [
    "districtTrends = pd.read_csv('category_trends.csv')"
   ]
  },
  {
   "cell_type": "code",
   "execution_count": 59,
   "id": "fd07af05-502e-4b10-bb9b-51c709c54ca7",
   "metadata": {},
   "outputs": [],
   "source": [
    "districtTrends = districtTrends.groupby(['Year','Month', 'District']).sum()"
   ]
  },
  {
   "cell_type": "code",
   "execution_count": 60,
   "id": "aada46e5-1acb-49bb-b76c-95b1ff9e5e66",
   "metadata": {},
   "outputs": [
    {
     "data": {
      "text/html": [
       "<div>\n",
       "<style scoped>\n",
       "    .dataframe tbody tr th:only-of-type {\n",
       "        vertical-align: middle;\n",
       "    }\n",
       "\n",
       "    .dataframe tbody tr th {\n",
       "        vertical-align: top;\n",
       "    }\n",
       "\n",
       "    .dataframe thead th {\n",
       "        text-align: right;\n",
       "    }\n",
       "</style>\n",
       "<table border=\"1\" class=\"dataframe\">\n",
       "  <thead>\n",
       "    <tr style=\"text-align: right;\">\n",
       "      <th></th>\n",
       "      <th></th>\n",
       "      <th></th>\n",
       "      <th>Unnamed: 0</th>\n",
       "      <th>Arrivals</th>\n",
       "      <th>Present</th>\n",
       "    </tr>\n",
       "    <tr>\n",
       "      <th>Year</th>\n",
       "      <th>Month</th>\n",
       "      <th>District</th>\n",
       "      <th></th>\n",
       "      <th></th>\n",
       "      <th></th>\n",
       "    </tr>\n",
       "  </thead>\n",
       "  <tbody>\n",
       "    <tr>\n",
       "      <th rowspan=\"5\" valign=\"top\">2010</th>\n",
       "      <th rowspan=\"5\" valign=\"top\">1.0</th>\n",
       "      <th>Alta Valle Isarco</th>\n",
       "      <td>420</td>\n",
       "      <td>30737</td>\n",
       "      <td>128567</td>\n",
       "    </tr>\n",
       "    <tr>\n",
       "      <th>Bolzano</th>\n",
       "      <td>15</td>\n",
       "      <td>14573</td>\n",
       "      <td>33404</td>\n",
       "    </tr>\n",
       "    <tr>\n",
       "      <th>Burgraviato</th>\n",
       "      <td>76</td>\n",
       "      <td>26365</td>\n",
       "      <td>137782</td>\n",
       "    </tr>\n",
       "    <tr>\n",
       "      <th>Oltradige-Bassa Ates.</th>\n",
       "      <td>420</td>\n",
       "      <td>9238</td>\n",
       "      <td>47312</td>\n",
       "    </tr>\n",
       "    <tr>\n",
       "      <th>Salto-Sciliar</th>\n",
       "      <td>284</td>\n",
       "      <td>116799</td>\n",
       "      <td>647742</td>\n",
       "    </tr>\n",
       "    <tr>\n",
       "      <th>...</th>\n",
       "      <th>...</th>\n",
       "      <th>...</th>\n",
       "      <td>...</td>\n",
       "      <td>...</td>\n",
       "      <td>...</td>\n",
       "    </tr>\n",
       "    <tr>\n",
       "      <th rowspan=\"5\" valign=\"top\">2020</th>\n",
       "      <th rowspan=\"5\" valign=\"top\">12.0</th>\n",
       "      <th>Oltradige-Bassa Ates.</th>\n",
       "      <td>46368</td>\n",
       "      <td>2240</td>\n",
       "      <td>13210</td>\n",
       "    </tr>\n",
       "    <tr>\n",
       "      <th>Salto-Sciliar</th>\n",
       "      <td>39621</td>\n",
       "      <td>4002</td>\n",
       "      <td>12918</td>\n",
       "    </tr>\n",
       "    <tr>\n",
       "      <th>Val Pusteria</th>\n",
       "      <td>59364</td>\n",
       "      <td>10826</td>\n",
       "      <td>32659</td>\n",
       "    </tr>\n",
       "    <tr>\n",
       "      <th>Val Venosta</th>\n",
       "      <td>52884</td>\n",
       "      <td>1525</td>\n",
       "      <td>7080</td>\n",
       "    </tr>\n",
       "    <tr>\n",
       "      <th>Valle Isarco</th>\n",
       "      <td>52700</td>\n",
       "      <td>3515</td>\n",
       "      <td>9442</td>\n",
       "    </tr>\n",
       "  </tbody>\n",
       "</table>\n",
       "<p>804 rows × 3 columns</p>\n",
       "</div>"
      ],
      "text/plain": [
       "                                  Unnamed: 0  Arrivals  Present\n",
       "Year Month District                                            \n",
       "2010 1.0   Alta Valle Isarco             420     30737   128567\n",
       "           Bolzano                        15     14573    33404\n",
       "           Burgraviato                    76     26365   137782\n",
       "           Oltradige-Bassa Ates.         420      9238    47312\n",
       "           Salto-Sciliar                 284    116799   647742\n",
       "...                                      ...       ...      ...\n",
       "2020 12.0  Oltradige-Bassa Ates.       46368      2240    13210\n",
       "           Salto-Sciliar               39621      4002    12918\n",
       "           Val Pusteria                59364     10826    32659\n",
       "           Val Venosta                 52884      1525     7080\n",
       "           Valle Isarco                52700      3515     9442\n",
       "\n",
       "[804 rows x 3 columns]"
      ]
     },
     "execution_count": 60,
     "metadata": {},
     "output_type": "execute_result"
    }
   ],
   "source": [
    "districtTrends"
   ]
  }
 ],
 "metadata": {
  "kernelspec": {
   "display_name": "Python 3 (ipykernel)",
   "language": "python",
   "name": "python3"
  },
  "language_info": {
   "codemirror_mode": {
    "name": "ipython",
    "version": 3
   },
   "file_extension": ".py",
   "mimetype": "text/x-python",
   "name": "python",
   "nbconvert_exporter": "python",
   "pygments_lexer": "ipython3",
   "version": "3.9.7"
  }
 },
 "nbformat": 4,
 "nbformat_minor": 5
}
